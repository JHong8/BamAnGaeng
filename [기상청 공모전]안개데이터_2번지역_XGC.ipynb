{
 "cells": [
  {
   "cell_type": "code",
   "execution_count": 78,
   "id": "WtYmhO7OtKE7",
   "metadata": {
    "executionInfo": {
     "elapsed": 816,
     "status": "ok",
     "timestamp": 1719237705806,
     "user": {
      "displayName": "Jiwon An",
      "userId": "04526331186835263330"
     },
     "user_tz": -540
    },
    "id": "WtYmhO7OtKE7"
   },
   "outputs": [],
   "source": [
    "import numpy as np\n",
    "import pandas as pd\n",
    "\n",
    "#전처리&모델\n",
    "from scipy import interpolate\n",
    "from sklearn.preprocessing import MinMaxScaler\n",
    "from sklearn.model_selection import train_test_split\n",
    "from sklearn.pipeline import make_pipeline\n",
    "from sklearn.ensemble import RandomForestRegressor\n",
    "import tensorflow as tf\n",
    "from tensorflow.keras.models import Sequential\n",
    "\n",
    "from sklearn.metrics import mean_squared_error\n",
    "from sklearn.metrics import classification_report, confusion_matrix, accuracy_score\n",
    "\n",
    "#모델\n",
    "from sklearn.ensemble import RandomForestClassifier\n",
    "import lightgbm as lgb\n",
    "import xgboost as xgb\n",
    "\n",
    "#시각화\n",
    "import seaborn as sns\n",
    "\n",
    "#기타\n",
    "import warnings\n",
    "warnings.filterwarnings('ignore')\n",
    "\n",
    "# 지수표현 수정\n",
    "pd.options.display.float_format = '{:.3f}'.format"
   ]
  },
  {
   "cell_type": "code",
   "execution_count": 79,
   "id": "d980ba77",
   "metadata": {
    "executionInfo": {
     "elapsed": 4168,
     "status": "ok",
     "timestamp": 1719237713721,
     "user": {
      "displayName": "Jiwon An",
      "userId": "04526331186835263330"
     },
     "user_tz": -540
    },
    "id": "d980ba77"
   },
   "outputs": [],
   "source": [
    "df = pd.read_csv(\"C:/Users/김지희/Downloads/fog_train.csv\", index_col=0)\n",
    "df.columns = [col.replace('fog_train.', '') for col in df.columns]"
   ]
  },
  {
   "cell_type": "markdown",
   "id": "82870a5d",
   "metadata": {
    "id": "82870a5d"
   },
   "source": [
    "## year열 클래스(I,J,K) 수치화"
   ]
  },
  {
   "cell_type": "code",
   "execution_count": 80,
   "id": "14375380",
   "metadata": {
    "colab": {
     "base_uri": "https://localhost:8080/"
    },
    "executionInfo": {
     "elapsed": 7,
     "status": "ok",
     "timestamp": 1719237713722,
     "user": {
      "displayName": "Jiwon An",
      "userId": "04526331186835263330"
     },
     "user_tz": -540
    },
    "id": "14375380",
    "outputId": "9a36144c-6e8e-4dd1-8888-ce52c0dadeea"
   },
   "outputs": [
    {
     "data": {
      "text/plain": [
       "0    1054060\n",
       "2    1051200\n",
       "1    1051199\n",
       "Name: year, dtype: int64"
      ]
     },
     "execution_count": 80,
     "metadata": {},
     "output_type": "execute_result"
    }
   ],
   "source": [
    "# year열 I,J,K 순으로 0,1,2로 맵핑\n",
    "df['year'] = df['year'].map({'I': 0, 'J': 1, 'K': 2})\n",
    "df['year'].value_counts()"
   ]
  },
  {
   "cell_type": "markdown",
   "id": "47ea94b3",
   "metadata": {
    "id": "47ea94b3"
   },
   "source": [
    "## 20개 지점을 5개의 지역으로 수치화 및 2번 지역 추출"
   ]
  },
  {
   "cell_type": "code",
   "execution_count": 81,
   "id": "af65641b",
   "metadata": {
    "colab": {
     "base_uri": "https://localhost:8080/"
    },
    "executionInfo": {
     "elapsed": 600,
     "status": "ok",
     "timestamp": 1719237718775,
     "user": {
      "displayName": "Jiwon An",
      "userId": "04526331186835263330"
     },
     "user_tz": -540
    },
    "id": "af65641b",
    "outputId": "03509c6b-98b0-4417-ad6c-82534931aeb1"
   },
   "outputs": [
    {
     "data": {
      "text/plain": [
       "0    1262584\n",
       "1     631292\n",
       "3     473469\n",
       "4     473468\n",
       "2     315646\n",
       "Name: stn_id, dtype: int64"
      ]
     },
     "execution_count": 81,
     "metadata": {},
     "output_type": "execute_result"
    }
   ],
   "source": [
    "# 첫 글자를 추출하여 새로운 열 생성\n",
    "df['first_letter'] = df['stn_id'].str[0]\n",
    "\n",
    "# 알파벳 순서에 따라 번호를 부여\n",
    "alphabet_order = {char: idx for idx, char in enumerate(sorted(df['first_letter'].unique()))}\n",
    "df['stn_id'] = df['first_letter'].map(alphabet_order)\n",
    "df.drop(columns=['first_letter'], inplace=True)\n",
    "\n",
    "df['stn_id'].value_counts()"
   ]
  },
  {
   "cell_type": "code",
   "execution_count": 82,
   "id": "acfe5c4f",
   "metadata": {
    "colab": {
     "base_uri": "https://localhost:8080/"
    },
    "executionInfo": {
     "elapsed": 804,
     "status": "ok",
     "timestamp": 1719237723666,
     "user": {
      "displayName": "Jiwon An",
      "userId": "04526331186835263330"
     },
     "user_tz": -540
    },
    "id": "acfe5c4f",
    "outputId": "56e56627-33ed-4622-bfa8-0c5c856c865f"
   },
   "outputs": [
    {
     "data": {
      "text/plain": [
       "2    315646\n",
       "Name: stn_id, dtype: int64"
      ]
     },
     "execution_count": 82,
     "metadata": {},
     "output_type": "execute_result"
    }
   ],
   "source": [
    "# 2번 지역만 추출\n",
    "df2 = df[df['stn_id'].isin([2])]\n",
    "df2['stn_id'].value_counts()"
   ]
  },
  {
   "cell_type": "markdown",
   "id": "3d9ff6fd",
   "metadata": {
    "id": "3d9ff6fd"
   },
   "source": [
    "## x(독립변수) 결측값 대체\n",
    "#### year, month, day, time, minute, re, vis1, class 제외\n",
    "> **선형보간법** 사용"
   ]
  },
  {
   "cell_type": "code",
   "execution_count": 83,
   "id": "bede5718",
   "metadata": {
    "executionInfo": {
     "elapsed": 2,
     "status": "ok",
     "timestamp": 1719237727064,
     "user": {
      "displayName": "Jiwon An",
      "userId": "04526331186835263330"
     },
     "user_tz": -540
    },
    "id": "bede5718"
   },
   "outputs": [],
   "source": [
    "numeric_cols = ['ws10_deg', 'ws10_ms', 'ta', 'hm', 'sun10', 'ts']\n",
    "\n",
    "# -99.9 값을 NaN으로 변환\n",
    "df2[numeric_cols] = df2[numeric_cols].replace(-99.9, np.nan)\n",
    "\n",
    "# 선형보간법을 이용하여 NaN값 처리\n",
    "df2[numeric_cols] = df2[numeric_cols].interpolate(method='linear')"
   ]
  },
  {
   "cell_type": "markdown",
   "id": "09f34f08",
   "metadata": {
    "id": "09f34f08"
   },
   "source": [
    "## re(0:무강수, 1:강수) 결측값 대체\n",
    "> **직전값** 사용 (결측치 앞뒤)"
   ]
  },
  {
   "cell_type": "code",
   "execution_count": 84,
   "id": "3c017e51",
   "metadata": {
    "colab": {
     "base_uri": "https://localhost:8080/"
    },
    "executionInfo": {
     "elapsed": 6,
     "status": "ok",
     "timestamp": 1719237731282,
     "user": {
      "displayName": "Jiwon An",
      "userId": "04526331186835263330"
     },
     "user_tz": -540
    },
    "id": "3c017e51",
    "outputId": "55c150e8-cb57-48e8-818b-2b4e7193944e"
   },
   "outputs": [
    {
     "data": {
      "text/plain": [
       "0.000    300262\n",
       "1.000     15384\n",
       "Name: re, dtype: int64"
      ]
     },
     "execution_count": 84,
     "metadata": {},
     "output_type": "execute_result"
    }
   ],
   "source": [
    "df2['re'].replace(-99.9, np.nan, inplace=True)\n",
    "df2['re'] = df2['re'].ffill()\n",
    "df2['re'] = df2['re'].bfill()\n",
    "\n",
    "df2['re'].value_counts()"
   ]
  },
  {
   "cell_type": "markdown",
   "id": "3ed94968",
   "metadata": {
    "id": "3ed94968"
   },
   "source": [
    "## 이상치 탐지 및 독립변수 이상치 대체\n",
    "> 이상치 탐지: **shewhart** 사용\n",
    "\n",
    "> 이상치 대체: **선형보간법** 사용 (양방향)"
   ]
  },
  {
   "cell_type": "code",
   "execution_count": 85,
   "id": "6da4ddef",
   "metadata": {
    "colab": {
     "base_uri": "https://localhost:8080/",
     "height": 1000
    },
    "executionInfo": {
     "elapsed": 10216,
     "status": "ok",
     "timestamp": 1719237744995,
     "user": {
      "displayName": "Jiwon An",
      "userId": "04526331186835263330"
     },
     "user_tz": -540
    },
    "id": "6da4ddef",
    "outputId": "a6a88fea-51fa-4521-8654-bb9b032e778d",
    "scrolled": true
   },
   "outputs": [
    {
     "name": "stdout",
     "output_type": "stream",
     "text": [
      "ws10_deg - 이상치 개수: 0\n"
     ]
    },
    {
     "data": {
      "image/png": "[encoded data removed]",
      "text/plain": [
       "<Figure size 1000x600 with 1 Axes>"
      ]
     },
     "metadata": {},
     "output_type": "display_data"
    },
    {
     "name": "stdout",
     "output_type": "stream",
     "text": [
      "ws10_ms - 이상치 개수: 2512\n"
     ]
    },
    {
     "data": {
      "image/png": "[encoded data removed]",
      "text/plain": [
       "<Figure size 1000x600 with 1 Axes>"
      ]
     },
     "metadata": {},
     "output_type": "display_data"
    },
    {
     "name": "stdout",
     "output_type": "stream",
     "text": [
      "ta - 이상치 개수: 32\n"
     ]
    },
    {
     "data": {
      "image/png": "[encoded data removed]",
      "text/plain": [
       "<Figure size 1000x600 with 1 Axes>"
      ]
     },
     "metadata": {},
     "output_type": "display_data"
    },
    {
     "name": "stdout",
     "output_type": "stream",
     "text": [
      "hm - 이상치 개수: 0\n"
     ]
    },
    {
     "data": {
      "image/png": "[encoded data removed]",
      "text/plain": [
       "<Figure size 1000x600 with 1 Axes>"
      ]
     },
     "metadata": {},
     "output_type": "display_data"
    },
    {
     "name": "stdout",
     "output_type": "stream",
     "text": [
      "sun10 - 이상치 개수: 2641\n"
     ]
    },
    {
     "data": {
      "image/png": "[encoded data removed]",
      "text/plain": [
       "<Figure size 1000x600 with 1 Axes>"
      ]
     },
     "metadata": {},
     "output_type": "display_data"
    },
    {
     "name": "stdout",
     "output_type": "stream",
     "text": [
      "ts - 이상치 개수: 1397\n"
     ]
    },
    {
     "data": {
      "image/png": "[encoded data removed]",
      "text/plain": [
       "<Figure size 1000x600 with 1 Axes>"
      ]
     },
     "metadata": {},
     "output_type": "display_data"
    },
    {
     "name": "stdout",
     "output_type": "stream",
     "text": [
      "ws10_deg 이상치:\n",
      "Series([], Name: ws10_deg, dtype: float64)\n",
      "\n",
      "ws10_ms 이상치:\n",
      "632540    6.800\n",
      "632673    6.900\n",
      "633496    6.800\n",
      "634241    6.900\n",
      "637184    6.600\n",
      "           ... \n",
      "2839903   7.000\n",
      "2839904   7.800\n",
      "2839921   7.000\n",
      "2840987   6.800\n",
      "2840989   6.600\n",
      "Name: ws10_ms, Length: 2512, dtype: float64\n",
      "\n",
      "ta 이상치:\n",
      "1685814   -13.400\n",
      "1685815   -13.400\n",
      "1685816   -13.500\n",
      "1685817   -13.700\n",
      "1685818   -13.800\n",
      "1685819   -13.900\n",
      "1685820   -14.000\n",
      "1685821   -14.000\n",
      "1685822   -14.100\n",
      "1685823   -14.100\n",
      "1685824   -14.400\n",
      "1685825   -14.500\n",
      "1685826   -14.600\n",
      "1685827   -14.700\n",
      "1685828   -14.800\n",
      "1685829   -14.900\n",
      "1685830   -14.900\n",
      "1685831   -15.000\n",
      "1685832   -15.100\n",
      "1685833   -15.000\n",
      "1685834   -15.000\n",
      "1685835   -14.900\n",
      "1685836   -14.900\n",
      "1685837   -14.900\n",
      "1685838   -14.800\n",
      "1685839   -14.600\n",
      "1685840   -14.500\n",
      "1685841   -14.400\n",
      "1685842   -14.400\n",
      "1685843   -14.000\n",
      "1685844   -13.800\n",
      "1685845   -13.400\n",
      "Name: ta, dtype: float64\n",
      "\n",
      "hm 이상치:\n",
      "Series([], Name: hm, dtype: float64)\n",
      "\n",
      "sun10 이상치:\n",
      "644171    0.570\n",
      "644172    0.580\n",
      "646769    0.570\n",
      "646916    0.590\n",
      "647341    0.580\n",
      "           ... \n",
      "2822597   0.570\n",
      "2824757   0.570\n",
      "2824758   0.580\n",
      "2828935   0.580\n",
      "2828936   0.630\n",
      "Name: sun10, Length: 2641, dtype: float64\n",
      "\n",
      "ts 이상치:\n",
      "654693    52.800\n",
      "654695    52.900\n",
      "654828    52.700\n",
      "654830    52.700\n",
      "654831    53.300\n",
      "           ...  \n",
      "2820021   56.400\n",
      "2820022   57.000\n",
      "2820023   57.000\n",
      "2820024   56.100\n",
      "2820025   54.700\n",
      "Name: ts, Length: 1397, dtype: float64\n",
      "\n"
     ]
    }
   ],
   "source": [
    "import matplotlib.pyplot as plt\n",
    "\n",
    "# 이상치 탐지 함수\n",
    "def detect_outliers_shewhart(data):\n",
    "    mean = data.mean()\n",
    "    std = data.std()\n",
    "    ucl = mean + 3 * std\n",
    "    lcl = mean - 3 * std\n",
    "    outliers = data[(data > ucl) | (data < lcl)]\n",
    "    return outliers, ucl, lcl\n",
    "\n",
    "# 각 열에 대해 이상치 탐지 및 시각화\n",
    "outliers_dict = {}\n",
    "for col in numeric_cols:\n",
    "    outliers, ucl, lcl = detect_outliers_shewhart(df2[col])\n",
    "    outliers_dict[col] = outliers\n",
    "    print(f'{col} - 이상치 개수: {len(outliers)}')\n",
    "\n",
    "    # 시각화\n",
    "    plt.figure(figsize=(10, 6))\n",
    "    plt.plot(df2[col], label='Data')\n",
    "    plt.axhline(y=ucl, color='r', linestyle='--', label='UCL (3σ)')\n",
    "    plt.axhline(y=lcl, color='r', linestyle='--', label='LCL (3σ)')\n",
    "    plt.scatter(outliers.index, outliers, color='r', label='Outliers')\n",
    "    plt.title(f'Shewhart Control Chart for {col}')\n",
    "    plt.legend()\n",
    "    plt.show()\n",
    "\n",
    "# 이상치 출력\n",
    "for col, outliers in outliers_dict.items():\n",
    "    print(f'{col} 이상치:\\n{outliers}\\n')"
   ]
  },
  {
   "cell_type": "code",
   "execution_count": 86,
   "id": "9bf11270",
   "metadata": {
    "colab": {
     "base_uri": "https://localhost:8080/"
    },
    "executionInfo": {
     "elapsed": 24,
     "status": "ok",
     "timestamp": 1719237744996,
     "user": {
      "displayName": "Jiwon An",
      "userId": "04526331186835263330"
     },
     "user_tz": -540
    },
    "id": "9bf11270",
    "outputId": "bfa494e5-74a8-455f-d771-35af2fadeb49",
    "scrolled": true
   },
   "outputs": [
    {
     "name": "stdout",
     "output_type": "stream",
     "text": [
      "ws10_deg 보간 후 데이터:\n",
      "632437    225.200\n",
      "632438    234.800\n",
      "632439    230.300\n",
      "632440    231.800\n",
      "632441    235.200\n",
      "            ...  \n",
      "2841095   259.300\n",
      "2841096   250.100\n",
      "2841097   234.700\n",
      "2841098   235.000\n",
      "2841099   244.200\n",
      "Name: ws10_deg, Length: 315646, dtype: float64\n",
      "\n",
      "ws10_ms 보간 후 데이터:\n",
      "632437    4.700\n",
      "632438    3.600\n",
      "632439    4.600\n",
      "632440    4.200\n",
      "632441    4.200\n",
      "           ... \n",
      "2841095   1.700\n",
      "2841096   2.300\n",
      "2841097   2.000\n",
      "2841098   2.400\n",
      "2841099   2.600\n",
      "Name: ws10_ms, Length: 315646, dtype: float64\n",
      "\n",
      "ta 보간 후 데이터:\n",
      "632437    -3.000\n",
      "632438    -3.000\n",
      "632439    -2.700\n",
      "632440    -2.500\n",
      "632441    -2.400\n",
      "           ...  \n",
      "2841095    1.500\n",
      "2841096    1.500\n",
      "2841097    1.500\n",
      "2841098    1.600\n",
      "2841099    1.700\n",
      "Name: ta, Length: 315646, dtype: float64\n",
      "\n",
      "hm 보간 후 데이터:\n",
      "632437    26.600\n",
      "632438    29.100\n",
      "632439    31.300\n",
      "632440    33.700\n",
      "632441    35.300\n",
      "           ...  \n",
      "2841095   51.500\n",
      "2841096   50.800\n",
      "2841097   50.500\n",
      "2841098   50.000\n",
      "2841099   50.300\n",
      "Name: hm, Length: 315646, dtype: float64\n",
      "\n",
      "sun10 보간 후 데이터:\n",
      "632437    0.000\n",
      "632438    0.000\n",
      "632439    0.000\n",
      "632440    0.000\n",
      "632441    0.000\n",
      "           ... \n",
      "2841095   0.000\n",
      "2841096   0.000\n",
      "2841097   0.000\n",
      "2841098   0.000\n",
      "2841099   0.000\n",
      "Name: sun10, Length: 315646, dtype: float64\n",
      "\n",
      "ts 보간 후 데이터:\n",
      "632437    -4.000\n",
      "632438    -4.000\n",
      "632439    -3.900\n",
      "632440    -3.700\n",
      "632441    -3.700\n",
      "           ...  \n",
      "2841095   -2.200\n",
      "2841096   -2.100\n",
      "2841097   -2.200\n",
      "2841098   -2.200\n",
      "2841099   -2.200\n",
      "Name: ts, Length: 315646, dtype: float64\n",
      "\n"
     ]
    }
   ],
   "source": [
    "# 이상치 값을 NaN으로 대체하고 선형 보간법으로 채움\n",
    "for col, outliers in outliers_dict.items():\n",
    "    df2.loc[outliers.index, col] = np.nan\n",
    "    df2[col] = df2[col].interpolate(method='linear', limit_direction='both')\n",
    "\n",
    "# 보간 후 데이터 확인\n",
    "for col, outliers in outliers_dict.items():\n",
    "    print(f'{col} 보간 후 데이터:\\n{df2[col]}\\n')"
   ]
  },
  {
   "cell_type": "markdown",
   "id": "08f2df24",
   "metadata": {
    "id": "08f2df24"
   },
   "source": [
    "## 월별 계절성을 반영하여 정규화\n",
    "> **min-max scaler** 사용"
   ]
  },
  {
   "cell_type": "code",
   "execution_count": 87,
   "id": "d1f750d9",
   "metadata": {
    "colab": {
     "base_uri": "https://localhost:8080/",
     "height": 443
    },
    "executionInfo": {
     "elapsed": 21,
     "status": "ok",
     "timestamp": 1719237744997,
     "user": {
      "displayName": "Jiwon An",
      "userId": "04526331186835263330"
     },
     "user_tz": -540
    },
    "id": "d1f750d9",
    "outputId": "82faeadd-edd7-4007-a4aa-1975ec2e322c"
   },
   "outputs": [
    {
     "data": {
      "text/html": [
       "<div>\n",
       "<style scoped>\n",
       "    .dataframe tbody tr th:only-of-type {\n",
       "        vertical-align: middle;\n",
       "    }\n",
       "\n",
       "    .dataframe tbody tr th {\n",
       "        vertical-align: top;\n",
       "    }\n",
       "\n",
       "    .dataframe thead th {\n",
       "        text-align: right;\n",
       "    }\n",
       "</style>\n",
       "<table border=\"1\" class=\"dataframe\">\n",
       "  <thead>\n",
       "    <tr style=\"text-align: right;\">\n",
       "      <th></th>\n",
       "      <th>year</th>\n",
       "      <th>month</th>\n",
       "      <th>day</th>\n",
       "      <th>time</th>\n",
       "      <th>minute</th>\n",
       "      <th>stn_id</th>\n",
       "      <th>ws10_deg</th>\n",
       "      <th>ws10_ms</th>\n",
       "      <th>ta</th>\n",
       "      <th>re</th>\n",
       "      <th>hm</th>\n",
       "      <th>sun10</th>\n",
       "      <th>ts</th>\n",
       "      <th>dew_point</th>\n",
       "      <th>vis1</th>\n",
       "      <th>class</th>\n",
       "    </tr>\n",
       "  </thead>\n",
       "  <tbody>\n",
       "    <tr>\n",
       "      <th>632437</th>\n",
       "      <td>0</td>\n",
       "      <td>1</td>\n",
       "      <td>1</td>\n",
       "      <td>0</td>\n",
       "      <td>10</td>\n",
       "      <td>2</td>\n",
       "      <td>225.200</td>\n",
       "      <td>4.700</td>\n",
       "      <td>-3.000</td>\n",
       "      <td>0.000</td>\n",
       "      <td>26.600</td>\n",
       "      <td>0.000</td>\n",
       "      <td>-4.000</td>\n",
       "      <td>-17.680</td>\n",
       "      <td>20000</td>\n",
       "      <td>4</td>\n",
       "    </tr>\n",
       "    <tr>\n",
       "      <th>632438</th>\n",
       "      <td>0</td>\n",
       "      <td>1</td>\n",
       "      <td>1</td>\n",
       "      <td>0</td>\n",
       "      <td>20</td>\n",
       "      <td>2</td>\n",
       "      <td>234.800</td>\n",
       "      <td>3.600</td>\n",
       "      <td>-3.000</td>\n",
       "      <td>0.000</td>\n",
       "      <td>29.100</td>\n",
       "      <td>0.000</td>\n",
       "      <td>-4.000</td>\n",
       "      <td>-17.180</td>\n",
       "      <td>20000</td>\n",
       "      <td>4</td>\n",
       "    </tr>\n",
       "    <tr>\n",
       "      <th>632439</th>\n",
       "      <td>0</td>\n",
       "      <td>1</td>\n",
       "      <td>1</td>\n",
       "      <td>0</td>\n",
       "      <td>30</td>\n",
       "      <td>2</td>\n",
       "      <td>230.300</td>\n",
       "      <td>4.600</td>\n",
       "      <td>-2.700</td>\n",
       "      <td>0.000</td>\n",
       "      <td>31.300</td>\n",
       "      <td>0.000</td>\n",
       "      <td>-3.900</td>\n",
       "      <td>-16.440</td>\n",
       "      <td>20000</td>\n",
       "      <td>4</td>\n",
       "    </tr>\n",
       "    <tr>\n",
       "      <th>632440</th>\n",
       "      <td>0</td>\n",
       "      <td>1</td>\n",
       "      <td>1</td>\n",
       "      <td>0</td>\n",
       "      <td>40</td>\n",
       "      <td>2</td>\n",
       "      <td>231.800</td>\n",
       "      <td>4.200</td>\n",
       "      <td>-2.500</td>\n",
       "      <td>0.000</td>\n",
       "      <td>33.700</td>\n",
       "      <td>0.000</td>\n",
       "      <td>-3.700</td>\n",
       "      <td>-15.760</td>\n",
       "      <td>20000</td>\n",
       "      <td>4</td>\n",
       "    </tr>\n",
       "    <tr>\n",
       "      <th>632441</th>\n",
       "      <td>0</td>\n",
       "      <td>1</td>\n",
       "      <td>1</td>\n",
       "      <td>0</td>\n",
       "      <td>50</td>\n",
       "      <td>2</td>\n",
       "      <td>235.200</td>\n",
       "      <td>4.200</td>\n",
       "      <td>-2.400</td>\n",
       "      <td>0.000</td>\n",
       "      <td>35.300</td>\n",
       "      <td>0.000</td>\n",
       "      <td>-3.700</td>\n",
       "      <td>-15.340</td>\n",
       "      <td>20000</td>\n",
       "      <td>4</td>\n",
       "    </tr>\n",
       "    <tr>\n",
       "      <th>...</th>\n",
       "      <td>...</td>\n",
       "      <td>...</td>\n",
       "      <td>...</td>\n",
       "      <td>...</td>\n",
       "      <td>...</td>\n",
       "      <td>...</td>\n",
       "      <td>...</td>\n",
       "      <td>...</td>\n",
       "      <td>...</td>\n",
       "      <td>...</td>\n",
       "      <td>...</td>\n",
       "      <td>...</td>\n",
       "      <td>...</td>\n",
       "      <td>...</td>\n",
       "      <td>...</td>\n",
       "      <td>...</td>\n",
       "    </tr>\n",
       "    <tr>\n",
       "      <th>2841095</th>\n",
       "      <td>2</td>\n",
       "      <td>12</td>\n",
       "      <td>31</td>\n",
       "      <td>23</td>\n",
       "      <td>10</td>\n",
       "      <td>2</td>\n",
       "      <td>259.300</td>\n",
       "      <td>1.700</td>\n",
       "      <td>1.500</td>\n",
       "      <td>0.000</td>\n",
       "      <td>51.500</td>\n",
       "      <td>0.000</td>\n",
       "      <td>-2.200</td>\n",
       "      <td>-8.200</td>\n",
       "      <td>20000</td>\n",
       "      <td>4</td>\n",
       "    </tr>\n",
       "    <tr>\n",
       "      <th>2841096</th>\n",
       "      <td>2</td>\n",
       "      <td>12</td>\n",
       "      <td>31</td>\n",
       "      <td>23</td>\n",
       "      <td>20</td>\n",
       "      <td>2</td>\n",
       "      <td>250.100</td>\n",
       "      <td>2.300</td>\n",
       "      <td>1.500</td>\n",
       "      <td>0.000</td>\n",
       "      <td>50.800</td>\n",
       "      <td>0.000</td>\n",
       "      <td>-2.100</td>\n",
       "      <td>-8.340</td>\n",
       "      <td>20000</td>\n",
       "      <td>4</td>\n",
       "    </tr>\n",
       "    <tr>\n",
       "      <th>2841097</th>\n",
       "      <td>2</td>\n",
       "      <td>12</td>\n",
       "      <td>31</td>\n",
       "      <td>23</td>\n",
       "      <td>30</td>\n",
       "      <td>2</td>\n",
       "      <td>234.700</td>\n",
       "      <td>2.000</td>\n",
       "      <td>1.500</td>\n",
       "      <td>0.000</td>\n",
       "      <td>50.500</td>\n",
       "      <td>0.000</td>\n",
       "      <td>-2.200</td>\n",
       "      <td>-8.400</td>\n",
       "      <td>20000</td>\n",
       "      <td>4</td>\n",
       "    </tr>\n",
       "    <tr>\n",
       "      <th>2841098</th>\n",
       "      <td>2</td>\n",
       "      <td>12</td>\n",
       "      <td>31</td>\n",
       "      <td>23</td>\n",
       "      <td>40</td>\n",
       "      <td>2</td>\n",
       "      <td>235.000</td>\n",
       "      <td>2.400</td>\n",
       "      <td>1.600</td>\n",
       "      <td>0.000</td>\n",
       "      <td>50.000</td>\n",
       "      <td>0.000</td>\n",
       "      <td>-2.200</td>\n",
       "      <td>-8.400</td>\n",
       "      <td>20000</td>\n",
       "      <td>4</td>\n",
       "    </tr>\n",
       "    <tr>\n",
       "      <th>2841099</th>\n",
       "      <td>2</td>\n",
       "      <td>12</td>\n",
       "      <td>31</td>\n",
       "      <td>23</td>\n",
       "      <td>50</td>\n",
       "      <td>2</td>\n",
       "      <td>244.200</td>\n",
       "      <td>2.600</td>\n",
       "      <td>1.700</td>\n",
       "      <td>0.000</td>\n",
       "      <td>50.300</td>\n",
       "      <td>0.000</td>\n",
       "      <td>-2.200</td>\n",
       "      <td>-8.240</td>\n",
       "      <td>20000</td>\n",
       "      <td>4</td>\n",
       "    </tr>\n",
       "  </tbody>\n",
       "</table>\n",
       "<p>315646 rows × 16 columns</p>\n",
       "</div>"
      ],
      "text/plain": [
       "         year  month  day  time  minute  stn_id  ws10_deg  ws10_ms     ta  \\\n",
       "632437      0      1    1     0      10       2   225.200    4.700 -3.000   \n",
       "632438      0      1    1     0      20       2   234.800    3.600 -3.000   \n",
       "632439      0      1    1     0      30       2   230.300    4.600 -2.700   \n",
       "632440      0      1    1     0      40       2   231.800    4.200 -2.500   \n",
       "632441      0      1    1     0      50       2   235.200    4.200 -2.400   \n",
       "...       ...    ...  ...   ...     ...     ...       ...      ...    ...   \n",
       "2841095     2     12   31    23      10       2   259.300    1.700  1.500   \n",
       "2841096     2     12   31    23      20       2   250.100    2.300  1.500   \n",
       "2841097     2     12   31    23      30       2   234.700    2.000  1.500   \n",
       "2841098     2     12   31    23      40       2   235.000    2.400  1.600   \n",
       "2841099     2     12   31    23      50       2   244.200    2.600  1.700   \n",
       "\n",
       "           re     hm  sun10     ts  dew_point   vis1  class  \n",
       "632437  0.000 26.600  0.000 -4.000    -17.680  20000      4  \n",
       "632438  0.000 29.100  0.000 -4.000    -17.180  20000      4  \n",
       "632439  0.000 31.300  0.000 -3.900    -16.440  20000      4  \n",
       "632440  0.000 33.700  0.000 -3.700    -15.760  20000      4  \n",
       "632441  0.000 35.300  0.000 -3.700    -15.340  20000      4  \n",
       "...       ...    ...    ...    ...        ...    ...    ...  \n",
       "2841095 0.000 51.500  0.000 -2.200     -8.200  20000      4  \n",
       "2841096 0.000 50.800  0.000 -2.100     -8.340  20000      4  \n",
       "2841097 0.000 50.500  0.000 -2.200     -8.400  20000      4  \n",
       "2841098 0.000 50.000  0.000 -2.200     -8.400  20000      4  \n",
       "2841099 0.000 50.300  0.000 -2.200     -8.240  20000      4  \n",
       "\n",
       "[315646 rows x 16 columns]"
      ]
     },
     "execution_count": 87,
     "metadata": {},
     "output_type": "execute_result"
    }
   ],
   "source": [
    "# 이슬점 온도 계산 함수\n",
    "def calculate_dew_point(temperature, humidity):\n",
    "    # 계산식: T_d = T - ((100 - RH) / 5)\n",
    "    dew_point = temperature - ((100 - humidity) / 5)\n",
    "    return dew_point\n",
    "\n",
    "# 이슬점 온도 파생변수 생성\n",
    "df2['dew_point'] = calculate_dew_point(df2['ta'], df2['hm'])\n",
    "\n",
    "# 열의 순서 재정렬\n",
    "new_columns = ['year', 'month', 'day', 'time', 'minute', 'stn_id', 'ws10_deg', 'ws10_ms', 'ta', 're', 'hm', 'sun10',\n",
    "               'ts', 'dew_point', 'vis1', 'class']\n",
    "\n",
    "# 데이터프레임 열 재정렬\n",
    "df2 = df2.reindex(columns=new_columns)\n",
    "df2"
   ]
  },
  {
   "cell_type": "code",
   "execution_count": 88,
   "id": "f48d54d7",
   "metadata": {
    "colab": {
     "base_uri": "https://localhost:8080/",
     "height": 443
    },
    "executionInfo": {
     "elapsed": 1068,
     "status": "ok",
     "timestamp": 1719237746982,
     "user": {
      "displayName": "Jiwon An",
      "userId": "04526331186835263330"
     },
     "user_tz": -540
    },
    "id": "f48d54d7",
    "outputId": "3492ddf4-dbbc-4b79-df36-fccd7f2fb908"
   },
   "outputs": [
    {
     "data": {
      "text/html": [
       "<div>\n",
       "<style scoped>\n",
       "    .dataframe tbody tr th:only-of-type {\n",
       "        vertical-align: middle;\n",
       "    }\n",
       "\n",
       "    .dataframe tbody tr th {\n",
       "        vertical-align: top;\n",
       "    }\n",
       "\n",
       "    .dataframe thead th {\n",
       "        text-align: right;\n",
       "    }\n",
       "</style>\n",
       "<table border=\"1\" class=\"dataframe\">\n",
       "  <thead>\n",
       "    <tr style=\"text-align: right;\">\n",
       "      <th></th>\n",
       "      <th>year</th>\n",
       "      <th>month</th>\n",
       "      <th>day</th>\n",
       "      <th>time</th>\n",
       "      <th>minute</th>\n",
       "      <th>stn_id</th>\n",
       "      <th>ws10_deg</th>\n",
       "      <th>ws10_ms</th>\n",
       "      <th>ta</th>\n",
       "      <th>re</th>\n",
       "      <th>hm</th>\n",
       "      <th>sun10</th>\n",
       "      <th>ts</th>\n",
       "      <th>dew_point</th>\n",
       "      <th>vis1</th>\n",
       "      <th>class</th>\n",
       "    </tr>\n",
       "  </thead>\n",
       "  <tbody>\n",
       "    <tr>\n",
       "      <th>632437</th>\n",
       "      <td>0</td>\n",
       "      <td>1</td>\n",
       "      <td>1</td>\n",
       "      <td>0</td>\n",
       "      <td>10</td>\n",
       "      <td>2</td>\n",
       "      <td>0.626</td>\n",
       "      <td>0.723</td>\n",
       "      <td>0.270</td>\n",
       "      <td>0.000</td>\n",
       "      <td>0.201</td>\n",
       "      <td>0.000</td>\n",
       "      <td>0.020</td>\n",
       "      <td>0.261</td>\n",
       "      <td>20000</td>\n",
       "      <td>4</td>\n",
       "    </tr>\n",
       "    <tr>\n",
       "      <th>632438</th>\n",
       "      <td>0</td>\n",
       "      <td>1</td>\n",
       "      <td>1</td>\n",
       "      <td>0</td>\n",
       "      <td>20</td>\n",
       "      <td>2</td>\n",
       "      <td>0.652</td>\n",
       "      <td>0.554</td>\n",
       "      <td>0.270</td>\n",
       "      <td>0.000</td>\n",
       "      <td>0.229</td>\n",
       "      <td>0.000</td>\n",
       "      <td>0.020</td>\n",
       "      <td>0.273</td>\n",
       "      <td>20000</td>\n",
       "      <td>4</td>\n",
       "    </tr>\n",
       "    <tr>\n",
       "      <th>632439</th>\n",
       "      <td>0</td>\n",
       "      <td>1</td>\n",
       "      <td>1</td>\n",
       "      <td>0</td>\n",
       "      <td>30</td>\n",
       "      <td>2</td>\n",
       "      <td>0.640</td>\n",
       "      <td>0.708</td>\n",
       "      <td>0.277</td>\n",
       "      <td>0.000</td>\n",
       "      <td>0.253</td>\n",
       "      <td>0.000</td>\n",
       "      <td>0.022</td>\n",
       "      <td>0.291</td>\n",
       "      <td>20000</td>\n",
       "      <td>4</td>\n",
       "    </tr>\n",
       "    <tr>\n",
       "      <th>632440</th>\n",
       "      <td>0</td>\n",
       "      <td>1</td>\n",
       "      <td>1</td>\n",
       "      <td>0</td>\n",
       "      <td>40</td>\n",
       "      <td>2</td>\n",
       "      <td>0.644</td>\n",
       "      <td>0.646</td>\n",
       "      <td>0.283</td>\n",
       "      <td>0.000</td>\n",
       "      <td>0.279</td>\n",
       "      <td>0.000</td>\n",
       "      <td>0.027</td>\n",
       "      <td>0.308</td>\n",
       "      <td>20000</td>\n",
       "      <td>4</td>\n",
       "    </tr>\n",
       "    <tr>\n",
       "      <th>632441</th>\n",
       "      <td>0</td>\n",
       "      <td>1</td>\n",
       "      <td>1</td>\n",
       "      <td>0</td>\n",
       "      <td>50</td>\n",
       "      <td>2</td>\n",
       "      <td>0.653</td>\n",
       "      <td>0.646</td>\n",
       "      <td>0.285</td>\n",
       "      <td>0.000</td>\n",
       "      <td>0.297</td>\n",
       "      <td>0.000</td>\n",
       "      <td>0.027</td>\n",
       "      <td>0.318</td>\n",
       "      <td>20000</td>\n",
       "      <td>4</td>\n",
       "    </tr>\n",
       "    <tr>\n",
       "      <th>...</th>\n",
       "      <td>...</td>\n",
       "      <td>...</td>\n",
       "      <td>...</td>\n",
       "      <td>...</td>\n",
       "      <td>...</td>\n",
       "      <td>...</td>\n",
       "      <td>...</td>\n",
       "      <td>...</td>\n",
       "      <td>...</td>\n",
       "      <td>...</td>\n",
       "      <td>...</td>\n",
       "      <td>...</td>\n",
       "      <td>...</td>\n",
       "      <td>...</td>\n",
       "      <td>...</td>\n",
       "      <td>...</td>\n",
       "    </tr>\n",
       "    <tr>\n",
       "      <th>2841095</th>\n",
       "      <td>2</td>\n",
       "      <td>12</td>\n",
       "      <td>31</td>\n",
       "      <td>23</td>\n",
       "      <td>10</td>\n",
       "      <td>2</td>\n",
       "      <td>0.720</td>\n",
       "      <td>0.262</td>\n",
       "      <td>0.387</td>\n",
       "      <td>0.000</td>\n",
       "      <td>0.475</td>\n",
       "      <td>0.000</td>\n",
       "      <td>0.061</td>\n",
       "      <td>0.490</td>\n",
       "      <td>20000</td>\n",
       "      <td>4</td>\n",
       "    </tr>\n",
       "    <tr>\n",
       "      <th>2841096</th>\n",
       "      <td>2</td>\n",
       "      <td>12</td>\n",
       "      <td>31</td>\n",
       "      <td>23</td>\n",
       "      <td>20</td>\n",
       "      <td>2</td>\n",
       "      <td>0.695</td>\n",
       "      <td>0.354</td>\n",
       "      <td>0.387</td>\n",
       "      <td>0.000</td>\n",
       "      <td>0.468</td>\n",
       "      <td>0.000</td>\n",
       "      <td>0.063</td>\n",
       "      <td>0.487</td>\n",
       "      <td>20000</td>\n",
       "      <td>4</td>\n",
       "    </tr>\n",
       "    <tr>\n",
       "      <th>2841097</th>\n",
       "      <td>2</td>\n",
       "      <td>12</td>\n",
       "      <td>31</td>\n",
       "      <td>23</td>\n",
       "      <td>30</td>\n",
       "      <td>2</td>\n",
       "      <td>0.652</td>\n",
       "      <td>0.308</td>\n",
       "      <td>0.387</td>\n",
       "      <td>0.000</td>\n",
       "      <td>0.464</td>\n",
       "      <td>0.000</td>\n",
       "      <td>0.061</td>\n",
       "      <td>0.486</td>\n",
       "      <td>20000</td>\n",
       "      <td>4</td>\n",
       "    </tr>\n",
       "    <tr>\n",
       "      <th>2841098</th>\n",
       "      <td>2</td>\n",
       "      <td>12</td>\n",
       "      <td>31</td>\n",
       "      <td>23</td>\n",
       "      <td>40</td>\n",
       "      <td>2</td>\n",
       "      <td>0.653</td>\n",
       "      <td>0.369</td>\n",
       "      <td>0.390</td>\n",
       "      <td>0.000</td>\n",
       "      <td>0.459</td>\n",
       "      <td>0.000</td>\n",
       "      <td>0.061</td>\n",
       "      <td>0.486</td>\n",
       "      <td>20000</td>\n",
       "      <td>4</td>\n",
       "    </tr>\n",
       "    <tr>\n",
       "      <th>2841099</th>\n",
       "      <td>2</td>\n",
       "      <td>12</td>\n",
       "      <td>31</td>\n",
       "      <td>23</td>\n",
       "      <td>50</td>\n",
       "      <td>2</td>\n",
       "      <td>0.678</td>\n",
       "      <td>0.400</td>\n",
       "      <td>0.393</td>\n",
       "      <td>0.000</td>\n",
       "      <td>0.462</td>\n",
       "      <td>0.000</td>\n",
       "      <td>0.061</td>\n",
       "      <td>0.489</td>\n",
       "      <td>20000</td>\n",
       "      <td>4</td>\n",
       "    </tr>\n",
       "  </tbody>\n",
       "</table>\n",
       "<p>315646 rows × 16 columns</p>\n",
       "</div>"
      ],
      "text/plain": [
       "         year  month  day  time  minute  stn_id  ws10_deg  ws10_ms    ta  \\\n",
       "632437      0      1    1     0      10       2     0.626    0.723 0.270   \n",
       "632438      0      1    1     0      20       2     0.652    0.554 0.270   \n",
       "632439      0      1    1     0      30       2     0.640    0.708 0.277   \n",
       "632440      0      1    1     0      40       2     0.644    0.646 0.283   \n",
       "632441      0      1    1     0      50       2     0.653    0.646 0.285   \n",
       "...       ...    ...  ...   ...     ...     ...       ...      ...   ...   \n",
       "2841095     2     12   31    23      10       2     0.720    0.262 0.387   \n",
       "2841096     2     12   31    23      20       2     0.695    0.354 0.387   \n",
       "2841097     2     12   31    23      30       2     0.652    0.308 0.387   \n",
       "2841098     2     12   31    23      40       2     0.653    0.369 0.390   \n",
       "2841099     2     12   31    23      50       2     0.678    0.400 0.393   \n",
       "\n",
       "           re    hm  sun10    ts  dew_point   vis1  class  \n",
       "632437  0.000 0.201  0.000 0.020      0.261  20000      4  \n",
       "632438  0.000 0.229  0.000 0.020      0.273  20000      4  \n",
       "632439  0.000 0.253  0.000 0.022      0.291  20000      4  \n",
       "632440  0.000 0.279  0.000 0.027      0.308  20000      4  \n",
       "632441  0.000 0.297  0.000 0.027      0.318  20000      4  \n",
       "...       ...   ...    ...   ...        ...    ...    ...  \n",
       "2841095 0.000 0.475  0.000 0.061      0.490  20000      4  \n",
       "2841096 0.000 0.468  0.000 0.063      0.487  20000      4  \n",
       "2841097 0.000 0.464  0.000 0.061      0.486  20000      4  \n",
       "2841098 0.000 0.459  0.000 0.061      0.486  20000      4  \n",
       "2841099 0.000 0.462  0.000 0.061      0.489  20000      4  \n",
       "\n",
       "[315646 rows x 16 columns]"
      ]
     },
     "execution_count": 88,
     "metadata": {},
     "output_type": "execute_result"
    }
   ],
   "source": [
    "from sklearn.preprocessing import MinMaxScaler\n",
    "\n",
    "# 계절별 구분\n",
    "def get_season(month):\n",
    "    if month in [12, 1, 2]:\n",
    "        return 'winter'\n",
    "    elif month in [3, 4, 5]:\n",
    "        return 'spring'\n",
    "    elif month in [6, 7, 8]:\n",
    "        return 'summer'\n",
    "    else:\n",
    "        return 'fall'\n",
    "\n",
    "df2['season'] = df2['month'].apply(get_season)\n",
    "\n",
    "# 정규화할 열 지정\n",
    "numeric_cols = ['ws10_deg', 'ws10_ms', 'ta', 'hm', 'sun10', 'ts', 'dew_point']\n",
    "\n",
    "# 계절별 정규화\n",
    "scalers = {}\n",
    "for season in df2['season'].unique():\n",
    "    scaler = MinMaxScaler()\n",
    "    mask = df2['season'] == season\n",
    "    df2.loc[mask, numeric_cols] = scaler.fit_transform(df2.loc[mask, numeric_cols])\n",
    "    scalers[season] = scaler\n",
    "\n",
    "# 'season' 열 제거\n",
    "df2 = df2.drop(columns=['season'])\n",
    "\n",
    "# 열의 순서 재정렬\n",
    "new_columns = ['year', 'month', 'day', 'time', 'minute', 'stn_id', 'ws10_deg', 'ws10_ms', 'ta', 're', 'hm', 'sun10',\n",
    "               'ts', 'dew_point', 'vis1', 'class']\n",
    "\n",
    "# 결과 출력\n",
    "df2 = df2.reindex(columns=new_columns)\n",
    "df2"
   ]
  },
  {
   "cell_type": "code",
   "execution_count": 89,
   "id": "8f72f067",
   "metadata": {},
   "outputs": [
    {
     "name": "stdout",
     "output_type": "stream",
     "text": [
      "Contains -99.9: False\n"
     ]
    }
   ],
   "source": [
    "contains_negative_99_9 = (df2 == -99).any().any()\n",
    "print(f\"Contains -99.9: {contains_negative_99_9}\")"
   ]
  },
  {
   "cell_type": "markdown",
   "id": "09737306",
   "metadata": {
    "id": "09737306"
   },
   "source": [
    "## target(vis1, class) 결측값 대체\n",
    "> **random forest (seed: 123)** 사용"
   ]
  },
  {
   "cell_type": "code",
   "execution_count": 90,
   "id": "ed6cb2f4",
   "metadata": {
    "executionInfo": {
     "elapsed": 350561,
     "status": "ok",
     "timestamp": 1719238100097,
     "user": {
      "displayName": "Jiwon An",
      "userId": "04526331186835263330"
     },
     "user_tz": -540
    },
    "id": "ed6cb2f4"
   },
   "outputs": [],
   "source": [
    "from sklearn.ensemble import RandomForestRegressor\n",
    "from sklearn.model_selection import train_test_split\n",
    "\n",
    "# vis1 결측값(-99)을 NaN으로 변환\n",
    "df2['vis1'].replace(-99, float('nan'), inplace=True)\n",
    "\n",
    "# vis1 결측값 예측을 위해 'vis1' 외 데이터로 학습\n",
    "train_data = df2.dropna(subset=['vis1'])\n",
    "predict_data = df2[df2['vis1'].isna()]\n",
    "\n",
    "# 독립변수와 종속변수 설정\n",
    "X_train = train_data.drop(['year', 'month', 'day', 'time', 'minute', 'stn_id', 'vis1', 'class'], axis=1)\n",
    "y_train = train_data['vis1']\n",
    "\n",
    "X_predict = predict_data.drop(['year', 'month', 'day', 'time', 'minute', 'stn_id', 'vis1', 'class'], axis=1)\n",
    "\n",
    "# RandomForestRegressor 모델 학습\n",
    "rf = RandomForestRegressor(n_estimators=100, random_state=123)\n",
    "rf.fit(X_train, y_train)\n",
    "\n",
    "# 결측값 예측\n",
    "predicted_vis1 = rf.predict(X_predict)\n",
    "\n",
    "# 예측값으로 결측값 대체\n",
    "df2.loc[df2['vis1'].isna(), 'vis1'] = predicted_vis1"
   ]
  },
  {
   "cell_type": "code",
   "execution_count": 91,
   "id": "6c9e37ad",
   "metadata": {
    "colab": {
     "base_uri": "https://localhost:8080/",
     "height": 109
    },
    "executionInfo": {
     "elapsed": 596,
     "status": "ok",
     "timestamp": 1719238112015,
     "user": {
      "displayName": "Jiwon An",
      "userId": "04526331186835263330"
     },
     "user_tz": -540
    },
    "id": "6c9e37ad",
    "outputId": "b567a3e9-d08a-47b8-d163-b492f6db7874"
   },
   "outputs": [
    {
     "data": {
      "text/html": [
       "<div>\n",
       "<style scoped>\n",
       "    .dataframe tbody tr th:only-of-type {\n",
       "        vertical-align: middle;\n",
       "    }\n",
       "\n",
       "    .dataframe tbody tr th {\n",
       "        vertical-align: top;\n",
       "    }\n",
       "\n",
       "    .dataframe thead th {\n",
       "        text-align: right;\n",
       "    }\n",
       "</style>\n",
       "<table border=\"1\" class=\"dataframe\">\n",
       "  <thead>\n",
       "    <tr style=\"text-align: right;\">\n",
       "      <th></th>\n",
       "      <th>year</th>\n",
       "      <th>month</th>\n",
       "      <th>day</th>\n",
       "      <th>time</th>\n",
       "      <th>minute</th>\n",
       "      <th>stn_id</th>\n",
       "      <th>ws10_deg</th>\n",
       "      <th>ws10_ms</th>\n",
       "      <th>ta</th>\n",
       "      <th>re</th>\n",
       "      <th>hm</th>\n",
       "      <th>sun10</th>\n",
       "      <th>ts</th>\n",
       "      <th>dew_point</th>\n",
       "      <th>vis1</th>\n",
       "      <th>class</th>\n",
       "    </tr>\n",
       "  </thead>\n",
       "  <tbody>\n",
       "  </tbody>\n",
       "</table>\n",
       "</div>"
      ],
      "text/plain": [
       "Empty DataFrame\n",
       "Columns: [year, month, day, time, minute, stn_id, ws10_deg, ws10_ms, ta, re, hm, sun10, ts, dew_point, vis1, class]\n",
       "Index: []"
      ]
     },
     "execution_count": 91,
     "metadata": {},
     "output_type": "execute_result"
    }
   ],
   "source": [
    "# vis1이 음수 확인 -> 음수가 없어야 정상\n",
    "negative_vis1 = df2[df2['vis1'] < 0]\n",
    "negative_vis1"
   ]
  },
  {
   "cell_type": "markdown",
   "id": "gulDReD1pFEa",
   "metadata": {
    "id": "gulDReD1pFEa"
   },
   "source": [
    "## XGC(시간 있는 버전~)"
   ]
  },
  {
   "cell_type": "code",
   "execution_count": 92,
   "id": "ie8oc-r-pFEo",
   "metadata": {
    "executionInfo": {
     "elapsed": 1115,
     "status": "ok",
     "timestamp": 1719242470330,
     "user": {
      "displayName": "Jiwon An",
      "userId": "04526331186835263330"
     },
     "user_tz": -540
    },
    "id": "ie8oc-r-pFEo"
   },
   "outputs": [],
   "source": [
    "# 데이터프레임에서 특성과 레이블 분리\n",
    "X = df2.drop(['day', 'minute', 'stn_id', 'vis1', 'class'], axis=1)  # 특성들\n",
    "y = df2['class']  # 레이블"
   ]
  },
  {
   "cell_type": "code",
   "execution_count": 93,
   "id": "qep47tfSpFEp",
   "metadata": {
    "executionInfo": {
     "elapsed": 12,
     "status": "ok",
     "timestamp": 1719242473829,
     "user": {
      "displayName": "Jiwon An",
      "userId": "04526331186835263330"
     },
     "user_tz": -540
    },
    "id": "qep47tfSpFEp"
   },
   "outputs": [],
   "source": [
    "# 클래스 값을 0, 1, 2, 3으로 변환\n",
    "y = y - 1"
   ]
  },
  {
   "cell_type": "code",
   "execution_count": 94,
   "id": "PUUz4Ja6pFEp",
   "metadata": {
    "executionInfo": {
     "elapsed": 1152,
     "status": "ok",
     "timestamp": 1719242477788,
     "user": {
      "displayName": "Jiwon An",
      "userId": "04526331186835263330"
     },
     "user_tz": -540
    },
    "id": "PUUz4Ja6pFEp"
   },
   "outputs": [],
   "source": [
    "# 학습 데이터와 테스트 데이터로 나누기 (여기서는 70% 학습, 30% 검증 데이터로 설정)\n",
    "X_train, X_val, y_train, y_val = train_test_split(X, y, test_size=0.3, random_state=123)"
   ]
  },
  {
   "cell_type": "code",
   "execution_count": 95,
   "id": "TEYJizqxpFEp",
   "metadata": {
    "colab": {
     "base_uri": "https://localhost:8080/"
    },
    "executionInfo": {
     "elapsed": 3779,
     "status": "ok",
     "timestamp": 1719242485430,
     "user": {
      "displayName": "Jiwon An",
      "userId": "04526331186835263330"
     },
     "user_tz": -540
    },
    "id": "TEYJizqxpFEp",
    "outputId": "9089e5af-bdcd-475c-9421-ae1c2a727dcf"
   },
   "outputs": [
    {
     "name": "stdout",
     "output_type": "stream",
     "text": [
      "[01:15:08] WARNING: C:\\Users\\dev-admin\\croot\\xgboost-split_1675120659361\\work\\src\\learner.cc:1115: Starting in XGBoost 1.3.0, the default evaluation metric used with the objective 'multi:softprob' was changed from 'merror' to 'mlogloss'. Explicitly set eval_metric if you'd like to restore the old behavior.\n",
      "Classification Report:\n",
      "              precision    recall  f1-score   support\n",
      "\n",
      "        -100       0.93      0.29      0.44       268\n",
      "           0       0.76      0.26      0.39       129\n",
      "           1       0.62      0.17      0.27       194\n",
      "           2       0.60      0.13      0.22       196\n",
      "           3       0.99      1.00      1.00     93907\n",
      "\n",
      "    accuracy                           0.99     94694\n",
      "   macro avg       0.78      0.37      0.46     94694\n",
      "weighted avg       0.99      0.99      0.99     94694\n",
      "\n",
      "Confusion Matrix:\n",
      "[[   78     0     0     0   190]\n",
      " [    0    34    10     0    85]\n",
      " [    0     7    33     8   146]\n",
      " [    0     1     4    26   165]\n",
      " [    6     3     6     9 93883]]\n"
     ]
    }
   ],
   "source": [
    "# XGBoost 모델 생성\n",
    "\n",
    "xgb_model = xgb.XGBClassifier(objective='multi:softmax', num_class=4)\n",
    "\n",
    "# 모델 학습\n",
    "xgb_model.fit(X_train, y_train)\n",
    "\n",
    "# 예측\n",
    "y_pred = xgb_model.predict(X_val)\n",
    "\n",
    "# 평가\n",
    "report = classification_report(y_val, y_pred)\n",
    "conf_matrix = confusion_matrix(y_val, y_pred)\n",
    "\n",
    "print(f'Classification Report:\\n{report}')\n",
    "print(f'Confusion Matrix:\\n{conf_matrix}')"
   ]
  },
  {
   "cell_type": "code",
   "execution_count": 96,
   "id": "UYR5a7OypFEp",
   "metadata": {
    "colab": {
     "base_uri": "https://localhost:8080/"
    },
    "executionInfo": {
     "elapsed": 7,
     "status": "ok",
     "timestamp": 1719239286657,
     "user": {
      "displayName": "Jiwon An",
      "userId": "04526331186835263330"
     },
     "user_tz": -540
    },
    "id": "UYR5a7OypFEp",
    "outputId": "465b881d-9b17-473e-baa5-82e04277b043"
   },
   "outputs": [
    {
     "name": "stdout",
     "output_type": "stream",
     "text": [
      "y_pred 분포: {-100: 84, 0: 45, 1: 53, 2: 43, 3: 94469}\n",
      "y_val 분포: {-100: 268, 0: 129, 1: 194, 2: 196, 3: 93907}\n"
     ]
    }
   ],
   "source": [
    "# 데이터 분포 확인\n",
    "unique, counts = np.unique(y_pred, return_counts=True)\n",
    "print(\"y_pred 분포:\", dict(zip(unique, counts)))\n",
    "\n",
    "unique, counts = np.unique(y_val, return_counts=True)\n",
    "print(\"y_val 분포:\", dict(zip(unique, counts)))"
   ]
  },
  {
   "cell_type": "code",
   "execution_count": 97,
   "id": "JXbtPECupFEq",
   "metadata": {
    "colab": {
     "base_uri": "https://localhost:8080/"
    },
    "executionInfo": {
     "elapsed": 6,
     "status": "ok",
     "timestamp": 1719239290056,
     "user": {
      "displayName": "Jiwon An",
      "userId": "04526331186835263330"
     },
     "user_tz": -540
    },
    "id": "JXbtPECupFEq",
    "outputId": "7114bb69-6f64-4d54-da77-adae01d0bee2"
   },
   "outputs": [
    {
     "name": "stdout",
     "output_type": "stream",
     "text": [
      "검증 데이터 CSI: 0.21085080147965474\n"
     ]
    }
   ],
   "source": [
    "# # 예측값을 1차원으로 변환\n",
    "# y_pred = np.squeeze(y_pred)\n",
    "\n",
    "# H, F, M 계산\n",
    "H = np.sum((y_val == y_pred) & (y_val != 3))  # Hits\n",
    "F = np.sum((y_val != y_pred) & (y_pred != 3))  # False Alarms\n",
    "M = np.sum((y_val != y_pred) & (y_pred == 3))  # Misses\n",
    "\n",
    "# CSI 계산\n",
    "CSI = H / (H + F + M)\n",
    "print(f\"검증 데이터 CSI: {CSI}\")"
   ]
  },
  {
   "cell_type": "markdown",
   "id": "XAHbBaKJviDo",
   "metadata": {
    "id": "XAHbBaKJviDo"
   },
   "source": [
    "-----------------------------------------------------------------------"
   ]
  },
  {
   "cell_type": "markdown",
   "id": "3d5bb393",
   "metadata": {
    "id": "3d5bb393"
   },
   "source": [
    "#**fog_test**"
   ]
  },
  {
   "cell_type": "code",
   "execution_count": 98,
   "id": "9d957979",
   "metadata": {
    "colab": {
     "base_uri": "https://localhost:8080/",
     "height": 443
    },
    "executionInfo": {
     "elapsed": 595,
     "status": "ok",
     "timestamp": 1719242924042,
     "user": {
      "displayName": "Jiwon An",
      "userId": "04526331186835263330"
     },
     "user_tz": -540
    },
    "id": "9d957979",
    "outputId": "d9133525-7231-4740-d76d-f8df05aca8dc"
   },
   "outputs": [
    {
     "data": {
      "text/html": [
       "<div>\n",
       "<style scoped>\n",
       "    .dataframe tbody tr th:only-of-type {\n",
       "        vertical-align: middle;\n",
       "    }\n",
       "\n",
       "    .dataframe tbody tr th {\n",
       "        vertical-align: top;\n",
       "    }\n",
       "\n",
       "    .dataframe thead th {\n",
       "        text-align: right;\n",
       "    }\n",
       "</style>\n",
       "<table border=\"1\" class=\"dataframe\">\n",
       "  <thead>\n",
       "    <tr style=\"text-align: right;\">\n",
       "      <th></th>\n",
       "      <th>year</th>\n",
       "      <th>month</th>\n",
       "      <th>day</th>\n",
       "      <th>time</th>\n",
       "      <th>minute</th>\n",
       "      <th>stn_id</th>\n",
       "      <th>ws10_deg</th>\n",
       "      <th>ws10_ms</th>\n",
       "      <th>ta</th>\n",
       "      <th>re</th>\n",
       "      <th>hm</th>\n",
       "      <th>sun10</th>\n",
       "      <th>ts</th>\n",
       "      <th>class</th>\n",
       "    </tr>\n",
       "  </thead>\n",
       "  <tbody>\n",
       "    <tr>\n",
       "      <th>1</th>\n",
       "      <td>L</td>\n",
       "      <td>1</td>\n",
       "      <td>1</td>\n",
       "      <td>0</td>\n",
       "      <td>0</td>\n",
       "      <td>AI</td>\n",
       "      <td>329.500</td>\n",
       "      <td>0.600</td>\n",
       "      <td>-2.500</td>\n",
       "      <td>0.000</td>\n",
       "      <td>87.500</td>\n",
       "      <td>0.000</td>\n",
       "      <td>-1.600</td>\n",
       "      <td>NaN</td>\n",
       "    </tr>\n",
       "    <tr>\n",
       "      <th>2</th>\n",
       "      <td>L</td>\n",
       "      <td>1</td>\n",
       "      <td>1</td>\n",
       "      <td>0</td>\n",
       "      <td>10</td>\n",
       "      <td>AI</td>\n",
       "      <td>321.800</td>\n",
       "      <td>1.200</td>\n",
       "      <td>-2.500</td>\n",
       "      <td>0.000</td>\n",
       "      <td>88.200</td>\n",
       "      <td>0.000</td>\n",
       "      <td>-1.600</td>\n",
       "      <td>NaN</td>\n",
       "    </tr>\n",
       "    <tr>\n",
       "      <th>3</th>\n",
       "      <td>L</td>\n",
       "      <td>1</td>\n",
       "      <td>1</td>\n",
       "      <td>0</td>\n",
       "      <td>20</td>\n",
       "      <td>AI</td>\n",
       "      <td>0.400</td>\n",
       "      <td>0.400</td>\n",
       "      <td>-2.500</td>\n",
       "      <td>0.000</td>\n",
       "      <td>88.600</td>\n",
       "      <td>0.000</td>\n",
       "      <td>-1.700</td>\n",
       "      <td>NaN</td>\n",
       "    </tr>\n",
       "    <tr>\n",
       "      <th>4</th>\n",
       "      <td>L</td>\n",
       "      <td>1</td>\n",
       "      <td>1</td>\n",
       "      <td>0</td>\n",
       "      <td>30</td>\n",
       "      <td>AI</td>\n",
       "      <td>323.600</td>\n",
       "      <td>0.700</td>\n",
       "      <td>-2.600</td>\n",
       "      <td>0.000</td>\n",
       "      <td>88.700</td>\n",
       "      <td>0.000</td>\n",
       "      <td>-1.600</td>\n",
       "      <td>NaN</td>\n",
       "    </tr>\n",
       "    <tr>\n",
       "      <th>5</th>\n",
       "      <td>L</td>\n",
       "      <td>1</td>\n",
       "      <td>1</td>\n",
       "      <td>0</td>\n",
       "      <td>40</td>\n",
       "      <td>AI</td>\n",
       "      <td>208.400</td>\n",
       "      <td>0.200</td>\n",
       "      <td>-2.600</td>\n",
       "      <td>0.000</td>\n",
       "      <td>89.000</td>\n",
       "      <td>0.000</td>\n",
       "      <td>-1.600</td>\n",
       "      <td>NaN</td>\n",
       "    </tr>\n",
       "    <tr>\n",
       "      <th>...</th>\n",
       "      <td>...</td>\n",
       "      <td>...</td>\n",
       "      <td>...</td>\n",
       "      <td>...</td>\n",
       "      <td>...</td>\n",
       "      <td>...</td>\n",
       "      <td>...</td>\n",
       "      <td>...</td>\n",
       "      <td>...</td>\n",
       "      <td>...</td>\n",
       "      <td>...</td>\n",
       "      <td>...</td>\n",
       "      <td>...</td>\n",
       "      <td>...</td>\n",
       "    </tr>\n",
       "    <tr>\n",
       "      <th>262796</th>\n",
       "      <td>L</td>\n",
       "      <td>12</td>\n",
       "      <td>31</td>\n",
       "      <td>23</td>\n",
       "      <td>10</td>\n",
       "      <td>ED</td>\n",
       "      <td>338.800</td>\n",
       "      <td>6.100</td>\n",
       "      <td>4.500</td>\n",
       "      <td>0.000</td>\n",
       "      <td>71.300</td>\n",
       "      <td>0.000</td>\n",
       "      <td>1.900</td>\n",
       "      <td>NaN</td>\n",
       "    </tr>\n",
       "    <tr>\n",
       "      <th>262797</th>\n",
       "      <td>L</td>\n",
       "      <td>12</td>\n",
       "      <td>31</td>\n",
       "      <td>23</td>\n",
       "      <td>20</td>\n",
       "      <td>ED</td>\n",
       "      <td>335.200</td>\n",
       "      <td>5.800</td>\n",
       "      <td>4.600</td>\n",
       "      <td>0.000</td>\n",
       "      <td>71.400</td>\n",
       "      <td>0.000</td>\n",
       "      <td>1.900</td>\n",
       "      <td>NaN</td>\n",
       "    </tr>\n",
       "    <tr>\n",
       "      <th>262798</th>\n",
       "      <td>L</td>\n",
       "      <td>12</td>\n",
       "      <td>31</td>\n",
       "      <td>23</td>\n",
       "      <td>30</td>\n",
       "      <td>ED</td>\n",
       "      <td>337.100</td>\n",
       "      <td>5.300</td>\n",
       "      <td>4.500</td>\n",
       "      <td>0.000</td>\n",
       "      <td>72.100</td>\n",
       "      <td>0.000</td>\n",
       "      <td>1.800</td>\n",
       "      <td>NaN</td>\n",
       "    </tr>\n",
       "    <tr>\n",
       "      <th>262799</th>\n",
       "      <td>L</td>\n",
       "      <td>12</td>\n",
       "      <td>31</td>\n",
       "      <td>23</td>\n",
       "      <td>40</td>\n",
       "      <td>ED</td>\n",
       "      <td>322.000</td>\n",
       "      <td>3.700</td>\n",
       "      <td>4.300</td>\n",
       "      <td>0.000</td>\n",
       "      <td>72.500</td>\n",
       "      <td>0.000</td>\n",
       "      <td>1.400</td>\n",
       "      <td>NaN</td>\n",
       "    </tr>\n",
       "    <tr>\n",
       "      <th>262800</th>\n",
       "      <td>L</td>\n",
       "      <td>12</td>\n",
       "      <td>31</td>\n",
       "      <td>23</td>\n",
       "      <td>50</td>\n",
       "      <td>ED</td>\n",
       "      <td>33.600</td>\n",
       "      <td>2.800</td>\n",
       "      <td>4.300</td>\n",
       "      <td>0.000</td>\n",
       "      <td>73.700</td>\n",
       "      <td>0.000</td>\n",
       "      <td>1.300</td>\n",
       "      <td>NaN</td>\n",
       "    </tr>\n",
       "  </tbody>\n",
       "</table>\n",
       "<p>262800 rows × 14 columns</p>\n",
       "</div>"
      ],
      "text/plain": [
       "       year  month  day  time  minute stn_id  ws10_deg  ws10_ms     ta    re  \\\n",
       "1         L      1    1     0       0     AI   329.500    0.600 -2.500 0.000   \n",
       "2         L      1    1     0      10     AI   321.800    1.200 -2.500 0.000   \n",
       "3         L      1    1     0      20     AI     0.400    0.400 -2.500 0.000   \n",
       "4         L      1    1     0      30     AI   323.600    0.700 -2.600 0.000   \n",
       "5         L      1    1     0      40     AI   208.400    0.200 -2.600 0.000   \n",
       "...     ...    ...  ...   ...     ...    ...       ...      ...    ...   ...   \n",
       "262796    L     12   31    23      10     ED   338.800    6.100  4.500 0.000   \n",
       "262797    L     12   31    23      20     ED   335.200    5.800  4.600 0.000   \n",
       "262798    L     12   31    23      30     ED   337.100    5.300  4.500 0.000   \n",
       "262799    L     12   31    23      40     ED   322.000    3.700  4.300 0.000   \n",
       "262800    L     12   31    23      50     ED    33.600    2.800  4.300 0.000   \n",
       "\n",
       "           hm  sun10     ts  class  \n",
       "1      87.500  0.000 -1.600    NaN  \n",
       "2      88.200  0.000 -1.600    NaN  \n",
       "3      88.600  0.000 -1.700    NaN  \n",
       "4      88.700  0.000 -1.600    NaN  \n",
       "5      89.000  0.000 -1.600    NaN  \n",
       "...       ...    ...    ...    ...  \n",
       "262796 71.300  0.000  1.900    NaN  \n",
       "262797 71.400  0.000  1.900    NaN  \n",
       "262798 72.100  0.000  1.800    NaN  \n",
       "262799 72.500  0.000  1.400    NaN  \n",
       "262800 73.700  0.000  1.300    NaN  \n",
       "\n",
       "[262800 rows x 14 columns]"
      ]
     },
     "execution_count": 98,
     "metadata": {},
     "output_type": "execute_result"
    }
   ],
   "source": [
    "df_test = pd.read_csv(\"C:/Users/김지희/Downloads/fog_test.csv\", index_col=0)\n",
    "df_test.columns = [col.replace('fog_test.', '') for col in df_test.columns]\n",
    "df_test"
   ]
  },
  {
   "cell_type": "code",
   "execution_count": 99,
   "id": "a1df49fd",
   "metadata": {
    "colab": {
     "base_uri": "https://localhost:8080/"
    },
    "executionInfo": {
     "elapsed": 6,
     "status": "ok",
     "timestamp": 1719242934968,
     "user": {
      "displayName": "Jiwon An",
      "userId": "04526331186835263330"
     },
     "user_tz": -540
    },
    "id": "a1df49fd",
    "outputId": "fb061429-cd57-44c5-b4af-c1c9ab901930"
   },
   "outputs": [
    {
     "data": {
      "text/plain": [
       "3    262800\n",
       "Name: year, dtype: int64"
      ]
     },
     "execution_count": 99,
     "metadata": {},
     "output_type": "execute_result"
    }
   ],
   "source": [
    "df_test['year'] = df_test['year'].map({'L': 3})\n",
    "df_test['year'].value_counts()"
   ]
  },
  {
   "cell_type": "code",
   "execution_count": 100,
   "id": "6f77a23b",
   "metadata": {
    "colab": {
     "base_uri": "https://localhost:8080/"
    },
    "executionInfo": {
     "elapsed": 5,
     "status": "ok",
     "timestamp": 1719242934969,
     "user": {
      "displayName": "Jiwon An",
      "userId": "04526331186835263330"
     },
     "user_tz": -540
    },
    "id": "6f77a23b",
    "outputId": "a227ad04-74e3-428b-eec6-ba62cd764759"
   },
   "outputs": [
    {
     "data": {
      "text/plain": [
       "0    52560\n",
       "1    52560\n",
       "2    52560\n",
       "3    52560\n",
       "4    52560\n",
       "Name: stn_id, dtype: int64"
      ]
     },
     "execution_count": 100,
     "metadata": {},
     "output_type": "execute_result"
    }
   ],
   "source": [
    "# 첫 글자를 추출하여 새로운 열 생성\n",
    "df_test['first_letter'] = df_test['stn_id'].str[0]\n",
    "\n",
    "# 알파벳 순서에 따라 번호를 부여\n",
    "alphabet_order = {char: idx for idx, char in enumerate(sorted(df_test['first_letter'].unique()))}\n",
    "df_test['stn_id'] = df_test['first_letter'].map(alphabet_order)\n",
    "df_test.drop(columns=['first_letter'], inplace=True)\n",
    "\n",
    "df_test['stn_id'].value_counts()"
   ]
  },
  {
   "cell_type": "code",
   "execution_count": 101,
   "id": "92bc1f6d",
   "metadata": {
    "colab": {
     "base_uri": "https://localhost:8080/"
    },
    "executionInfo": {
     "elapsed": 3,
     "status": "ok",
     "timestamp": 1719242937666,
     "user": {
      "displayName": "Jiwon An",
      "userId": "04526331186835263330"
     },
     "user_tz": -540
    },
    "id": "92bc1f6d",
    "outputId": "22caf7db-1133-49c7-996f-5d7ddd578373"
   },
   "outputs": [
    {
     "data": {
      "text/plain": [
       "2    315646\n",
       "Name: stn_id, dtype: int64"
      ]
     },
     "execution_count": 101,
     "metadata": {},
     "output_type": "execute_result"
    }
   ],
   "source": [
    "# 2번 지역만 추출\n",
    "df2 = df[df['stn_id'].isin([2])]\n",
    "df2['stn_id'].value_counts()"
   ]
  },
  {
   "cell_type": "code",
   "execution_count": 102,
   "id": "86e86bbc",
   "metadata": {
    "executionInfo": {
     "elapsed": 2,
     "status": "ok",
     "timestamp": 1719242949009,
     "user": {
      "displayName": "Jiwon An",
      "userId": "04526331186835263330"
     },
     "user_tz": -540
    },
    "id": "86e86bbc"
   },
   "outputs": [],
   "source": [
    "numeric_cols = ['ws10_deg', 'ws10_ms', 'ta', 'hm', 'sun10', 'ts']\n",
    "\n",
    "# -99.9 값을 NaN으로 변환\n",
    "df_test[numeric_cols] = df_test[numeric_cols].replace(-99.9, np.nan)\n",
    "\n",
    "# 선형보간법을 이용하여 NaN값 처리\n",
    "df_test[numeric_cols] = df_test[numeric_cols].interpolate(method='linear')"
   ]
  },
  {
   "cell_type": "code",
   "execution_count": 103,
   "id": "d0c8c85f",
   "metadata": {
    "colab": {
     "base_uri": "https://localhost:8080/"
    },
    "executionInfo": {
     "elapsed": 1311,
     "status": "ok",
     "timestamp": 1719242953696,
     "user": {
      "displayName": "Jiwon An",
      "userId": "04526331186835263330"
     },
     "user_tz": -540
    },
    "id": "d0c8c85f",
    "outputId": "76dd3cd2-1b03-4a88-e41f-737f1f14e2fc"
   },
   "outputs": [
    {
     "data": {
      "text/plain": [
       "0.000    246549\n",
       "1.000     16251\n",
       "Name: re, dtype: int64"
      ]
     },
     "execution_count": 103,
     "metadata": {},
     "output_type": "execute_result"
    }
   ],
   "source": [
    "df_test['re'].replace(-99.9, np.nan, inplace=True)\n",
    "df_test['re'] = df_test['re'].ffill()\n",
    "df_test['re'] = df_test['re'].bfill()\n",
    "\n",
    "df_test['re'].value_counts()"
   ]
  },
  {
   "cell_type": "code",
   "execution_count": 104,
   "id": "eb72a5f6",
   "metadata": {
    "colab": {
     "base_uri": "https://localhost:8080/",
     "height": 1000
    },
    "executionInfo": {
     "elapsed": 2650,
     "status": "ok",
     "timestamp": 1719242960437,
     "user": {
      "displayName": "Jiwon An",
      "userId": "04526331186835263330"
     },
     "user_tz": -540
    },
    "id": "eb72a5f6",
    "outputId": "448e0756-c0b1-41a7-a45e-e261e127629e",
    "scrolled": true
   },
   "outputs": [
    {
     "name": "stdout",
     "output_type": "stream",
     "text": [
      "ws10_deg - 이상치 개수: 0\n"
     ]
    },
    {
     "data": {
      "image/png": "[encoded data removed]",
      "text/plain": [
       "<Figure size 1000x600 with 1 Axes>"
      ]
     },
     "metadata": {},
     "output_type": "display_data"
    },
    {
     "name": "stdout",
     "output_type": "stream",
     "text": [
      "ws10_ms - 이상치 개수: 4063\n"
     ]
    },
    {
     "data": {
      "image/png": "[encoded data removed]",
      "text/plain": [
       "<Figure size 1000x600 with 1 Axes>"
      ]
     },
     "metadata": {},
     "output_type": "display_data"
    },
    {
     "name": "stdout",
     "output_type": "stream",
     "text": [
      "ta - 이상치 개수: 64\n"
     ]
    },
    {
     "data": {
      "image/png": "[encoded data removed]",
      "text/plain": [
       "<Figure size 1000x600 with 1 Axes>"
      ]
     },
     "metadata": {},
     "output_type": "display_data"
    },
    {
     "name": "stdout",
     "output_type": "stream",
     "text": [
      "hm - 이상치 개수: 0\n"
     ]
    },
    {
     "data": {
      "image/png": "[encoded data removed]",
      "text/plain": [
       "<Figure size 1000x600 with 1 Axes>"
      ]
     },
     "metadata": {},
     "output_type": "display_data"
    },
    {
     "name": "stdout",
     "output_type": "stream",
     "text": [
      "sun10 - 이상치 개수: 2572\n"
     ]
    },
    {
     "data": {
      "image/png": "[encoded data removed]",
      "text/plain": [
       "<Figure size 1000x600 with 1 Axes>"
      ]
     },
     "metadata": {},
     "output_type": "display_data"
    },
    {
     "name": "stdout",
     "output_type": "stream",
     "text": [
      "ts - 이상치 개수: 642\n"
     ]
    },
    {
     "data": {
      "image/png": "[encoded data removed]",
      "text/plain": [
       "<Figure size 1000x600 with 1 Axes>"
      ]
     },
     "metadata": {},
     "output_type": "display_data"
    },
    {
     "name": "stdout",
     "output_type": "stream",
     "text": [
      "ws10_deg 이상치:\n",
      "Series([], Name: ws10_deg, dtype: float64)\n",
      "\n",
      "ws10_ms 이상치:\n",
      "15226     7.700\n",
      "55359     7.800\n",
      "55361     8.100\n",
      "55368     8.100\n",
      "55917     8.100\n",
      "          ...  \n",
      "262746   11.200\n",
      "262747    9.300\n",
      "262769    7.700\n",
      "262770    9.400\n",
      "262771   10.500\n",
      "Name: ws10_ms, Length: 4063, dtype: float64\n",
      "\n",
      "ta 이상치:\n",
      "3457    -17.800\n",
      "3463    -17.800\n",
      "3464    -17.800\n",
      "3465    -17.800\n",
      "3466    -17.800\n",
      "          ...  \n",
      "56064   -19.500\n",
      "56065   -19.100\n",
      "56066   -18.700\n",
      "56067   -18.100\n",
      "56190   -17.800\n",
      "Name: ta, Length: 64, dtype: float64\n",
      "\n",
      "hm 이상치:\n",
      "Series([], Name: hm, dtype: float64)\n",
      "\n",
      "sun10 이상치:\n",
      "15626    0.570\n",
      "15628    0.570\n",
      "15629    0.570\n",
      "15631    0.570\n",
      "16204    0.580\n",
      "          ... \n",
      "247757   0.570\n",
      "248328   0.570\n",
      "248330   0.590\n",
      "248331   0.600\n",
      "248334   0.570\n",
      "Name: sun10, Length: 2572, dtype: float64\n",
      "\n",
      "ts 이상치:\n",
      "25271    55.300\n",
      "25272    56.100\n",
      "25273    56.100\n",
      "25274    55.000\n",
      "25275    56.800\n",
      "          ...  \n",
      "234661   57.300\n",
      "242859   53.600\n",
      "242860   53.900\n",
      "242861   54.400\n",
      "242862   54.400\n",
      "Name: ts, Length: 642, dtype: float64\n",
      "\n"
     ]
    }
   ],
   "source": [
    "import matplotlib.pyplot as plt\n",
    "\n",
    "# 이상치 탐지 함수\n",
    "def detect_outliers_shewhart(data):\n",
    "    mean = data.mean()\n",
    "    std = data.std()\n",
    "    ucl = mean + 3 * std\n",
    "    lcl = mean - 3 * std\n",
    "    outliers = data[(data > ucl) | (data < lcl)]\n",
    "    return outliers, ucl, lcl\n",
    "\n",
    "# 각 열에 대해 이상치 탐지 및 시각화\n",
    "outliers_dict = {}\n",
    "for col in numeric_cols:\n",
    "    outliers, ucl, lcl = detect_outliers_shewhart(df_test[col])\n",
    "    outliers_dict[col] = outliers\n",
    "    print(f'{col} - 이상치 개수: {len(outliers)}')\n",
    "\n",
    "    # 시각화\n",
    "    plt.figure(figsize=(10, 6))\n",
    "    plt.plot(df_test[col], label='Data')\n",
    "    plt.axhline(y=ucl, color='r', linestyle='--', label='UCL (3σ)')\n",
    "    plt.axhline(y=lcl, color='r', linestyle='--', label='LCL (3σ)')\n",
    "    plt.scatter(outliers.index, outliers, color='r', label='Outliers')\n",
    "    plt.title(f'Shewhart Control Chart for {col}')\n",
    "    plt.legend()\n",
    "    plt.show()\n",
    "\n",
    "# 이상치 출력\n",
    "for col, outliers in outliers_dict.items():\n",
    "    print(f'{col} 이상치:\\n{outliers}\\n')"
   ]
  },
  {
   "cell_type": "code",
   "execution_count": 105,
   "id": "6e73b447",
   "metadata": {
    "colab": {
     "base_uri": "https://localhost:8080/"
    },
    "executionInfo": {
     "elapsed": 7,
     "status": "ok",
     "timestamp": 1719242960437,
     "user": {
      "displayName": "Jiwon An",
      "userId": "04526331186835263330"
     },
     "user_tz": -540
    },
    "id": "6e73b447",
    "outputId": "b30c09a0-c7f4-4ddc-e3c8-75fcbf67ad55",
    "scrolled": true
   },
   "outputs": [
    {
     "name": "stdout",
     "output_type": "stream",
     "text": [
      "ws10_deg 보간 후 데이터:\n",
      "1        329.500\n",
      "2        321.800\n",
      "3          0.400\n",
      "4        323.600\n",
      "5        208.400\n",
      "           ...  \n",
      "262796   338.800\n",
      "262797   335.200\n",
      "262798   337.100\n",
      "262799   322.000\n",
      "262800    33.600\n",
      "Name: ws10_deg, Length: 262800, dtype: float64\n",
      "\n",
      "ws10_ms 보간 후 데이터:\n",
      "1        0.600\n",
      "2        1.200\n",
      "3        0.400\n",
      "4        0.700\n",
      "5        0.200\n",
      "          ... \n",
      "262796   6.100\n",
      "262797   5.800\n",
      "262798   5.300\n",
      "262799   3.700\n",
      "262800   2.800\n",
      "Name: ws10_ms, Length: 262800, dtype: float64\n",
      "\n",
      "ta 보간 후 데이터:\n",
      "1        -2.500\n",
      "2        -2.500\n",
      "3        -2.500\n",
      "4        -2.600\n",
      "5        -2.600\n",
      "          ...  \n",
      "262796    4.500\n",
      "262797    4.600\n",
      "262798    4.500\n",
      "262799    4.300\n",
      "262800    4.300\n",
      "Name: ta, Length: 262800, dtype: float64\n",
      "\n",
      "hm 보간 후 데이터:\n",
      "1        87.500\n",
      "2        88.200\n",
      "3        88.600\n",
      "4        88.700\n",
      "5        89.000\n",
      "          ...  \n",
      "262796   71.300\n",
      "262797   71.400\n",
      "262798   72.100\n",
      "262799   72.500\n",
      "262800   73.700\n",
      "Name: hm, Length: 262800, dtype: float64\n",
      "\n",
      "sun10 보간 후 데이터:\n",
      "1        0.000\n",
      "2        0.000\n",
      "3        0.000\n",
      "4        0.000\n",
      "5        0.000\n",
      "          ... \n",
      "262796   0.000\n",
      "262797   0.000\n",
      "262798   0.000\n",
      "262799   0.000\n",
      "262800   0.000\n",
      "Name: sun10, Length: 262800, dtype: float64\n",
      "\n",
      "ts 보간 후 데이터:\n",
      "1        -1.600\n",
      "2        -1.600\n",
      "3        -1.700\n",
      "4        -1.600\n",
      "5        -1.600\n",
      "          ...  \n",
      "262796    1.900\n",
      "262797    1.900\n",
      "262798    1.800\n",
      "262799    1.400\n",
      "262800    1.300\n",
      "Name: ts, Length: 262800, dtype: float64\n",
      "\n"
     ]
    }
   ],
   "source": [
    "# 이상치 값을 NaN으로 대체하고 선형 보간법으로 채움\n",
    "for col, outliers in outliers_dict.items():\n",
    "    df_test.loc[outliers.index, col] = np.nan\n",
    "    df_test[col] = df_test[col].interpolate(method='linear', limit_direction='both')\n",
    "\n",
    "# 보간 후 데이터 확인\n",
    "for col, outliers in outliers_dict.items():\n",
    "    print(f'{col} 보간 후 데이터:\\n{df_test[col]}\\n')"
   ]
  },
  {
   "cell_type": "code",
   "execution_count": 106,
   "id": "rMcVljRXwVkl",
   "metadata": {
    "colab": {
     "base_uri": "https://localhost:8080/",
     "height": 443
    },
    "executionInfo": {
     "elapsed": 11,
     "status": "ok",
     "timestamp": 1719242966052,
     "user": {
      "displayName": "Jiwon An",
      "userId": "04526331186835263330"
     },
     "user_tz": -540
    },
    "id": "rMcVljRXwVkl",
    "outputId": "098fde3e-a9d1-410a-e62d-167d4e65244d"
   },
   "outputs": [
    {
     "data": {
      "text/html": [
       "<div>\n",
       "<style scoped>\n",
       "    .dataframe tbody tr th:only-of-type {\n",
       "        vertical-align: middle;\n",
       "    }\n",
       "\n",
       "    .dataframe tbody tr th {\n",
       "        vertical-align: top;\n",
       "    }\n",
       "\n",
       "    .dataframe thead th {\n",
       "        text-align: right;\n",
       "    }\n",
       "</style>\n",
       "<table border=\"1\" class=\"dataframe\">\n",
       "  <thead>\n",
       "    <tr style=\"text-align: right;\">\n",
       "      <th></th>\n",
       "      <th>year</th>\n",
       "      <th>month</th>\n",
       "      <th>day</th>\n",
       "      <th>time</th>\n",
       "      <th>minute</th>\n",
       "      <th>stn_id</th>\n",
       "      <th>ws10_deg</th>\n",
       "      <th>ws10_ms</th>\n",
       "      <th>ta</th>\n",
       "      <th>re</th>\n",
       "      <th>hm</th>\n",
       "      <th>sun10</th>\n",
       "      <th>ts</th>\n",
       "      <th>dew_point</th>\n",
       "      <th>class</th>\n",
       "    </tr>\n",
       "  </thead>\n",
       "  <tbody>\n",
       "    <tr>\n",
       "      <th>1</th>\n",
       "      <td>3</td>\n",
       "      <td>1</td>\n",
       "      <td>1</td>\n",
       "      <td>0</td>\n",
       "      <td>0</td>\n",
       "      <td>0</td>\n",
       "      <td>329.500</td>\n",
       "      <td>0.600</td>\n",
       "      <td>-2.500</td>\n",
       "      <td>0.000</td>\n",
       "      <td>87.500</td>\n",
       "      <td>0.000</td>\n",
       "      <td>-1.600</td>\n",
       "      <td>-5.000</td>\n",
       "      <td>NaN</td>\n",
       "    </tr>\n",
       "    <tr>\n",
       "      <th>2</th>\n",
       "      <td>3</td>\n",
       "      <td>1</td>\n",
       "      <td>1</td>\n",
       "      <td>0</td>\n",
       "      <td>10</td>\n",
       "      <td>0</td>\n",
       "      <td>321.800</td>\n",
       "      <td>1.200</td>\n",
       "      <td>-2.500</td>\n",
       "      <td>0.000</td>\n",
       "      <td>88.200</td>\n",
       "      <td>0.000</td>\n",
       "      <td>-1.600</td>\n",
       "      <td>-4.860</td>\n",
       "      <td>NaN</td>\n",
       "    </tr>\n",
       "    <tr>\n",
       "      <th>3</th>\n",
       "      <td>3</td>\n",
       "      <td>1</td>\n",
       "      <td>1</td>\n",
       "      <td>0</td>\n",
       "      <td>20</td>\n",
       "      <td>0</td>\n",
       "      <td>0.400</td>\n",
       "      <td>0.400</td>\n",
       "      <td>-2.500</td>\n",
       "      <td>0.000</td>\n",
       "      <td>88.600</td>\n",
       "      <td>0.000</td>\n",
       "      <td>-1.700</td>\n",
       "      <td>-4.780</td>\n",
       "      <td>NaN</td>\n",
       "    </tr>\n",
       "    <tr>\n",
       "      <th>4</th>\n",
       "      <td>3</td>\n",
       "      <td>1</td>\n",
       "      <td>1</td>\n",
       "      <td>0</td>\n",
       "      <td>30</td>\n",
       "      <td>0</td>\n",
       "      <td>323.600</td>\n",
       "      <td>0.700</td>\n",
       "      <td>-2.600</td>\n",
       "      <td>0.000</td>\n",
       "      <td>88.700</td>\n",
       "      <td>0.000</td>\n",
       "      <td>-1.600</td>\n",
       "      <td>-4.860</td>\n",
       "      <td>NaN</td>\n",
       "    </tr>\n",
       "    <tr>\n",
       "      <th>5</th>\n",
       "      <td>3</td>\n",
       "      <td>1</td>\n",
       "      <td>1</td>\n",
       "      <td>0</td>\n",
       "      <td>40</td>\n",
       "      <td>0</td>\n",
       "      <td>208.400</td>\n",
       "      <td>0.200</td>\n",
       "      <td>-2.600</td>\n",
       "      <td>0.000</td>\n",
       "      <td>89.000</td>\n",
       "      <td>0.000</td>\n",
       "      <td>-1.600</td>\n",
       "      <td>-4.800</td>\n",
       "      <td>NaN</td>\n",
       "    </tr>\n",
       "    <tr>\n",
       "      <th>...</th>\n",
       "      <td>...</td>\n",
       "      <td>...</td>\n",
       "      <td>...</td>\n",
       "      <td>...</td>\n",
       "      <td>...</td>\n",
       "      <td>...</td>\n",
       "      <td>...</td>\n",
       "      <td>...</td>\n",
       "      <td>...</td>\n",
       "      <td>...</td>\n",
       "      <td>...</td>\n",
       "      <td>...</td>\n",
       "      <td>...</td>\n",
       "      <td>...</td>\n",
       "      <td>...</td>\n",
       "    </tr>\n",
       "    <tr>\n",
       "      <th>262796</th>\n",
       "      <td>3</td>\n",
       "      <td>12</td>\n",
       "      <td>31</td>\n",
       "      <td>23</td>\n",
       "      <td>10</td>\n",
       "      <td>4</td>\n",
       "      <td>338.800</td>\n",
       "      <td>6.100</td>\n",
       "      <td>4.500</td>\n",
       "      <td>0.000</td>\n",
       "      <td>71.300</td>\n",
       "      <td>0.000</td>\n",
       "      <td>1.900</td>\n",
       "      <td>-1.240</td>\n",
       "      <td>NaN</td>\n",
       "    </tr>\n",
       "    <tr>\n",
       "      <th>262797</th>\n",
       "      <td>3</td>\n",
       "      <td>12</td>\n",
       "      <td>31</td>\n",
       "      <td>23</td>\n",
       "      <td>20</td>\n",
       "      <td>4</td>\n",
       "      <td>335.200</td>\n",
       "      <td>5.800</td>\n",
       "      <td>4.600</td>\n",
       "      <td>0.000</td>\n",
       "      <td>71.400</td>\n",
       "      <td>0.000</td>\n",
       "      <td>1.900</td>\n",
       "      <td>-1.120</td>\n",
       "      <td>NaN</td>\n",
       "    </tr>\n",
       "    <tr>\n",
       "      <th>262798</th>\n",
       "      <td>3</td>\n",
       "      <td>12</td>\n",
       "      <td>31</td>\n",
       "      <td>23</td>\n",
       "      <td>30</td>\n",
       "      <td>4</td>\n",
       "      <td>337.100</td>\n",
       "      <td>5.300</td>\n",
       "      <td>4.500</td>\n",
       "      <td>0.000</td>\n",
       "      <td>72.100</td>\n",
       "      <td>0.000</td>\n",
       "      <td>1.800</td>\n",
       "      <td>-1.080</td>\n",
       "      <td>NaN</td>\n",
       "    </tr>\n",
       "    <tr>\n",
       "      <th>262799</th>\n",
       "      <td>3</td>\n",
       "      <td>12</td>\n",
       "      <td>31</td>\n",
       "      <td>23</td>\n",
       "      <td>40</td>\n",
       "      <td>4</td>\n",
       "      <td>322.000</td>\n",
       "      <td>3.700</td>\n",
       "      <td>4.300</td>\n",
       "      <td>0.000</td>\n",
       "      <td>72.500</td>\n",
       "      <td>0.000</td>\n",
       "      <td>1.400</td>\n",
       "      <td>-1.200</td>\n",
       "      <td>NaN</td>\n",
       "    </tr>\n",
       "    <tr>\n",
       "      <th>262800</th>\n",
       "      <td>3</td>\n",
       "      <td>12</td>\n",
       "      <td>31</td>\n",
       "      <td>23</td>\n",
       "      <td>50</td>\n",
       "      <td>4</td>\n",
       "      <td>33.600</td>\n",
       "      <td>2.800</td>\n",
       "      <td>4.300</td>\n",
       "      <td>0.000</td>\n",
       "      <td>73.700</td>\n",
       "      <td>0.000</td>\n",
       "      <td>1.300</td>\n",
       "      <td>-0.960</td>\n",
       "      <td>NaN</td>\n",
       "    </tr>\n",
       "  </tbody>\n",
       "</table>\n",
       "<p>262800 rows × 15 columns</p>\n",
       "</div>"
      ],
      "text/plain": [
       "        year  month  day  time  minute  stn_id  ws10_deg  ws10_ms     ta  \\\n",
       "1          3      1    1     0       0       0   329.500    0.600 -2.500   \n",
       "2          3      1    1     0      10       0   321.800    1.200 -2.500   \n",
       "3          3      1    1     0      20       0     0.400    0.400 -2.500   \n",
       "4          3      1    1     0      30       0   323.600    0.700 -2.600   \n",
       "5          3      1    1     0      40       0   208.400    0.200 -2.600   \n",
       "...      ...    ...  ...   ...     ...     ...       ...      ...    ...   \n",
       "262796     3     12   31    23      10       4   338.800    6.100  4.500   \n",
       "262797     3     12   31    23      20       4   335.200    5.800  4.600   \n",
       "262798     3     12   31    23      30       4   337.100    5.300  4.500   \n",
       "262799     3     12   31    23      40       4   322.000    3.700  4.300   \n",
       "262800     3     12   31    23      50       4    33.600    2.800  4.300   \n",
       "\n",
       "          re     hm  sun10     ts  dew_point  class  \n",
       "1      0.000 87.500  0.000 -1.600     -5.000    NaN  \n",
       "2      0.000 88.200  0.000 -1.600     -4.860    NaN  \n",
       "3      0.000 88.600  0.000 -1.700     -4.780    NaN  \n",
       "4      0.000 88.700  0.000 -1.600     -4.860    NaN  \n",
       "5      0.000 89.000  0.000 -1.600     -4.800    NaN  \n",
       "...      ...    ...    ...    ...        ...    ...  \n",
       "262796 0.000 71.300  0.000  1.900     -1.240    NaN  \n",
       "262797 0.000 71.400  0.000  1.900     -1.120    NaN  \n",
       "262798 0.000 72.100  0.000  1.800     -1.080    NaN  \n",
       "262799 0.000 72.500  0.000  1.400     -1.200    NaN  \n",
       "262800 0.000 73.700  0.000  1.300     -0.960    NaN  \n",
       "\n",
       "[262800 rows x 15 columns]"
      ]
     },
     "execution_count": 106,
     "metadata": {},
     "output_type": "execute_result"
    }
   ],
   "source": [
    "# 이슬점 온도 계산 함수\n",
    "def calculate_dew_point(temperature, humidity):\n",
    "    # 계산식: T_d = T - ((100 - RH) / 5)\n",
    "    dew_point = temperature - ((100 - humidity) / 5)\n",
    "    return dew_point\n",
    "\n",
    "# 이슬점 온도 파생변수 생성\n",
    "df_test['dew_point'] = calculate_dew_point(df_test['ta'], df_test['hm'])\n",
    "\n",
    "# 열의 순서 재정렬\n",
    "new_columns = ['year', 'month', 'day', 'time', 'minute', 'stn_id', 'ws10_deg', 'ws10_ms', 'ta', 're', 'hm', 'sun10',\n",
    "               'ts', 'dew_point', 'class']\n",
    "\n",
    "# 데이터프레임 열 재정렬\n",
    "df_test = df_test.reindex(columns=new_columns)\n",
    "df_test"
   ]
  },
  {
   "cell_type": "code",
   "execution_count": 107,
   "id": "c3816429",
   "metadata": {
    "colab": {
     "base_uri": "https://localhost:8080/",
     "height": 443
    },
    "executionInfo": {
     "elapsed": 1168,
     "status": "ok",
     "timestamp": 1719242971013,
     "user": {
      "displayName": "Jiwon An",
      "userId": "04526331186835263330"
     },
     "user_tz": -540
    },
    "id": "c3816429",
    "outputId": "5555f8fc-4564-4650-b1bb-28cea7402b29"
   },
   "outputs": [
    {
     "data": {
      "text/html": [
       "<div>\n",
       "<style scoped>\n",
       "    .dataframe tbody tr th:only-of-type {\n",
       "        vertical-align: middle;\n",
       "    }\n",
       "\n",
       "    .dataframe tbody tr th {\n",
       "        vertical-align: top;\n",
       "    }\n",
       "\n",
       "    .dataframe thead th {\n",
       "        text-align: right;\n",
       "    }\n",
       "</style>\n",
       "<table border=\"1\" class=\"dataframe\">\n",
       "  <thead>\n",
       "    <tr style=\"text-align: right;\">\n",
       "      <th></th>\n",
       "      <th>year</th>\n",
       "      <th>month</th>\n",
       "      <th>day</th>\n",
       "      <th>time</th>\n",
       "      <th>minute</th>\n",
       "      <th>stn_id</th>\n",
       "      <th>ws10_deg</th>\n",
       "      <th>ws10_ms</th>\n",
       "      <th>ta</th>\n",
       "      <th>re</th>\n",
       "      <th>hm</th>\n",
       "      <th>sun10</th>\n",
       "      <th>ts</th>\n",
       "      <th>dew_point</th>\n",
       "      <th>class</th>\n",
       "    </tr>\n",
       "  </thead>\n",
       "  <tbody>\n",
       "    <tr>\n",
       "      <th>1</th>\n",
       "      <td>3</td>\n",
       "      <td>1</td>\n",
       "      <td>1</td>\n",
       "      <td>0</td>\n",
       "      <td>0</td>\n",
       "      <td>0</td>\n",
       "      <td>0.916</td>\n",
       "      <td>0.079</td>\n",
       "      <td>0.398</td>\n",
       "      <td>0.000</td>\n",
       "      <td>0.867</td>\n",
       "      <td>0.000</td>\n",
       "      <td>0.085</td>\n",
       "      <td>0.529</td>\n",
       "      <td>NaN</td>\n",
       "    </tr>\n",
       "    <tr>\n",
       "      <th>2</th>\n",
       "      <td>3</td>\n",
       "      <td>1</td>\n",
       "      <td>1</td>\n",
       "      <td>0</td>\n",
       "      <td>10</td>\n",
       "      <td>0</td>\n",
       "      <td>0.894</td>\n",
       "      <td>0.158</td>\n",
       "      <td>0.398</td>\n",
       "      <td>0.000</td>\n",
       "      <td>0.875</td>\n",
       "      <td>0.000</td>\n",
       "      <td>0.085</td>\n",
       "      <td>0.532</td>\n",
       "      <td>NaN</td>\n",
       "    </tr>\n",
       "    <tr>\n",
       "      <th>3</th>\n",
       "      <td>3</td>\n",
       "      <td>1</td>\n",
       "      <td>1</td>\n",
       "      <td>0</td>\n",
       "      <td>20</td>\n",
       "      <td>0</td>\n",
       "      <td>0.001</td>\n",
       "      <td>0.053</td>\n",
       "      <td>0.398</td>\n",
       "      <td>0.000</td>\n",
       "      <td>0.879</td>\n",
       "      <td>0.000</td>\n",
       "      <td>0.083</td>\n",
       "      <td>0.534</td>\n",
       "      <td>NaN</td>\n",
       "    </tr>\n",
       "    <tr>\n",
       "      <th>4</th>\n",
       "      <td>3</td>\n",
       "      <td>1</td>\n",
       "      <td>1</td>\n",
       "      <td>0</td>\n",
       "      <td>30</td>\n",
       "      <td>0</td>\n",
       "      <td>0.899</td>\n",
       "      <td>0.092</td>\n",
       "      <td>0.395</td>\n",
       "      <td>0.000</td>\n",
       "      <td>0.880</td>\n",
       "      <td>0.000</td>\n",
       "      <td>0.085</td>\n",
       "      <td>0.532</td>\n",
       "      <td>NaN</td>\n",
       "    </tr>\n",
       "    <tr>\n",
       "      <th>5</th>\n",
       "      <td>3</td>\n",
       "      <td>1</td>\n",
       "      <td>1</td>\n",
       "      <td>0</td>\n",
       "      <td>40</td>\n",
       "      <td>0</td>\n",
       "      <td>0.579</td>\n",
       "      <td>0.026</td>\n",
       "      <td>0.395</td>\n",
       "      <td>0.000</td>\n",
       "      <td>0.883</td>\n",
       "      <td>0.000</td>\n",
       "      <td>0.085</td>\n",
       "      <td>0.533</td>\n",
       "      <td>NaN</td>\n",
       "    </tr>\n",
       "    <tr>\n",
       "      <th>...</th>\n",
       "      <td>...</td>\n",
       "      <td>...</td>\n",
       "      <td>...</td>\n",
       "      <td>...</td>\n",
       "      <td>...</td>\n",
       "      <td>...</td>\n",
       "      <td>...</td>\n",
       "      <td>...</td>\n",
       "      <td>...</td>\n",
       "      <td>...</td>\n",
       "      <td>...</td>\n",
       "      <td>...</td>\n",
       "      <td>...</td>\n",
       "      <td>...</td>\n",
       "      <td>...</td>\n",
       "    </tr>\n",
       "    <tr>\n",
       "      <th>262796</th>\n",
       "      <td>3</td>\n",
       "      <td>12</td>\n",
       "      <td>31</td>\n",
       "      <td>23</td>\n",
       "      <td>10</td>\n",
       "      <td>4</td>\n",
       "      <td>0.941</td>\n",
       "      <td>0.803</td>\n",
       "      <td>0.581</td>\n",
       "      <td>0.000</td>\n",
       "      <td>0.690</td>\n",
       "      <td>0.000</td>\n",
       "      <td>0.176</td>\n",
       "      <td>0.613</td>\n",
       "      <td>NaN</td>\n",
       "    </tr>\n",
       "    <tr>\n",
       "      <th>262797</th>\n",
       "      <td>3</td>\n",
       "      <td>12</td>\n",
       "      <td>31</td>\n",
       "      <td>23</td>\n",
       "      <td>20</td>\n",
       "      <td>4</td>\n",
       "      <td>0.931</td>\n",
       "      <td>0.763</td>\n",
       "      <td>0.584</td>\n",
       "      <td>0.000</td>\n",
       "      <td>0.691</td>\n",
       "      <td>0.000</td>\n",
       "      <td>0.176</td>\n",
       "      <td>0.616</td>\n",
       "      <td>NaN</td>\n",
       "    </tr>\n",
       "    <tr>\n",
       "      <th>262798</th>\n",
       "      <td>3</td>\n",
       "      <td>12</td>\n",
       "      <td>31</td>\n",
       "      <td>23</td>\n",
       "      <td>30</td>\n",
       "      <td>4</td>\n",
       "      <td>0.937</td>\n",
       "      <td>0.697</td>\n",
       "      <td>0.581</td>\n",
       "      <td>0.000</td>\n",
       "      <td>0.699</td>\n",
       "      <td>0.000</td>\n",
       "      <td>0.174</td>\n",
       "      <td>0.616</td>\n",
       "      <td>NaN</td>\n",
       "    </tr>\n",
       "    <tr>\n",
       "      <th>262799</th>\n",
       "      <td>3</td>\n",
       "      <td>12</td>\n",
       "      <td>31</td>\n",
       "      <td>23</td>\n",
       "      <td>40</td>\n",
       "      <td>4</td>\n",
       "      <td>0.895</td>\n",
       "      <td>0.487</td>\n",
       "      <td>0.576</td>\n",
       "      <td>0.000</td>\n",
       "      <td>0.703</td>\n",
       "      <td>0.000</td>\n",
       "      <td>0.163</td>\n",
       "      <td>0.614</td>\n",
       "      <td>NaN</td>\n",
       "    </tr>\n",
       "    <tr>\n",
       "      <th>262800</th>\n",
       "      <td>3</td>\n",
       "      <td>12</td>\n",
       "      <td>31</td>\n",
       "      <td>23</td>\n",
       "      <td>50</td>\n",
       "      <td>4</td>\n",
       "      <td>0.093</td>\n",
       "      <td>0.368</td>\n",
       "      <td>0.576</td>\n",
       "      <td>0.000</td>\n",
       "      <td>0.716</td>\n",
       "      <td>0.000</td>\n",
       "      <td>0.161</td>\n",
       "      <td>0.619</td>\n",
       "      <td>NaN</td>\n",
       "    </tr>\n",
       "  </tbody>\n",
       "</table>\n",
       "<p>262800 rows × 15 columns</p>\n",
       "</div>"
      ],
      "text/plain": [
       "        year  month  day  time  minute  stn_id  ws10_deg  ws10_ms    ta    re  \\\n",
       "1          3      1    1     0       0       0     0.916    0.079 0.398 0.000   \n",
       "2          3      1    1     0      10       0     0.894    0.158 0.398 0.000   \n",
       "3          3      1    1     0      20       0     0.001    0.053 0.398 0.000   \n",
       "4          3      1    1     0      30       0     0.899    0.092 0.395 0.000   \n",
       "5          3      1    1     0      40       0     0.579    0.026 0.395 0.000   \n",
       "...      ...    ...  ...   ...     ...     ...       ...      ...   ...   ...   \n",
       "262796     3     12   31    23      10       4     0.941    0.803 0.581 0.000   \n",
       "262797     3     12   31    23      20       4     0.931    0.763 0.584 0.000   \n",
       "262798     3     12   31    23      30       4     0.937    0.697 0.581 0.000   \n",
       "262799     3     12   31    23      40       4     0.895    0.487 0.576 0.000   \n",
       "262800     3     12   31    23      50       4     0.093    0.368 0.576 0.000   \n",
       "\n",
       "          hm  sun10    ts  dew_point  class  \n",
       "1      0.867  0.000 0.085      0.529    NaN  \n",
       "2      0.875  0.000 0.085      0.532    NaN  \n",
       "3      0.879  0.000 0.083      0.534    NaN  \n",
       "4      0.880  0.000 0.085      0.532    NaN  \n",
       "5      0.883  0.000 0.085      0.533    NaN  \n",
       "...      ...    ...   ...        ...    ...  \n",
       "262796 0.690  0.000 0.176      0.613    NaN  \n",
       "262797 0.691  0.000 0.176      0.616    NaN  \n",
       "262798 0.699  0.000 0.174      0.616    NaN  \n",
       "262799 0.703  0.000 0.163      0.614    NaN  \n",
       "262800 0.716  0.000 0.161      0.619    NaN  \n",
       "\n",
       "[262800 rows x 15 columns]"
      ]
     },
     "execution_count": 107,
     "metadata": {},
     "output_type": "execute_result"
    }
   ],
   "source": [
    "# 계절별 구분\n",
    "def get_season(month):\n",
    "    if month in [12, 1, 2]:\n",
    "        return 'winter'\n",
    "    elif month in [3, 4, 5]:\n",
    "        return 'spring'\n",
    "    elif month in [6, 7, 8]:\n",
    "        return 'summer'\n",
    "    else:\n",
    "        return 'fall'\n",
    "\n",
    "df_test['season'] = df_test['month'].apply(get_season)\n",
    "\n",
    "# 정규화할 열 지정\n",
    "numeric_cols = ['ws10_deg', 'ws10_ms', 'ta', 'hm', 'sun10', 'ts', 'dew_point']\n",
    "\n",
    "# 계절별 정규화\n",
    "scalers = {}\n",
    "for season in df_test['season'].unique():\n",
    "    scaler = MinMaxScaler()\n",
    "    mask = df_test['season'] == season\n",
    "    df_test.loc[mask, numeric_cols] = scaler.fit_transform(df_test.loc[mask, numeric_cols])\n",
    "    scalers[season] = scaler\n",
    "\n",
    "# 'season' 열 제거\n",
    "df_test = df_test.drop(columns=['season'])\n",
    "\n",
    "# 열의 순서 재정렬\n",
    "new_columns = ['year', 'month', 'day', 'time', 'minute', 'stn_id', 'ws10_deg', 'ws10_ms', 'ta', 're', 'hm', 'sun10',\n",
    "               'ts', 'dew_point','class']\n",
    "\n",
    "# 결과 출력\n",
    "df_test = df_test.reindex(columns=new_columns)\n",
    "df_test"
   ]
  },
  {
   "cell_type": "markdown",
   "id": "lKkV_AQLtq5_",
   "metadata": {
    "id": "lKkV_AQLtq5_"
   },
   "source": [
    "#XGC(시간 있는 버전~)"
   ]
  },
  {
   "cell_type": "code",
   "execution_count": 108,
   "id": "oIKYzorhtq6A",
   "metadata": {
    "executionInfo": {
     "elapsed": 919,
     "status": "ok",
     "timestamp": 1719242978338,
     "user": {
      "displayName": "Jiwon An",
      "userId": "04526331186835263330"
     },
     "user_tz": -540
    },
    "id": "oIKYzorhtq6A"
   },
   "outputs": [],
   "source": [
    "# 데이터프레임에서 특성과 레이블 분리\n",
    "X_test = df_test.drop(['day', 'minute', 'stn_id', 'class'], axis=1)"
   ]
  },
  {
   "cell_type": "code",
   "execution_count": 109,
   "id": "U9EF3U6V1FZN",
   "metadata": {
    "executionInfo": {
     "elapsed": 3,
     "status": "ok",
     "timestamp": 1719242434646,
     "user": {
      "displayName": "Jiwon An",
      "userId": "04526331186835263330"
     },
     "user_tz": -540
    },
    "id": "U9EF3U6V1FZN"
   },
   "outputs": [],
   "source": [
    "# XGBoost 모델을 사용하여 'class' 예측\n",
    "xgb_model = xgb.XGBClassifier(objective='multi:softmax', num_class=4)"
   ]
  },
  {
   "cell_type": "code",
   "execution_count": 110,
   "id": "oo-Fr8KTtq6A",
   "metadata": {
    "colab": {
     "base_uri": "https://localhost:8080/",
     "height": 248
    },
    "executionInfo": {
     "elapsed": 3547,
     "status": "ok",
     "timestamp": 1719242569482,
     "user": {
      "displayName": "Jiwon An",
      "userId": "04526331186835263330"
     },
     "user_tz": -540
    },
    "id": "oo-Fr8KTtq6A",
    "outputId": "544e6ede-dc9a-4980-c51e-91c64e09998b"
   },
   "outputs": [
    {
     "name": "stdout",
     "output_type": "stream",
     "text": [
      "[01:15:19] WARNING: C:\\Users\\dev-admin\\croot\\xgboost-split_1675120659361\\work\\src\\learner.cc:1115: Starting in XGBoost 1.3.0, the default evaluation metric used with the objective 'multi:softprob' was changed from 'merror' to 'mlogloss'. Explicitly set eval_metric if you'd like to restore the old behavior.\n"
     ]
    },
    {
     "data": {
      "text/plain": [
       "XGBClassifier(base_score=0.5, booster='gbtree', colsample_bylevel=1,\n",
       "              colsample_bynode=1, colsample_bytree=1, enable_categorical=False,\n",
       "              gamma=0, gpu_id=-1, importance_type=None,\n",
       "              interaction_constraints='', learning_rate=0.300000012,\n",
       "              max_delta_step=0, max_depth=6, min_child_weight=1, missing=nan,\n",
       "              monotone_constraints='()', n_estimators=100, n_jobs=24,\n",
       "              num_class=4, num_parallel_tree=1, objective='multi:softprob',\n",
       "              predictor='auto', random_state=0, reg_alpha=0, reg_lambda=1,\n",
       "              scale_pos_weight=None, subsample=1, tree_method='exact',\n",
       "              validate_parameters=1, verbosity=None)"
      ]
     },
     "execution_count": 110,
     "metadata": {},
     "output_type": "execute_result"
    }
   ],
   "source": [
    "xgb_model.fit(X_train, y_train)"
   ]
  },
  {
   "cell_type": "code",
   "execution_count": 111,
   "id": "1r8lwNzoyOJi",
   "metadata": {
    "executionInfo": {
     "elapsed": 5,
     "status": "ok",
     "timestamp": 1719242988033,
     "user": {
      "displayName": "Jiwon An",
      "userId": "04526331186835263330"
     },
     "user_tz": -540
    },
    "id": "1r8lwNzoyOJi"
   },
   "outputs": [],
   "source": [
    "y_pred_test = xgb_model.predict(X_test)"
   ]
  },
  {
   "cell_type": "code",
   "execution_count": 112,
   "id": "vIOXhMNM1N0E",
   "metadata": {
    "executionInfo": {
     "elapsed": 569,
     "status": "ok",
     "timestamp": 1719243000625,
     "user": {
      "displayName": "Jiwon An",
      "userId": "04526331186835263330"
     },
     "user_tz": -540
    },
    "id": "vIOXhMNM1N0E"
   },
   "outputs": [],
   "source": [
    "# 예측값을 기존 형태로 변환 (예시에서는 예측된 값에 1을 더할 필요가 있을 수 있음)\n",
    "df_test['class'] = y_pred_test + 1"
   ]
  },
  {
   "cell_type": "code",
   "execution_count": 113,
   "id": "lytY9Cg1tq6B",
   "metadata": {
    "colab": {
     "base_uri": "https://localhost:8080/",
     "height": 226
    },
    "executionInfo": {
     "elapsed": 582,
     "status": "ok",
     "timestamp": 1719243007006,
     "user": {
      "displayName": "Jiwon An",
      "userId": "04526331186835263330"
     },
     "user_tz": -540
    },
    "id": "lytY9Cg1tq6B",
    "outputId": "0112dbd4-d2c2-49d2-df22-bcf1a3ac681c"
   },
   "outputs": [
    {
     "data": {
      "text/html": [
       "<div>\n",
       "<style scoped>\n",
       "    .dataframe tbody tr th:only-of-type {\n",
       "        vertical-align: middle;\n",
       "    }\n",
       "\n",
       "    .dataframe tbody tr th {\n",
       "        vertical-align: top;\n",
       "    }\n",
       "\n",
       "    .dataframe thead th {\n",
       "        text-align: right;\n",
       "    }\n",
       "</style>\n",
       "<table border=\"1\" class=\"dataframe\">\n",
       "  <thead>\n",
       "    <tr style=\"text-align: right;\">\n",
       "      <th></th>\n",
       "      <th>year</th>\n",
       "      <th>month</th>\n",
       "      <th>day</th>\n",
       "      <th>time</th>\n",
       "      <th>minute</th>\n",
       "      <th>stn_id</th>\n",
       "      <th>ws10_deg</th>\n",
       "      <th>ws10_ms</th>\n",
       "      <th>ta</th>\n",
       "      <th>re</th>\n",
       "      <th>hm</th>\n",
       "      <th>sun10</th>\n",
       "      <th>ts</th>\n",
       "      <th>dew_point</th>\n",
       "      <th>class</th>\n",
       "    </tr>\n",
       "  </thead>\n",
       "  <tbody>\n",
       "    <tr>\n",
       "      <th>1</th>\n",
       "      <td>3</td>\n",
       "      <td>1</td>\n",
       "      <td>1</td>\n",
       "      <td>0</td>\n",
       "      <td>0</td>\n",
       "      <td>0</td>\n",
       "      <td>0.916</td>\n",
       "      <td>0.079</td>\n",
       "      <td>0.398</td>\n",
       "      <td>0.000</td>\n",
       "      <td>0.867</td>\n",
       "      <td>0.000</td>\n",
       "      <td>0.085</td>\n",
       "      <td>0.529</td>\n",
       "      <td>4</td>\n",
       "    </tr>\n",
       "    <tr>\n",
       "      <th>2</th>\n",
       "      <td>3</td>\n",
       "      <td>1</td>\n",
       "      <td>1</td>\n",
       "      <td>0</td>\n",
       "      <td>10</td>\n",
       "      <td>0</td>\n",
       "      <td>0.894</td>\n",
       "      <td>0.158</td>\n",
       "      <td>0.398</td>\n",
       "      <td>0.000</td>\n",
       "      <td>0.875</td>\n",
       "      <td>0.000</td>\n",
       "      <td>0.085</td>\n",
       "      <td>0.532</td>\n",
       "      <td>4</td>\n",
       "    </tr>\n",
       "    <tr>\n",
       "      <th>3</th>\n",
       "      <td>3</td>\n",
       "      <td>1</td>\n",
       "      <td>1</td>\n",
       "      <td>0</td>\n",
       "      <td>20</td>\n",
       "      <td>0</td>\n",
       "      <td>0.001</td>\n",
       "      <td>0.053</td>\n",
       "      <td>0.398</td>\n",
       "      <td>0.000</td>\n",
       "      <td>0.879</td>\n",
       "      <td>0.000</td>\n",
       "      <td>0.083</td>\n",
       "      <td>0.534</td>\n",
       "      <td>4</td>\n",
       "    </tr>\n",
       "    <tr>\n",
       "      <th>4</th>\n",
       "      <td>3</td>\n",
       "      <td>1</td>\n",
       "      <td>1</td>\n",
       "      <td>0</td>\n",
       "      <td>30</td>\n",
       "      <td>0</td>\n",
       "      <td>0.899</td>\n",
       "      <td>0.092</td>\n",
       "      <td>0.395</td>\n",
       "      <td>0.000</td>\n",
       "      <td>0.880</td>\n",
       "      <td>0.000</td>\n",
       "      <td>0.085</td>\n",
       "      <td>0.532</td>\n",
       "      <td>4</td>\n",
       "    </tr>\n",
       "    <tr>\n",
       "      <th>5</th>\n",
       "      <td>3</td>\n",
       "      <td>1</td>\n",
       "      <td>1</td>\n",
       "      <td>0</td>\n",
       "      <td>40</td>\n",
       "      <td>0</td>\n",
       "      <td>0.579</td>\n",
       "      <td>0.026</td>\n",
       "      <td>0.395</td>\n",
       "      <td>0.000</td>\n",
       "      <td>0.883</td>\n",
       "      <td>0.000</td>\n",
       "      <td>0.085</td>\n",
       "      <td>0.533</td>\n",
       "      <td>4</td>\n",
       "    </tr>\n",
       "  </tbody>\n",
       "</table>\n",
       "</div>"
      ],
      "text/plain": [
       "   year  month  day  time  minute  stn_id  ws10_deg  ws10_ms    ta    re  \\\n",
       "1     3      1    1     0       0       0     0.916    0.079 0.398 0.000   \n",
       "2     3      1    1     0      10       0     0.894    0.158 0.398 0.000   \n",
       "3     3      1    1     0      20       0     0.001    0.053 0.398 0.000   \n",
       "4     3      1    1     0      30       0     0.899    0.092 0.395 0.000   \n",
       "5     3      1    1     0      40       0     0.579    0.026 0.395 0.000   \n",
       "\n",
       "     hm  sun10    ts  dew_point  class  \n",
       "1 0.867  0.000 0.085      0.529      4  \n",
       "2 0.875  0.000 0.085      0.532      4  \n",
       "3 0.879  0.000 0.083      0.534      4  \n",
       "4 0.880  0.000 0.085      0.532      4  \n",
       "5 0.883  0.000 0.085      0.533      4  "
      ]
     },
     "execution_count": 113,
     "metadata": {},
     "output_type": "execute_result"
    }
   ],
   "source": [
    "# 최종 데이터프레임 확인\n",
    "df_test.head()"
   ]
  },
  {
   "cell_type": "code",
   "execution_count": 114,
   "id": "VJedD9XB1SoH",
   "metadata": {
    "colab": {
     "base_uri": "https://localhost:8080/"
    },
    "executionInfo": {
     "elapsed": 604,
     "status": "ok",
     "timestamp": 1719243028650,
     "user": {
      "displayName": "Jiwon An",
      "userId": "04526331186835263330"
     },
     "user_tz": -540
    },
    "id": "VJedD9XB1SoH",
    "outputId": "7ad8e389-6aef-45cc-9505-8e1bf8f4a4c2"
   },
   "outputs": [
    {
     "data": {
      "text/plain": [
       " 4     262617\n",
       " 2        114\n",
       "-99        68\n",
       " 3          1\n",
       "Name: class, dtype: int64"
      ]
     },
     "execution_count": 114,
     "metadata": {},
     "output_type": "execute_result"
    }
   ],
   "source": [
    "df_test['class'].value_counts()"
   ]
  },
  {
   "cell_type": "code",
   "execution_count": 116,
   "id": "765f05cf",
   "metadata": {},
   "outputs": [
    {
     "name": "stdout",
     "output_type": "stream",
     "text": [
      "Contains -99.9: True\n"
     ]
    }
   ],
   "source": [
    "contains_negative_99_9 = (df_test == -99).any().any()\n",
    "print(f\"Contains -99.9: {contains_negative_99_9}\")"
   ]
  }
 ],
 "metadata": {
  "accelerator": "GPU",
  "colab": {
   "gpuType": "A100",
   "machine_shape": "hm",
   "provenance": []
  },
  "kernelspec": {
   "display_name": "mee",
   "language": "python",
   "name": "mee"
  },
  "language_info": {
   "codemirror_mode": {
    "name": "ipython",
    "version": 3
   },
   "file_extension": ".py",
   "mimetype": "text/x-python",
   "name": "python",
   "nbconvert_exporter": "python",
   "pygments_lexer": "ipython3",
   "version": "3.7.16"
  }
 },
 "nbformat": 4,
 "nbformat_minor": 5
}
