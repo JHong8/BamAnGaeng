{
 "cells": [
  {
   "cell_type": "markdown",
   "metadata": {},
   "source": [
    "* 개선을 위한 방법\n",
    "1. 마지막엔 test을 나누지말고 그냥 전부 train 시켜버린다\n",
    "2. 쓸데 없는 열을 버려본다?\n",
    "3. 앙상블 모델을 써볼까?"
   ]
  },
  {
   "cell_type": "code",
   "execution_count": null,
   "metadata": {},
   "outputs": [],
   "source": [
    "import pandas as pd\n",
    "import numpy as np\n",
    "import joblib\n",
    "\n",
    "# 데스크탑\n",
    "df = pd.read_csv(\"C:\\\\Users\\\\Hong_PC\\\\Desktop\\\\기상청 날씨 빅데이터 공모전\\\\과제2\\\\fog_train.csv\")\n",
    "\n",
    "# 노트북\n"
   ]
  },
  {
   "cell_type": "code",
   "execution_count": 2,
   "metadata": {},
   "outputs": [],
   "source": [
    "# 1열 제거\n",
    "df = df.drop(columns=[df.columns[0]])\n",
    "# 열 이름의 . 앞에 단어 제거\n",
    "df.columns = [col.split('.')[-1] if '.' in col else col for col in df.columns]"
   ]
  },
  {
   "cell_type": "code",
   "execution_count": 3,
   "metadata": {},
   "outputs": [
    {
     "data": {
      "text/html": [
       "<div>\n",
       "<style scoped>\n",
       "    .dataframe tbody tr th:only-of-type {\n",
       "        vertical-align: middle;\n",
       "    }\n",
       "\n",
       "    .dataframe tbody tr th {\n",
       "        vertical-align: top;\n",
       "    }\n",
       "\n",
       "    .dataframe thead th {\n",
       "        text-align: right;\n",
       "    }\n",
       "</style>\n",
       "<table border=\"1\" class=\"dataframe\">\n",
       "  <thead>\n",
       "    <tr style=\"text-align: right;\">\n",
       "      <th></th>\n",
       "      <th>year</th>\n",
       "      <th>month</th>\n",
       "      <th>day</th>\n",
       "      <th>time</th>\n",
       "      <th>minute</th>\n",
       "      <th>stn_id</th>\n",
       "      <th>ws10_deg</th>\n",
       "      <th>ws10_ms</th>\n",
       "      <th>ta</th>\n",
       "      <th>re</th>\n",
       "      <th>hm</th>\n",
       "      <th>sun10</th>\n",
       "      <th>ts</th>\n",
       "      <th>vis1</th>\n",
       "      <th>class</th>\n",
       "    </tr>\n",
       "  </thead>\n",
       "  <tbody>\n",
       "    <tr>\n",
       "      <th>0</th>\n",
       "      <td>I</td>\n",
       "      <td>1</td>\n",
       "      <td>1</td>\n",
       "      <td>0</td>\n",
       "      <td>10</td>\n",
       "      <td>AA</td>\n",
       "      <td>0.0</td>\n",
       "      <td>0.0</td>\n",
       "      <td>-6.4</td>\n",
       "      <td>0.0</td>\n",
       "      <td>38.9</td>\n",
       "      <td>0.0</td>\n",
       "      <td>-2.8</td>\n",
       "      <td>20000</td>\n",
       "      <td>4</td>\n",
       "    </tr>\n",
       "    <tr>\n",
       "      <th>1</th>\n",
       "      <td>I</td>\n",
       "      <td>1</td>\n",
       "      <td>1</td>\n",
       "      <td>0</td>\n",
       "      <td>20</td>\n",
       "      <td>AA</td>\n",
       "      <td>0.0</td>\n",
       "      <td>0.0</td>\n",
       "      <td>-6.3</td>\n",
       "      <td>0.0</td>\n",
       "      <td>37.9</td>\n",
       "      <td>0.0</td>\n",
       "      <td>-2.7</td>\n",
       "      <td>20000</td>\n",
       "      <td>4</td>\n",
       "    </tr>\n",
       "    <tr>\n",
       "      <th>2</th>\n",
       "      <td>I</td>\n",
       "      <td>1</td>\n",
       "      <td>1</td>\n",
       "      <td>0</td>\n",
       "      <td>30</td>\n",
       "      <td>AA</td>\n",
       "      <td>0.0</td>\n",
       "      <td>0.0</td>\n",
       "      <td>-6.3</td>\n",
       "      <td>0.0</td>\n",
       "      <td>40.0</td>\n",
       "      <td>0.0</td>\n",
       "      <td>-2.6</td>\n",
       "      <td>20000</td>\n",
       "      <td>4</td>\n",
       "    </tr>\n",
       "    <tr>\n",
       "      <th>3</th>\n",
       "      <td>I</td>\n",
       "      <td>1</td>\n",
       "      <td>1</td>\n",
       "      <td>0</td>\n",
       "      <td>40</td>\n",
       "      <td>AA</td>\n",
       "      <td>27.8</td>\n",
       "      <td>0.4</td>\n",
       "      <td>-6.2</td>\n",
       "      <td>0.0</td>\n",
       "      <td>39.5</td>\n",
       "      <td>0.0</td>\n",
       "      <td>-2.6</td>\n",
       "      <td>20000</td>\n",
       "      <td>4</td>\n",
       "    </tr>\n",
       "    <tr>\n",
       "      <th>4</th>\n",
       "      <td>I</td>\n",
       "      <td>1</td>\n",
       "      <td>1</td>\n",
       "      <td>0</td>\n",
       "      <td>50</td>\n",
       "      <td>AA</td>\n",
       "      <td>59.7</td>\n",
       "      <td>0.5</td>\n",
       "      <td>-6.1</td>\n",
       "      <td>0.0</td>\n",
       "      <td>39.8</td>\n",
       "      <td>0.0</td>\n",
       "      <td>-2.5</td>\n",
       "      <td>20000</td>\n",
       "      <td>4</td>\n",
       "    </tr>\n",
       "  </tbody>\n",
       "</table>\n",
       "</div>"
      ],
      "text/plain": [
       "  year  month  day  time  minute stn_id  ws10_deg  ws10_ms   ta   re    hm  \\\n",
       "0    I      1    1     0      10     AA       0.0      0.0 -6.4  0.0  38.9   \n",
       "1    I      1    1     0      20     AA       0.0      0.0 -6.3  0.0  37.9   \n",
       "2    I      1    1     0      30     AA       0.0      0.0 -6.3  0.0  40.0   \n",
       "3    I      1    1     0      40     AA      27.8      0.4 -6.2  0.0  39.5   \n",
       "4    I      1    1     0      50     AA      59.7      0.5 -6.1  0.0  39.8   \n",
       "\n",
       "   sun10   ts   vis1  class  \n",
       "0    0.0 -2.8  20000      4  \n",
       "1    0.0 -2.7  20000      4  \n",
       "2    0.0 -2.6  20000      4  \n",
       "3    0.0 -2.6  20000      4  \n",
       "4    0.0 -2.5  20000      4  "
      ]
     },
     "execution_count": 3,
     "metadata": {},
     "output_type": "execute_result"
    }
   ],
   "source": [
    "df.head()"
   ]
  },
  {
   "cell_type": "code",
   "execution_count": 4,
   "metadata": {},
   "outputs": [
    {
     "name": "stdout",
     "output_type": "stream",
     "text": [
      "<class 'pandas.core.frame.DataFrame'>\n",
      "RangeIndex: 3156459 entries, 0 to 3156458\n",
      "Data columns (total 15 columns):\n",
      " #   Column    Dtype  \n",
      "---  ------    -----  \n",
      " 0   year      object \n",
      " 1   month     int64  \n",
      " 2   day       int64  \n",
      " 3   time      int64  \n",
      " 4   minute    int64  \n",
      " 5   stn_id    object \n",
      " 6   ws10_deg  float64\n",
      " 7   ws10_ms   float64\n",
      " 8   ta        float64\n",
      " 9   re        float64\n",
      " 10  hm        float64\n",
      " 11  sun10     float64\n",
      " 12  ts        float64\n",
      " 13  vis1      int64  \n",
      " 14  class     int64  \n",
      "dtypes: float64(7), int64(6), object(2)\n",
      "memory usage: 361.2+ MB\n"
     ]
    }
   ],
   "source": [
    "df.info()"
   ]
  },
  {
   "cell_type": "code",
   "execution_count": 5,
   "metadata": {},
   "outputs": [
    {
     "data": {
      "text/html": [
       "<div>\n",
       "<style scoped>\n",
       "    .dataframe tbody tr th:only-of-type {\n",
       "        vertical-align: middle;\n",
       "    }\n",
       "\n",
       "    .dataframe tbody tr th {\n",
       "        vertical-align: top;\n",
       "    }\n",
       "\n",
       "    .dataframe thead th {\n",
       "        text-align: right;\n",
       "    }\n",
       "</style>\n",
       "<table border=\"1\" class=\"dataframe\">\n",
       "  <thead>\n",
       "    <tr style=\"text-align: right;\">\n",
       "      <th></th>\n",
       "      <th>month</th>\n",
       "      <th>day</th>\n",
       "      <th>time</th>\n",
       "      <th>minute</th>\n",
       "      <th>ws10_deg</th>\n",
       "      <th>ws10_ms</th>\n",
       "      <th>ta</th>\n",
       "      <th>re</th>\n",
       "      <th>hm</th>\n",
       "      <th>sun10</th>\n",
       "      <th>ts</th>\n",
       "      <th>vis1</th>\n",
       "      <th>class</th>\n",
       "    </tr>\n",
       "  </thead>\n",
       "  <tbody>\n",
       "    <tr>\n",
       "      <th>count</th>\n",
       "      <td>3.156459e+06</td>\n",
       "      <td>3.156459e+06</td>\n",
       "      <td>3.156459e+06</td>\n",
       "      <td>3.156459e+06</td>\n",
       "      <td>3.156459e+06</td>\n",
       "      <td>3.156459e+06</td>\n",
       "      <td>3.156459e+06</td>\n",
       "      <td>3.156459e+06</td>\n",
       "      <td>3.156459e+06</td>\n",
       "      <td>3.156459e+06</td>\n",
       "      <td>3.156459e+06</td>\n",
       "      <td>3.156459e+06</td>\n",
       "      <td>3.156459e+06</td>\n",
       "    </tr>\n",
       "    <tr>\n",
       "      <th>mean</th>\n",
       "      <td>6.521931e+00</td>\n",
       "      <td>1.573276e+01</td>\n",
       "      <td>1.150007e+01</td>\n",
       "      <td>2.500016e+01</td>\n",
       "      <td>1.852152e+02</td>\n",
       "      <td>1.999417e+00</td>\n",
       "      <td>1.328812e+01</td>\n",
       "      <td>-4.298995e-01</td>\n",
       "      <td>6.667729e+01</td>\n",
       "      <td>-1.288869e+00</td>\n",
       "      <td>1.282955e+01</td>\n",
       "      <td>1.963548e+04</td>\n",
       "      <td>3.246275e+00</td>\n",
       "    </tr>\n",
       "    <tr>\n",
       "      <th>std</th>\n",
       "      <td>3.448969e+00</td>\n",
       "      <td>8.801320e+00</td>\n",
       "      <td>6.922149e+00</td>\n",
       "      <td>1.707819e+01</td>\n",
       "      <td>1.072184e+02</td>\n",
       "      <td>4.721616e+00</td>\n",
       "      <td>1.100537e+01</td>\n",
       "      <td>6.929268e+00</td>\n",
       "      <td>2.173623e+01</td>\n",
       "      <td>1.171355e+01</td>\n",
       "      <td>2.257327e+01</td>\n",
       "      <td>1.206407e+04</td>\n",
       "      <td>8.668957e+00</td>\n",
       "    </tr>\n",
       "    <tr>\n",
       "      <th>min</th>\n",
       "      <td>1.000000e+00</td>\n",
       "      <td>1.000000e+00</td>\n",
       "      <td>0.000000e+00</td>\n",
       "      <td>0.000000e+00</td>\n",
       "      <td>-9.990000e+01</td>\n",
       "      <td>-9.990000e+01</td>\n",
       "      <td>-9.990000e+01</td>\n",
       "      <td>-9.990000e+01</td>\n",
       "      <td>-9.990000e+01</td>\n",
       "      <td>-9.990000e+01</td>\n",
       "      <td>-9.990000e+01</td>\n",
       "      <td>-9.900000e+01</td>\n",
       "      <td>-9.900000e+01</td>\n",
       "    </tr>\n",
       "    <tr>\n",
       "      <th>25%</th>\n",
       "      <td>4.000000e+00</td>\n",
       "      <td>8.000000e+00</td>\n",
       "      <td>6.000000e+00</td>\n",
       "      <td>1.000000e+01</td>\n",
       "      <td>8.470000e+01</td>\n",
       "      <td>9.000000e-01</td>\n",
       "      <td>5.500000e+00</td>\n",
       "      <td>0.000000e+00</td>\n",
       "      <td>5.130000e+01</td>\n",
       "      <td>0.000000e+00</td>\n",
       "      <td>5.100000e+00</td>\n",
       "      <td>1.229700e+04</td>\n",
       "      <td>4.000000e+00</td>\n",
       "    </tr>\n",
       "    <tr>\n",
       "      <th>50%</th>\n",
       "      <td>7.000000e+00</td>\n",
       "      <td>1.600000e+01</td>\n",
       "      <td>1.200000e+01</td>\n",
       "      <td>3.000000e+01</td>\n",
       "      <td>2.094000e+02</td>\n",
       "      <td>1.800000e+00</td>\n",
       "      <td>1.430000e+01</td>\n",
       "      <td>0.000000e+00</td>\n",
       "      <td>6.870000e+01</td>\n",
       "      <td>0.000000e+00</td>\n",
       "      <td>1.570000e+01</td>\n",
       "      <td>2.000000e+04</td>\n",
       "      <td>4.000000e+00</td>\n",
       "    </tr>\n",
       "    <tr>\n",
       "      <th>75%</th>\n",
       "      <td>1.000000e+01</td>\n",
       "      <td>2.300000e+01</td>\n",
       "      <td>1.800000e+01</td>\n",
       "      <td>4.000000e+01</td>\n",
       "      <td>2.769000e+02</td>\n",
       "      <td>3.000000e+00</td>\n",
       "      <td>2.200000e+01</td>\n",
       "      <td>0.000000e+00</td>\n",
       "      <td>8.470000e+01</td>\n",
       "      <td>1.600000e-01</td>\n",
       "      <td>2.430000e+01</td>\n",
       "      <td>2.000000e+04</td>\n",
       "      <td>4.000000e+00</td>\n",
       "    </tr>\n",
       "    <tr>\n",
       "      <th>max</th>\n",
       "      <td>1.200000e+01</td>\n",
       "      <td>3.100000e+01</td>\n",
       "      <td>2.300000e+01</td>\n",
       "      <td>5.000000e+01</td>\n",
       "      <td>3.600000e+02</td>\n",
       "      <td>2.250000e+01</td>\n",
       "      <td>3.780000e+01</td>\n",
       "      <td>1.000000e+00</td>\n",
       "      <td>1.000000e+02</td>\n",
       "      <td>2.687000e+01</td>\n",
       "      <td>7.010000e+01</td>\n",
       "      <td>6.052500e+04</td>\n",
       "      <td>4.000000e+00</td>\n",
       "    </tr>\n",
       "  </tbody>\n",
       "</table>\n",
       "</div>"
      ],
      "text/plain": [
       "              month           day          time        minute      ws10_deg  \\\n",
       "count  3.156459e+06  3.156459e+06  3.156459e+06  3.156459e+06  3.156459e+06   \n",
       "mean   6.521931e+00  1.573276e+01  1.150007e+01  2.500016e+01  1.852152e+02   \n",
       "std    3.448969e+00  8.801320e+00  6.922149e+00  1.707819e+01  1.072184e+02   \n",
       "min    1.000000e+00  1.000000e+00  0.000000e+00  0.000000e+00 -9.990000e+01   \n",
       "25%    4.000000e+00  8.000000e+00  6.000000e+00  1.000000e+01  8.470000e+01   \n",
       "50%    7.000000e+00  1.600000e+01  1.200000e+01  3.000000e+01  2.094000e+02   \n",
       "75%    1.000000e+01  2.300000e+01  1.800000e+01  4.000000e+01  2.769000e+02   \n",
       "max    1.200000e+01  3.100000e+01  2.300000e+01  5.000000e+01  3.600000e+02   \n",
       "\n",
       "            ws10_ms            ta            re            hm         sun10  \\\n",
       "count  3.156459e+06  3.156459e+06  3.156459e+06  3.156459e+06  3.156459e+06   \n",
       "mean   1.999417e+00  1.328812e+01 -4.298995e-01  6.667729e+01 -1.288869e+00   \n",
       "std    4.721616e+00  1.100537e+01  6.929268e+00  2.173623e+01  1.171355e+01   \n",
       "min   -9.990000e+01 -9.990000e+01 -9.990000e+01 -9.990000e+01 -9.990000e+01   \n",
       "25%    9.000000e-01  5.500000e+00  0.000000e+00  5.130000e+01  0.000000e+00   \n",
       "50%    1.800000e+00  1.430000e+01  0.000000e+00  6.870000e+01  0.000000e+00   \n",
       "75%    3.000000e+00  2.200000e+01  0.000000e+00  8.470000e+01  1.600000e-01   \n",
       "max    2.250000e+01  3.780000e+01  1.000000e+00  1.000000e+02  2.687000e+01   \n",
       "\n",
       "                 ts          vis1         class  \n",
       "count  3.156459e+06  3.156459e+06  3.156459e+06  \n",
       "mean   1.282955e+01  1.963548e+04  3.246275e+00  \n",
       "std    2.257327e+01  1.206407e+04  8.668957e+00  \n",
       "min   -9.990000e+01 -9.900000e+01 -9.900000e+01  \n",
       "25%    5.100000e+00  1.229700e+04  4.000000e+00  \n",
       "50%    1.570000e+01  2.000000e+04  4.000000e+00  \n",
       "75%    2.430000e+01  2.000000e+04  4.000000e+00  \n",
       "max    7.010000e+01  6.052500e+04  4.000000e+00  "
      ]
     },
     "execution_count": 5,
     "metadata": {},
     "output_type": "execute_result"
    }
   ],
   "source": [
    "df.describe()"
   ]
  },
  {
   "cell_type": "code",
   "execution_count": 6,
   "metadata": {},
   "outputs": [
    {
     "data": {
      "text/plain": [
       "Index(['year', 'month', 'day', 'time', 'minute', 'stn_id', 'ws10_deg',\n",
       "       'ws10_ms', 'ta', 're', 'hm', 'sun10', 'ts', 'vis1', 'class'],\n",
       "      dtype='object')"
      ]
     },
     "execution_count": 6,
     "metadata": {},
     "output_type": "execute_result"
    }
   ],
   "source": [
    "df.columns"
   ]
  },
  {
   "cell_type": "code",
   "execution_count": 7,
   "metadata": {},
   "outputs": [],
   "source": [
    "# # 시간\n",
    "# df['year'].value_counts() # 년도\n",
    "# df['month'].value_counts() # 월\n",
    "# df['day'].value_counts() # 일\n",
    "# df['time'].value_counts() # 시간(0~23)\n",
    "# df['minute'].value_counts() # 분(10분 단위)\n",
    "# df['stn_id'].value_counts() # 지점 번호\n",
    "\n",
    "# -99 있음\n",
    "# df['ws10_deg'].value_counts() # 10분 평균 풍향, 단위 : deg\n",
    "# df['ws10_ms'].value_counts() # 10분 평균 풍속, 단위 : m/s\n",
    "# df['ta'].value_counts() # 1분 평균 기온 10분 주기, 단위 : C\n",
    "# df['re'].value_counts() # 강수 유무(0:무강수, 1:강수)\n",
    "# df['hm'].value_counts() # 1분 평균 상대 습도 10분 주기, 단위 : %\n",
    "# df['sun10'].value_counts() # 1분 일사량 10분 단위 합계, 단위 : MJ\n",
    "# df['ts'].value_counts() # 1분 평균 지면온도 10분 주기, 단위 : C\n",
    "# df['vis1'].value_counts() # 1분 평균 시정 10분 주기, 단위 : C(test데이터 셋엔 없음)\n",
    "# df['class'].value_counts() # 시정 구간"
   ]
  },
  {
   "cell_type": "code",
   "execution_count": 8,
   "metadata": {},
   "outputs": [
    {
     "name": "stdout",
     "output_type": "stream",
     "text": [
      "(3156459, 15)\n",
      "(3133943, 15)\n"
     ]
    }
   ],
   "source": [
    "# 'fog_train.vis1'이나 'fog_train.class' 열의 값이 -99.9인 행을 제거합니다.(315만개중에 2만개 손실)\n",
    "# df1은 \n",
    "df1 = df[(df['vis1'] != -99) & (df['class'] != -99)]\n",
    "print(df.shape)\n",
    "print(df1.shape)"
   ]
  },
  {
   "cell_type": "code",
   "execution_count": 9,
   "metadata": {},
   "outputs": [
    {
     "name": "stdout",
     "output_type": "stream",
     "text": [
      "(32134, 15)\n",
      "(3101809, 15)\n"
     ]
    }
   ],
   "source": [
    "# 데이터 비율 (0.01%, 1:99)\n",
    "print(df1[(df1['class']!=4)].shape)\n",
    "print(df1[(df1['class']==4)].shape)"
   ]
  },
  {
   "cell_type": "code",
   "execution_count": 10,
   "metadata": {},
   "outputs": [
    {
     "name": "stdout",
     "output_type": "stream",
     "text": [
      "(2994850, 15)\n"
     ]
    }
   ],
   "source": [
    "# 방법1 : -99.9를 전부 제거\n",
    "# -99.9를 다 날렸을 때 (315만개중에 15만개로 손실)\n",
    "df1 = df1[(df1['ws10_deg'] != -99.9) & (df1['ws10_ms'] != -99.9) & (df1['ta'] != -99.9) & (df1['re'] != -99.9) & (df1['hm'] != -99.9) & (df1['sun10'] != -99.9) & (df1['ts'] != -99.9)]\n",
    "print(df1.shape)\n",
    "# (2994850, 15)\n",
    "\n",
    "# 확인용\n",
    "# # -99.9를 다 날렸을 때 (13만개 손실, 그중 413개만이 class가 4가 아님, 0.0002%라 그냥 버려도 될듯)\n",
    "# df10 = df1.copy()\n",
    "# df12 = df10[(df10['ws10_deg'] == -99.9) | (df10['ws10_ms'] == -99.9) | (df10['ta'] == -99.9) | (df10['re'] == -99.9) | (df10['hm'] == -99.9) | (df10['sun10'] == -99.9) | (df10['ts'] == -99.9)]\n",
    "# print(df12.shape)\n",
    "# print(df12[(df12['class']!=4)].shape)"
   ]
  },
  {
   "cell_type": "code",
   "execution_count": 11,
   "metadata": {},
   "outputs": [],
   "source": [
    "# # 방법2 : -99.9를 NA 처리후 선형보간법\n",
    "# # df1에서 변수들 -99 NA처리\n",
    "# # 변환할 열 리스트\n",
    "# numeric_cols = ['stn_id_5', 'ws10_deg', 'ws10_ms', 'ta', 're', 'hm', 'sun10', 'ts']\n",
    "\n",
    "# # -99.9 값을 NaN으로 변환\n",
    "# df1[numeric_cols] = df1[numeric_cols].replace(-99.9, np.nan)\n",
    "\n",
    "# # 변경된 데이터프레임을 출력하여 확인합니다.\n",
    "# print(df1.head())\n",
    "\n",
    "# # 선형보간법을 이용하여 NA값 처리\n",
    "# df1[numeric_cols] = df1[numeric_cols].interpolate(method='linear')\n",
    "# print(df1.isnull().sum())\n",
    "# print(\"Total missing values: \", df1.isnull().sum().sum())"
   ]
  },
  {
   "cell_type": "code",
   "execution_count": 12,
   "metadata": {},
   "outputs": [
    {
     "data": {
      "text/plain": [
       "EC    154264\n",
       "DB    154223\n",
       "AE    154164\n",
       "AC    154029\n",
       "EA    153924\n",
       "CB    153785\n",
       "EB    153309\n",
       "AF    153077\n",
       "DC    152831\n",
       "AH    151897\n",
       "AG    151371\n",
       "DA    151309\n",
       "AD    148005\n",
       "BC    147124\n",
       "AA    146638\n",
       "AB    146559\n",
       "BB    144207\n",
       "BA    143808\n",
       "BD    143586\n",
       "CA    136740\n",
       "Name: stn_id, dtype: int64"
      ]
     },
     "execution_count": 12,
     "metadata": {},
     "output_type": "execute_result"
    }
   ],
   "source": [
    "df1\n",
    "df1['class'].value_counts()\n",
    "df1['stn_id'].value_counts()"
   ]
  },
  {
   "cell_type": "code",
   "execution_count": 13,
   "metadata": {},
   "outputs": [],
   "source": [
    "# 새로운 열 'stn_id_5'를 만듭니다 (stn_id 열에서 첫 글자만 추출)\n",
    "df1['stn_id_5'] = df1['stn_id'].astype(str).str[0]"
   ]
  },
  {
   "cell_type": "code",
   "execution_count": 14,
   "metadata": {},
   "outputs": [],
   "source": [
    "df2 = df1.copy()\n",
    "df2 = df2.drop(['stn_id'], axis=1)\n",
    "\n",
    "from sklearn.preprocessing import LabelEncoder\n",
    "# 'stn_id_5' 열을 숫자로 변환\n",
    "label_encoder = LabelEncoder()\n",
    "df2['stn_id_5'] = label_encoder.fit_transform(df2['stn_id_5'])"
   ]
  },
  {
   "cell_type": "code",
   "execution_count": 15,
   "metadata": {},
   "outputs": [],
   "source": [
    "# 'year' 열을 숫자로 변환\n",
    "df2['year'] = label_encoder.fit_transform(df2['year'])\n",
    "\n",
    "# vis1 열 제거\n",
    "df2 = df2.drop(['vis1'], axis=1)"
   ]
  },
  {
   "cell_type": "code",
   "execution_count": 16,
   "metadata": {},
   "outputs": [
    {
     "name": "stdout",
     "output_type": "stream",
     "text": [
      "(2994850, 14)\n",
      "         year  month  day  time  minute  ws10_deg  ws10_ms   ta   re    hm  \\\n",
      "0           0      1    1     0      10       0.0      0.0 -6.4  0.0  38.9   \n",
      "1           0      1    1     0      20       0.0      0.0 -6.3  0.0  37.9   \n",
      "2           0      1    1     0      30       0.0      0.0 -6.3  0.0  40.0   \n",
      "3           0      1    1     0      40      27.8      0.4 -6.2  0.0  39.5   \n",
      "4           0      1    1     0      50      59.7      0.5 -6.1  0.0  39.8   \n",
      "...       ...    ...  ...   ...     ...       ...      ...  ...  ...   ...   \n",
      "3156449     2     12   31    22      20     321.9      4.9  2.3  0.0  49.2   \n",
      "3156450     2     12   31    22      30     317.2      5.4  2.3  0.0  49.6   \n",
      "3156451     2     12   31    22      40     313.8      5.5  2.3  0.0  50.0   \n",
      "3156452     2     12   31    22      50     306.9      6.2  2.3  0.0  50.2   \n",
      "3156453     2     12   31    23       0     304.1      6.6  2.4  0.0  50.3   \n",
      "\n",
      "         sun10   ts  class  stn_id_5  \n",
      "0          0.0 -2.8      4         0  \n",
      "1          0.0 -2.7      4         0  \n",
      "2          0.0 -2.6      4         0  \n",
      "3          0.0 -2.6      4         0  \n",
      "4          0.0 -2.5      4         0  \n",
      "...        ...  ...    ...       ...  \n",
      "3156449    0.0 -1.2      4         4  \n",
      "3156450    0.0 -1.1      4         4  \n",
      "3156451    0.0 -1.2      4         4  \n",
      "3156452    0.0 -1.2      4         4  \n",
      "3156453    0.0 -0.9      4         4  \n",
      "\n",
      "[2994845 rows x 14 columns]\n"
     ]
    }
   ],
   "source": [
    "print(df2.shape)\n",
    "print(df2.head(-5))"
   ]
  },
  {
   "cell_type": "markdown",
   "metadata": {},
   "source": [
    "### 클러스터로 살펴보기"
   ]
  },
  {
   "cell_type": "code",
   "execution_count": 25,
   "metadata": {},
   "outputs": [
    {
     "name": "stderr",
     "output_type": "stream",
     "text": [
      "c:\\Users\\Hong_PC\\anaconda3\\lib\\site-packages\\sklearn\\cluster\\_kmeans.py:1412: FutureWarning: The default value of `n_init` will change from 10 to 'auto' in 1.4. Set the value of `n_init` explicitly to suppress the warning\n",
      "  super()._check_params_vs_input(X, default_n_init=10)\n"
     ]
    },
    {
     "name": "stdout",
     "output_type": "stream",
     "text": [
      "1    892806\n",
      "2    663883\n",
      "0    649920\n",
      "4    629089\n",
      "3    159152\n",
      "Name: cluster, dtype: int64\n"
     ]
    }
   ],
   "source": [
    "# 지역 분류용 클러스터 적용(n=5)\n",
    "# 월 분류용 클러스터 적용(n=3)\n",
    "from sklearn.cluster import KMeans\n",
    "from sklearn.preprocessing import MinMaxScaler, LabelEncoder\n",
    "\n",
    "df2 = df1.copy()\n",
    "\n",
    "# 'stn_id' 열을 숫자로 변환\n",
    "label_encoder = LabelEncoder()\n",
    "df2['stn_id_5'] = label_encoder.fit_transform(df2['stn_id_5'])\n",
    "\n",
    "# 데이터 정규화\n",
    "numeric_cols = ['month', 'stn_id_5', 'ws10_deg', 'ws10_ms', 'ta', 're', 'hm', 'sun10', 'ts','vis1']\n",
    "scaler = MinMaxScaler()\n",
    "df_scaled = scaler.fit_transform(df2[ numeric_cols])\n",
    "\n",
    "# K-means 클러스터링 적용\n",
    "kmeans = KMeans(n_clusters=5, random_state=1)\n",
    "df2['cluster'] = kmeans.fit_predict(df_scaled)\n",
    "\n",
    "# 클러스터링 결과를 출력합니다.\n",
    "print(df2['cluster'].value_counts())"
   ]
  },
  {
   "cell_type": "code",
   "execution_count": 46,
   "metadata": {},
   "outputs": [
    {
     "name": "stdout",
     "output_type": "stream",
     "text": [
      "stn_id_5         0         1         2         3         4\n",
      "cluster                                                   \n",
      "0          71087.0   34135.0   15302.0   20067.0   22488.0\n",
      "1              0.0       0.0   46309.0  400458.0  448095.0\n",
      "2         346438.0  190944.0  109366.0   21560.0       0.0\n",
      "3         410660.0  210703.0   90436.0   27895.0       0.0\n",
      "4         422382.0  192229.0   53389.0       0.0       0.0\n"
     ]
    },
    {
     "data": {
      "image/png": "[encoded data removed]",
      "text/plain": [
       "<Figure size 1500x1500 with 6 Axes>"
      ]
     },
     "metadata": {},
     "output_type": "display_data"
    }
   ],
   "source": [
    "# 각 클러스터별로 stn_id의 개수를 계산합니다.\n",
    "cluster_stn_counts = df2.groupby('cluster')['stn_id_5'].value_counts().unstack().fillna(0)\n",
    "\n",
    "# 클러스터별 stn_id 개수 출력\n",
    "print(cluster_stn_counts)\n",
    "\n",
    "# 그래프 그리기\n",
    "import matplotlib.pyplot as plt\n",
    "\n",
    "fig, axes = plt.subplots(3, 2, figsize=(15, 15), sharey=True)\n",
    "\n",
    "for i, ax in enumerate(axes.flatten()[:5]):\n",
    "    if i in cluster_stn_counts.index:\n",
    "        cluster_stn_counts.loc[i].plot(kind='bar', ax=ax)\n",
    "        ax.set_title(f'Cluster {i}')\n",
    "        ax.set_xlabel('stn_id')\n",
    "        ax.set_ylabel('Count')\n",
    "\n",
    "plt.tight_layout()\n",
    "plt.show()"
   ]
  },
  {
   "cell_type": "code",
   "execution_count": 47,
   "metadata": {},
   "outputs": [
    {
     "name": "stderr",
     "output_type": "stream",
     "text": [
      "c:\\Users\\Hong_PC\\anaconda3\\lib\\site-packages\\sklearn\\cluster\\_kmeans.py:1412: FutureWarning: The default value of `n_init` will change from 10 to 'auto' in 1.4. Set the value of `n_init` explicitly to suppress the warning\n",
      "  super()._check_params_vs_input(X, default_n_init=10)\n"
     ]
    },
    {
     "name": "stdout",
     "output_type": "stream",
     "text": [
      "0    1786744\n",
      "1    1183971\n",
      "2     163228\n",
      "Name: cluster, dtype: int64\n"
     ]
    }
   ],
   "source": [
    "# 월 분류용 클러스터 적용(n=3)\n",
    "from sklearn.cluster import KMeans\n",
    "from sklearn.preprocessing import MinMaxScaler, LabelEncoder\n",
    "\n",
    "df2 = df1.copy()\n",
    "\n",
    "# 'stn_id' 열을 숫자로 변환\n",
    "label_encoder = LabelEncoder()\n",
    "df2['stn_id_5'] = label_encoder.fit_transform(df2['stn_id_5'])\n",
    "\n",
    "# 데이터 정규화\n",
    "numeric_cols = ['month', 'ws10_deg', 'ws10_ms', 'ta', 're', 'hm', 'sun10', 'ts','vis1']\n",
    "scaler = MinMaxScaler()\n",
    "df_scaled = scaler.fit_transform(df2[ numeric_cols])\n",
    "\n",
    "# K-means 클러스터링 적용\n",
    "kmeans = KMeans(n_clusters=3, random_state=1)\n",
    "df2['cluster'] = kmeans.fit_predict(df_scaled)\n",
    "\n",
    "# 클러스터링 결과를 출력합니다.\n",
    "print(df2['cluster'].value_counts())"
   ]
  },
  {
   "cell_type": "code",
   "execution_count": 48,
   "metadata": {},
   "outputs": [
    {
     "name": "stdout",
     "output_type": "stream",
     "text": [
      "month          1         2         3         4         5         6         7   \\\n",
      "cluster                                                                         \n",
      "0             0.0       0.0       0.0     208.0   65877.0  236688.0  240599.0   \n",
      "1        255579.0  235742.0  252424.0  248621.0  188073.0    3532.0       0.0   \n",
      "2         11408.0    8459.0   14423.0    9742.0   12998.0   17170.0   23578.0   \n",
      "\n",
      "month          8         9         10        11        12  \n",
      "cluster                                                    \n",
      "0        237326.0  240247.0  254999.0  248981.0  261819.0  \n",
      "1             0.0       0.0       0.0       0.0       0.0  \n",
      "2         26058.0   17982.0    8584.0    7908.0    4918.0  \n"
     ]
    },
    {
     "data": {
      "image/png": "[encoded data removed]",
      "text/plain": [
       "<Figure size 1500x1000 with 4 Axes>"
      ]
     },
     "metadata": {},
     "output_type": "display_data"
    }
   ],
   "source": [
    "import matplotlib.pyplot as plt\n",
    "# 각 클러스터별로 월별 데이터 개수를 계산합니다.\n",
    "cluster_month_counts = df2.groupby('cluster')['month'].value_counts().unstack().fillna(0)\n",
    "\n",
    "# 클러스터별 월별 데이터 개수 출력\n",
    "print(cluster_month_counts)\n",
    "\n",
    "# 그래프 그리기\n",
    "fig, axes = plt.subplots(2, 2, figsize=(15, 10), sharey=True)\n",
    "\n",
    "for i, ax in enumerate(axes.flatten()):\n",
    "    if i in cluster_month_counts.index:\n",
    "        cluster_month_counts.loc[i].plot(kind='bar', ax=ax)\n",
    "        ax.set_title(f'Cluster {i}')\n",
    "        ax.set_xlabel('Month')\n",
    "        ax.set_ylabel('Count')\n",
    "\n",
    "plt.tight_layout()\n",
    "plt.show()"
   ]
  },
  {
   "cell_type": "code",
   "execution_count": 49,
   "metadata": {},
   "outputs": [
    {
     "name": "stderr",
     "output_type": "stream",
     "text": [
      "c:\\Users\\Hong_PC\\anaconda3\\lib\\site-packages\\sklearn\\cluster\\_kmeans.py:1412: FutureWarning: The default value of `n_init` will change from 10 to 'auto' in 1.4. Set the value of `n_init` explicitly to suppress the warning\n",
      "  super()._check_params_vs_input(X, default_n_init=10)\n"
     ]
    },
    {
     "name": "stdout",
     "output_type": "stream",
     "text": [
      "3    1005448\n",
      "1    1000061\n",
      "2     965281\n",
      "0     163153\n",
      "Name: cluster, dtype: int64\n"
     ]
    }
   ],
   "source": [
    "# 월 분류용 클러스터 적용(n=4)\n",
    "from sklearn.cluster import KMeans\n",
    "from sklearn.preprocessing import MinMaxScaler, LabelEncoder\n",
    "\n",
    "df2 = df1.copy()\n",
    "\n",
    "# 'stn_id' 열을 숫자로 변환\n",
    "label_encoder = LabelEncoder()\n",
    "df2['stn_id'] = label_encoder.fit_transform(df2['stn_id'])\n",
    "\n",
    "# 데이터 정규화\n",
    "numeric_cols = ['month', 'ws10_deg', 'ws10_ms', 'ta', 're', 'hm', 'sun10', 'ts','vis1']\n",
    "scaler = MinMaxScaler()\n",
    "df_scaled = scaler.fit_transform(df2[ numeric_cols])\n",
    "\n",
    "# K-means 클러스터링 적용\n",
    "kmeans = KMeans(n_clusters=4, random_state=1)\n",
    "df2['cluster'] = kmeans.fit_predict(df_scaled)\n",
    "\n",
    "# 클러스터링 결과를 출력합니다.\n",
    "print(df2['cluster'].value_counts())"
   ]
  },
  {
   "cell_type": "code",
   "execution_count": 50,
   "metadata": {},
   "outputs": [
    {
     "name": "stdout",
     "output_type": "stream",
     "text": [
      "month          1         2         3         4        5         6         7   \\\n",
      "cluster                                                                        \n",
      "0         11405.0    8459.0   14423.0    9737.0  12996.0   17170.0   23564.0   \n",
      "1             0.0       0.0       0.0    1203.0  85821.0  122163.0  104502.0   \n",
      "2             5.0    1003.0   17168.0   49045.0  86959.0  117939.0  136111.0   \n",
      "3        255577.0  234739.0  235256.0  198586.0  81172.0     118.0       0.0   \n",
      "\n",
      "month          8         9         10        11        12  \n",
      "cluster                                                    \n",
      "0         26057.0   17976.0    8584.0    7907.0    4875.0  \n",
      "1        128719.0   92469.0  131670.0  153521.0  179993.0  \n",
      "2        108608.0  147784.0  123329.0   95461.0   81869.0  \n",
      "3             0.0       0.0       0.0       0.0       0.0  \n"
     ]
    },
    {
     "data": {
      "image/png": "[encoded data removed]",
      "text/plain": [
       "<Figure size 1500x1000 with 4 Axes>"
      ]
     },
     "metadata": {},
     "output_type": "display_data"
    }
   ],
   "source": [
    "import matplotlib.pyplot as plt\n",
    "# 각 클러스터별로 월별 데이터 개수를 계산합니다.\n",
    "cluster_month_counts = df2.groupby('cluster')['month'].value_counts().unstack().fillna(0)\n",
    "\n",
    "# 클러스터별 월별 데이터 개수 출력\n",
    "print(cluster_month_counts)\n",
    "\n",
    "# 그래프 그리기\n",
    "fig, axes = plt.subplots(2, 2, figsize=(15, 10), sharey=True)\n",
    "\n",
    "for i, ax in enumerate(axes.flatten()):\n",
    "    if i in cluster_month_counts.index:\n",
    "        cluster_month_counts.loc[i].plot(kind='bar', ax=ax)\n",
    "        ax.set_title(f'Cluster {i}')\n",
    "        ax.set_xlabel('Month')\n",
    "        ax.set_ylabel('Count')\n",
    "\n",
    "plt.tight_layout()\n",
    "plt.show()"
   ]
  },
  {
   "cell_type": "markdown",
   "metadata": {},
   "source": [
    "### CLASS 예측(분류)"
   ]
  },
  {
   "cell_type": "markdown",
   "metadata": {},
   "source": [
    "#### RNN"
   ]
  },
  {
   "cell_type": "code",
   "execution_count": 17,
   "metadata": {},
   "outputs": [
    {
     "data": {
      "text/html": [
       "<div>\n",
       "<style scoped>\n",
       "    .dataframe tbody tr th:only-of-type {\n",
       "        vertical-align: middle;\n",
       "    }\n",
       "\n",
       "    .dataframe tbody tr th {\n",
       "        vertical-align: top;\n",
       "    }\n",
       "\n",
       "    .dataframe thead th {\n",
       "        text-align: right;\n",
       "    }\n",
       "</style>\n",
       "<table border=\"1\" class=\"dataframe\">\n",
       "  <thead>\n",
       "    <tr style=\"text-align: right;\">\n",
       "      <th></th>\n",
       "      <th>year</th>\n",
       "      <th>month</th>\n",
       "      <th>day</th>\n",
       "      <th>time</th>\n",
       "      <th>minute</th>\n",
       "      <th>ws10_deg</th>\n",
       "      <th>ws10_ms</th>\n",
       "      <th>ta</th>\n",
       "      <th>re</th>\n",
       "      <th>hm</th>\n",
       "      <th>sun10</th>\n",
       "      <th>ts</th>\n",
       "      <th>class</th>\n",
       "      <th>stn_id_5</th>\n",
       "    </tr>\n",
       "  </thead>\n",
       "  <tbody>\n",
       "    <tr>\n",
       "      <th>0</th>\n",
       "      <td>0</td>\n",
       "      <td>1</td>\n",
       "      <td>1</td>\n",
       "      <td>0</td>\n",
       "      <td>10</td>\n",
       "      <td>0.0</td>\n",
       "      <td>0.0</td>\n",
       "      <td>-6.4</td>\n",
       "      <td>0.0</td>\n",
       "      <td>38.9</td>\n",
       "      <td>0.0</td>\n",
       "      <td>-2.8</td>\n",
       "      <td>4</td>\n",
       "      <td>0</td>\n",
       "    </tr>\n",
       "    <tr>\n",
       "      <th>1</th>\n",
       "      <td>0</td>\n",
       "      <td>1</td>\n",
       "      <td>1</td>\n",
       "      <td>0</td>\n",
       "      <td>20</td>\n",
       "      <td>0.0</td>\n",
       "      <td>0.0</td>\n",
       "      <td>-6.3</td>\n",
       "      <td>0.0</td>\n",
       "      <td>37.9</td>\n",
       "      <td>0.0</td>\n",
       "      <td>-2.7</td>\n",
       "      <td>4</td>\n",
       "      <td>0</td>\n",
       "    </tr>\n",
       "    <tr>\n",
       "      <th>2</th>\n",
       "      <td>0</td>\n",
       "      <td>1</td>\n",
       "      <td>1</td>\n",
       "      <td>0</td>\n",
       "      <td>30</td>\n",
       "      <td>0.0</td>\n",
       "      <td>0.0</td>\n",
       "      <td>-6.3</td>\n",
       "      <td>0.0</td>\n",
       "      <td>40.0</td>\n",
       "      <td>0.0</td>\n",
       "      <td>-2.6</td>\n",
       "      <td>4</td>\n",
       "      <td>0</td>\n",
       "    </tr>\n",
       "    <tr>\n",
       "      <th>3</th>\n",
       "      <td>0</td>\n",
       "      <td>1</td>\n",
       "      <td>1</td>\n",
       "      <td>0</td>\n",
       "      <td>40</td>\n",
       "      <td>27.8</td>\n",
       "      <td>0.4</td>\n",
       "      <td>-6.2</td>\n",
       "      <td>0.0</td>\n",
       "      <td>39.5</td>\n",
       "      <td>0.0</td>\n",
       "      <td>-2.6</td>\n",
       "      <td>4</td>\n",
       "      <td>0</td>\n",
       "    </tr>\n",
       "    <tr>\n",
       "      <th>4</th>\n",
       "      <td>0</td>\n",
       "      <td>1</td>\n",
       "      <td>1</td>\n",
       "      <td>0</td>\n",
       "      <td>50</td>\n",
       "      <td>59.7</td>\n",
       "      <td>0.5</td>\n",
       "      <td>-6.1</td>\n",
       "      <td>0.0</td>\n",
       "      <td>39.8</td>\n",
       "      <td>0.0</td>\n",
       "      <td>-2.5</td>\n",
       "      <td>4</td>\n",
       "      <td>0</td>\n",
       "    </tr>\n",
       "    <tr>\n",
       "      <th>...</th>\n",
       "      <td>...</td>\n",
       "      <td>...</td>\n",
       "      <td>...</td>\n",
       "      <td>...</td>\n",
       "      <td>...</td>\n",
       "      <td>...</td>\n",
       "      <td>...</td>\n",
       "      <td>...</td>\n",
       "      <td>...</td>\n",
       "      <td>...</td>\n",
       "      <td>...</td>\n",
       "      <td>...</td>\n",
       "      <td>...</td>\n",
       "      <td>...</td>\n",
       "    </tr>\n",
       "    <tr>\n",
       "      <th>3156454</th>\n",
       "      <td>2</td>\n",
       "      <td>12</td>\n",
       "      <td>31</td>\n",
       "      <td>23</td>\n",
       "      <td>10</td>\n",
       "      <td>305.3</td>\n",
       "      <td>7.7</td>\n",
       "      <td>2.5</td>\n",
       "      <td>0.0</td>\n",
       "      <td>50.2</td>\n",
       "      <td>0.0</td>\n",
       "      <td>-0.9</td>\n",
       "      <td>4</td>\n",
       "      <td>4</td>\n",
       "    </tr>\n",
       "    <tr>\n",
       "      <th>3156455</th>\n",
       "      <td>2</td>\n",
       "      <td>12</td>\n",
       "      <td>31</td>\n",
       "      <td>23</td>\n",
       "      <td>20</td>\n",
       "      <td>293.8</td>\n",
       "      <td>5.7</td>\n",
       "      <td>2.3</td>\n",
       "      <td>0.0</td>\n",
       "      <td>50.1</td>\n",
       "      <td>0.0</td>\n",
       "      <td>-1.3</td>\n",
       "      <td>4</td>\n",
       "      <td>4</td>\n",
       "    </tr>\n",
       "    <tr>\n",
       "      <th>3156456</th>\n",
       "      <td>2</td>\n",
       "      <td>12</td>\n",
       "      <td>31</td>\n",
       "      <td>23</td>\n",
       "      <td>30</td>\n",
       "      <td>274.2</td>\n",
       "      <td>4.9</td>\n",
       "      <td>2.2</td>\n",
       "      <td>0.0</td>\n",
       "      <td>51.0</td>\n",
       "      <td>0.0</td>\n",
       "      <td>-1.4</td>\n",
       "      <td>4</td>\n",
       "      <td>4</td>\n",
       "    </tr>\n",
       "    <tr>\n",
       "      <th>3156457</th>\n",
       "      <td>2</td>\n",
       "      <td>12</td>\n",
       "      <td>31</td>\n",
       "      <td>23</td>\n",
       "      <td>40</td>\n",
       "      <td>270.3</td>\n",
       "      <td>4.6</td>\n",
       "      <td>2.1</td>\n",
       "      <td>0.0</td>\n",
       "      <td>51.7</td>\n",
       "      <td>0.0</td>\n",
       "      <td>-1.6</td>\n",
       "      <td>4</td>\n",
       "      <td>4</td>\n",
       "    </tr>\n",
       "    <tr>\n",
       "      <th>3156458</th>\n",
       "      <td>2</td>\n",
       "      <td>12</td>\n",
       "      <td>31</td>\n",
       "      <td>23</td>\n",
       "      <td>50</td>\n",
       "      <td>254.8</td>\n",
       "      <td>4.1</td>\n",
       "      <td>2.1</td>\n",
       "      <td>0.0</td>\n",
       "      <td>53.3</td>\n",
       "      <td>0.0</td>\n",
       "      <td>-1.7</td>\n",
       "      <td>4</td>\n",
       "      <td>4</td>\n",
       "    </tr>\n",
       "  </tbody>\n",
       "</table>\n",
       "<p>2994850 rows × 14 columns</p>\n",
       "</div>"
      ],
      "text/plain": [
       "         year  month  day  time  minute  ws10_deg  ws10_ms   ta   re    hm  \\\n",
       "0           0      1    1     0      10       0.0      0.0 -6.4  0.0  38.9   \n",
       "1           0      1    1     0      20       0.0      0.0 -6.3  0.0  37.9   \n",
       "2           0      1    1     0      30       0.0      0.0 -6.3  0.0  40.0   \n",
       "3           0      1    1     0      40      27.8      0.4 -6.2  0.0  39.5   \n",
       "4           0      1    1     0      50      59.7      0.5 -6.1  0.0  39.8   \n",
       "...       ...    ...  ...   ...     ...       ...      ...  ...  ...   ...   \n",
       "3156454     2     12   31    23      10     305.3      7.7  2.5  0.0  50.2   \n",
       "3156455     2     12   31    23      20     293.8      5.7  2.3  0.0  50.1   \n",
       "3156456     2     12   31    23      30     274.2      4.9  2.2  0.0  51.0   \n",
       "3156457     2     12   31    23      40     270.3      4.6  2.1  0.0  51.7   \n",
       "3156458     2     12   31    23      50     254.8      4.1  2.1  0.0  53.3   \n",
       "\n",
       "         sun10   ts  class  stn_id_5  \n",
       "0          0.0 -2.8      4         0  \n",
       "1          0.0 -2.7      4         0  \n",
       "2          0.0 -2.6      4         0  \n",
       "3          0.0 -2.6      4         0  \n",
       "4          0.0 -2.5      4         0  \n",
       "...        ...  ...    ...       ...  \n",
       "3156454    0.0 -0.9      4         4  \n",
       "3156455    0.0 -1.3      4         4  \n",
       "3156456    0.0 -1.4      4         4  \n",
       "3156457    0.0 -1.6      4         4  \n",
       "3156458    0.0 -1.7      4         4  \n",
       "\n",
       "[2994850 rows x 14 columns]"
      ]
     },
     "execution_count": 17,
     "metadata": {},
     "output_type": "execute_result"
    }
   ],
   "source": [
    "df2"
   ]
  },
  {
   "cell_type": "code",
   "execution_count": 18,
   "metadata": {},
   "outputs": [],
   "source": [
    "import pandas as pd\n",
    "import numpy as np\n",
    "from sklearn.preprocessing import MinMaxScaler\n",
    "from tensorflow.keras.models import Sequential\n",
    "from tensorflow.keras.layers import Dense, LSTM\n",
    "from tensorflow.keras.callbacks import EarlyStopping\n",
    "from tensorflow.keras.utils import to_categorical\n",
    "from sklearn.metrics import balanced_accuracy_score, classification_report\n",
    "import matplotlib.pyplot as plt"
   ]
  },
  {
   "cell_type": "code",
   "execution_count": 19,
   "metadata": {},
   "outputs": [],
   "source": [
    "# 특성과 타겟 정의\n",
    "features = df2.drop(['class'], axis=1).values.astype('float32')\n",
    "target = df2['class'].values\n",
    "\n",
    "# 타겟 원-핫 인코딩\n",
    "target_encoded = to_categorical(target - 1)  # assuming class labels are 1 to 4\n",
    "\n",
    "# 데이터 정규화\n",
    "scaler = MinMaxScaler()\n",
    "features_scaled = scaler.fit_transform(features)"
   ]
  },
  {
   "cell_type": "code",
   "execution_count": 20,
   "metadata": {},
   "outputs": [],
   "source": [
    "# 시퀀스 데이터 생성\n",
    "def create_sequences(data, target, sequence_length):\n",
    "    sequences = []\n",
    "    labels = []\n",
    "    for i in range(len(data) - sequence_length):\n",
    "        sequences.append(data[i:i + sequence_length])\n",
    "        labels.append(target[i + sequence_length])\n",
    "    return np.array(sequences, dtype=np.float32), np.array(labels, dtype=np.float32)\n",
    "\n",
    "# 시퀀스 길이 정의\n",
    "sequence_length = 30  # 1달을 기준으로 30개 타임스텝을 사용"
   ]
  },
  {
   "cell_type": "code",
   "execution_count": 21,
   "metadata": {},
   "outputs": [],
   "source": [
    "# 시퀀스 데이터 생성\n",
    "X, y = create_sequences(features_scaled, target_encoded, sequence_length)\n",
    "\n",
    "# 학습 데이터와 테스트 데이터 분리\n",
    "split = int(0.8 * len(X))\n",
    "X_train, X_test = X[:split], X[split:]\n",
    "y_train, y_test = y[:split], y[split:]"
   ]
  },
  {
   "cell_type": "code",
   "execution_count": 22,
   "metadata": {},
   "outputs": [
    {
     "name": "stdout",
     "output_type": "stream",
     "text": [
      "Epoch 1/50\n",
      "29949/29949 [==============================] - 281s 9ms/step - loss: 0.0609 - accuracy: 0.9878 - val_loss: 0.0285 - val_accuracy: 0.9958\n",
      "Epoch 2/50\n",
      "29949/29949 [==============================] - 273s 9ms/step - loss: 0.0556 - accuracy: 0.9879 - val_loss: 0.0271 - val_accuracy: 0.9958\n",
      "Epoch 3/50\n",
      "29949/29949 [==============================] - 363s 12ms/step - loss: 0.0529 - accuracy: 0.9880 - val_loss: 0.0283 - val_accuracy: 0.9957\n",
      "Epoch 4/50\n",
      "29949/29949 [==============================] - 471s 16ms/step - loss: 0.0509 - accuracy: 0.9880 - val_loss: 0.0326 - val_accuracy: 0.9947\n",
      "Epoch 5/50\n",
      "29949/29949 [==============================] - 511s 17ms/step - loss: 0.0493 - accuracy: 0.9881 - val_loss: 0.0298 - val_accuracy: 0.9953\n",
      "18718/18718 [==============================] - 94s 5ms/step - loss: 0.0514 - accuracy: 0.9891\n",
      "Test Loss: 0.0513518825173378, Test Accuracy: 0.9891395568847656\n"
     ]
    }
   ],
   "source": [
    "# LSTM 모델 정의\n",
    "model = Sequential()\n",
    "model.add(LSTM(50, input_shape=(sequence_length, X.shape[2]), return_sequences=False))\n",
    "model.add(Dense(4, activation='softmax'))  # 다중 분류를 위한 softmax 활성화 함수\n",
    "\n",
    "# 모델 컴파일\n",
    "model.compile(optimizer='adam', loss='categorical_crossentropy', metrics=['accuracy'])\n",
    "\n",
    "# 얼리스타핑 콜백 정의\n",
    "early_stopping = EarlyStopping(monitor='val_loss', \n",
    "                               patience=3, \n",
    "                               verbose=1, # 로그 출력\n",
    "                               restore_best_weights=True)\n",
    "\n",
    "# 모델 학습\n",
    "history = model.fit(X_train, y_train, epochs=50, batch_size=64, validation_split=0.2, callbacks=[early_stopping])\n",
    "\n",
    "# 모델 평가\n",
    "test_loss, test_accuracy = model.evaluate(X_test, y_test)\n",
    "print(f'Test Loss: {test_loss}, Test Accuracy: {test_accuracy}')"
   ]
  },
  {
   "cell_type": "code",
   "execution_count": 23,
   "metadata": {},
   "outputs": [
    {
     "name": "stdout",
     "output_type": "stream",
     "text": [
      "18718/18718 [==============================] - 86s 5ms/step\n",
      "Balanced Accuracy: 0.24999957803058434\n"
     ]
    },
    {
     "name": "stderr",
     "output_type": "stream",
     "text": [
      "c:\\Users\\Hong_PC\\anaconda3\\lib\\site-packages\\sklearn\\metrics\\_classification.py:1469: UndefinedMetricWarning: Precision and F-score are ill-defined and being set to 0.0 in labels with no predicted samples. Use `zero_division` parameter to control this behavior.\n",
      "  _warn_prf(average, modifier, msg_start, len(result))\n",
      "c:\\Users\\Hong_PC\\anaconda3\\lib\\site-packages\\sklearn\\metrics\\_classification.py:1469: UndefinedMetricWarning: Precision and F-score are ill-defined and being set to 0.0 in labels with no predicted samples. Use `zero_division` parameter to control this behavior.\n",
      "  _warn_prf(average, modifier, msg_start, len(result))\n",
      "c:\\Users\\Hong_PC\\anaconda3\\lib\\site-packages\\sklearn\\metrics\\_classification.py:1469: UndefinedMetricWarning: Precision and F-score are ill-defined and being set to 0.0 in labels with no predicted samples. Use `zero_division` parameter to control this behavior.\n",
      "  _warn_prf(average, modifier, msg_start, len(result))\n"
     ]
    },
    {
     "name": "stdout",
     "output_type": "stream",
     "text": [
      "              precision    recall  f1-score   support\n",
      "\n",
      "           0       0.00      0.00      0.00      1663\n",
      "           1       0.00      0.00      0.00      2689\n",
      "           2       0.00      0.00      0.00      2152\n",
      "           3       0.99      1.00      0.99    592460\n",
      "\n",
      "    accuracy                           0.99    598964\n",
      "   macro avg       0.25      0.25      0.25    598964\n",
      "weighted avg       0.98      0.99      0.98    598964\n",
      "\n"
     ]
    },
    {
     "data": {
      "image/png": "[encoded data removed]",
      "text/plain": [
       "<Figure size 1200x600 with 2 Axes>"
      ]
     },
     "metadata": {},
     "output_type": "display_data"
    }
   ],
   "source": [
    "# 기존\n",
    "\n",
    "# 예측\n",
    "y_pred = model.predict(X_test)\n",
    "y_pred_classes = np.argmax(y_pred, axis=1)\n",
    "y_true_classes = np.argmax(y_test, axis=1)\n",
    "\n",
    "# balanced accuracy 계산\n",
    "balanced_acc = balanced_accuracy_score(y_true_classes, y_pred_classes)\n",
    "print(f'Balanced Accuracy: {balanced_acc}')\n",
    "\n",
    "# 분류 보고서 출력\n",
    "print(classification_report(y_true_classes, y_pred_classes))\n",
    "\n",
    "# 학습 결과 시각화\n",
    "plt.figure(figsize=(12, 6))\n",
    "\n",
    "plt.subplot(1, 2, 1)\n",
    "plt.plot(history.history['loss'], label='Train Loss')\n",
    "plt.plot(history.history['val_loss'], label='Validation Loss')\n",
    "plt.title('Loss over Epochs')\n",
    "plt.xlabel('Epochs')\n",
    "plt.ylabel('Loss')\n",
    "plt.legend()\n",
    "\n",
    "plt.subplot(1, 2, 2)\n",
    "plt.plot(history.history['accuracy'], label='Train Accuracy')\n",
    "plt.plot(history.history['val_accuracy'], label='Validation Accuracy')\n",
    "plt.title('Accuracy over Epochs')\n",
    "plt.xlabel('Epochs')\n",
    "plt.ylabel('Accuracy')\n",
    "plt.legend()\n",
    "\n",
    "plt.show()"
   ]
  },
  {
   "cell_type": "code",
   "execution_count": 27,
   "metadata": {},
   "outputs": [
    {
     "ename": "ValueError",
     "evalue": "Classification metrics can't handle a mix of multiclass and continuous-multioutput targets",
     "output_type": "error",
     "traceback": [
      "\u001b[1;31m---------------------------------------------------------------------------\u001b[0m",
      "\u001b[1;31mValueError\u001b[0m                                Traceback (most recent call last)",
      "Cell \u001b[1;32mIn[27], line 7\u001b[0m\n\u001b[0;32m      4\u001b[0m y_true \u001b[38;5;241m=\u001b[39m y_true_classes\n\u001b[0;32m      6\u001b[0m \u001b[38;5;66;03m# 혼동 행렬 생성\u001b[39;00m\n\u001b[1;32m----> 7\u001b[0m conf_matrix \u001b[38;5;241m=\u001b[39m \u001b[43mconfusion_matrix\u001b[49m\u001b[43m(\u001b[49m\u001b[43my_true\u001b[49m\u001b[43m,\u001b[49m\u001b[43m \u001b[49m\u001b[43my_pred\u001b[49m\u001b[43m)\u001b[49m\n\u001b[0;32m      9\u001b[0m \u001b[38;5;66;03m# ACC 및 Balanced ACC 계산\u001b[39;00m\n\u001b[0;32m     10\u001b[0m acc \u001b[38;5;241m=\u001b[39m accuracy_score(y_true, y_pred)\n",
      "File \u001b[1;32mc:\\Users\\Hong_PC\\anaconda3\\lib\\site-packages\\sklearn\\utils\\_param_validation.py:211\u001b[0m, in \u001b[0;36mvalidate_params.<locals>.decorator.<locals>.wrapper\u001b[1;34m(*args, **kwargs)\u001b[0m\n\u001b[0;32m    205\u001b[0m \u001b[38;5;28;01mtry\u001b[39;00m:\n\u001b[0;32m    206\u001b[0m     \u001b[38;5;28;01mwith\u001b[39;00m config_context(\n\u001b[0;32m    207\u001b[0m         skip_parameter_validation\u001b[38;5;241m=\u001b[39m(\n\u001b[0;32m    208\u001b[0m             prefer_skip_nested_validation \u001b[38;5;129;01mor\u001b[39;00m global_skip_validation\n\u001b[0;32m    209\u001b[0m         )\n\u001b[0;32m    210\u001b[0m     ):\n\u001b[1;32m--> 211\u001b[0m         \u001b[38;5;28;01mreturn\u001b[39;00m func(\u001b[38;5;241m*\u001b[39margs, \u001b[38;5;241m*\u001b[39m\u001b[38;5;241m*\u001b[39mkwargs)\n\u001b[0;32m    212\u001b[0m \u001b[38;5;28;01mexcept\u001b[39;00m InvalidParameterError \u001b[38;5;28;01mas\u001b[39;00m e:\n\u001b[0;32m    213\u001b[0m     \u001b[38;5;66;03m# When the function is just a wrapper around an estimator, we allow\u001b[39;00m\n\u001b[0;32m    214\u001b[0m     \u001b[38;5;66;03m# the function to delegate validation to the estimator, but we replace\u001b[39;00m\n\u001b[0;32m    215\u001b[0m     \u001b[38;5;66;03m# the name of the estimator by the name of the function in the error\u001b[39;00m\n\u001b[0;32m    216\u001b[0m     \u001b[38;5;66;03m# message to avoid confusion.\u001b[39;00m\n\u001b[0;32m    217\u001b[0m     msg \u001b[38;5;241m=\u001b[39m re\u001b[38;5;241m.\u001b[39msub(\n\u001b[0;32m    218\u001b[0m         \u001b[38;5;124mr\u001b[39m\u001b[38;5;124m\"\u001b[39m\u001b[38;5;124mparameter of \u001b[39m\u001b[38;5;124m\\\u001b[39m\u001b[38;5;124mw+ must be\u001b[39m\u001b[38;5;124m\"\u001b[39m,\n\u001b[0;32m    219\u001b[0m         \u001b[38;5;124mf\u001b[39m\u001b[38;5;124m\"\u001b[39m\u001b[38;5;124mparameter of \u001b[39m\u001b[38;5;132;01m{\u001b[39;00mfunc\u001b[38;5;241m.\u001b[39m\u001b[38;5;18m__qualname__\u001b[39m\u001b[38;5;132;01m}\u001b[39;00m\u001b[38;5;124m must be\u001b[39m\u001b[38;5;124m\"\u001b[39m,\n\u001b[0;32m    220\u001b[0m         \u001b[38;5;28mstr\u001b[39m(e),\n\u001b[0;32m    221\u001b[0m     )\n",
      "File \u001b[1;32mc:\\Users\\Hong_PC\\anaconda3\\lib\\site-packages\\sklearn\\metrics\\_classification.py:326\u001b[0m, in \u001b[0;36mconfusion_matrix\u001b[1;34m(y_true, y_pred, labels, sample_weight, normalize)\u001b[0m\n\u001b[0;32m    231\u001b[0m \u001b[38;5;129m@validate_params\u001b[39m(\n\u001b[0;32m    232\u001b[0m     {\n\u001b[0;32m    233\u001b[0m         \u001b[38;5;124m\"\u001b[39m\u001b[38;5;124my_true\u001b[39m\u001b[38;5;124m\"\u001b[39m: [\u001b[38;5;124m\"\u001b[39m\u001b[38;5;124marray-like\u001b[39m\u001b[38;5;124m\"\u001b[39m],\n\u001b[1;32m   (...)\u001b[0m\n\u001b[0;32m    242\u001b[0m     y_true, y_pred, \u001b[38;5;241m*\u001b[39m, labels\u001b[38;5;241m=\u001b[39m\u001b[38;5;28;01mNone\u001b[39;00m, sample_weight\u001b[38;5;241m=\u001b[39m\u001b[38;5;28;01mNone\u001b[39;00m, normalize\u001b[38;5;241m=\u001b[39m\u001b[38;5;28;01mNone\u001b[39;00m\n\u001b[0;32m    243\u001b[0m ):\n\u001b[0;32m    244\u001b[0m \u001b[38;5;250m    \u001b[39m\u001b[38;5;124;03m\"\"\"Compute confusion matrix to evaluate the accuracy of a classification.\u001b[39;00m\n\u001b[0;32m    245\u001b[0m \n\u001b[0;32m    246\u001b[0m \u001b[38;5;124;03m    By definition a confusion matrix :math:`C` is such that :math:`C_{i, j}`\u001b[39;00m\n\u001b[1;32m   (...)\u001b[0m\n\u001b[0;32m    324\u001b[0m \u001b[38;5;124;03m    (0, 2, 1, 1)\u001b[39;00m\n\u001b[0;32m    325\u001b[0m \u001b[38;5;124;03m    \"\"\"\u001b[39;00m\n\u001b[1;32m--> 326\u001b[0m     y_type, y_true, y_pred \u001b[38;5;241m=\u001b[39m \u001b[43m_check_targets\u001b[49m\u001b[43m(\u001b[49m\u001b[43my_true\u001b[49m\u001b[43m,\u001b[49m\u001b[43m \u001b[49m\u001b[43my_pred\u001b[49m\u001b[43m)\u001b[49m\n\u001b[0;32m    327\u001b[0m     \u001b[38;5;28;01mif\u001b[39;00m y_type \u001b[38;5;129;01mnot\u001b[39;00m \u001b[38;5;129;01min\u001b[39;00m (\u001b[38;5;124m\"\u001b[39m\u001b[38;5;124mbinary\u001b[39m\u001b[38;5;124m\"\u001b[39m, \u001b[38;5;124m\"\u001b[39m\u001b[38;5;124mmulticlass\u001b[39m\u001b[38;5;124m\"\u001b[39m):\n\u001b[0;32m    328\u001b[0m         \u001b[38;5;28;01mraise\u001b[39;00m \u001b[38;5;167;01mValueError\u001b[39;00m(\u001b[38;5;124m\"\u001b[39m\u001b[38;5;132;01m%s\u001b[39;00m\u001b[38;5;124m is not supported\u001b[39m\u001b[38;5;124m\"\u001b[39m \u001b[38;5;241m%\u001b[39m y_type)\n",
      "File \u001b[1;32mc:\\Users\\Hong_PC\\anaconda3\\lib\\site-packages\\sklearn\\metrics\\_classification.py:93\u001b[0m, in \u001b[0;36m_check_targets\u001b[1;34m(y_true, y_pred)\u001b[0m\n\u001b[0;32m     90\u001b[0m     y_type \u001b[38;5;241m=\u001b[39m {\u001b[38;5;124m\"\u001b[39m\u001b[38;5;124mmulticlass\u001b[39m\u001b[38;5;124m\"\u001b[39m}\n\u001b[0;32m     92\u001b[0m \u001b[38;5;28;01mif\u001b[39;00m \u001b[38;5;28mlen\u001b[39m(y_type) \u001b[38;5;241m>\u001b[39m \u001b[38;5;241m1\u001b[39m:\n\u001b[1;32m---> 93\u001b[0m     \u001b[38;5;28;01mraise\u001b[39;00m \u001b[38;5;167;01mValueError\u001b[39;00m(\n\u001b[0;32m     94\u001b[0m         \u001b[38;5;124m\"\u001b[39m\u001b[38;5;124mClassification metrics can\u001b[39m\u001b[38;5;124m'\u001b[39m\u001b[38;5;124mt handle a mix of \u001b[39m\u001b[38;5;132;01m{0}\u001b[39;00m\u001b[38;5;124m and \u001b[39m\u001b[38;5;132;01m{1}\u001b[39;00m\u001b[38;5;124m targets\u001b[39m\u001b[38;5;124m\"\u001b[39m\u001b[38;5;241m.\u001b[39mformat(\n\u001b[0;32m     95\u001b[0m             type_true, type_pred\n\u001b[0;32m     96\u001b[0m         )\n\u001b[0;32m     97\u001b[0m     )\n\u001b[0;32m     99\u001b[0m \u001b[38;5;66;03m# We can't have more than one value on y_type => The set is no more needed\u001b[39;00m\n\u001b[0;32m    100\u001b[0m y_type \u001b[38;5;241m=\u001b[39m y_type\u001b[38;5;241m.\u001b[39mpop()\n",
      "\u001b[1;31mValueError\u001b[0m: Classification metrics can't handle a mix of multiclass and continuous-multioutput targets"
     ]
    }
   ],
   "source": [
    "# CSI 반영 1\n",
    "from sklearn.metrics import confusion_matrix, accuracy_score, balanced_accuracy_score\n",
    "\n",
    "y_true = y_true_classes\n",
    "\n",
    "# 혼동 행렬 생성\n",
    "conf_matrix = confusion_matrix(y_true, y_pred)\n",
    "\n",
    "# ACC 및 Balanced ACC 계산\n",
    "acc = accuracy_score(y_true, y_pred)\n",
    "balanced_acc = balanced_accuracy_score(y_true, y_pred)\n",
    "\n",
    "# CSI 계산\n",
    "H = np.diag(conf_matrix)\n",
    "F = np.sum(conf_matrix, axis=0) - H\n",
    "M = np.sum(conf_matrix, axis=1) - H\n",
    "CSI = H / (H + F + M)\n",
    "mean_CSI = np.mean(CSI)\n",
    "\n",
    "# 결과 출력\n",
    "print(f'Accuracy: {acc}')\n",
    "print(f'Balanced Accuracy: {balanced_acc}')\n",
    "print(f'CSI per class: {CSI}')\n",
    "print(f'Mean CSI: {mean_CSI}')"
   ]
  },
  {
   "cell_type": "code",
   "execution_count": null,
   "metadata": {},
   "outputs": [],
   "source": [
    "# CSI 반영 2\n",
    "\n",
    "import matplotlib.pyplot as plt\n",
    "\n",
    "# 학습 및 검증 손실 그래프\n",
    "plt.figure(figsize=(12, 6))\n",
    "\n",
    "# Loss 그래프\n",
    "plt.subplot(1, 2, 1)\n",
    "plt.plot(history.history['loss'], label='Training Loss')\n",
    "plt.plot(history.history['val_loss'], label='Validation Loss')\n",
    "plt.title('Training and Validation Loss')\n",
    "plt.xlabel('Epochs')\n",
    "plt.ylabel('Loss')\n",
    "plt.legend()\n",
    "\n",
    "# Accuracy 그래프\n",
    "plt.subplot(1, 2, 2)\n",
    "plt.plot(history.history['accuracy'], label='Training Accuracy')\n",
    "plt.plot(history.history['val_accuracy'], label='Validation Accuracy')\n",
    "plt.title('Training and Validation Accuracy')\n",
    "plt.xlabel('Epochs')\n",
    "plt.ylabel('Accuracy')\n",
    "plt.legend()\n",
    "\n",
    "plt.tight_layout()\n",
    "plt.show()\n",
    "\n",
    "# 혼동 행렬 그래프\n",
    "import seaborn as sns\n",
    "\n",
    "plt.figure(figsize=(8, 6))\n",
    "sns.heatmap(conf_matrix, annot=True, fmt='d', cmap='Blues', xticklabels=[1, 2, 3, 4], yticklabels=[1, 2, 3, 4])\n",
    "plt.title('Confusion Matrix')\n",
    "plt.xlabel('Predicted Class')\n",
    "plt.ylabel('True Class')\n",
    "plt.show()"
   ]
  },
  {
   "cell_type": "markdown",
   "metadata": {},
   "source": [
    "#### RF"
   ]
  },
  {
   "cell_type": "code",
   "execution_count": null,
   "metadata": {},
   "outputs": [],
   "source": []
  },
  {
   "cell_type": "code",
   "execution_count": null,
   "metadata": {},
   "outputs": [],
   "source": []
  },
  {
   "cell_type": "code",
   "execution_count": null,
   "metadata": {},
   "outputs": [],
   "source": []
  },
  {
   "cell_type": "code",
   "execution_count": null,
   "metadata": {},
   "outputs": [],
   "source": []
  },
  {
   "cell_type": "code",
   "execution_count": null,
   "metadata": {},
   "outputs": [],
   "source": []
  },
  {
   "cell_type": "code",
   "execution_count": null,
   "metadata": {},
   "outputs": [],
   "source": []
  },
  {
   "cell_type": "markdown",
   "metadata": {},
   "source": [
    "### VIS1 예측(회귀)"
   ]
  },
  {
   "cell_type": "markdown",
   "metadata": {},
   "source": [
    "#### RNN"
   ]
  },
  {
   "cell_type": "code",
   "execution_count": null,
   "metadata": {},
   "outputs": [],
   "source": []
  },
  {
   "cell_type": "code",
   "execution_count": null,
   "metadata": {},
   "outputs": [],
   "source": []
  },
  {
   "cell_type": "code",
   "execution_count": null,
   "metadata": {},
   "outputs": [],
   "source": []
  },
  {
   "cell_type": "code",
   "execution_count": null,
   "metadata": {},
   "outputs": [],
   "source": []
  },
  {
   "cell_type": "code",
   "execution_count": null,
   "metadata": {},
   "outputs": [],
   "source": []
  },
  {
   "cell_type": "code",
   "execution_count": null,
   "metadata": {},
   "outputs": [],
   "source": []
  },
  {
   "cell_type": "markdown",
   "metadata": {},
   "source": [
    "#### RF"
   ]
  },
  {
   "cell_type": "code",
   "execution_count": null,
   "metadata": {},
   "outputs": [],
   "source": []
  },
  {
   "cell_type": "code",
   "execution_count": null,
   "metadata": {},
   "outputs": [],
   "source": []
  }
 ],
 "metadata": {
  "kernelspec": {
   "display_name": "mjh",
   "language": "python",
   "name": "python3"
  },
  "language_info": {
   "codemirror_mode": {
    "name": "ipython",
    "version": 3
   },
   "file_extension": ".py",
   "mimetype": "text/x-python",
   "name": "python",
   "nbconvert_exporter": "python",
   "pygments_lexer": "ipython3",
   "version": "3.9.12"
  }
 },
 "nbformat": 4,
 "nbformat_minor": 2
}
