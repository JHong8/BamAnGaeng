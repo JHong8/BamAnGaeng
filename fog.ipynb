{
 "cells": [
  {
   "cell_type": "code",
   "execution_count": 4,
   "metadata": {},
   "outputs": [],
   "source": [
    "import pandas as pd\n",
    "import numpy as np\n",
    "import joblib\n",
    "\n",
    "# 데스크탑\n",
    "df = pd.read_csv(\"C:\\\\Users\\\\Hong_PC\\\\Desktop\\\\기상청 날씨 빅데이터 공모전\\\\과제2\\\\fog_train.csv\")\n",
    "\n",
    "# 노트북\n"
   ]
  },
  {
   "cell_type": "code",
   "execution_count": 5,
   "metadata": {},
   "outputs": [],
   "source": [
    "# 1열 수정\n",
    "df = df.drop(columns=[df.columns[0]])\n",
    "# 열 이름의 . 앞에 단어 제거\n",
    "df.columns = [col.split('.')[-1] if '.' in col else col for col in df.columns]"
   ]
  },
  {
   "cell_type": "code",
   "execution_count": 6,
   "metadata": {},
   "outputs": [
    {
     "data": {
      "text/plain": [
       "<bound method NDFrame.head of         year  month  day  time  minute stn_id  ws10_deg  ws10_ms   ta   re  \\\n",
       "0          I      1    1     0      10     AA       0.0      0.0 -6.4  0.0   \n",
       "1          I      1    1     0      20     AA       0.0      0.0 -6.3  0.0   \n",
       "2          I      1    1     0      30     AA       0.0      0.0 -6.3  0.0   \n",
       "3          I      1    1     0      40     AA      27.8      0.4 -6.2  0.0   \n",
       "4          I      1    1     0      50     AA      59.7      0.5 -6.1  0.0   \n",
       "...      ...    ...  ...   ...     ...    ...       ...      ...  ...  ...   \n",
       "3156454    K     12   31    23      10     EC     305.3      7.7  2.5  0.0   \n",
       "3156455    K     12   31    23      20     EC     293.8      5.7  2.3  0.0   \n",
       "3156456    K     12   31    23      30     EC     274.2      4.9  2.2  0.0   \n",
       "3156457    K     12   31    23      40     EC     270.3      4.6  2.1  0.0   \n",
       "3156458    K     12   31    23      50     EC     254.8      4.1  2.1  0.0   \n",
       "\n",
       "           hm  sun10   ts   vis1  class  \n",
       "0        38.9    0.0 -2.8  20000      4  \n",
       "1        37.9    0.0 -2.7  20000      4  \n",
       "2        40.0    0.0 -2.6  20000      4  \n",
       "3        39.5    0.0 -2.6  20000      4  \n",
       "4        39.8    0.0 -2.5  20000      4  \n",
       "...       ...    ...  ...    ...    ...  \n",
       "3156454  50.2    0.0 -0.9  20000      4  \n",
       "3156455  50.1    0.0 -1.3  20000      4  \n",
       "3156456  51.0    0.0 -1.4  20000      4  \n",
       "3156457  51.7    0.0 -1.6  20000      4  \n",
       "3156458  53.3    0.0 -1.7  20000      4  \n",
       "\n",
       "[3156459 rows x 15 columns]>"
      ]
     },
     "execution_count": 6,
     "metadata": {},
     "output_type": "execute_result"
    }
   ],
   "source": [
    "df.head"
   ]
  },
  {
   "cell_type": "code",
   "execution_count": 7,
   "metadata": {},
   "outputs": [
    {
     "data": {
      "text/plain": [
       "<bound method DataFrame.info of         year  month  day  time  minute stn_id  ws10_deg  ws10_ms   ta   re  \\\n",
       "0          I      1    1     0      10     AA       0.0      0.0 -6.4  0.0   \n",
       "1          I      1    1     0      20     AA       0.0      0.0 -6.3  0.0   \n",
       "2          I      1    1     0      30     AA       0.0      0.0 -6.3  0.0   \n",
       "3          I      1    1     0      40     AA      27.8      0.4 -6.2  0.0   \n",
       "4          I      1    1     0      50     AA      59.7      0.5 -6.1  0.0   \n",
       "...      ...    ...  ...   ...     ...    ...       ...      ...  ...  ...   \n",
       "3156454    K     12   31    23      10     EC     305.3      7.7  2.5  0.0   \n",
       "3156455    K     12   31    23      20     EC     293.8      5.7  2.3  0.0   \n",
       "3156456    K     12   31    23      30     EC     274.2      4.9  2.2  0.0   \n",
       "3156457    K     12   31    23      40     EC     270.3      4.6  2.1  0.0   \n",
       "3156458    K     12   31    23      50     EC     254.8      4.1  2.1  0.0   \n",
       "\n",
       "           hm  sun10   ts   vis1  class  \n",
       "0        38.9    0.0 -2.8  20000      4  \n",
       "1        37.9    0.0 -2.7  20000      4  \n",
       "2        40.0    0.0 -2.6  20000      4  \n",
       "3        39.5    0.0 -2.6  20000      4  \n",
       "4        39.8    0.0 -2.5  20000      4  \n",
       "...       ...    ...  ...    ...    ...  \n",
       "3156454  50.2    0.0 -0.9  20000      4  \n",
       "3156455  50.1    0.0 -1.3  20000      4  \n",
       "3156456  51.0    0.0 -1.4  20000      4  \n",
       "3156457  51.7    0.0 -1.6  20000      4  \n",
       "3156458  53.3    0.0 -1.7  20000      4  \n",
       "\n",
       "[3156459 rows x 15 columns]>"
      ]
     },
     "execution_count": 7,
     "metadata": {},
     "output_type": "execute_result"
    }
   ],
   "source": [
    "df.info"
   ]
  },
  {
   "cell_type": "code",
   "execution_count": 8,
   "metadata": {},
   "outputs": [
    {
     "data": {
      "text/plain": [
       "<bound method NDFrame.describe of         year  month  day  time  minute stn_id  ws10_deg  ws10_ms   ta   re  \\\n",
       "0          I      1    1     0      10     AA       0.0      0.0 -6.4  0.0   \n",
       "1          I      1    1     0      20     AA       0.0      0.0 -6.3  0.0   \n",
       "2          I      1    1     0      30     AA       0.0      0.0 -6.3  0.0   \n",
       "3          I      1    1     0      40     AA      27.8      0.4 -6.2  0.0   \n",
       "4          I      1    1     0      50     AA      59.7      0.5 -6.1  0.0   \n",
       "...      ...    ...  ...   ...     ...    ...       ...      ...  ...  ...   \n",
       "3156454    K     12   31    23      10     EC     305.3      7.7  2.5  0.0   \n",
       "3156455    K     12   31    23      20     EC     293.8      5.7  2.3  0.0   \n",
       "3156456    K     12   31    23      30     EC     274.2      4.9  2.2  0.0   \n",
       "3156457    K     12   31    23      40     EC     270.3      4.6  2.1  0.0   \n",
       "3156458    K     12   31    23      50     EC     254.8      4.1  2.1  0.0   \n",
       "\n",
       "           hm  sun10   ts   vis1  class  \n",
       "0        38.9    0.0 -2.8  20000      4  \n",
       "1        37.9    0.0 -2.7  20000      4  \n",
       "2        40.0    0.0 -2.6  20000      4  \n",
       "3        39.5    0.0 -2.6  20000      4  \n",
       "4        39.8    0.0 -2.5  20000      4  \n",
       "...       ...    ...  ...    ...    ...  \n",
       "3156454  50.2    0.0 -0.9  20000      4  \n",
       "3156455  50.1    0.0 -1.3  20000      4  \n",
       "3156456  51.0    0.0 -1.4  20000      4  \n",
       "3156457  51.7    0.0 -1.6  20000      4  \n",
       "3156458  53.3    0.0 -1.7  20000      4  \n",
       "\n",
       "[3156459 rows x 15 columns]>"
      ]
     },
     "execution_count": 8,
     "metadata": {},
     "output_type": "execute_result"
    }
   ],
   "source": [
    "df.describe"
   ]
  },
  {
   "cell_type": "code",
   "execution_count": 9,
   "metadata": {},
   "outputs": [
    {
     "data": {
      "text/plain": [
       "Index(['year', 'month', 'day', 'time', 'minute', 'stn_id', 'ws10_deg',\n",
       "       'ws10_ms', 'ta', 're', 'hm', 'sun10', 'ts', 'vis1', 'class'],\n",
       "      dtype='object')"
      ]
     },
     "execution_count": 9,
     "metadata": {},
     "output_type": "execute_result"
    }
   ],
   "source": [
    "df.columns"
   ]
  },
  {
   "cell_type": "code",
   "execution_count": 11,
   "metadata": {},
   "outputs": [
    {
     "data": {
      "text/plain": [
       " 0.0      80275\n",
       "-99.9      5910\n",
       " 270.0     1601\n",
       " 265.9     1535\n",
       " 265.4     1524\n",
       "          ...  \n",
       " 171.4      426\n",
       " 168.2      425\n",
       " 168.7      424\n",
       " 167.9      412\n",
       " 360.0      314\n",
       "Name: ws10_deg, Length: 3602, dtype: int64"
      ]
     },
     "execution_count": 11,
     "metadata": {},
     "output_type": "execute_result"
    }
   ],
   "source": [
    "# # 시간\n",
    "# df['year'].value_counts()\n",
    "# df['month'].value_counts()\n",
    "# df['day'].value_counts()\n",
    "# df['time'].value_counts()\n",
    "# df['stn_id'].value_counts() # 지역\n",
    "\n",
    "# -99 있음\n",
    "# df['ws10_deg'].value_counts() \n",
    "# df['ws10_ms'].value_counts()\n",
    "# df['ta'].value_counts()\n",
    "# df['re'].value_counts()\n",
    "# df['hm'].value_counts()\n",
    "# df['sun10'].value_counts()\n",
    "# df['ts'].value_counts()\n",
    "# df['vis1'].value_counts()\n",
    "# df['class'].value_counts()"
   ]
  },
  {
   "cell_type": "code",
   "execution_count": 11,
   "metadata": {},
   "outputs": [],
   "source": [
    "# 'fog_train.vis1'이나 'fog_train.class' 열의 값이 -99.9인 행을 제거합니다.\n",
    "# df1은 \n",
    "df1 = df[(df['vis1'] != -99) & (df['class'] != -99)]"
   ]
  },
  {
   "cell_type": "code",
   "execution_count": 13,
   "metadata": {},
   "outputs": [
    {
     "data": {
      "text/plain": [
       "4    3101809\n",
       "3      12180\n",
       "2      12088\n",
       "1       7866\n",
       "Name: class, dtype: int64"
      ]
     },
     "execution_count": 13,
     "metadata": {},
     "output_type": "execute_result"
    }
   ],
   "source": [
    "df1\n",
    "df1['class'].value_counts()"
   ]
  },
  {
   "cell_type": "code",
   "execution_count": null,
   "metadata": {},
   "outputs": [],
   "source": [
    "# df1"
   ]
  },
  {
   "cell_type": "code",
   "execution_count": null,
   "metadata": {},
   "outputs": [],
   "source": [
    "# 변수들 -99 NA처리\n",
    "# 스케일 적용\n",
    "# 기단별로 묶기 "
   ]
  },
  {
   "cell_type": "code",
   "execution_count": null,
   "metadata": {},
   "outputs": [],
   "source": []
  },
  {
   "cell_type": "code",
   "execution_count": null,
   "metadata": {},
   "outputs": [],
   "source": []
  },
  {
   "cell_type": "code",
   "execution_count": null,
   "metadata": {},
   "outputs": [],
   "source": []
  },
  {
   "cell_type": "code",
   "execution_count": null,
   "metadata": {},
   "outputs": [],
   "source": []
  },
  {
   "cell_type": "code",
   "execution_count": null,
   "metadata": {},
   "outputs": [],
   "source": []
  },
  {
   "cell_type": "code",
   "execution_count": null,
   "metadata": {},
   "outputs": [],
   "source": []
  },
  {
   "cell_type": "code",
   "execution_count": null,
   "metadata": {},
   "outputs": [],
   "source": []
  },
  {
   "cell_type": "code",
   "execution_count": null,
   "metadata": {},
   "outputs": [],
   "source": []
  }
 ],
 "metadata": {
  "kernelspec": {
   "display_name": "mjh",
   "language": "python",
   "name": "python3"
  },
  "language_info": {
   "codemirror_mode": {
    "name": "ipython",
    "version": 3
   },
   "file_extension": ".py",
   "mimetype": "text/x-python",
   "name": "python",
   "nbconvert_exporter": "python",
   "pygments_lexer": "ipython3",
   "version": "3.9.12"
  }
 },
 "nbformat": 4,
 "nbformat_minor": 2
}
