{
 "cells": [
  {
   "cell_type": "code",
   "execution_count": 4,
   "metadata": {},
   "outputs": [],
   "source": [
    "import pandas as pd\n",
    "import numpy as np\n",
    "import joblib\n",
    "\n",
    "# 데스크탑\n",
    "df = pd.read_csv(\"C:\\\\Users\\\\Hong_PC\\\\Desktop\\\\기상청 날씨 빅데이터 공모전\\\\과제2\\\\fog_train.csv\")\n",
    "\n",
    "# 노트북\n"
   ]
  },
  {
   "cell_type": "code",
   "execution_count": 5,
   "metadata": {},
   "outputs": [],
   "source": [
    "# 1열 제거\n",
    "df = df.drop(columns=[df.columns[0]])\n",
    "# 열 이름의 . 앞에 단어 제거\n",
    "df.columns = [col.split('.')[-1] if '.' in col else col for col in df.columns]"
   ]
  },
  {
   "cell_type": "code",
   "execution_count": 6,
   "metadata": {},
   "outputs": [
    {
     "data": {
      "text/plain": [
       "<bound method NDFrame.head of         year  month  day  time  minute stn_id  ws10_deg  ws10_ms   ta   re  \\\n",
       "0          I      1    1     0      10     AA       0.0      0.0 -6.4  0.0   \n",
       "1          I      1    1     0      20     AA       0.0      0.0 -6.3  0.0   \n",
       "2          I      1    1     0      30     AA       0.0      0.0 -6.3  0.0   \n",
       "3          I      1    1     0      40     AA      27.8      0.4 -6.2  0.0   \n",
       "4          I      1    1     0      50     AA      59.7      0.5 -6.1  0.0   \n",
       "...      ...    ...  ...   ...     ...    ...       ...      ...  ...  ...   \n",
       "3156454    K     12   31    23      10     EC     305.3      7.7  2.5  0.0   \n",
       "3156455    K     12   31    23      20     EC     293.8      5.7  2.3  0.0   \n",
       "3156456    K     12   31    23      30     EC     274.2      4.9  2.2  0.0   \n",
       "3156457    K     12   31    23      40     EC     270.3      4.6  2.1  0.0   \n",
       "3156458    K     12   31    23      50     EC     254.8      4.1  2.1  0.0   \n",
       "\n",
       "           hm  sun10   ts   vis1  class  \n",
       "0        38.9    0.0 -2.8  20000      4  \n",
       "1        37.9    0.0 -2.7  20000      4  \n",
       "2        40.0    0.0 -2.6  20000      4  \n",
       "3        39.5    0.0 -2.6  20000      4  \n",
       "4        39.8    0.0 -2.5  20000      4  \n",
       "...       ...    ...  ...    ...    ...  \n",
       "3156454  50.2    0.0 -0.9  20000      4  \n",
       "3156455  50.1    0.0 -1.3  20000      4  \n",
       "3156456  51.0    0.0 -1.4  20000      4  \n",
       "3156457  51.7    0.0 -1.6  20000      4  \n",
       "3156458  53.3    0.0 -1.7  20000      4  \n",
       "\n",
       "[3156459 rows x 15 columns]>"
      ]
     },
     "execution_count": 6,
     "metadata": {},
     "output_type": "execute_result"
    }
   ],
   "source": [
    "df.head"
   ]
  },
  {
   "cell_type": "code",
   "execution_count": 17,
   "metadata": {},
   "outputs": [
    {
     "name": "stdout",
     "output_type": "stream",
     "text": [
      "<class 'pandas.core.frame.DataFrame'>\n",
      "RangeIndex: 3156459 entries, 0 to 3156458\n",
      "Data columns (total 15 columns):\n",
      " #   Column    Dtype  \n",
      "---  ------    -----  \n",
      " 0   year      object \n",
      " 1   month     int64  \n",
      " 2   day       int64  \n",
      " 3   time      int64  \n",
      " 4   minute    int64  \n",
      " 5   stn_id    object \n",
      " 6   ws10_deg  float64\n",
      " 7   ws10_ms   float64\n",
      " 8   ta        float64\n",
      " 9   re        float64\n",
      " 10  hm        float64\n",
      " 11  sun10     float64\n",
      " 12  ts        float64\n",
      " 13  vis1      int64  \n",
      " 14  class     int64  \n",
      "dtypes: float64(7), int64(6), object(2)\n",
      "memory usage: 361.2+ MB\n"
     ]
    }
   ],
   "source": [
    "df.info()"
   ]
  },
  {
   "cell_type": "code",
   "execution_count": 16,
   "metadata": {},
   "outputs": [
    {
     "data": {
      "text/html": [
       "<div>\n",
       "<style scoped>\n",
       "    .dataframe tbody tr th:only-of-type {\n",
       "        vertical-align: middle;\n",
       "    }\n",
       "\n",
       "    .dataframe tbody tr th {\n",
       "        vertical-align: top;\n",
       "    }\n",
       "\n",
       "    .dataframe thead th {\n",
       "        text-align: right;\n",
       "    }\n",
       "</style>\n",
       "<table border=\"1\" class=\"dataframe\">\n",
       "  <thead>\n",
       "    <tr style=\"text-align: right;\">\n",
       "      <th></th>\n",
       "      <th>month</th>\n",
       "      <th>day</th>\n",
       "      <th>time</th>\n",
       "      <th>minute</th>\n",
       "      <th>ws10_deg</th>\n",
       "      <th>ws10_ms</th>\n",
       "      <th>ta</th>\n",
       "      <th>re</th>\n",
       "      <th>hm</th>\n",
       "      <th>sun10</th>\n",
       "      <th>ts</th>\n",
       "      <th>vis1</th>\n",
       "      <th>class</th>\n",
       "    </tr>\n",
       "  </thead>\n",
       "  <tbody>\n",
       "    <tr>\n",
       "      <th>count</th>\n",
       "      <td>3.156459e+06</td>\n",
       "      <td>3.156459e+06</td>\n",
       "      <td>3.156459e+06</td>\n",
       "      <td>3.156459e+06</td>\n",
       "      <td>3.156459e+06</td>\n",
       "      <td>3.156459e+06</td>\n",
       "      <td>3.156459e+06</td>\n",
       "      <td>3.156459e+06</td>\n",
       "      <td>3.156459e+06</td>\n",
       "      <td>3.156459e+06</td>\n",
       "      <td>3.156459e+06</td>\n",
       "      <td>3.156459e+06</td>\n",
       "      <td>3.156459e+06</td>\n",
       "    </tr>\n",
       "    <tr>\n",
       "      <th>mean</th>\n",
       "      <td>6.521931e+00</td>\n",
       "      <td>1.573276e+01</td>\n",
       "      <td>1.150007e+01</td>\n",
       "      <td>2.500016e+01</td>\n",
       "      <td>1.852152e+02</td>\n",
       "      <td>1.999417e+00</td>\n",
       "      <td>1.328812e+01</td>\n",
       "      <td>-4.298995e-01</td>\n",
       "      <td>6.667729e+01</td>\n",
       "      <td>-1.288869e+00</td>\n",
       "      <td>1.282955e+01</td>\n",
       "      <td>1.963548e+04</td>\n",
       "      <td>3.246275e+00</td>\n",
       "    </tr>\n",
       "    <tr>\n",
       "      <th>std</th>\n",
       "      <td>3.448969e+00</td>\n",
       "      <td>8.801320e+00</td>\n",
       "      <td>6.922149e+00</td>\n",
       "      <td>1.707819e+01</td>\n",
       "      <td>1.072184e+02</td>\n",
       "      <td>4.721616e+00</td>\n",
       "      <td>1.100537e+01</td>\n",
       "      <td>6.929268e+00</td>\n",
       "      <td>2.173623e+01</td>\n",
       "      <td>1.171355e+01</td>\n",
       "      <td>2.257327e+01</td>\n",
       "      <td>1.206407e+04</td>\n",
       "      <td>8.668957e+00</td>\n",
       "    </tr>\n",
       "    <tr>\n",
       "      <th>min</th>\n",
       "      <td>1.000000e+00</td>\n",
       "      <td>1.000000e+00</td>\n",
       "      <td>0.000000e+00</td>\n",
       "      <td>0.000000e+00</td>\n",
       "      <td>-9.990000e+01</td>\n",
       "      <td>-9.990000e+01</td>\n",
       "      <td>-9.990000e+01</td>\n",
       "      <td>-9.990000e+01</td>\n",
       "      <td>-9.990000e+01</td>\n",
       "      <td>-9.990000e+01</td>\n",
       "      <td>-9.990000e+01</td>\n",
       "      <td>-9.900000e+01</td>\n",
       "      <td>-9.900000e+01</td>\n",
       "    </tr>\n",
       "    <tr>\n",
       "      <th>25%</th>\n",
       "      <td>4.000000e+00</td>\n",
       "      <td>8.000000e+00</td>\n",
       "      <td>6.000000e+00</td>\n",
       "      <td>1.000000e+01</td>\n",
       "      <td>8.470000e+01</td>\n",
       "      <td>9.000000e-01</td>\n",
       "      <td>5.500000e+00</td>\n",
       "      <td>0.000000e+00</td>\n",
       "      <td>5.130000e+01</td>\n",
       "      <td>0.000000e+00</td>\n",
       "      <td>5.100000e+00</td>\n",
       "      <td>1.229700e+04</td>\n",
       "      <td>4.000000e+00</td>\n",
       "    </tr>\n",
       "    <tr>\n",
       "      <th>50%</th>\n",
       "      <td>7.000000e+00</td>\n",
       "      <td>1.600000e+01</td>\n",
       "      <td>1.200000e+01</td>\n",
       "      <td>3.000000e+01</td>\n",
       "      <td>2.094000e+02</td>\n",
       "      <td>1.800000e+00</td>\n",
       "      <td>1.430000e+01</td>\n",
       "      <td>0.000000e+00</td>\n",
       "      <td>6.870000e+01</td>\n",
       "      <td>0.000000e+00</td>\n",
       "      <td>1.570000e+01</td>\n",
       "      <td>2.000000e+04</td>\n",
       "      <td>4.000000e+00</td>\n",
       "    </tr>\n",
       "    <tr>\n",
       "      <th>75%</th>\n",
       "      <td>1.000000e+01</td>\n",
       "      <td>2.300000e+01</td>\n",
       "      <td>1.800000e+01</td>\n",
       "      <td>4.000000e+01</td>\n",
       "      <td>2.769000e+02</td>\n",
       "      <td>3.000000e+00</td>\n",
       "      <td>2.200000e+01</td>\n",
       "      <td>0.000000e+00</td>\n",
       "      <td>8.470000e+01</td>\n",
       "      <td>1.600000e-01</td>\n",
       "      <td>2.430000e+01</td>\n",
       "      <td>2.000000e+04</td>\n",
       "      <td>4.000000e+00</td>\n",
       "    </tr>\n",
       "    <tr>\n",
       "      <th>max</th>\n",
       "      <td>1.200000e+01</td>\n",
       "      <td>3.100000e+01</td>\n",
       "      <td>2.300000e+01</td>\n",
       "      <td>5.000000e+01</td>\n",
       "      <td>3.600000e+02</td>\n",
       "      <td>2.250000e+01</td>\n",
       "      <td>3.780000e+01</td>\n",
       "      <td>1.000000e+00</td>\n",
       "      <td>1.000000e+02</td>\n",
       "      <td>2.687000e+01</td>\n",
       "      <td>7.010000e+01</td>\n",
       "      <td>6.052500e+04</td>\n",
       "      <td>4.000000e+00</td>\n",
       "    </tr>\n",
       "  </tbody>\n",
       "</table>\n",
       "</div>"
      ],
      "text/plain": [
       "              month           day          time        minute      ws10_deg  \\\n",
       "count  3.156459e+06  3.156459e+06  3.156459e+06  3.156459e+06  3.156459e+06   \n",
       "mean   6.521931e+00  1.573276e+01  1.150007e+01  2.500016e+01  1.852152e+02   \n",
       "std    3.448969e+00  8.801320e+00  6.922149e+00  1.707819e+01  1.072184e+02   \n",
       "min    1.000000e+00  1.000000e+00  0.000000e+00  0.000000e+00 -9.990000e+01   \n",
       "25%    4.000000e+00  8.000000e+00  6.000000e+00  1.000000e+01  8.470000e+01   \n",
       "50%    7.000000e+00  1.600000e+01  1.200000e+01  3.000000e+01  2.094000e+02   \n",
       "75%    1.000000e+01  2.300000e+01  1.800000e+01  4.000000e+01  2.769000e+02   \n",
       "max    1.200000e+01  3.100000e+01  2.300000e+01  5.000000e+01  3.600000e+02   \n",
       "\n",
       "            ws10_ms            ta            re            hm         sun10  \\\n",
       "count  3.156459e+06  3.156459e+06  3.156459e+06  3.156459e+06  3.156459e+06   \n",
       "mean   1.999417e+00  1.328812e+01 -4.298995e-01  6.667729e+01 -1.288869e+00   \n",
       "std    4.721616e+00  1.100537e+01  6.929268e+00  2.173623e+01  1.171355e+01   \n",
       "min   -9.990000e+01 -9.990000e+01 -9.990000e+01 -9.990000e+01 -9.990000e+01   \n",
       "25%    9.000000e-01  5.500000e+00  0.000000e+00  5.130000e+01  0.000000e+00   \n",
       "50%    1.800000e+00  1.430000e+01  0.000000e+00  6.870000e+01  0.000000e+00   \n",
       "75%    3.000000e+00  2.200000e+01  0.000000e+00  8.470000e+01  1.600000e-01   \n",
       "max    2.250000e+01  3.780000e+01  1.000000e+00  1.000000e+02  2.687000e+01   \n",
       "\n",
       "                 ts          vis1         class  \n",
       "count  3.156459e+06  3.156459e+06  3.156459e+06  \n",
       "mean   1.282955e+01  1.963548e+04  3.246275e+00  \n",
       "std    2.257327e+01  1.206407e+04  8.668957e+00  \n",
       "min   -9.990000e+01 -9.900000e+01 -9.900000e+01  \n",
       "25%    5.100000e+00  1.229700e+04  4.000000e+00  \n",
       "50%    1.570000e+01  2.000000e+04  4.000000e+00  \n",
       "75%    2.430000e+01  2.000000e+04  4.000000e+00  \n",
       "max    7.010000e+01  6.052500e+04  4.000000e+00  "
      ]
     },
     "execution_count": 16,
     "metadata": {},
     "output_type": "execute_result"
    }
   ],
   "source": [
    "df.describe()"
   ]
  },
  {
   "cell_type": "code",
   "execution_count": 9,
   "metadata": {},
   "outputs": [
    {
     "data": {
      "text/plain": [
       "Index(['year', 'month', 'day', 'time', 'minute', 'stn_id', 'ws10_deg',\n",
       "       'ws10_ms', 'ta', 're', 'hm', 'sun10', 'ts', 'vis1', 'class'],\n",
       "      dtype='object')"
      ]
     },
     "execution_count": 9,
     "metadata": {},
     "output_type": "execute_result"
    }
   ],
   "source": [
    "df.columns"
   ]
  },
  {
   "cell_type": "code",
   "execution_count": 15,
   "metadata": {},
   "outputs": [
    {
     "data": {
      "text/plain": [
       " 20000    1107835\n",
       " 50000     201606\n",
       "-99         22516\n",
       " 18750      11609\n",
       " 17647      10327\n",
       "           ...   \n",
       " 46967          1\n",
       " 53604          1\n",
       " 52785          1\n",
       " 52989          1\n",
       " 32370          1\n",
       "Name: vis1, Length: 51037, dtype: int64"
      ]
     },
     "execution_count": 15,
     "metadata": {},
     "output_type": "execute_result"
    }
   ],
   "source": [
    "# # 시간\n",
    "# df['year'].value_counts()\n",
    "# df['month'].value_counts()\n",
    "# df['day'].value_counts()\n",
    "# df['time'].value_counts()\n",
    "# df['stn_id'].value_counts() # 지역\n",
    "\n",
    "# -99 있음\n",
    "# df['ws10_deg'].value_counts() # -99 있음\n",
    "# df['ws10_ms'].value_counts() # -99 있음\n",
    "# df['ta'].value_counts() # -99 있음\n",
    "# df['re'].value_counts() # -99.9 있음\n",
    "# df['hm'].value_counts() # -99 있음\n",
    "# df['sun10'].value_counts() # -99 있음\n",
    "# df['ts'].value_counts() # -99 있음\n",
    "# df['vis1'].value_counts() # -99 있음\n",
    "# df['class'].value_counts() # -99 있음"
   ]
  },
  {
   "cell_type": "code",
   "execution_count": 20,
   "metadata": {},
   "outputs": [],
   "source": [
    "# 'fog_train.vis1'이나 'fog_train.class' 열의 값이 -99.9인 행을 제거합니다.\n",
    "# df1은 \n",
    "df1 = df[(df['vis1'] != -99) & (df['class'] != -99)]"
   ]
  },
  {
   "cell_type": "code",
   "execution_count": 21,
   "metadata": {},
   "outputs": [
    {
     "data": {
      "text/plain": [
       "4    3101809\n",
       "3      12180\n",
       "2      12088\n",
       "1       7866\n",
       "Name: class, dtype: int64"
      ]
     },
     "execution_count": 21,
     "metadata": {},
     "output_type": "execute_result"
    }
   ],
   "source": [
    "df1\n",
    "df1['class'].value_counts()"
   ]
  },
  {
   "cell_type": "code",
   "execution_count": 22,
   "metadata": {},
   "outputs": [
    {
     "name": "stderr",
     "output_type": "stream",
     "text": [
      "C:\\Users\\Hong_PC\\AppData\\Local\\Temp\\ipykernel_9732\\1510763981.py:6: SettingWithCopyWarning: \n",
      "A value is trying to be set on a copy of a slice from a DataFrame.\n",
      "Try using .loc[row_indexer,col_indexer] = value instead\n",
      "\n",
      "See the caveats in the documentation: https://pandas.pydata.org/pandas-docs/stable/user_guide/indexing.html#returning-a-view-versus-a-copy\n",
      "  df1[cols_to_convert] = df1[cols_to_convert].replace(-99.9, np.nan)\n"
     ]
    },
    {
     "name": "stdout",
     "output_type": "stream",
     "text": [
      "  year  month  day  time  minute stn_id  ws10_deg  ws10_ms   ta   re    hm  \\\n",
      "0    I      1    1     0      10     AA       0.0      0.0 -6.4  0.0  38.9   \n",
      "1    I      1    1     0      20     AA       0.0      0.0 -6.3  0.0  37.9   \n",
      "2    I      1    1     0      30     AA       0.0      0.0 -6.3  0.0  40.0   \n",
      "3    I      1    1     0      40     AA      27.8      0.4 -6.2  0.0  39.5   \n",
      "4    I      1    1     0      50     AA      59.7      0.5 -6.1  0.0  39.8   \n",
      "\n",
      "   sun10   ts   vis1  class  \n",
      "0    0.0 -2.8  20000      4  \n",
      "1    0.0 -2.7  20000      4  \n",
      "2    0.0 -2.6  20000      4  \n",
      "3    0.0 -2.6  20000      4  \n",
      "4    0.0 -2.5  20000      4  \n"
     ]
    }
   ],
   "source": [
    "# df1에서 변수들 -99 NA처리\n",
    "# 변환할 열 리스트\n",
    "cols_to_convert = ['ws10_deg', 'ws10_ms', 'ta', 're', 'hm', 'sun10', 'ts']\n",
    "\n",
    "# -99.9 값을 NaN으로 변환\n",
    "df1[cols_to_convert] = df1[cols_to_convert].replace(-99.9, np.nan)\n",
    "\n",
    "# 변경된 데이터프레임을 출력하여 확인합니다.\n",
    "print(df1.head())"
   ]
  },
  {
   "cell_type": "code",
   "execution_count": 28,
   "metadata": {},
   "outputs": [
    {
     "name": "stderr",
     "output_type": "stream",
     "text": [
      "C:\\Users\\Hong_PC\\AppData\\Local\\Temp\\ipykernel_9732\\2727338472.py:2: SettingWithCopyWarning: \n",
      "A value is trying to be set on a copy of a slice from a DataFrame.\n",
      "Try using .loc[row_indexer,col_indexer] = value instead\n",
      "\n",
      "See the caveats in the documentation: https://pandas.pydata.org/pandas-docs/stable/user_guide/indexing.html#returning-a-view-versus-a-copy\n",
      "  df1[cols_to_convert] = df1[cols_to_convert].interpolate(method='linear')\n"
     ]
    },
    {
     "name": "stdout",
     "output_type": "stream",
     "text": [
      "year        0\n",
      "month       0\n",
      "day         0\n",
      "time        0\n",
      "minute      0\n",
      "stn_id      0\n",
      "ws10_deg    0\n",
      "ws10_ms     0\n",
      "ta          0\n",
      "re          0\n",
      "hm          0\n",
      "sun10       0\n",
      "ts          0\n",
      "vis1        0\n",
      "class       0\n",
      "dtype: int64\n",
      "Total missing values:  0\n"
     ]
    }
   ],
   "source": [
    "# 선형보간법을 이용하여 NA값 처리\n",
    "df1[cols_to_convert] = df1[cols_to_convert].interpolate(method='linear')\n",
    "print(df1.isnull().sum())\n",
    "print(\"Total missing values: \", df1.isnull().sum().sum())"
   ]
  },
  {
   "cell_type": "code",
   "execution_count": 42,
   "metadata": {},
   "outputs": [
    {
     "name": "stderr",
     "output_type": "stream",
     "text": [
      "c:\\Users\\Hong_PC\\anaconda3\\lib\\site-packages\\sklearn\\cluster\\_kmeans.py:1412: FutureWarning: The default value of `n_init` will change from 10 to 'auto' in 1.4. Set the value of `n_init` explicitly to suppress the warning\n",
      "  super()._check_params_vs_input(X, default_n_init=10)\n"
     ]
    },
    {
     "name": "stdout",
     "output_type": "stream",
     "text": [
      "0    1786744\n",
      "1    1183971\n",
      "2     163228\n",
      "Name: cluster, dtype: int64\n"
     ]
    }
   ],
   "source": [
    "# 클러스터 적용(n=3)\n",
    "from sklearn.cluster import KMeans\n",
    "from sklearn.preprocessing import MinMaxScaler, LabelEncoder\n",
    "\n",
    "df2 = df1.copy()\n",
    "\n",
    "# 'stn_id' 열을 숫자로 변환\n",
    "label_encoder = LabelEncoder()\n",
    "df2['stn_id'] = label_encoder.fit_transform(df2['stn_id'])\n",
    "\n",
    "# 데이터 정규화\n",
    "numeric_cols = ['month', 'ws10_deg', 'ws10_ms', 'ta', 're', 'hm', 'sun10', 'ts','vis1']\n",
    "scaler = MinMaxScaler()\n",
    "df_scaled = scaler.fit_transform(df2[ numeric_cols])\n",
    "\n",
    "# K-means 클러스터링 적용\n",
    "kmeans = KMeans(n_clusters=3, random_state=1)\n",
    "df2['cluster'] = kmeans.fit_predict(df_scaled)\n",
    "\n",
    "# 클러스터링 결과를 출력합니다.\n",
    "print(df2['cluster'].value_counts())"
   ]
  },
  {
   "cell_type": "code",
   "execution_count": 43,
   "metadata": {},
   "outputs": [
    {
     "name": "stdout",
     "output_type": "stream",
     "text": [
      "month          1         2         3         4         5         6         7   \\\n",
      "cluster                                                                         \n",
      "0             0.0       0.0       0.0     208.0   65877.0  236688.0  240599.0   \n",
      "1        255579.0  235742.0  252424.0  248621.0  188073.0    3532.0       0.0   \n",
      "2         11408.0    8459.0   14423.0    9742.0   12998.0   17170.0   23578.0   \n",
      "\n",
      "month          8         9         10        11        12  \n",
      "cluster                                                    \n",
      "0        237326.0  240247.0  254999.0  248981.0  261819.0  \n",
      "1             0.0       0.0       0.0       0.0       0.0  \n",
      "2         26058.0   17982.0    8584.0    7908.0    4918.0  \n"
     ]
    },
    {
     "data": {
      "image/png": "[encoded data removed]",
      "text/plain": [
       "<Figure size 1500x1000 with 4 Axes>"
      ]
     },
     "metadata": {},
     "output_type": "display_data"
    }
   ],
   "source": [
    "import matplotlib.pyplot as plt\n",
    "# 각 클러스터별로 월별 데이터 개수를 계산합니다.\n",
    "cluster_month_counts = df2.groupby('cluster')['month'].value_counts().unstack().fillna(0)\n",
    "\n",
    "# 클러스터별 월별 데이터 개수 출력\n",
    "print(cluster_month_counts)\n",
    "\n",
    "# 그래프 그리기\n",
    "fig, axes = plt.subplots(2, 2, figsize=(15, 10), sharey=True)\n",
    "\n",
    "for i, ax in enumerate(axes.flatten()):\n",
    "    if i in cluster_month_counts.index:\n",
    "        cluster_month_counts.loc[i].plot(kind='bar', ax=ax)\n",
    "        ax.set_title(f'Cluster {i}')\n",
    "        ax.set_xlabel('Month')\n",
    "        ax.set_ylabel('Count')\n",
    "\n",
    "plt.tight_layout()\n",
    "plt.show()"
   ]
  },
  {
   "cell_type": "code",
   "execution_count": null,
   "metadata": {},
   "outputs": [],
   "source": [
    "# 클러스터 적용(n=3)\n",
    "from sklearn.cluster import KMeans\n",
    "from sklearn.preprocessing import MinMaxScaler, LabelEncoder\n",
    "\n",
    "df2 = df1.copy()\n",
    "\n",
    "# 'stn_id' 열을 숫자로 변환\n",
    "label_encoder = LabelEncoder()\n",
    "df2['stn_id'] = label_encoder.fit_transform(df2['stn_id'])\n",
    "\n",
    "# 데이터 정규화\n",
    "numeric_cols = ['month', 'ws10_deg', 'ws10_ms', 'ta', 're', 'hm', 'sun10', 'ts','vis1']\n",
    "scaler = MinMaxScaler()\n",
    "df_scaled = scaler.fit_transform(df2[ numeric_cols])\n",
    "\n",
    "# K-means 클러스터링 적용\n",
    "kmeans = KMeans(n_clusters=4, random_state=1)\n",
    "df2['cluster'] = kmeans.fit_predict(df_scaled)\n",
    "\n",
    "# 클러스터링 결과를 출력합니다.\n",
    "print(df2['cluster'].value_counts())"
   ]
  },
  {
   "cell_type": "code",
   "execution_count": null,
   "metadata": {},
   "outputs": [],
   "source": [
    "import matplotlib.pyplot as plt\n",
    "# 각 클러스터별로 월별 데이터 개수를 계산합니다.\n",
    "cluster_month_counts = df2.groupby('cluster')['month'].value_counts().unstack().fillna(0)\n",
    "\n",
    "# 클러스터별 월별 데이터 개수 출력\n",
    "print(cluster_month_counts)\n",
    "\n",
    "# 그래프 그리기\n",
    "fig, axes = plt.subplots(2, 2, figsize=(15, 10), sharey=True)\n",
    "\n",
    "for i, ax in enumerate(axes.flatten()):\n",
    "    if i in cluster_month_counts.index:\n",
    "        cluster_month_counts.loc[i].plot(kind='bar', ax=ax)\n",
    "        ax.set_title(f'Cluster {i}')\n",
    "        ax.set_xlabel('Month')\n",
    "        ax.set_ylabel('Count')\n",
    "\n",
    "plt.tight_layout()\n",
    "plt.show()"
   ]
  },
  {
   "cell_type": "code",
   "execution_count": null,
   "metadata": {},
   "outputs": [],
   "source": [
    "# 스케일 적용\n",
    "# 기단별로 묶기 "
   ]
  },
  {
   "cell_type": "code",
   "execution_count": null,
   "metadata": {},
   "outputs": [],
   "source": []
  },
  {
   "cell_type": "code",
   "execution_count": null,
   "metadata": {},
   "outputs": [],
   "source": []
  },
  {
   "cell_type": "code",
   "execution_count": null,
   "metadata": {},
   "outputs": [],
   "source": []
  },
  {
   "cell_type": "code",
   "execution_count": null,
   "metadata": {},
   "outputs": [],
   "source": []
  },
  {
   "cell_type": "code",
   "execution_count": null,
   "metadata": {},
   "outputs": [],
   "source": []
  },
  {
   "cell_type": "code",
   "execution_count": null,
   "metadata": {},
   "outputs": [],
   "source": []
  },
  {
   "cell_type": "code",
   "execution_count": null,
   "metadata": {},
   "outputs": [],
   "source": []
  },
  {
   "cell_type": "code",
   "execution_count": null,
   "metadata": {},
   "outputs": [],
   "source": []
  }
 ],
 "metadata": {
  "kernelspec": {
   "display_name": "mjh",
   "language": "python",
   "name": "python3"
  },
  "language_info": {
   "codemirror_mode": {
    "name": "ipython",
    "version": 3
   },
   "file_extension": ".py",
   "mimetype": "text/x-python",
   "name": "python",
   "nbconvert_exporter": "python",
   "pygments_lexer": "ipython3",
   "version": "3.9.12"
  }
 },
 "nbformat": 4,
 "nbformat_minor": 2
}
