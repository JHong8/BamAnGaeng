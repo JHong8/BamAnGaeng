{
 "cells": [
  {
   "cell_type": "markdown",
   "metadata": {},
   "source": [
    "* 개선을 위한 방법\n",
    "1. 마지막엔 test을 나누지말고 그냥 전부 train 시켜버린다\n",
    "2. 쓸데 없는 열을 버려본다?\n",
    "3. 앙상블 모델을 써볼까?"
   ]
  },
  {
   "cell_type": "code",
   "execution_count": 1,
   "metadata": {},
   "outputs": [],
   "source": [
    "import pandas as pd\n",
    "import numpy as np\n",
    "import joblib\n",
    "import math\n",
    "from keras.models import load_model\n",
    "\n",
    "import xgboost as xgb\n",
    "from sklearn.preprocessing import MinMaxScaler, LabelEncoder\n",
    "from sklearn.model_selection import train_test_split\n",
    "from tensorflow.keras.models import Sequential\n",
    "from tensorflow.keras.layers import LSTM, Dense, Bidirectional, Dropout\n",
    "from tensorflow.keras.callbacks import EarlyStopping\n",
    "from sklearn.metrics import confusion_matrix\n",
    "\n",
    "import matplotlib.pyplot as plt\n",
    "import seaborn as sns"
   ]
  },
  {
   "cell_type": "markdown",
   "metadata": {},
   "source": [
    "# 1. 데이터 불러오기 및 파악"
   ]
  },
  {
   "cell_type": "code",
   "execution_count": 2,
   "metadata": {},
   "outputs": [],
   "source": [
    "# 데스크탑\n",
    "df = pd.read_csv(\"C:\\\\Users\\\\Hong_PC\\\\Desktop\\\\기상청 날씨 빅데이터 공모전\\\\과제2\\\\fog_train.csv\", index_col=0)\n",
    "\n",
    "# 노트북\n",
    "# df = pd.read_csv(\"C:\\\\Users\\\\User\\\\Desktop\\\\기상청 날씨 빅데이터 공모전\\\\과제2\\\\fog_train.csv\", index_col=0)"
   ]
  },
  {
   "cell_type": "code",
   "execution_count": 3,
   "metadata": {},
   "outputs": [],
   "source": [
    "# 열 이름의 . 앞에 단어 제거\n",
    "df.columns = [col.split('.')[-1] if '.' in col else col for col in df.columns]"
   ]
  },
  {
   "cell_type": "code",
   "execution_count": 4,
   "metadata": {},
   "outputs": [],
   "source": [
    "# # 시간\n",
    "# df['year'].value_counts() # 년도\n",
    "# df['month'].value_counts() # 월\n",
    "# df['day'].value_counts() # 일\n",
    "# df['time'].value_counts() # 시간(0~23)\n",
    "# df['minute'].value_counts() # 분(10분 단위)\n",
    "# df['stn_id'].value_counts() # 지점 번호\n",
    "\n",
    "# -99 있음\n",
    "# df['ws10_deg'].value_counts() # 10분 평균 풍향, 단위 : deg\n",
    "# df['ws10_ms'].value_counts() # 10분 평균 풍속, 단위 : m/s\n",
    "# df['ta'].value_counts() # 1분 평균 기온 10분 주기, 단위 : C\n",
    "# df['re'].value_counts() # 강수 유무(0:무강수, 1:강수)\n",
    "# df['hm'].value_counts() # 1분 평균 상대 습도 10분 주기, 단위 : %\n",
    "# df['sun10'].value_counts() # 1분 일사량 10분 단위 합계, 단위 : MJ\n",
    "# df['ts'].value_counts() # 1분 평균 지면온도 10분 주기, 단위 : C\n",
    "# df['vis1'].value_counts() # 1분 평균 시정 10분 주기, 단위 : C(test데이터 셋엔 없음)\n",
    "# df['class'].value_counts() # 시정 구간\n",
    "\n",
    "# 파생변수"
   ]
  },
  {
   "cell_type": "markdown",
   "metadata": {},
   "source": [
    "# 2. 문자열 데이터 정리"
   ]
  },
  {
   "cell_type": "markdown",
   "metadata": {},
   "source": [
    "## 2-1. year열 I,J,K 순으로 0,1,2로 맵핑"
   ]
  },
  {
   "cell_type": "code",
   "execution_count": 5,
   "metadata": {},
   "outputs": [],
   "source": [
    "# year열 I,J,K 순으로 0,1,2로 맵핑\n",
    "df['year'].value_counts()\n",
    "df['year'] = df['year'].map({'I': 0, 'J': 1, 'K': 2})"
   ]
  },
  {
   "cell_type": "markdown",
   "metadata": {},
   "source": [
    "## 2-2. 20개 지점을 5개의 지역으로 수치화"
   ]
  },
  {
   "cell_type": "code",
   "execution_count": 6,
   "metadata": {},
   "outputs": [],
   "source": [
    "# region는 stn_id에서 앞글자만 가져오고 숫자화\n",
    "df['region'] = df['stn_id'].str[0]\n",
    "# 알파벳 순서에 따라 번호를 부여\n",
    "alphabet_order = {char: idx for idx, char in enumerate(sorted(df['region'].unique()))}\n",
    "df['region'] = df['region'].map(alphabet_order)\n",
    "\n",
    "# stn_id를 숫자화\n",
    "# 원하는 순서대로 레이블을 숫자로 매핑하는 딕셔너리 생성\n",
    "stn_id_mapping = {v: k for k, v in enumerate(['AA', 'AB', 'AC', 'AD', 'AE', 'AF', 'AG', 'AH', \n",
    "                                              'BA', 'BB', 'BC', 'BD', 'CA', 'CB', 'DA', 'DB', \n",
    "                                              'DC', 'EA', 'EB', 'EC'])}\n",
    "# stn_id 열에 대해 딕셔너리를 적용하여 숫자로 변환\n",
    "df['stn_id'] = df['stn_id'].map(stn_id_mapping)"
   ]
  },
  {
   "cell_type": "markdown",
   "metadata": {},
   "source": [
    "# 3. 독립변수 결측치 처리"
   ]
  },
  {
   "cell_type": "code",
   "execution_count": 7,
   "metadata": {},
   "outputs": [
    {
     "name": "stdout",
     "output_type": "stream",
     "text": [
      "year        0\n",
      "month       0\n",
      "day         0\n",
      "time        0\n",
      "minute      0\n",
      "stn_id      0\n",
      "ws10_deg    0\n",
      "ws10_ms     0\n",
      "ta          0\n",
      "re          0\n",
      "hm          0\n",
      "sun10       0\n",
      "ts          0\n",
      "vis1        0\n",
      "class       0\n",
      "region      0\n",
      "dtype: int64\n"
     ]
    }
   ],
   "source": [
    "# 방법2 : -99.9를 NA 처리후 선형보간법\n",
    "# df에서 변수들 -99 NA처리\n",
    "# 변환할 열 리스트\n",
    "numeric_cols = ['stn_id', 'ws10_deg', 'ws10_ms', 'ta', 'hm', 'sun10', 'ts']\n",
    "\n",
    "# -99.9 값을 NaN으로 변환\n",
    "df[numeric_cols] = df[numeric_cols].replace(-99.9, np.nan)\n",
    "\n",
    "# 선형보간법을 이용하여 NA값 처리\n",
    "df[numeric_cols] = df[numeric_cols].interpolate(method='linear')\n",
    "# 강수 유무에 대해선 전의 값으로 채움\n",
    "df['re'] = df['re'].interpolate(method='ffill')\n",
    "\n",
    "print(df.isnull().sum())"
   ]
  },
  {
   "cell_type": "markdown",
   "metadata": {},
   "source": [
    "# 4. 이상치 처리"
   ]
  },
  {
   "cell_type": "code",
   "execution_count": 8,
   "metadata": {},
   "outputs": [],
   "source": [
    "# 인덱스 안쓰는 방식으로 수정\n",
    "features = df.columns.difference(['year', 'month', 'day', 'time','minute', 'stn_id', 're', 'vis1', 'class','region'])\n",
    "\n",
    "# 이상치 탐지 함수\n",
    "def detect_outliers(df, features):\n",
    "    for feature in features:\n",
    "        data = df[feature]\n",
    "        mean = data.mean()\n",
    "        std = data.std()\n",
    "        ucl = mean + 3 * std\n",
    "        lcl = mean - 3 * std\n",
    "        outliers = (data > ucl) | (data < lcl)\n",
    "        df.loc[outliers, feature] = np.nan\n",
    "        df[feature] = df[feature].interpolate(method='linear')  # 선형보간법\n",
    "        # method='ffill', 'bfill'쓰면 직전 값, 직후 값으로 대체 가능\n",
    "        # .interpolate(method='polynomial', order=2) # 2차 다항식 보간법\n",
    "        # .interpolate(method='linear') # 선형보간법\n",
    "    return df\n",
    "\n",
    "df = detect_outliers(df,features)"
   ]
  },
  {
   "cell_type": "markdown",
   "metadata": {},
   "source": [
    "# 6. class 결측치 채우기"
   ]
  },
  {
   "cell_type": "markdown",
   "metadata": {},
   "source": [
    "**파생변수**"
   ]
  },
  {
   "cell_type": "code",
   "execution_count": 9,
   "metadata": {},
   "outputs": [],
   "source": [
    "# 모델 돌리기 위해 계절별 MINMAX를 해야함\n",
    "# 그럴라면 파생변수 season이 필요\n",
    "\n",
    "# 계절(봄 : 0, 여름 : 1, 가을 : 2, 겨울 : 3)\n",
    "# 계절을 매핑하는 함수\n",
    "def map_season(month):\n",
    "    if month in [3, 4, 5]:\n",
    "        return 0  # 봄\n",
    "    elif month in [6, 7, 8]:\n",
    "        return 1  # 여름\n",
    "    elif month in [9, 10, 11]:\n",
    "        return 2  # 가을\n",
    "    else:\n",
    "        return 3  # 겨울\n",
    "\n",
    "df['season'] = df['month'].apply(map_season)\n"
   ]
  },
  {
   "cell_type": "markdown",
   "metadata": {},
   "source": [
    "## 6-1. xgr를 활용하여 vis1 결측값 예측한 후, 해당 예측값을 결측값을 대체"
   ]
  },
  {
   "cell_type": "code",
   "execution_count": 10,
   "metadata": {},
   "outputs": [
    {
     "data": {
      "text/html": [
       "<div>\n",
       "<style scoped>\n",
       "    .dataframe tbody tr th:only-of-type {\n",
       "        vertical-align: middle;\n",
       "    }\n",
       "\n",
       "    .dataframe tbody tr th {\n",
       "        vertical-align: top;\n",
       "    }\n",
       "\n",
       "    .dataframe thead th {\n",
       "        text-align: right;\n",
       "    }\n",
       "</style>\n",
       "<table border=\"1\" class=\"dataframe\">\n",
       "  <thead>\n",
       "    <tr style=\"text-align: right;\">\n",
       "      <th></th>\n",
       "      <th>year</th>\n",
       "      <th>month</th>\n",
       "      <th>day</th>\n",
       "      <th>time</th>\n",
       "      <th>minute</th>\n",
       "      <th>stn_id</th>\n",
       "      <th>ws10_deg</th>\n",
       "      <th>ws10_ms</th>\n",
       "      <th>ta</th>\n",
       "      <th>re</th>\n",
       "      <th>hm</th>\n",
       "      <th>sun10</th>\n",
       "      <th>ts</th>\n",
       "      <th>vis1</th>\n",
       "      <th>class</th>\n",
       "      <th>region</th>\n",
       "      <th>season</th>\n",
       "    </tr>\n",
       "  </thead>\n",
       "  <tbody>\n",
       "    <tr>\n",
       "      <th>1</th>\n",
       "      <td>0</td>\n",
       "      <td>1</td>\n",
       "      <td>1</td>\n",
       "      <td>0</td>\n",
       "      <td>10</td>\n",
       "      <td>0</td>\n",
       "      <td>0.0</td>\n",
       "      <td>0.00</td>\n",
       "      <td>-6.4</td>\n",
       "      <td>0.0</td>\n",
       "      <td>38.9</td>\n",
       "      <td>0.0</td>\n",
       "      <td>-2.8</td>\n",
       "      <td>20000</td>\n",
       "      <td>4</td>\n",
       "      <td>0</td>\n",
       "      <td>3</td>\n",
       "    </tr>\n",
       "    <tr>\n",
       "      <th>2</th>\n",
       "      <td>0</td>\n",
       "      <td>1</td>\n",
       "      <td>1</td>\n",
       "      <td>0</td>\n",
       "      <td>20</td>\n",
       "      <td>0</td>\n",
       "      <td>0.0</td>\n",
       "      <td>0.00</td>\n",
       "      <td>-6.3</td>\n",
       "      <td>0.0</td>\n",
       "      <td>37.9</td>\n",
       "      <td>0.0</td>\n",
       "      <td>-2.7</td>\n",
       "      <td>20000</td>\n",
       "      <td>4</td>\n",
       "      <td>0</td>\n",
       "      <td>3</td>\n",
       "    </tr>\n",
       "    <tr>\n",
       "      <th>3</th>\n",
       "      <td>0</td>\n",
       "      <td>1</td>\n",
       "      <td>1</td>\n",
       "      <td>0</td>\n",
       "      <td>30</td>\n",
       "      <td>0</td>\n",
       "      <td>0.0</td>\n",
       "      <td>0.00</td>\n",
       "      <td>-6.3</td>\n",
       "      <td>0.0</td>\n",
       "      <td>40.0</td>\n",
       "      <td>0.0</td>\n",
       "      <td>-2.6</td>\n",
       "      <td>20000</td>\n",
       "      <td>4</td>\n",
       "      <td>0</td>\n",
       "      <td>3</td>\n",
       "    </tr>\n",
       "    <tr>\n",
       "      <th>4</th>\n",
       "      <td>0</td>\n",
       "      <td>1</td>\n",
       "      <td>1</td>\n",
       "      <td>0</td>\n",
       "      <td>40</td>\n",
       "      <td>0</td>\n",
       "      <td>27.8</td>\n",
       "      <td>0.40</td>\n",
       "      <td>-6.2</td>\n",
       "      <td>0.0</td>\n",
       "      <td>39.5</td>\n",
       "      <td>0.0</td>\n",
       "      <td>-2.6</td>\n",
       "      <td>20000</td>\n",
       "      <td>4</td>\n",
       "      <td>0</td>\n",
       "      <td>3</td>\n",
       "    </tr>\n",
       "    <tr>\n",
       "      <th>5</th>\n",
       "      <td>0</td>\n",
       "      <td>1</td>\n",
       "      <td>1</td>\n",
       "      <td>0</td>\n",
       "      <td>50</td>\n",
       "      <td>0</td>\n",
       "      <td>59.7</td>\n",
       "      <td>0.50</td>\n",
       "      <td>-6.1</td>\n",
       "      <td>0.0</td>\n",
       "      <td>39.8</td>\n",
       "      <td>0.0</td>\n",
       "      <td>-2.5</td>\n",
       "      <td>20000</td>\n",
       "      <td>4</td>\n",
       "      <td>0</td>\n",
       "      <td>3</td>\n",
       "    </tr>\n",
       "    <tr>\n",
       "      <th>...</th>\n",
       "      <td>...</td>\n",
       "      <td>...</td>\n",
       "      <td>...</td>\n",
       "      <td>...</td>\n",
       "      <td>...</td>\n",
       "      <td>...</td>\n",
       "      <td>...</td>\n",
       "      <td>...</td>\n",
       "      <td>...</td>\n",
       "      <td>...</td>\n",
       "      <td>...</td>\n",
       "      <td>...</td>\n",
       "      <td>...</td>\n",
       "      <td>...</td>\n",
       "      <td>...</td>\n",
       "      <td>...</td>\n",
       "      <td>...</td>\n",
       "    </tr>\n",
       "    <tr>\n",
       "      <th>3156455</th>\n",
       "      <td>2</td>\n",
       "      <td>12</td>\n",
       "      <td>31</td>\n",
       "      <td>23</td>\n",
       "      <td>10</td>\n",
       "      <td>19</td>\n",
       "      <td>305.3</td>\n",
       "      <td>6.15</td>\n",
       "      <td>2.5</td>\n",
       "      <td>0.0</td>\n",
       "      <td>50.2</td>\n",
       "      <td>0.0</td>\n",
       "      <td>-0.9</td>\n",
       "      <td>20000</td>\n",
       "      <td>4</td>\n",
       "      <td>4</td>\n",
       "      <td>3</td>\n",
       "    </tr>\n",
       "    <tr>\n",
       "      <th>3156456</th>\n",
       "      <td>2</td>\n",
       "      <td>12</td>\n",
       "      <td>31</td>\n",
       "      <td>23</td>\n",
       "      <td>20</td>\n",
       "      <td>19</td>\n",
       "      <td>293.8</td>\n",
       "      <td>5.70</td>\n",
       "      <td>2.3</td>\n",
       "      <td>0.0</td>\n",
       "      <td>50.1</td>\n",
       "      <td>0.0</td>\n",
       "      <td>-1.3</td>\n",
       "      <td>20000</td>\n",
       "      <td>4</td>\n",
       "      <td>4</td>\n",
       "      <td>3</td>\n",
       "    </tr>\n",
       "    <tr>\n",
       "      <th>3156457</th>\n",
       "      <td>2</td>\n",
       "      <td>12</td>\n",
       "      <td>31</td>\n",
       "      <td>23</td>\n",
       "      <td>30</td>\n",
       "      <td>19</td>\n",
       "      <td>274.2</td>\n",
       "      <td>4.90</td>\n",
       "      <td>2.2</td>\n",
       "      <td>0.0</td>\n",
       "      <td>51.0</td>\n",
       "      <td>0.0</td>\n",
       "      <td>-1.4</td>\n",
       "      <td>20000</td>\n",
       "      <td>4</td>\n",
       "      <td>4</td>\n",
       "      <td>3</td>\n",
       "    </tr>\n",
       "    <tr>\n",
       "      <th>3156458</th>\n",
       "      <td>2</td>\n",
       "      <td>12</td>\n",
       "      <td>31</td>\n",
       "      <td>23</td>\n",
       "      <td>40</td>\n",
       "      <td>19</td>\n",
       "      <td>270.3</td>\n",
       "      <td>4.60</td>\n",
       "      <td>2.1</td>\n",
       "      <td>0.0</td>\n",
       "      <td>51.7</td>\n",
       "      <td>0.0</td>\n",
       "      <td>-1.6</td>\n",
       "      <td>20000</td>\n",
       "      <td>4</td>\n",
       "      <td>4</td>\n",
       "      <td>3</td>\n",
       "    </tr>\n",
       "    <tr>\n",
       "      <th>3156459</th>\n",
       "      <td>2</td>\n",
       "      <td>12</td>\n",
       "      <td>31</td>\n",
       "      <td>23</td>\n",
       "      <td>50</td>\n",
       "      <td>19</td>\n",
       "      <td>254.8</td>\n",
       "      <td>4.10</td>\n",
       "      <td>2.1</td>\n",
       "      <td>0.0</td>\n",
       "      <td>53.3</td>\n",
       "      <td>0.0</td>\n",
       "      <td>-1.7</td>\n",
       "      <td>20000</td>\n",
       "      <td>4</td>\n",
       "      <td>4</td>\n",
       "      <td>3</td>\n",
       "    </tr>\n",
       "  </tbody>\n",
       "</table>\n",
       "<p>3156459 rows × 17 columns</p>\n",
       "</div>"
      ],
      "text/plain": [
       "         year  month  day  time  minute  stn_id  ws10_deg  ws10_ms   ta   re  \\\n",
       "1           0      1    1     0      10       0       0.0     0.00 -6.4  0.0   \n",
       "2           0      1    1     0      20       0       0.0     0.00 -6.3  0.0   \n",
       "3           0      1    1     0      30       0       0.0     0.00 -6.3  0.0   \n",
       "4           0      1    1     0      40       0      27.8     0.40 -6.2  0.0   \n",
       "5           0      1    1     0      50       0      59.7     0.50 -6.1  0.0   \n",
       "...       ...    ...  ...   ...     ...     ...       ...      ...  ...  ...   \n",
       "3156455     2     12   31    23      10      19     305.3     6.15  2.5  0.0   \n",
       "3156456     2     12   31    23      20      19     293.8     5.70  2.3  0.0   \n",
       "3156457     2     12   31    23      30      19     274.2     4.90  2.2  0.0   \n",
       "3156458     2     12   31    23      40      19     270.3     4.60  2.1  0.0   \n",
       "3156459     2     12   31    23      50      19     254.8     4.10  2.1  0.0   \n",
       "\n",
       "           hm  sun10   ts   vis1  class  region  season  \n",
       "1        38.9    0.0 -2.8  20000      4       0       3  \n",
       "2        37.9    0.0 -2.7  20000      4       0       3  \n",
       "3        40.0    0.0 -2.6  20000      4       0       3  \n",
       "4        39.5    0.0 -2.6  20000      4       0       3  \n",
       "5        39.8    0.0 -2.5  20000      4       0       3  \n",
       "...       ...    ...  ...    ...    ...     ...     ...  \n",
       "3156455  50.2    0.0 -0.9  20000      4       4       3  \n",
       "3156456  50.1    0.0 -1.3  20000      4       4       3  \n",
       "3156457  51.0    0.0 -1.4  20000      4       4       3  \n",
       "3156458  51.7    0.0 -1.6  20000      4       4       3  \n",
       "3156459  53.3    0.0 -1.7  20000      4       4       3  \n",
       "\n",
       "[3156459 rows x 17 columns]"
      ]
     },
     "execution_count": 10,
     "metadata": {},
     "output_type": "execute_result"
    }
   ],
   "source": [
    "df"
   ]
  },
  {
   "cell_type": "code",
   "execution_count": 11,
   "metadata": {},
   "outputs": [],
   "source": [
    "# df_xgr 데이터프레임을 복사하여 사용합니다. 'class'는 초기에 'XGR'로 채워져 있다고 가정합니다.\n",
    "df_xgr = df.copy()\n",
    "\n",
    "# 클래스 분포를 확인하는 함수를 정의합니다.\n",
    "def count_classes(df):\n",
    "    return df['class'].value_counts()"
   ]
  },
  {
   "cell_type": "code",
   "execution_count": 12,
   "metadata": {},
   "outputs": [],
   "source": [
    "# 초기 클래스 분포를 저장합니다.\n",
    "initial_class_counts = count_classes(df_xgr)\n",
    "\n",
    "# 'vis1'이 결측치가 아닌 행과 결측치인 행을 구분합니다.\n",
    "train_data = df_xgr[df_xgr['vis1'] != -99]\n",
    "test_data = df_xgr[df_xgr['vis1'] == -99]\n",
    "\n",
    "# 'vis1'과 'class'를 제외한 열을 feature로 선택합니다.\n",
    "features = df_xgr.columns.difference(['vis1', 'class'])\n",
    "\n",
    "# train 데이터의 feature와 target을 분리합니다.\n",
    "X_train = train_data[features]\n",
    "y_train = train_data['vis1']\n",
    "\n",
    "# test 데이터의 feature를 선택합니다.\n",
    "X_test = test_data[features]"
   ]
  },
  {
   "cell_type": "code",
   "execution_count": 13,
   "metadata": {},
   "outputs": [],
   "source": [
    "# 실제 수치형 데이터만 포함하는 리스트를 생성합니다.\n",
    "numeric_features = ['ws10_deg', 'ws10_ms', 'ta', 'hm', 'sun10', 'ts']\n",
    "# 계절을 반영한 MINMAX 스케일러 객체를 생성합니다.\n",
    "minmax_scaler = MinMaxScaler()\n",
    "\n",
    "# train 데이터를 기반으로 스케일러를 학습하고, train과 test 데이터 모두에 스케일링을 적용합니다.\n",
    "X_train_scaled = X_train.copy()\n",
    "X_test_scaled = X_test.copy()\n",
    "\n",
    "# 'season' 열을 기반으로 각 계절에 따라 스케일링을 적용합니다.\n",
    "for season_value in range(4):  # 계절은 0부터 3까지의 값이 있습니다.\n",
    "    train_mask = X_train_scaled['season'] == season_value\n",
    "    test_mask = X_test_scaled['season'] == season_value\n",
    "    if train_mask.sum() > 0:\n",
    "        X_train_scaled.loc[train_mask, numeric_features] = minmax_scaler.fit_transform(X_train_scaled.loc[train_mask, numeric_features])\n",
    "    if test_mask.sum() > 0:\n",
    "        X_test_scaled.loc[test_mask, numeric_features] = minmax_scaler.transform(X_test_scaled.loc[test_mask, numeric_features])"
   ]
  },
  {
   "cell_type": "code",
   "execution_count": 14,
   "metadata": {},
   "outputs": [],
   "source": [
    "# XGBoost 회귀 모델을 학습하고 예측합니다.\n",
    "xgb_model = xgb.XGBRegressor(objective='reg:squarederror')\n",
    "xgb_model.fit(X_train_scaled, y_train)\n",
    "y_pred = xgb_model.predict(X_test_scaled)\n",
    "\n",
    "# 예측된 값으로 test 데이터의 'vis1'의 결측치를 대체합니다.\n",
    "test_data.loc[test_data['vis1'] == -99, 'vis1'] = y_pred[test_data['vis1'] == -99]\n",
    "\n",
    "# 'vis1' 값을 기반으로 'class'를 분류하는 함수를 정의합니다.\n",
    "def classify_visibility(vis1):\n",
    "    if vis1 < 200:\n",
    "        return 1\n",
    "    elif vis1 < 500:\n",
    "        return 2\n",
    "    elif vis1 < 1000:\n",
    "        return 3\n",
    "    else:\n",
    "        return 4\n",
    "\n",
    "# test 데이터에 대해 'class' 값을 예측합니다.\n",
    "test_data.loc[test_data['class'] == -99, 'class'] = test_data.loc[test_data['class'] == -99, 'vis1'].apply(classify_visibility)"
   ]
  },
  {
   "cell_type": "code",
   "execution_count": null,
   "metadata": {},
   "outputs": [
    {
     "name": "stdout",
     "output_type": "stream",
     "text": [
      "초기 클래스 분포:\n",
      "  4     3101809\n",
      "-99      22516\n",
      " 3       12180\n",
      " 2       12088\n",
      " 1        7866\n",
      "Name: class, dtype: int64\n",
      "최종 클래스 분포:\n",
      " 4.0    3124140\n",
      "3.0      12226\n",
      "2.0      12102\n",
      "1.0       7991\n",
      "Name: class, dtype: int64\n"
     ]
    }
   ],
   "source": [
    "# 전체 데이터프레임에 test 데이터의 변경 사항을 반영합니다.\n",
    "df_xgr.update(test_data)\n",
    "\n",
    "# 예측된 'vis1' 값을 기반으로 한 최종 'class' 분포를 계산합니다.\n",
    "final_class_counts = count_classes(df_xgr)\n",
    "\n",
    "# 초기 클래스 분포와 최종 클래스 분포를 계산하여 출력합니다.\n",
    "print(\"초기 클래스 분포:\\n\", initial_class_counts)\n",
    "print(\"최종 클래스 분포:\\n\", final_class_counts)\n",
    "\n",
    "# 예측된 클래스 분포를 시각화합니다.\n",
    "df_pred_class = pd.DataFrame({'y_pred': y_pred})\n",
    "df_pred_class['pred_class'] = df_pred_class['y_pred'].apply(classify_visibility)"
   ]
  },
  {
   "cell_type": "code",
   "execution_count": null,
   "metadata": {},
   "outputs": [
    {
     "name": "stderr",
     "output_type": "stream",
     "text": [
      "c:\\Users\\User\\anaconda3\\lib\\site-packages\\IPython\\core\\pylabtools.py:151: UserWarning: Glyph 50696 (\\N{HANGUL SYLLABLE YE}) missing from current font.\n",
      "  fig.canvas.print_figure(bytes_io, **kw)\n",
      "c:\\Users\\User\\anaconda3\\lib\\site-packages\\IPython\\core\\pylabtools.py:151: UserWarning: Glyph 52769 (\\N{HANGUL SYLLABLE CEUG}) missing from current font.\n",
      "  fig.canvas.print_figure(bytes_io, **kw)\n",
      "c:\\Users\\User\\anaconda3\\lib\\site-packages\\IPython\\core\\pylabtools.py:151: UserWarning: Glyph 46108 (\\N{HANGUL SYLLABLE DOEN}) missing from current font.\n",
      "  fig.canvas.print_figure(bytes_io, **kw)\n",
      "c:\\Users\\User\\anaconda3\\lib\\site-packages\\IPython\\core\\pylabtools.py:151: UserWarning: Glyph 53364 (\\N{HANGUL SYLLABLE KEUL}) missing from current font.\n",
      "  fig.canvas.print_figure(bytes_io, **kw)\n",
      "c:\\Users\\User\\anaconda3\\lib\\site-packages\\IPython\\core\\pylabtools.py:151: UserWarning: Glyph 47000 (\\N{HANGUL SYLLABLE RAE}) missing from current font.\n",
      "  fig.canvas.print_figure(bytes_io, **kw)\n",
      "c:\\Users\\User\\anaconda3\\lib\\site-packages\\IPython\\core\\pylabtools.py:151: UserWarning: Glyph 49828 (\\N{HANGUL SYLLABLE SEU}) missing from current font.\n",
      "  fig.canvas.print_figure(bytes_io, **kw)\n",
      "c:\\Users\\User\\anaconda3\\lib\\site-packages\\IPython\\core\\pylabtools.py:151: UserWarning: Glyph 48516 (\\N{HANGUL SYLLABLE BUN}) missing from current font.\n",
      "  fig.canvas.print_figure(bytes_io, **kw)\n",
      "c:\\Users\\User\\anaconda3\\lib\\site-packages\\IPython\\core\\pylabtools.py:151: UserWarning: Glyph 54252 (\\N{HANGUL SYLLABLE PO}) missing from current font.\n",
      "  fig.canvas.print_figure(bytes_io, **kw)\n",
      "c:\\Users\\User\\anaconda3\\lib\\site-packages\\IPython\\core\\pylabtools.py:151: UserWarning: Glyph 44060 (\\N{HANGUL SYLLABLE GAE}) missing from current font.\n",
      "  fig.canvas.print_figure(bytes_io, **kw)\n",
      "c:\\Users\\User\\anaconda3\\lib\\site-packages\\IPython\\core\\pylabtools.py:151: UserWarning: Glyph 49688 (\\N{HANGUL SYLLABLE SU}) missing from current font.\n",
      "  fig.canvas.print_figure(bytes_io, **kw)\n"
     ]
    },
    {
     "data": {
      "image/png": "[encoded data removed]",
      "text/plain": [
       "<Figure size 864x432 with 1 Axes>"
      ]
     },
     "metadata": {
      "needs_background": "light"
     },
     "output_type": "display_data"
    }
   ],
   "source": [
    "# 예측된 클래스 분포를 막대 그래프로 나타냅니다.\n",
    "plt.figure(figsize=(12, 6))\n",
    "sns.barplot(x=df_pred_class['pred_class'].value_counts().index, y=df_pred_class['pred_class'].value_counts().values)\n",
    "plt.title('예측된 클래스 분포')\n",
    "plt.xlabel('예측된 클래스')\n",
    "plt.ylabel('개수')\n",
    "\n",
    "# 막대 위에 숫자를 표시합니다.\n",
    "for index, value in enumerate(df_pred_class['pred_class'].value_counts().values):\n",
    "    plt.text(index, value + 0.05, str(value), ha='center')\n",
    "\n",
    "plt.show()"
   ]
  },
  {
   "cell_type": "code",
   "execution_count": null,
   "metadata": {},
   "outputs": [],
   "source": [
    "# vis1 2000이상인 값은 2000으로 변경\n",
    "df_xgr.loc[df_xgr['vis1'] >= 20000.0, 'vis1'] = 20000.0\n",
    "df_xgr.loc[df_xgr['vis1'] <= 0.0, 'vis1'] = 0.0"
   ]
  },
  {
   "cell_type": "markdown",
   "metadata": {},
   "source": [
    "## 6-2. 완성된 데이터 셋 저장"
   ]
  },
  {
   "cell_type": "code",
   "execution_count": null,
   "metadata": {},
   "outputs": [
    {
     "data": {
      "text/plain": [
       "['C:\\\\Users\\\\User\\\\Desktop\\\\기상청 날씨 빅데이터 공모전\\\\과제2\\\\df_xgr.pkl']"
      ]
     },
     "execution_count": 19,
     "metadata": {},
     "output_type": "execute_result"
    }
   ],
   "source": [
    "# xgr\n",
    "\n",
    "# 노트북\n",
    "joblib.dump(df_xgr, 'C:\\\\Users\\\\User\\\\Desktop\\\\기상청 날씨 빅데이터 공모전\\\\과제2\\\\df_xgr.pkl')\n",
    "\n",
    "# 데스크탑\n",
    "# joblib.dump(df_xgr, \"C:\\\\Users\\\\Hong_PC\\\\Desktop\\\\기상청 날씨 빅데이터 공모전\\\\과제2\\\\df_xgr.pkl\")"
   ]
  },
  {
   "cell_type": "markdown",
   "metadata": {},
   "source": [
    "# 7. VIS1 예측(회귀)"
   ]
  },
  {
   "cell_type": "code",
   "execution_count": null,
   "metadata": {},
   "outputs": [],
   "source": [
    "# 노트북\n",
    "# df_xgr = joblib.load('C:\\\\Users\\\\User\\\\Desktop\\\\기상청 날씨 빅데이터 공모전\\\\과제2\\\\df_xgr.pkl')\n",
    "# 데스크탑\n",
    "# df_xgr = joblib.load('C:\\\\Users\\\\Hong_PC\\\\Desktop\\\\기상청 날씨 빅데이터 공모전\\\\과제2\\\\df_xgr.pkl')\n"
   ]
  },
  {
   "cell_type": "code",
   "execution_count": null,
   "metadata": {},
   "outputs": [],
   "source": [
    "df = df_xgr.copy()"
   ]
  },
  {
   "cell_type": "code",
   "execution_count": null,
   "metadata": {},
   "outputs": [
    {
     "data": {
      "text/plain": [
       "20000.000000    1107835\n",
       "50000.000000     201606\n",
       "18750.000000      11609\n",
       "17647.000000      10327\n",
       "50100.000000       9643\n",
       "                 ...   \n",
       "15536.769531          1\n",
       "13035.532227          1\n",
       "11313.062500          1\n",
       "9945.875000           1\n",
       "24951.083984          1\n",
       "Name: vis1, Length: 72379, dtype: int64"
      ]
     },
     "execution_count": 16,
     "metadata": {},
     "output_type": "execute_result"
    }
   ],
   "source": [
    "df['vis1'].value_counts()"
   ]
  },
  {
   "cell_type": "code",
   "execution_count": null,
   "metadata": {},
   "outputs": [
    {
     "name": "stdout",
     "output_type": "stream",
     "text": [
      "(3156459, 15)\n",
      "(0, 15)\n"
     ]
    }
   ],
   "source": [
    "print(df[(df['vis1']!='20000.0')].shape)\n",
    "print(df[(df['vis1']=='20000.0')].shape)"
   ]
  },
  {
   "cell_type": "markdown",
   "metadata": {},
   "source": [
    "**파생변수** "
   ]
  },
  {
   "cell_type": "code",
   "execution_count": null,
   "metadata": {},
   "outputs": [
    {
     "data": {
      "text/html": [
       "<div>\n",
       "<style scoped>\n",
       "    .dataframe tbody tr th:only-of-type {\n",
       "        vertical-align: middle;\n",
       "    }\n",
       "\n",
       "    .dataframe tbody tr th {\n",
       "        vertical-align: top;\n",
       "    }\n",
       "\n",
       "    .dataframe thead th {\n",
       "        text-align: right;\n",
       "    }\n",
       "</style>\n",
       "<table border=\"1\" class=\"dataframe\">\n",
       "  <thead>\n",
       "    <tr style=\"text-align: right;\">\n",
       "      <th></th>\n",
       "      <th>year</th>\n",
       "      <th>month</th>\n",
       "      <th>day</th>\n",
       "      <th>time</th>\n",
       "      <th>minute</th>\n",
       "      <th>stn_id</th>\n",
       "      <th>ws10_deg</th>\n",
       "      <th>ws10_ms</th>\n",
       "      <th>ta</th>\n",
       "      <th>re</th>\n",
       "      <th>hm</th>\n",
       "      <th>sun10</th>\n",
       "      <th>ts</th>\n",
       "      <th>vis1</th>\n",
       "      <th>class</th>\n",
       "    </tr>\n",
       "  </thead>\n",
       "  <tbody>\n",
       "    <tr>\n",
       "      <th>1</th>\n",
       "      <td>0</td>\n",
       "      <td>1</td>\n",
       "      <td>1</td>\n",
       "      <td>0</td>\n",
       "      <td>10</td>\n",
       "      <td>0</td>\n",
       "      <td>0.0</td>\n",
       "      <td>0.0</td>\n",
       "      <td>-6.4</td>\n",
       "      <td>0.0</td>\n",
       "      <td>38.9</td>\n",
       "      <td>0.0</td>\n",
       "      <td>-2.8</td>\n",
       "      <td>20000.0</td>\n",
       "      <td>4</td>\n",
       "    </tr>\n",
       "    <tr>\n",
       "      <th>2</th>\n",
       "      <td>0</td>\n",
       "      <td>1</td>\n",
       "      <td>1</td>\n",
       "      <td>0</td>\n",
       "      <td>20</td>\n",
       "      <td>0</td>\n",
       "      <td>0.0</td>\n",
       "      <td>0.0</td>\n",
       "      <td>-6.3</td>\n",
       "      <td>0.0</td>\n",
       "      <td>37.9</td>\n",
       "      <td>0.0</td>\n",
       "      <td>-2.7</td>\n",
       "      <td>20000.0</td>\n",
       "      <td>4</td>\n",
       "    </tr>\n",
       "    <tr>\n",
       "      <th>3</th>\n",
       "      <td>0</td>\n",
       "      <td>1</td>\n",
       "      <td>1</td>\n",
       "      <td>0</td>\n",
       "      <td>30</td>\n",
       "      <td>0</td>\n",
       "      <td>0.0</td>\n",
       "      <td>0.0</td>\n",
       "      <td>-6.3</td>\n",
       "      <td>0.0</td>\n",
       "      <td>40.0</td>\n",
       "      <td>0.0</td>\n",
       "      <td>-2.6</td>\n",
       "      <td>20000.0</td>\n",
       "      <td>4</td>\n",
       "    </tr>\n",
       "    <tr>\n",
       "      <th>4</th>\n",
       "      <td>0</td>\n",
       "      <td>1</td>\n",
       "      <td>1</td>\n",
       "      <td>0</td>\n",
       "      <td>40</td>\n",
       "      <td>0</td>\n",
       "      <td>27.8</td>\n",
       "      <td>0.4</td>\n",
       "      <td>-6.2</td>\n",
       "      <td>0.0</td>\n",
       "      <td>39.5</td>\n",
       "      <td>0.0</td>\n",
       "      <td>-2.6</td>\n",
       "      <td>20000.0</td>\n",
       "      <td>4</td>\n",
       "    </tr>\n",
       "    <tr>\n",
       "      <th>5</th>\n",
       "      <td>0</td>\n",
       "      <td>1</td>\n",
       "      <td>1</td>\n",
       "      <td>0</td>\n",
       "      <td>50</td>\n",
       "      <td>0</td>\n",
       "      <td>59.7</td>\n",
       "      <td>0.5</td>\n",
       "      <td>-6.1</td>\n",
       "      <td>0.0</td>\n",
       "      <td>39.8</td>\n",
       "      <td>0.0</td>\n",
       "      <td>-2.5</td>\n",
       "      <td>20000.0</td>\n",
       "      <td>4</td>\n",
       "    </tr>\n",
       "    <tr>\n",
       "      <th>...</th>\n",
       "      <td>...</td>\n",
       "      <td>...</td>\n",
       "      <td>...</td>\n",
       "      <td>...</td>\n",
       "      <td>...</td>\n",
       "      <td>...</td>\n",
       "      <td>...</td>\n",
       "      <td>...</td>\n",
       "      <td>...</td>\n",
       "      <td>...</td>\n",
       "      <td>...</td>\n",
       "      <td>...</td>\n",
       "      <td>...</td>\n",
       "      <td>...</td>\n",
       "      <td>...</td>\n",
       "    </tr>\n",
       "    <tr>\n",
       "      <th>3156455</th>\n",
       "      <td>2</td>\n",
       "      <td>12</td>\n",
       "      <td>31</td>\n",
       "      <td>23</td>\n",
       "      <td>10</td>\n",
       "      <td>4</td>\n",
       "      <td>305.3</td>\n",
       "      <td>7.7</td>\n",
       "      <td>2.5</td>\n",
       "      <td>0.0</td>\n",
       "      <td>50.2</td>\n",
       "      <td>0.0</td>\n",
       "      <td>-0.9</td>\n",
       "      <td>20000.0</td>\n",
       "      <td>4</td>\n",
       "    </tr>\n",
       "    <tr>\n",
       "      <th>3156456</th>\n",
       "      <td>2</td>\n",
       "      <td>12</td>\n",
       "      <td>31</td>\n",
       "      <td>23</td>\n",
       "      <td>20</td>\n",
       "      <td>4</td>\n",
       "      <td>293.8</td>\n",
       "      <td>5.7</td>\n",
       "      <td>2.3</td>\n",
       "      <td>0.0</td>\n",
       "      <td>50.1</td>\n",
       "      <td>0.0</td>\n",
       "      <td>-1.3</td>\n",
       "      <td>20000.0</td>\n",
       "      <td>4</td>\n",
       "    </tr>\n",
       "    <tr>\n",
       "      <th>3156457</th>\n",
       "      <td>2</td>\n",
       "      <td>12</td>\n",
       "      <td>31</td>\n",
       "      <td>23</td>\n",
       "      <td>30</td>\n",
       "      <td>4</td>\n",
       "      <td>274.2</td>\n",
       "      <td>4.9</td>\n",
       "      <td>2.2</td>\n",
       "      <td>0.0</td>\n",
       "      <td>51.0</td>\n",
       "      <td>0.0</td>\n",
       "      <td>-1.4</td>\n",
       "      <td>20000.0</td>\n",
       "      <td>4</td>\n",
       "    </tr>\n",
       "    <tr>\n",
       "      <th>3156458</th>\n",
       "      <td>2</td>\n",
       "      <td>12</td>\n",
       "      <td>31</td>\n",
       "      <td>23</td>\n",
       "      <td>40</td>\n",
       "      <td>4</td>\n",
       "      <td>270.3</td>\n",
       "      <td>4.6</td>\n",
       "      <td>2.1</td>\n",
       "      <td>0.0</td>\n",
       "      <td>51.7</td>\n",
       "      <td>0.0</td>\n",
       "      <td>-1.6</td>\n",
       "      <td>20000.0</td>\n",
       "      <td>4</td>\n",
       "    </tr>\n",
       "    <tr>\n",
       "      <th>3156459</th>\n",
       "      <td>2</td>\n",
       "      <td>12</td>\n",
       "      <td>31</td>\n",
       "      <td>23</td>\n",
       "      <td>50</td>\n",
       "      <td>4</td>\n",
       "      <td>254.8</td>\n",
       "      <td>4.1</td>\n",
       "      <td>2.1</td>\n",
       "      <td>0.0</td>\n",
       "      <td>53.3</td>\n",
       "      <td>0.0</td>\n",
       "      <td>-1.7</td>\n",
       "      <td>20000.0</td>\n",
       "      <td>4</td>\n",
       "    </tr>\n",
       "  </tbody>\n",
       "</table>\n",
       "<p>3156459 rows × 15 columns</p>\n",
       "</div>"
      ],
      "text/plain": [
       "         year  month  day  time  minute  stn_id  ws10_deg  ws10_ms   ta   re  \\\n",
       "1           0      1    1     0      10       0       0.0      0.0 -6.4  0.0   \n",
       "2           0      1    1     0      20       0       0.0      0.0 -6.3  0.0   \n",
       "3           0      1    1     0      30       0       0.0      0.0 -6.3  0.0   \n",
       "4           0      1    1     0      40       0      27.8      0.4 -6.2  0.0   \n",
       "5           0      1    1     0      50       0      59.7      0.5 -6.1  0.0   \n",
       "...       ...    ...  ...   ...     ...     ...       ...      ...  ...  ...   \n",
       "3156455     2     12   31    23      10       4     305.3      7.7  2.5  0.0   \n",
       "3156456     2     12   31    23      20       4     293.8      5.7  2.3  0.0   \n",
       "3156457     2     12   31    23      30       4     274.2      4.9  2.2  0.0   \n",
       "3156458     2     12   31    23      40       4     270.3      4.6  2.1  0.0   \n",
       "3156459     2     12   31    23      50       4     254.8      4.1  2.1  0.0   \n",
       "\n",
       "           hm  sun10   ts     vis1  class  \n",
       "1        38.9    0.0 -2.8  20000.0      4  \n",
       "2        37.9    0.0 -2.7  20000.0      4  \n",
       "3        40.0    0.0 -2.6  20000.0      4  \n",
       "4        39.5    0.0 -2.6  20000.0      4  \n",
       "5        39.8    0.0 -2.5  20000.0      4  \n",
       "...       ...    ...  ...      ...    ...  \n",
       "3156455  50.2    0.0 -0.9  20000.0      4  \n",
       "3156456  50.1    0.0 -1.3  20000.0      4  \n",
       "3156457  51.0    0.0 -1.4  20000.0      4  \n",
       "3156458  51.7    0.0 -1.6  20000.0      4  \n",
       "3156459  53.3    0.0 -1.7  20000.0      4  \n",
       "\n",
       "[3156459 rows x 15 columns]"
      ]
     },
     "execution_count": 18,
     "metadata": {},
     "output_type": "execute_result"
    }
   ],
   "source": [
    "df"
   ]
  },
  {
   "cell_type": "code",
   "execution_count": null,
   "metadata": {},
   "outputs": [],
   "source": [
    "# 계절(봄 : 0, 여름 : 1, 가을 : 2, 겨울 : 3)\n",
    "# 계절을 매핑하는 함수\n",
    "def map_season(month):\n",
    "    if month in [3, 4, 5]:\n",
    "        return 0  # 봄\n",
    "    elif month in [6, 7, 8]:\n",
    "        return 1  # 여름\n",
    "    elif month in [9, 10, 11]:\n",
    "        return 2  # 가을\n",
    "    else:\n",
    "        return 3  # 겨울\n",
    "\n",
    "df['season'] = df['month'].apply(map_season)"
   ]
  },
  {
   "cell_type": "code",
   "execution_count": null,
   "metadata": {},
   "outputs": [],
   "source": [
    "# 이슬점(dew_point)\n",
    "# 이슬점 계산 함수\n",
    "def calculate_dew_point(temp_celsius, relative_humidity):\n",
    "    a = 17.27\n",
    "    b = 237.7\n",
    "    # 상대 습도가 0이면 매우 낮은 값을 설정하여 log(0)가 발생하지 않도록 한다.\n",
    "    rh = max(relative_humidity / 100.0, 1e-6)\n",
    "    alpha = ((a * temp_celsius) / (b + temp_celsius)) + math.log(rh)\n",
    "    dew_point = (b * alpha) / (a - alpha)\n",
    "    return dew_point\n",
    "\n",
    "# 이슬점 계산하여 새로운 열 추가\n",
    "df['dew_point'] = df.apply(lambda row: calculate_dew_point(row['ta'], row['hm']), axis=1)"
   ]
  },
  {
   "cell_type": "code",
   "execution_count": null,
   "metadata": {},
   "outputs": [],
   "source": [
    "# 풍향\n",
    "# 풍향을 16방위로 변환하는 함수\n",
    "def convert_wind_direction(wind_dir):\n",
    "    # 22.5도 간격으로 16방위로 매핑\n",
    "    direction = int((wind_dir + 11.25) % 360 / 22.5)\n",
    "    return direction\n",
    "\n",
    "# 풍향을 16방위로 변환하여 새로운 열에 추가\n",
    "df['ws10_deg_16'] = df['ws10_deg'].apply(convert_wind_direction)\n",
    "\n",
    "# # 원-핫 인코딩을 위해 더미 변수 생성\n",
    "# df = pd.get_dummies(df, columns=['wind_direction_16'], prefix='wind_dir')"
   ]
  },
  {
   "cell_type": "code",
   "execution_count": null,
   "metadata": {},
   "outputs": [],
   "source": [
    "# 일교차(diurnal_range)\n",
    "# 날짜(year, month, day), 관측 장소(stn_id)로 그룹화하여 일교차 계산\n",
    "df['diurnal_range'] = df.groupby(['year', 'month', 'day', 'stn_id'])['ts'].transform(lambda x: x.max() - x.min())"
   ]
  },
  {
   "cell_type": "code",
   "execution_count": null,
   "metadata": {},
   "outputs": [],
   "source": [
    "# 기온-이슬점(안개형성조건, 기온이 이슬점 이하일 때 잘 발생)\n",
    "df['ts_dew_diff'] = df['ts'] - df['dew_point']"
   ]
  },
  {
   "cell_type": "code",
   "execution_count": null,
   "metadata": {},
   "outputs": [],
   "source": [
    "# 50분 이동평균(습도)\n",
    "def calculate_rolling_mean(group):\n",
    "    group['5_hm'] = group['hm'].rolling(window=5).mean()\n",
    "    group['5_hm'] = group['5_hm'].fillna(group['hm'])\n",
    "    return group\n",
    "\n",
    "# 각 stn_id별로 그룹화하여 함수 적용\n",
    "df = df.groupby('stn_id', group_keys=False).apply(calculate_rolling_mean)"
   ]
  },
  {
   "cell_type": "code",
   "execution_count": null,
   "metadata": {},
   "outputs": [],
   "source": [
    "# 필요 없는 열 제거(시간 디테일 지역이라던가)"
   ]
  },
  {
   "cell_type": "code",
   "execution_count": null,
   "metadata": {},
   "outputs": [],
   "source": [
    "df_pluscol = df.copy()"
   ]
  },
  {
   "cell_type": "markdown",
   "metadata": {},
   "source": [
    "## 8-1. LSTM-1(양방향)"
   ]
  },
  {
   "cell_type": "code",
   "execution_count": null,
   "metadata": {},
   "outputs": [],
   "source": [
    "df = df_pluscol.copy()"
   ]
  },
  {
   "cell_type": "code",
   "execution_count": null,
   "metadata": {},
   "outputs": [
    {
     "data": {
      "text/plain": [
       "Index(['year', 'month', 'day', 'time', 'minute', 'stn_id', 'ws10_deg',\n",
       "       'ws10_ms', 'ta', 're', 'hm', 'sun10', 'ts', 'vis1', 'class', 'season',\n",
       "       'dew_point', 'ws10_deg_16', 'diurnal_range', 'ts_dew_diff', '5_hm'],\n",
       "      dtype='object')"
      ]
     },
     "execution_count": 28,
     "metadata": {},
     "output_type": "execute_result"
    }
   ],
   "source": [
    "df.columns"
   ]
  },
  {
   "cell_type": "code",
   "execution_count": null,
   "metadata": {},
   "outputs": [
    {
     "data": {
      "text/html": [
       "<div>\n",
       "<style scoped>\n",
       "    .dataframe tbody tr th:only-of-type {\n",
       "        vertical-align: middle;\n",
       "    }\n",
       "\n",
       "    .dataframe tbody tr th {\n",
       "        vertical-align: top;\n",
       "    }\n",
       "\n",
       "    .dataframe thead th {\n",
       "        text-align: right;\n",
       "    }\n",
       "</style>\n",
       "<table border=\"1\" class=\"dataframe\">\n",
       "  <thead>\n",
       "    <tr style=\"text-align: right;\">\n",
       "      <th></th>\n",
       "      <th>year</th>\n",
       "      <th>month</th>\n",
       "      <th>day</th>\n",
       "      <th>time</th>\n",
       "      <th>minute</th>\n",
       "      <th>stn_id</th>\n",
       "      <th>ws10_deg</th>\n",
       "      <th>ws10_ms</th>\n",
       "      <th>ta</th>\n",
       "      <th>re</th>\n",
       "      <th>...</th>\n",
       "      <th>sun10</th>\n",
       "      <th>ts</th>\n",
       "      <th>vis1</th>\n",
       "      <th>class</th>\n",
       "      <th>season</th>\n",
       "      <th>dew_point</th>\n",
       "      <th>ws10_deg_16</th>\n",
       "      <th>diurnal_range</th>\n",
       "      <th>ts_dew_diff</th>\n",
       "      <th>5_hm</th>\n",
       "    </tr>\n",
       "  </thead>\n",
       "  <tbody>\n",
       "    <tr>\n",
       "      <th>1</th>\n",
       "      <td>0</td>\n",
       "      <td>1</td>\n",
       "      <td>1</td>\n",
       "      <td>0</td>\n",
       "      <td>10</td>\n",
       "      <td>0</td>\n",
       "      <td>0.0</td>\n",
       "      <td>0.0</td>\n",
       "      <td>-6.4</td>\n",
       "      <td>0.0</td>\n",
       "      <td>...</td>\n",
       "      <td>0.0</td>\n",
       "      <td>-2.8</td>\n",
       "      <td>20000.0</td>\n",
       "      <td>4</td>\n",
       "      <td>3</td>\n",
       "      <td>-18.083476</td>\n",
       "      <td>0</td>\n",
       "      <td>15.147541</td>\n",
       "      <td>15.283476</td>\n",
       "      <td>38.90</td>\n",
       "    </tr>\n",
       "    <tr>\n",
       "      <th>2</th>\n",
       "      <td>0</td>\n",
       "      <td>1</td>\n",
       "      <td>1</td>\n",
       "      <td>0</td>\n",
       "      <td>20</td>\n",
       "      <td>0</td>\n",
       "      <td>0.0</td>\n",
       "      <td>0.0</td>\n",
       "      <td>-6.3</td>\n",
       "      <td>0.0</td>\n",
       "      <td>...</td>\n",
       "      <td>0.0</td>\n",
       "      <td>-2.7</td>\n",
       "      <td>20000.0</td>\n",
       "      <td>4</td>\n",
       "      <td>3</td>\n",
       "      <td>-18.299136</td>\n",
       "      <td>0</td>\n",
       "      <td>15.147541</td>\n",
       "      <td>15.599136</td>\n",
       "      <td>37.90</td>\n",
       "    </tr>\n",
       "    <tr>\n",
       "      <th>3</th>\n",
       "      <td>0</td>\n",
       "      <td>1</td>\n",
       "      <td>1</td>\n",
       "      <td>0</td>\n",
       "      <td>30</td>\n",
       "      <td>0</td>\n",
       "      <td>0.0</td>\n",
       "      <td>0.0</td>\n",
       "      <td>-6.3</td>\n",
       "      <td>0.0</td>\n",
       "      <td>...</td>\n",
       "      <td>0.0</td>\n",
       "      <td>-2.6</td>\n",
       "      <td>20000.0</td>\n",
       "      <td>4</td>\n",
       "      <td>3</td>\n",
       "      <td>-17.664937</td>\n",
       "      <td>0</td>\n",
       "      <td>15.147541</td>\n",
       "      <td>15.064937</td>\n",
       "      <td>40.00</td>\n",
       "    </tr>\n",
       "    <tr>\n",
       "      <th>4</th>\n",
       "      <td>0</td>\n",
       "      <td>1</td>\n",
       "      <td>1</td>\n",
       "      <td>0</td>\n",
       "      <td>40</td>\n",
       "      <td>0</td>\n",
       "      <td>27.8</td>\n",
       "      <td>0.4</td>\n",
       "      <td>-6.2</td>\n",
       "      <td>0.0</td>\n",
       "      <td>...</td>\n",
       "      <td>0.0</td>\n",
       "      <td>-2.6</td>\n",
       "      <td>20000.0</td>\n",
       "      <td>4</td>\n",
       "      <td>3</td>\n",
       "      <td>-17.722897</td>\n",
       "      <td>1</td>\n",
       "      <td>15.147541</td>\n",
       "      <td>15.122897</td>\n",
       "      <td>39.50</td>\n",
       "    </tr>\n",
       "    <tr>\n",
       "      <th>5</th>\n",
       "      <td>0</td>\n",
       "      <td>1</td>\n",
       "      <td>1</td>\n",
       "      <td>0</td>\n",
       "      <td>50</td>\n",
       "      <td>0</td>\n",
       "      <td>59.7</td>\n",
       "      <td>0.5</td>\n",
       "      <td>-6.1</td>\n",
       "      <td>0.0</td>\n",
       "      <td>...</td>\n",
       "      <td>0.0</td>\n",
       "      <td>-2.5</td>\n",
       "      <td>20000.0</td>\n",
       "      <td>4</td>\n",
       "      <td>3</td>\n",
       "      <td>-17.543307</td>\n",
       "      <td>3</td>\n",
       "      <td>15.147541</td>\n",
       "      <td>15.043307</td>\n",
       "      <td>39.22</td>\n",
       "    </tr>\n",
       "    <tr>\n",
       "      <th>...</th>\n",
       "      <td>...</td>\n",
       "      <td>...</td>\n",
       "      <td>...</td>\n",
       "      <td>...</td>\n",
       "      <td>...</td>\n",
       "      <td>...</td>\n",
       "      <td>...</td>\n",
       "      <td>...</td>\n",
       "      <td>...</td>\n",
       "      <td>...</td>\n",
       "      <td>...</td>\n",
       "      <td>...</td>\n",
       "      <td>...</td>\n",
       "      <td>...</td>\n",
       "      <td>...</td>\n",
       "      <td>...</td>\n",
       "      <td>...</td>\n",
       "      <td>...</td>\n",
       "      <td>...</td>\n",
       "      <td>...</td>\n",
       "      <td>...</td>\n",
       "    </tr>\n",
       "    <tr>\n",
       "      <th>3156455</th>\n",
       "      <td>2</td>\n",
       "      <td>12</td>\n",
       "      <td>31</td>\n",
       "      <td>23</td>\n",
       "      <td>10</td>\n",
       "      <td>4</td>\n",
       "      <td>305.3</td>\n",
       "      <td>7.7</td>\n",
       "      <td>2.5</td>\n",
       "      <td>0.0</td>\n",
       "      <td>...</td>\n",
       "      <td>0.0</td>\n",
       "      <td>-0.9</td>\n",
       "      <td>20000.0</td>\n",
       "      <td>4</td>\n",
       "      <td>3</td>\n",
       "      <td>-6.810493</td>\n",
       "      <td>14</td>\n",
       "      <td>28.100000</td>\n",
       "      <td>5.910493</td>\n",
       "      <td>50.06</td>\n",
       "    </tr>\n",
       "    <tr>\n",
       "      <th>3156456</th>\n",
       "      <td>2</td>\n",
       "      <td>12</td>\n",
       "      <td>31</td>\n",
       "      <td>23</td>\n",
       "      <td>20</td>\n",
       "      <td>4</td>\n",
       "      <td>293.8</td>\n",
       "      <td>5.7</td>\n",
       "      <td>2.3</td>\n",
       "      <td>0.0</td>\n",
       "      <td>...</td>\n",
       "      <td>0.0</td>\n",
       "      <td>-1.3</td>\n",
       "      <td>20000.0</td>\n",
       "      <td>4</td>\n",
       "      <td>3</td>\n",
       "      <td>-7.021146</td>\n",
       "      <td>13</td>\n",
       "      <td>28.100000</td>\n",
       "      <td>5.721146</td>\n",
       "      <td>50.16</td>\n",
       "    </tr>\n",
       "    <tr>\n",
       "      <th>3156457</th>\n",
       "      <td>2</td>\n",
       "      <td>12</td>\n",
       "      <td>31</td>\n",
       "      <td>23</td>\n",
       "      <td>30</td>\n",
       "      <td>4</td>\n",
       "      <td>274.2</td>\n",
       "      <td>4.9</td>\n",
       "      <td>2.2</td>\n",
       "      <td>0.0</td>\n",
       "      <td>...</td>\n",
       "      <td>0.0</td>\n",
       "      <td>-1.4</td>\n",
       "      <td>20000.0</td>\n",
       "      <td>4</td>\n",
       "      <td>3</td>\n",
       "      <td>-6.882689</td>\n",
       "      <td>12</td>\n",
       "      <td>28.100000</td>\n",
       "      <td>5.482689</td>\n",
       "      <td>50.36</td>\n",
       "    </tr>\n",
       "    <tr>\n",
       "      <th>3156458</th>\n",
       "      <td>2</td>\n",
       "      <td>12</td>\n",
       "      <td>31</td>\n",
       "      <td>23</td>\n",
       "      <td>40</td>\n",
       "      <td>4</td>\n",
       "      <td>270.3</td>\n",
       "      <td>4.6</td>\n",
       "      <td>2.1</td>\n",
       "      <td>0.0</td>\n",
       "      <td>...</td>\n",
       "      <td>0.0</td>\n",
       "      <td>-1.6</td>\n",
       "      <td>20000.0</td>\n",
       "      <td>4</td>\n",
       "      <td>3</td>\n",
       "      <td>-6.798347</td>\n",
       "      <td>12</td>\n",
       "      <td>28.100000</td>\n",
       "      <td>5.198347</td>\n",
       "      <td>50.66</td>\n",
       "    </tr>\n",
       "    <tr>\n",
       "      <th>3156459</th>\n",
       "      <td>2</td>\n",
       "      <td>12</td>\n",
       "      <td>31</td>\n",
       "      <td>23</td>\n",
       "      <td>50</td>\n",
       "      <td>4</td>\n",
       "      <td>254.8</td>\n",
       "      <td>4.1</td>\n",
       "      <td>2.1</td>\n",
       "      <td>0.0</td>\n",
       "      <td>...</td>\n",
       "      <td>0.0</td>\n",
       "      <td>-1.7</td>\n",
       "      <td>20000.0</td>\n",
       "      <td>4</td>\n",
       "      <td>3</td>\n",
       "      <td>-6.401821</td>\n",
       "      <td>11</td>\n",
       "      <td>28.100000</td>\n",
       "      <td>4.701821</td>\n",
       "      <td>51.26</td>\n",
       "    </tr>\n",
       "  </tbody>\n",
       "</table>\n",
       "<p>3156459 rows × 21 columns</p>\n",
       "</div>"
      ],
      "text/plain": [
       "         year  month  day  time  minute  stn_id  ws10_deg  ws10_ms   ta   re  \\\n",
       "1           0      1    1     0      10       0       0.0      0.0 -6.4  0.0   \n",
       "2           0      1    1     0      20       0       0.0      0.0 -6.3  0.0   \n",
       "3           0      1    1     0      30       0       0.0      0.0 -6.3  0.0   \n",
       "4           0      1    1     0      40       0      27.8      0.4 -6.2  0.0   \n",
       "5           0      1    1     0      50       0      59.7      0.5 -6.1  0.0   \n",
       "...       ...    ...  ...   ...     ...     ...       ...      ...  ...  ...   \n",
       "3156455     2     12   31    23      10       4     305.3      7.7  2.5  0.0   \n",
       "3156456     2     12   31    23      20       4     293.8      5.7  2.3  0.0   \n",
       "3156457     2     12   31    23      30       4     274.2      4.9  2.2  0.0   \n",
       "3156458     2     12   31    23      40       4     270.3      4.6  2.1  0.0   \n",
       "3156459     2     12   31    23      50       4     254.8      4.1  2.1  0.0   \n",
       "\n",
       "         ...  sun10   ts     vis1  class  season  dew_point  ws10_deg_16  \\\n",
       "1        ...    0.0 -2.8  20000.0      4       3 -18.083476            0   \n",
       "2        ...    0.0 -2.7  20000.0      4       3 -18.299136            0   \n",
       "3        ...    0.0 -2.6  20000.0      4       3 -17.664937            0   \n",
       "4        ...    0.0 -2.6  20000.0      4       3 -17.722897            1   \n",
       "5        ...    0.0 -2.5  20000.0      4       3 -17.543307            3   \n",
       "...      ...    ...  ...      ...    ...     ...        ...          ...   \n",
       "3156455  ...    0.0 -0.9  20000.0      4       3  -6.810493           14   \n",
       "3156456  ...    0.0 -1.3  20000.0      4       3  -7.021146           13   \n",
       "3156457  ...    0.0 -1.4  20000.0      4       3  -6.882689           12   \n",
       "3156458  ...    0.0 -1.6  20000.0      4       3  -6.798347           12   \n",
       "3156459  ...    0.0 -1.7  20000.0      4       3  -6.401821           11   \n",
       "\n",
       "         diurnal_range  ts_dew_diff   5_hm  \n",
       "1            15.147541    15.283476  38.90  \n",
       "2            15.147541    15.599136  37.90  \n",
       "3            15.147541    15.064937  40.00  \n",
       "4            15.147541    15.122897  39.50  \n",
       "5            15.147541    15.043307  39.22  \n",
       "...                ...          ...    ...  \n",
       "3156455      28.100000     5.910493  50.06  \n",
       "3156456      28.100000     5.721146  50.16  \n",
       "3156457      28.100000     5.482689  50.36  \n",
       "3156458      28.100000     5.198347  50.66  \n",
       "3156459      28.100000     4.701821  51.26  \n",
       "\n",
       "[3156459 rows x 21 columns]"
      ]
     },
     "execution_count": 30,
     "metadata": {},
     "output_type": "execute_result"
    }
   ],
   "source": [
    "df"
   ]
  },
  {
   "cell_type": "code",
   "execution_count": null,
   "metadata": {},
   "outputs": [],
   "source": [
    "# 필요한 열만 사용\n",
    "numeric_features = ['ws10_deg', 'ws10_ms', 'ta', 'hm', 'sun10', 'ts',\n",
    "                    'dew_point', 'diurnal_range', '5_hm']\n",
    "categorical_features = [ 'season', 're','ws10_deg_16',]\n",
    "target = 'class'\n",
    "\n",
    "# 데이터프레임에서 필요한 열만 선택\n",
    "data = df[numeric_features + categorical_features + [target]]"
   ]
  },
  {
   "cell_type": "code",
   "execution_count": null,
   "metadata": {},
   "outputs": [],
   "source": [
    "# # 원핫인코딩 안함 너무 오래 걸려 -> 라벨 인코딩으로\n",
    "# # 인덱스를 확인하기 위해 원본 데이터프레임의 인덱스를 저장합니다.\n",
    "# original_indices = data.index\n",
    "# # 원핫 인코딩을 위한 OneHotEncoder 객체 생성\n",
    "# onehot_encoder = OneHotEncoder(sparse=False)\n",
    "# # 카테고리형 변수에 대해 원핫 인코딩을 적용\n",
    "# encoded_categorical_data = onehot_encoder.fit_transform(data[categorical_features])\n",
    "# # 원핫 인코딩된 결과를 데이터프레임으로 변환\n",
    "# encoded_categorical_df = pd.DataFrame(encoded_categorical_data, columns=onehot_encoder.get_feature_names_out(categorical_features))"
   ]
  },
  {
   "cell_type": "code",
   "execution_count": null,
   "metadata": {},
   "outputs": [],
   "source": [
    "# # 인덱스를 확인하기 위해 원본 데이터프레임의 인덱스를 저장합니다.\n",
    "# original_indices = data.index\n",
    "# # 라벨 인코딩을 위한 LabelEncoder 객체 생성\n",
    "# label_encoders = {feature: LabelEncoder() for feature in categorical_features}\n",
    "# # 카테고리형 변수에 대해 라벨 인코딩을 적용\n",
    "# encoded_categorical_data = data[categorical_features].apply(lambda x: label_encoders[x.name].fit_transform(x))\n",
    "# # 인코딩된 카테고리형 변수와 원본 데이터프레임을 합침\n",
    "# processed_data = pd.concat([data[numeric_features], encoded_categorical_data, data[target]], axis=1)"
   ]
  },
  {
   "cell_type": "code",
   "execution_count": null,
   "metadata": {},
   "outputs": [],
   "source": [
    "# 계절을 반영한 Min-Max 스케일링\n",
    "scaler = MinMaxScaler()\n",
    "scaled_numeric_data = data.copy()\n",
    "\n",
    "# 'season' 열을 기반으로 각 계절에 따라 스케일링을 적용\n",
    "for season_value in range(4):  # 계절은 0부터 3까지의 값이 있습니다.\n",
    "    mask = scaled_numeric_data['season'] == season_value\n",
    "    if mask.sum() > 0:\n",
    "        scaled_numeric_data.loc[mask, numeric_features] = scaler.fit_transform(scaled_numeric_data.loc[mask, numeric_features])\n",
    "\n",
    "# 숫자형 변수와 라벨 인코딩된 카테고리형 변수를 합침\n",
    "processed_data = pd.concat([scaled_numeric_data[numeric_features], encoded_categorical_data, data[target]], axis=1)"
   ]
  },
  {
   "cell_type": "code",
   "execution_count": null,
   "metadata": {},
   "outputs": [
    {
     "ename": "KeyboardInterrupt",
     "evalue": "",
     "output_type": "error",
     "traceback": [
      "\u001b[1;31m---------------------------------------------------------------------------\u001b[0m",
      "\u001b[1;31mKeyboardInterrupt\u001b[0m                         Traceback (most recent call last)",
      "Input \u001b[1;32mIn [39]\u001b[0m, in \u001b[0;36m<cell line: 14>\u001b[1;34m()\u001b[0m\n\u001b[0;32m     11\u001b[0m         labels\u001b[38;5;241m.\u001b[39mappend(label)\n\u001b[0;32m     12\u001b[0m     \u001b[38;5;28;01mreturn\u001b[39;00m np\u001b[38;5;241m.\u001b[39marray(sequences), np\u001b[38;5;241m.\u001b[39marray(labels)\n\u001b[1;32m---> 14\u001b[0m sequences, labels \u001b[38;5;241m=\u001b[39m \u001b[43mcreate_sequences\u001b[49m\u001b[43m(\u001b[49m\u001b[43mprocessed_data\u001b[49m\u001b[43m,\u001b[49m\u001b[43m \u001b[49m\u001b[43msequence_length\u001b[49m\u001b[43m)\u001b[49m\n\u001b[0;32m     16\u001b[0m \u001b[38;5;66;03m# 학습 데이터와 테스트 데이터 분리\u001b[39;00m\n\u001b[0;32m     17\u001b[0m X_train, X_test, y_train, y_test \u001b[38;5;241m=\u001b[39m train_test_split(sequences, labels, test_size\u001b[38;5;241m=\u001b[39m\u001b[38;5;241m0.2\u001b[39m, random_state\u001b[38;5;241m=\u001b[39m\u001b[38;5;241m123\u001b[39m)\n",
      "Input \u001b[1;32mIn [39]\u001b[0m, in \u001b[0;36mcreate_sequences\u001b[1;34m(data, sequence_length)\u001b[0m\n\u001b[0;32m      6\u001b[0m labels \u001b[38;5;241m=\u001b[39m []\n\u001b[0;32m      7\u001b[0m \u001b[38;5;28;01mfor\u001b[39;00m i \u001b[38;5;129;01min\u001b[39;00m \u001b[38;5;28mrange\u001b[39m(\u001b[38;5;28mlen\u001b[39m(data) \u001b[38;5;241m-\u001b[39m sequence_length):\n\u001b[1;32m----> 8\u001b[0m     seq \u001b[38;5;241m=\u001b[39m \u001b[43mdata\u001b[49m\u001b[38;5;241;43m.\u001b[39;49m\u001b[43miloc\u001b[49m\u001b[43m[\u001b[49m\u001b[43mi\u001b[49m\u001b[43m:\u001b[49m\u001b[43mi\u001b[49m\u001b[43m \u001b[49m\u001b[38;5;241;43m+\u001b[39;49m\u001b[43m \u001b[49m\u001b[43msequence_length\u001b[49m\u001b[43m]\u001b[49m\u001b[38;5;241;43m.\u001b[39;49m\u001b[43mdrop\u001b[49m\u001b[43m(\u001b[49m\u001b[43mcolumns\u001b[49m\u001b[38;5;241;43m=\u001b[39;49m\u001b[43m[\u001b[49m\u001b[43mtarget\u001b[49m\u001b[43m]\u001b[49m\u001b[43m)\u001b[49m\n\u001b[0;32m      9\u001b[0m     label \u001b[38;5;241m=\u001b[39m data\u001b[38;5;241m.\u001b[39miloc[i \u001b[38;5;241m+\u001b[39m sequence_length][target]\n\u001b[0;32m     10\u001b[0m     sequences\u001b[38;5;241m.\u001b[39mappend(seq\u001b[38;5;241m.\u001b[39mvalues)\n",
      "File \u001b[1;32mc:\\Users\\User\\anaconda3\\lib\\site-packages\\pandas\\util\\_decorators.py:311\u001b[0m, in \u001b[0;36mdeprecate_nonkeyword_arguments.<locals>.decorate.<locals>.wrapper\u001b[1;34m(*args, **kwargs)\u001b[0m\n\u001b[0;32m    305\u001b[0m \u001b[38;5;28;01mif\u001b[39;00m \u001b[38;5;28mlen\u001b[39m(args) \u001b[38;5;241m>\u001b[39m num_allow_args:\n\u001b[0;32m    306\u001b[0m     warnings\u001b[38;5;241m.\u001b[39mwarn(\n\u001b[0;32m    307\u001b[0m         msg\u001b[38;5;241m.\u001b[39mformat(arguments\u001b[38;5;241m=\u001b[39marguments),\n\u001b[0;32m    308\u001b[0m         \u001b[38;5;167;01mFutureWarning\u001b[39;00m,\n\u001b[0;32m    309\u001b[0m         stacklevel\u001b[38;5;241m=\u001b[39mstacklevel,\n\u001b[0;32m    310\u001b[0m     )\n\u001b[1;32m--> 311\u001b[0m \u001b[38;5;28;01mreturn\u001b[39;00m func(\u001b[38;5;241m*\u001b[39margs, \u001b[38;5;241m*\u001b[39m\u001b[38;5;241m*\u001b[39mkwargs)\n",
      "File \u001b[1;32mc:\\Users\\User\\anaconda3\\lib\\site-packages\\pandas\\core\\frame.py:4954\u001b[0m, in \u001b[0;36mDataFrame.drop\u001b[1;34m(self, labels, axis, index, columns, level, inplace, errors)\u001b[0m\n\u001b[0;32m   4806\u001b[0m \u001b[38;5;129m@deprecate_nonkeyword_arguments\u001b[39m(version\u001b[38;5;241m=\u001b[39m\u001b[38;5;28;01mNone\u001b[39;00m, allowed_args\u001b[38;5;241m=\u001b[39m[\u001b[38;5;124m\"\u001b[39m\u001b[38;5;124mself\u001b[39m\u001b[38;5;124m\"\u001b[39m, \u001b[38;5;124m\"\u001b[39m\u001b[38;5;124mlabels\u001b[39m\u001b[38;5;124m\"\u001b[39m])\n\u001b[0;32m   4807\u001b[0m \u001b[38;5;28;01mdef\u001b[39;00m \u001b[38;5;21mdrop\u001b[39m(\n\u001b[0;32m   4808\u001b[0m     \u001b[38;5;28mself\u001b[39m,\n\u001b[1;32m   (...)\u001b[0m\n\u001b[0;32m   4815\u001b[0m     errors: \u001b[38;5;28mstr\u001b[39m \u001b[38;5;241m=\u001b[39m \u001b[38;5;124m\"\u001b[39m\u001b[38;5;124mraise\u001b[39m\u001b[38;5;124m\"\u001b[39m,\n\u001b[0;32m   4816\u001b[0m ):\n\u001b[0;32m   4817\u001b[0m     \u001b[38;5;124;03m\"\"\"\u001b[39;00m\n\u001b[0;32m   4818\u001b[0m \u001b[38;5;124;03m    Drop specified labels from rows or columns.\u001b[39;00m\n\u001b[0;32m   4819\u001b[0m \n\u001b[1;32m   (...)\u001b[0m\n\u001b[0;32m   4952\u001b[0m \u001b[38;5;124;03m            weight  1.0     0.8\u001b[39;00m\n\u001b[0;32m   4953\u001b[0m \u001b[38;5;124;03m    \"\"\"\u001b[39;00m\n\u001b[1;32m-> 4954\u001b[0m     \u001b[38;5;28;01mreturn\u001b[39;00m \u001b[38;5;28;43msuper\u001b[39;49m\u001b[43m(\u001b[49m\u001b[43m)\u001b[49m\u001b[38;5;241;43m.\u001b[39;49m\u001b[43mdrop\u001b[49m\u001b[43m(\u001b[49m\n\u001b[0;32m   4955\u001b[0m \u001b[43m        \u001b[49m\u001b[43mlabels\u001b[49m\u001b[38;5;241;43m=\u001b[39;49m\u001b[43mlabels\u001b[49m\u001b[43m,\u001b[49m\n\u001b[0;32m   4956\u001b[0m \u001b[43m        \u001b[49m\u001b[43maxis\u001b[49m\u001b[38;5;241;43m=\u001b[39;49m\u001b[43maxis\u001b[49m\u001b[43m,\u001b[49m\n\u001b[0;32m   4957\u001b[0m \u001b[43m        \u001b[49m\u001b[43mindex\u001b[49m\u001b[38;5;241;43m=\u001b[39;49m\u001b[43mindex\u001b[49m\u001b[43m,\u001b[49m\n\u001b[0;32m   4958\u001b[0m \u001b[43m        \u001b[49m\u001b[43mcolumns\u001b[49m\u001b[38;5;241;43m=\u001b[39;49m\u001b[43mcolumns\u001b[49m\u001b[43m,\u001b[49m\n\u001b[0;32m   4959\u001b[0m \u001b[43m        \u001b[49m\u001b[43mlevel\u001b[49m\u001b[38;5;241;43m=\u001b[39;49m\u001b[43mlevel\u001b[49m\u001b[43m,\u001b[49m\n\u001b[0;32m   4960\u001b[0m \u001b[43m        \u001b[49m\u001b[43minplace\u001b[49m\u001b[38;5;241;43m=\u001b[39;49m\u001b[43minplace\u001b[49m\u001b[43m,\u001b[49m\n\u001b[0;32m   4961\u001b[0m \u001b[43m        \u001b[49m\u001b[43merrors\u001b[49m\u001b[38;5;241;43m=\u001b[39;49m\u001b[43merrors\u001b[49m\u001b[43m,\u001b[49m\n\u001b[0;32m   4962\u001b[0m \u001b[43m    \u001b[49m\u001b[43m)\u001b[49m\n",
      "File \u001b[1;32mc:\\Users\\User\\anaconda3\\lib\\site-packages\\pandas\\core\\generic.py:4267\u001b[0m, in \u001b[0;36mNDFrame.drop\u001b[1;34m(self, labels, axis, index, columns, level, inplace, errors)\u001b[0m\n\u001b[0;32m   4265\u001b[0m \u001b[38;5;28;01mfor\u001b[39;00m axis, labels \u001b[38;5;129;01min\u001b[39;00m axes\u001b[38;5;241m.\u001b[39mitems():\n\u001b[0;32m   4266\u001b[0m     \u001b[38;5;28;01mif\u001b[39;00m labels \u001b[38;5;129;01mis\u001b[39;00m \u001b[38;5;129;01mnot\u001b[39;00m \u001b[38;5;28;01mNone\u001b[39;00m:\n\u001b[1;32m-> 4267\u001b[0m         obj \u001b[38;5;241m=\u001b[39m \u001b[43mobj\u001b[49m\u001b[38;5;241;43m.\u001b[39;49m\u001b[43m_drop_axis\u001b[49m\u001b[43m(\u001b[49m\u001b[43mlabels\u001b[49m\u001b[43m,\u001b[49m\u001b[43m \u001b[49m\u001b[43maxis\u001b[49m\u001b[43m,\u001b[49m\u001b[43m \u001b[49m\u001b[43mlevel\u001b[49m\u001b[38;5;241;43m=\u001b[39;49m\u001b[43mlevel\u001b[49m\u001b[43m,\u001b[49m\u001b[43m \u001b[49m\u001b[43merrors\u001b[49m\u001b[38;5;241;43m=\u001b[39;49m\u001b[43merrors\u001b[49m\u001b[43m)\u001b[49m\n\u001b[0;32m   4269\u001b[0m \u001b[38;5;28;01mif\u001b[39;00m inplace:\n\u001b[0;32m   4270\u001b[0m     \u001b[38;5;28mself\u001b[39m\u001b[38;5;241m.\u001b[39m_update_inplace(obj)\n",
      "File \u001b[1;32mc:\\Users\\User\\anaconda3\\lib\\site-packages\\pandas\\core\\generic.py:4350\u001b[0m, in \u001b[0;36mNDFrame._drop_axis\u001b[1;34m(self, labels, axis, level, errors, consolidate, only_slice)\u001b[0m\n\u001b[0;32m   4347\u001b[0m     new_axis \u001b[38;5;241m=\u001b[39m axis\u001b[38;5;241m.\u001b[39mtake(indexer)\n\u001b[0;32m   4349\u001b[0m bm_axis \u001b[38;5;241m=\u001b[39m \u001b[38;5;28mself\u001b[39m\u001b[38;5;241m.\u001b[39mndim \u001b[38;5;241m-\u001b[39m axis_num \u001b[38;5;241m-\u001b[39m \u001b[38;5;241m1\u001b[39m\n\u001b[1;32m-> 4350\u001b[0m new_mgr \u001b[38;5;241m=\u001b[39m \u001b[38;5;28;43mself\u001b[39;49m\u001b[38;5;241;43m.\u001b[39;49m\u001b[43m_mgr\u001b[49m\u001b[38;5;241;43m.\u001b[39;49m\u001b[43mreindex_indexer\u001b[49m\u001b[43m(\u001b[49m\n\u001b[0;32m   4351\u001b[0m \u001b[43m    \u001b[49m\u001b[43mnew_axis\u001b[49m\u001b[43m,\u001b[49m\n\u001b[0;32m   4352\u001b[0m \u001b[43m    \u001b[49m\u001b[43mindexer\u001b[49m\u001b[43m,\u001b[49m\n\u001b[0;32m   4353\u001b[0m \u001b[43m    \u001b[49m\u001b[43maxis\u001b[49m\u001b[38;5;241;43m=\u001b[39;49m\u001b[43mbm_axis\u001b[49m\u001b[43m,\u001b[49m\n\u001b[0;32m   4354\u001b[0m \u001b[43m    \u001b[49m\u001b[43mallow_dups\u001b[49m\u001b[38;5;241;43m=\u001b[39;49m\u001b[38;5;28;43;01mTrue\u001b[39;49;00m\u001b[43m,\u001b[49m\n\u001b[0;32m   4355\u001b[0m \u001b[43m    \u001b[49m\u001b[43mconsolidate\u001b[49m\u001b[38;5;241;43m=\u001b[39;49m\u001b[43mconsolidate\u001b[49m\u001b[43m,\u001b[49m\n\u001b[0;32m   4356\u001b[0m \u001b[43m    \u001b[49m\u001b[43monly_slice\u001b[49m\u001b[38;5;241;43m=\u001b[39;49m\u001b[43monly_slice\u001b[49m\u001b[43m,\u001b[49m\n\u001b[0;32m   4357\u001b[0m \u001b[43m\u001b[49m\u001b[43m)\u001b[49m\n\u001b[0;32m   4358\u001b[0m result \u001b[38;5;241m=\u001b[39m \u001b[38;5;28mself\u001b[39m\u001b[38;5;241m.\u001b[39m_constructor(new_mgr)\n\u001b[0;32m   4359\u001b[0m \u001b[38;5;28;01mif\u001b[39;00m \u001b[38;5;28mself\u001b[39m\u001b[38;5;241m.\u001b[39mndim \u001b[38;5;241m==\u001b[39m \u001b[38;5;241m1\u001b[39m:\n",
      "File \u001b[1;32mc:\\Users\\User\\anaconda3\\lib\\site-packages\\pandas\\core\\internals\\managers.py:675\u001b[0m, in \u001b[0;36mBaseBlockManager.reindex_indexer\u001b[1;34m(self, new_axis, indexer, axis, fill_value, allow_dups, copy, consolidate, only_slice, use_na_proxy)\u001b[0m\n\u001b[0;32m    672\u001b[0m     \u001b[38;5;28;01mreturn\u001b[39;00m result\n\u001b[0;32m    674\u001b[0m \u001b[38;5;28;01mif\u001b[39;00m consolidate:\n\u001b[1;32m--> 675\u001b[0m     \u001b[38;5;28;43mself\u001b[39;49m\u001b[38;5;241;43m.\u001b[39;49m\u001b[43m_consolidate_inplace\u001b[49m\u001b[43m(\u001b[49m\u001b[43m)\u001b[49m\n\u001b[0;32m    677\u001b[0m \u001b[38;5;66;03m# some axes don't allow reindexing with dups\u001b[39;00m\n\u001b[0;32m    678\u001b[0m \u001b[38;5;28;01mif\u001b[39;00m \u001b[38;5;129;01mnot\u001b[39;00m allow_dups:\n",
      "File \u001b[1;32mc:\\Users\\User\\anaconda3\\lib\\site-packages\\pandas\\core\\internals\\managers.py:1685\u001b[0m, in \u001b[0;36mBlockManager._consolidate_inplace\u001b[1;34m(self)\u001b[0m\n\u001b[0;32m   1683\u001b[0m \u001b[38;5;28;01mdef\u001b[39;00m \u001b[38;5;21m_consolidate_inplace\u001b[39m(\u001b[38;5;28mself\u001b[39m) \u001b[38;5;241m-\u001b[39m\u001b[38;5;241m>\u001b[39m \u001b[38;5;28;01mNone\u001b[39;00m:\n\u001b[0;32m   1684\u001b[0m     \u001b[38;5;28;01mif\u001b[39;00m \u001b[38;5;129;01mnot\u001b[39;00m \u001b[38;5;28mself\u001b[39m\u001b[38;5;241m.\u001b[39mis_consolidated():\n\u001b[1;32m-> 1685\u001b[0m         \u001b[38;5;28mself\u001b[39m\u001b[38;5;241m.\u001b[39mblocks \u001b[38;5;241m=\u001b[39m \u001b[38;5;28mtuple\u001b[39m(\u001b[43m_consolidate\u001b[49m\u001b[43m(\u001b[49m\u001b[38;5;28;43mself\u001b[39;49m\u001b[38;5;241;43m.\u001b[39;49m\u001b[43mblocks\u001b[49m\u001b[43m)\u001b[49m)\n\u001b[0;32m   1686\u001b[0m         \u001b[38;5;28mself\u001b[39m\u001b[38;5;241m.\u001b[39m_is_consolidated \u001b[38;5;241m=\u001b[39m \u001b[38;5;28;01mTrue\u001b[39;00m\n\u001b[0;32m   1687\u001b[0m         \u001b[38;5;28mself\u001b[39m\u001b[38;5;241m.\u001b[39m_known_consolidated \u001b[38;5;241m=\u001b[39m \u001b[38;5;28;01mTrue\u001b[39;00m\n",
      "File \u001b[1;32mc:\\Users\\User\\anaconda3\\lib\\site-packages\\pandas\\core\\internals\\managers.py:2084\u001b[0m, in \u001b[0;36m_consolidate\u001b[1;34m(blocks)\u001b[0m\n\u001b[0;32m   2082\u001b[0m new_blocks: \u001b[38;5;28mlist\u001b[39m[Block] \u001b[38;5;241m=\u001b[39m []\n\u001b[0;32m   2083\u001b[0m \u001b[38;5;28;01mfor\u001b[39;00m (_can_consolidate, dtype), group_blocks \u001b[38;5;129;01min\u001b[39;00m grouper:\n\u001b[1;32m-> 2084\u001b[0m     merged_blocks \u001b[38;5;241m=\u001b[39m \u001b[43m_merge_blocks\u001b[49m\u001b[43m(\u001b[49m\n\u001b[0;32m   2085\u001b[0m \u001b[43m        \u001b[49m\u001b[38;5;28;43mlist\u001b[39;49m\u001b[43m(\u001b[49m\u001b[43mgroup_blocks\u001b[49m\u001b[43m)\u001b[49m\u001b[43m,\u001b[49m\u001b[43m \u001b[49m\u001b[43mdtype\u001b[49m\u001b[38;5;241;43m=\u001b[39;49m\u001b[43mdtype\u001b[49m\u001b[43m,\u001b[49m\u001b[43m \u001b[49m\u001b[43mcan_consolidate\u001b[49m\u001b[38;5;241;43m=\u001b[39;49m\u001b[43m_can_consolidate\u001b[49m\n\u001b[0;32m   2086\u001b[0m \u001b[43m    \u001b[49m\u001b[43m)\u001b[49m\n\u001b[0;32m   2087\u001b[0m     new_blocks \u001b[38;5;241m=\u001b[39m extend_blocks(merged_blocks, new_blocks)\n\u001b[0;32m   2088\u001b[0m \u001b[38;5;28;01mreturn\u001b[39;00m new_blocks\n",
      "File \u001b[1;32mc:\\Users\\User\\anaconda3\\lib\\site-packages\\pandas\\core\\internals\\managers.py:2102\u001b[0m, in \u001b[0;36m_merge_blocks\u001b[1;34m(blocks, dtype, can_consolidate)\u001b[0m\n\u001b[0;32m   2096\u001b[0m     \u001b[38;5;28;01mreturn\u001b[39;00m blocks\n\u001b[0;32m   2098\u001b[0m \u001b[38;5;28;01mif\u001b[39;00m can_consolidate:\n\u001b[0;32m   2099\u001b[0m \n\u001b[0;32m   2100\u001b[0m     \u001b[38;5;66;03m# TODO: optimization potential in case all mgrs contain slices and\u001b[39;00m\n\u001b[0;32m   2101\u001b[0m     \u001b[38;5;66;03m# combination of those slices is a slice, too.\u001b[39;00m\n\u001b[1;32m-> 2102\u001b[0m     new_mgr_locs \u001b[38;5;241m=\u001b[39m \u001b[43mnp\u001b[49m\u001b[38;5;241;43m.\u001b[39;49m\u001b[43mconcatenate\u001b[49m\u001b[43m(\u001b[49m\u001b[43m[\u001b[49m\u001b[43mb\u001b[49m\u001b[38;5;241;43m.\u001b[39;49m\u001b[43mmgr_locs\u001b[49m\u001b[38;5;241;43m.\u001b[39;49m\u001b[43mas_array\u001b[49m\u001b[43m \u001b[49m\u001b[38;5;28;43;01mfor\u001b[39;49;00m\u001b[43m \u001b[49m\u001b[43mb\u001b[49m\u001b[43m \u001b[49m\u001b[38;5;129;43;01min\u001b[39;49;00m\u001b[43m \u001b[49m\u001b[43mblocks\u001b[49m\u001b[43m]\u001b[49m\u001b[43m)\u001b[49m\n\u001b[0;32m   2104\u001b[0m     new_values: ArrayLike\n\u001b[0;32m   2106\u001b[0m     \u001b[38;5;28;01mif\u001b[39;00m \u001b[38;5;28misinstance\u001b[39m(blocks[\u001b[38;5;241m0\u001b[39m]\u001b[38;5;241m.\u001b[39mdtype, np\u001b[38;5;241m.\u001b[39mdtype):\n\u001b[0;32m   2107\u001b[0m         \u001b[38;5;66;03m# error: List comprehension has incompatible type List[Union[ndarray,\u001b[39;00m\n\u001b[0;32m   2108\u001b[0m         \u001b[38;5;66;03m# ExtensionArray]]; expected List[Union[complex, generic,\u001b[39;00m\n\u001b[0;32m   2109\u001b[0m         \u001b[38;5;66;03m# Sequence[Union[int, float, complex, str, bytes, generic]],\u001b[39;00m\n\u001b[0;32m   2110\u001b[0m         \u001b[38;5;66;03m# Sequence[Sequence[Any]], SupportsArray]]\u001b[39;00m\n",
      "File \u001b[1;32m<__array_function__ internals>:180\u001b[0m, in \u001b[0;36mconcatenate\u001b[1;34m(*args, **kwargs)\u001b[0m\n",
      "\u001b[1;31mKeyboardInterrupt\u001b[0m: "
     ]
    }
   ],
   "source": [
    "# 시계열 데이터 생성\n",
    "sequence_length = 6\n",
    "\n",
    "def create_sequences(data, sequence_length):\n",
    "    sequences = []\n",
    "    labels = []\n",
    "    for i in range(len(data) - sequence_length):\n",
    "        seq = data.iloc[i:i + sequence_length].drop(columns=[target])\n",
    "        label = data.iloc[i + sequence_length][target]\n",
    "        sequences.append(seq.values)\n",
    "        labels.append(label)\n",
    "    return np.array(sequences), np.array(labels)\n",
    "\n",
    "sequences, labels = create_sequences(processed_data, sequence_length)\n",
    "\n",
    "# 학습 데이터와 테스트 데이터 분리\n",
    "X_train, X_test, y_train, y_test = train_test_split(sequences, labels, test_size=0.2, random_state=123)\n"
   ]
  },
  {
   "cell_type": "code",
   "execution_count": null,
   "metadata": {},
   "outputs": [
    {
     "name": "stdout",
     "output_type": "stream",
     "text": [
      "Epoch 1/100\n",
      "31565/31565 [==============================] - 734s 23ms/step - loss: 242362864.0000 - val_loss: 198228736.0000\n",
      "Epoch 2/100\n",
      "31565/31565 [==============================] - 624s 20ms/step - loss: 161225792.0000 - val_loss: 127130288.0000\n",
      "Epoch 3/100\n",
      "31565/31565 [==============================] - 597s 19ms/step - loss: 100222392.0000 - val_loss: 76076120.0000\n",
      "Epoch 4/100\n",
      "31565/31565 [==============================] - 538s 17ms/step - loss: 59236236.0000 - val_loss: 44927848.0000\n",
      "Epoch 5/100\n",
      "31565/31565 [==============================] - 529s 17ms/step - loss: 38011996.0000 - val_loss: 33134252.0000\n",
      "Epoch 6/100\n",
      "31565/31565 [==============================] - 22858s 724ms/step - loss: 33263500.0000 - val_loss: 32545590.0000\n",
      "Epoch 7/100\n",
      "31565/31565 [==============================] - 528s 17ms/step - loss: 33178680.0000 - val_loss: 32543940.0000\n",
      "Epoch 8/100\n",
      "31565/31565 [==============================] - 541s 17ms/step - loss: 33179792.0000 - val_loss: 32544360.0000\n",
      "Epoch 9/100\n",
      "31565/31565 [==============================] - 493s 16ms/step - loss: 33186340.0000 - val_loss: 32543738.0000\n",
      "Epoch 10/100\n",
      "31565/31565 [==============================] - 480s 15ms/step - loss: 33182742.0000 - val_loss: 32544158.0000\n",
      "Epoch 11/100\n",
      "31565/31565 [==============================] - 502s 16ms/step - loss: 33178594.0000 - val_loss: 32544100.0000\n",
      "Epoch 12/100\n",
      "31564/31565 [============================>.] - ETA: 0s - loss: 33181458.0000Restoring model weights from the end of the best epoch: 9.\n",
      "31565/31565 [==============================] - 527s 17ms/step - loss: 33181390.0000 - val_loss: 32543860.0000\n",
      "Epoch 12: early stopping\n"
     ]
    }
   ],
   "source": [
    "# 양방향 LSTM 모델 구성\n",
    "model = Sequential()\n",
    "model.add(Bidirectional(LSTM(50, return_sequences=True), input_shape=(sequence_length, X_train.shape[-1])))\n",
    "model.add(Dropout(0.2))  # Dropout 추가\n",
    "model.add(Bidirectional(LSTM(50)))\n",
    "model.add(Dropout(0.2))  # Dropout 추가\n",
    "model.add(Dense(1, activation='linear'))\n",
    "\n",
    "model.compile(optimizer='adam', loss='mse')\n",
    "\n",
    "# Early Stopping 콜백 설정\n",
    "early_stopping = EarlyStopping(monitor='val_loss', \n",
    "                               patience=3, \n",
    "                               verbose=1, # 로그출력\n",
    "                               restore_best_weights=True)\n",
    "\n",
    "# 모델 학습\n",
    "history = model.fit(X_train, y_train, validation_split=0.2, epochs=100, batch_size=64, callbacks=[early_stopping])"
   ]
  },
  {
   "cell_type": "code",
   "execution_count": null,
   "metadata": {},
   "outputs": [
    {
     "data": {
      "image/png": "[encoded data removed]",
      "text/plain": [
       "<Figure size 864x432 with 1 Axes>"
      ]
     },
     "metadata": {
      "needs_background": "light"
     },
     "output_type": "display_data"
    }
   ],
   "source": [
    "# history 그래프로 시각화\n",
    "plt.figure(figsize=(12, 6))\n",
    "plt.plot(history.history['loss'], label='train_loss')\n",
    "plt.plot(history.history['val_loss'], label='val_loss')\n",
    "plt.title('Model Loss')\n",
    "plt.xlabel('Epochs')\n",
    "plt.ylabel('Loss')\n",
    "plt.legend()\n",
    "plt.grid(True)\n",
    "plt.show()"
   ]
  },
  {
   "cell_type": "code",
   "execution_count": null,
   "metadata": {},
   "outputs": [
    {
     "name": "stdout",
     "output_type": "stream",
     "text": [
      "19728/19728 [==============================] - 78s 4ms/step\n"
     ]
    }
   ],
   "source": [
    "# 모델 평가\n",
    "y_pred = model.predict(X_test)"
   ]
  },
  {
   "cell_type": "code",
   "execution_count": null,
   "metadata": {},
   "outputs": [],
   "source": [
    "# 예측된 vis1을 바탕으로 class를 계산\n",
    "def classify_vis1(vis1):\n",
    "    if vis1 < 200:\n",
    "        return 1\n",
    "    elif vis1 < 500:\n",
    "        return 2\n",
    "    elif vis1 < 1000:\n",
    "        return 3\n",
    "    else:\n",
    "        return 4\n",
    "\n",
    "y_pred_class = np.array([classify_vis1(vis) for vis in y_pred.flatten()])\n",
    "y_test_class = np.array([classify_vis1(vis) for vis in y_test])"
   ]
  },
  {
   "cell_type": "code",
   "execution_count": null,
   "metadata": {},
   "outputs": [
    {
     "name": "stdout",
     "output_type": "stream",
     "text": [
      "CSI: 0.2474868959006227\n"
     ]
    }
   ],
   "source": [
    "# CSI 계산 예시 (필요에 따라 추가적으로 수행)\n",
    "def calculate_csi(y_true, y_pred):\n",
    "    confusion = confusion_matrix(y_true, y_pred)\n",
    "    csi_values = []\n",
    "    for i in range(1, 5):  # class 1 to 4\n",
    "        tp = np.sum((y_true == i) & (y_pred == i))\n",
    "        fp = np.sum((y_true != i) & (y_pred == i))\n",
    "        fn = np.sum((y_true == i) & (y_pred != i))\n",
    "        csi = tp / (tp + fp + fn) if (tp + fp + fn) > 0 else 0\n",
    "        csi_values.append(csi)\n",
    "    return np.mean(csi_values)\n",
    "\n",
    "csi = calculate_csi(y_test_class, y_pred_class)\n",
    "print(f'CSI: {csi}')"
   ]
  },
  {
   "cell_type": "code",
   "execution_count": null,
   "metadata": {},
   "outputs": [
    {
     "name": "stderr",
     "output_type": "stream",
     "text": [
      "c:\\Users\\User\\anaconda3\\lib\\site-packages\\keras\\src\\engine\\training.py:3000: UserWarning: You are saving your model as an HDF5 file via `model.save()`. This file format is considered legacy. We recommend using instead the native Keras format, e.g. `model.save('my_model.keras')`.\n",
      "  saving_api.save_model(\n"
     ]
    }
   ],
   "source": [
    "#모델 저장\n",
    "model.save('model_1.h5')\n",
    "\n",
    "# 노트북\n",
    "model.save('C:\\\\Users\\\\User\\\\Desktop\\\\기상청 날씨 빅데이터 공모전\\\\과제2\\\\model_1.h5')\n",
    "\n",
    "# 데스크탑\n",
    "# model.save('C:\\\\Users\\\\Hong_PC\\\\Desktop\\\\기상청 날씨 빅데이터 공모전\\\\과제2\\\\model_1.h5')"
   ]
  },
  {
   "cell_type": "code",
   "execution_count": null,
   "metadata": {},
   "outputs": [
    {
     "data": {
      "text/plain": [
       "['C:\\\\Users\\\\User\\\\Desktop\\\\기상청 날씨 빅데이터 공모전\\\\과제2\\\\label_encoders_1.pkl']"
      ]
     },
     "execution_count": 121,
     "metadata": {},
     "output_type": "execute_result"
    }
   ],
   "source": [
    "# 전처리기 저장\n",
    "joblib.dump(scaler, 'scaler_1.pkl')\n",
    "joblib.dump(label_encoders, 'label_encoders_1.pkl')\n",
    "\n",
    "# 노트북\n",
    "joblib.dump(scaler, 'C:\\\\Users\\\\User\\\\Desktop\\\\기상청 날씨 빅데이터 공모전\\\\과제2\\\\scaler_1.pkl')\n",
    "joblib.dump(label_encoders, 'C:\\\\Users\\\\User\\\\Desktop\\\\기상청 날씨 빅데이터 공모전\\\\과제2\\\\label_encoders_1.pkl')\n",
    "\n",
    "# # 데스크탑\n",
    "# joblib.dump(scaler, 'C:\\\\Users\\\\Hong_PC\\\\Desktop\\\\기상청 날씨 빅데이터 공모전\\\\과제2\\\\scaler.pkl')\n",
    "# joblib.dump(label_encoders, 'C:\\\\Users\\\\Hong_PC\\\\Desktop\\\\기상청 날씨 빅데이터 공모전\\\\과제2\\\\label_encoders.pkl')"
   ]
  },
  {
   "cell_type": "markdown",
   "metadata": {},
   "source": [
    "### fog_test.csv을 예측 "
   ]
  },
  {
   "cell_type": "code",
   "execution_count": null,
   "metadata": {},
   "outputs": [],
   "source": [
    "# 데스크탑\n",
    "# df_test = pd.read_csv(\"C:\\\\Users\\\\Hong_PC\\\\Desktop\\\\기상청 날씨 빅데이터 공모전\\\\과제2\\\\fog_test.csv\", index_col=0)\n",
    "\n",
    "# 노트북\n",
    "df_test = pd.read_csv(\"C:\\\\Users\\\\User\\\\Desktop\\\\기상청 날씨 빅데이터 공모전\\\\과제2\\\\fog_test.csv\", index_col=0)"
   ]
  },
  {
   "cell_type": "code",
   "execution_count": null,
   "metadata": {},
   "outputs": [],
   "source": [
    "df_original = df_test.copy()\n",
    "df = df_test.copy()"
   ]
  },
  {
   "cell_type": "markdown",
   "metadata": {},
   "source": [
    "**기본 전처리**"
   ]
  },
  {
   "cell_type": "code",
   "execution_count": null,
   "metadata": {},
   "outputs": [],
   "source": [
    "# 열 이름의 . 앞에 단어 제거\n",
    "df.columns = [col.split('.')[-1] if '.' in col else col for col in df.columns]\n",
    "\n",
    "# year열 I, J, K 순으로 0, 1, 2로 맵핑 (현재 L만 있어서 0으로 맵핑)\n",
    "df['year'] = df['year'].map({'L': 0})\n",
    "\n",
    "# region는 stn_id에서 앞글자만 가져오고 숫자화\n",
    "df['region'] = df['stn_id'].str[0]\n",
    "alphabet_order = {char: idx for idx, char in enumerate(sorted(df['region'].unique()))}\n",
    "df['region'] = df['region'].map(alphabet_order)\n",
    "\n",
    "# stn_id를 숫자화\n",
    "stn_id_mapping = {v: k for k, v in enumerate(['AI', 'BE', 'CC', 'DD'])}\n",
    "df['stn_id'] = df['stn_id'].map(stn_id_mapping)"
   ]
  },
  {
   "cell_type": "code",
   "execution_count": null,
   "metadata": {},
   "outputs": [],
   "source": [
    "# 마지막 행이 결측열이길래 제거\n",
    "df.loc[:, df.columns != 'class'] = df.loc[:, df.columns != 'class'].fillna(method='ffill')"
   ]
  },
  {
   "cell_type": "markdown",
   "metadata": {},
   "source": [
    "**결측치 제거**"
   ]
  },
  {
   "cell_type": "code",
   "execution_count": null,
   "metadata": {},
   "outputs": [],
   "source": [
    "# df에서 변수들 -99 NA처리\n",
    "# 변환할 열 리스트\n",
    "numeric_cols = ['stn_id', 'ws10_deg', 'ws10_ms', 'ta', 'hm', 'sun10', 'ts']\n",
    "\n",
    "# -99.9 값을 NaN으로 변환\n",
    "df[numeric_cols] = df[numeric_cols].replace(-99.9, np.nan)\n",
    "df['vis1','class'] = df['vis1','class'].replace(-99, np.nan)\n",
    "\n",
    "# 선형보간법을 이용하여 NA값 처리\n",
    "df[numeric_cols] = df[numeric_cols].interpolate(method='linear')\n",
    "# 강수 유무에 대해선 전의 값으로 채움\n",
    "df['re'] = df['re'].interpolate(method='ffill')\n",
    "\n",
    "print(df.isnull().sum())"
   ]
  },
  {
   "cell_type": "markdown",
   "metadata": {},
   "source": [
    "**이상치 제거**"
   ]
  },
  {
   "cell_type": "code",
   "execution_count": null,
   "metadata": {},
   "outputs": [],
   "source": [
    "features = df.columns.difference(['year', 'month', 'day', 'time','minute', 'stn_id', 're', 'vis1', 'class','region'])\n",
    "\n",
    "# 이상치 탐지 함수\n",
    "def detect_outliers(df, features):\n",
    "    outliers_indices = {}\n",
    "    for feature in features:\n",
    "        data = df[feature]\n",
    "        mean = data.mean()\n",
    "        std = data.std()\n",
    "        ucl = mean + 3 * std\n",
    "        lcl = mean - 3 * std\n",
    "        outliers = np.where((data > ucl) | (data < lcl))[0]\n",
    "        outliers_indices[feature] = outliers\n",
    "    return outliers_indices\n",
    "\n",
    "# 이상치 탐지\n",
    "outliers_indices = detect_outliers(df, features)\n",
    "\n",
    "# 이상치 대체 함수 정의\n",
    "def replace_outliers(df, outliers_indices):\n",
    "    for feature, indices in outliers_indices.items():\n",
    "        df.loc[indices, feature] = np.nan\n",
    "        df[feature] = df[feature].interpolate(method='polynomial', order=2) # 선형보간법\n",
    "        # method='ffill', 'bfill'쓰면 직전 값, 직후 값으로 대체 가능\n",
    "        # .interpolate(method='polynomial', order=2) # 2차 다항식 보간법\n",
    "        # .interpolate(method='linear') # 선형보간법\n",
    "    return df\n",
    "\n",
    "# 이상치 대체 수행\n",
    "replace_outliers(df, outliers_indices)"
   ]
  },
  {
   "cell_type": "markdown",
   "metadata": {},
   "source": [
    "**파생 변수**"
   ]
  },
  {
   "cell_type": "code",
   "execution_count": null,
   "metadata": {},
   "outputs": [],
   "source": [
    "# 계절 매핑\n",
    "def map_season(month):\n",
    "    if month in [3, 4, 5]:\n",
    "        return 0  # 봄\n",
    "    elif month in [6, 7, 8]:\n",
    "        return 1  # 여름\n",
    "    elif month in [9, 10, 11]:\n",
    "        return 2  # 가을\n",
    "    else:\n",
    "        return 3  # 겨울\n",
    "df['season'] = df['month'].apply(map_season)\n",
    "\n",
    "# 이슬점 계산 함수\n",
    "def calculate_dew_point(temp_celsius, relative_humidity):\n",
    "    a = 17.27\n",
    "    b = 237.7\n",
    "    rh = max(relative_humidity / 100.0, 1e-6)\n",
    "    alpha = ((a * temp_celsius) / (b + temp_celsius)) + np.log(rh)\n",
    "    dew_point = (b * alpha) / (a - alpha)\n",
    "    return dew_point\n",
    "df['dew_point'] = df.apply(lambda row: calculate_dew_point(row['ta'], row['hm']), axis=1)\n",
    "\n",
    "# 풍향을 16방위로 변환\n",
    "def convert_wind_direction(wind_dir):\n",
    "    direction = int((wind_dir + 11.25) % 360 / 22.5)\n",
    "    return direction\n",
    "df['ws10_deg_16'] = df['ws10_deg'].apply(convert_wind_direction)\n",
    "\n",
    "# 날짜(year, month, day), 관측 장소(stn_id)로 그룹화하여 일교차 계산\n",
    "df['diurnal_range'] = df.groupby(['year', 'month', 'day', 'stn_id'])['ts'].transform(lambda x: x.max() - x.min())\n",
    "\n",
    "# 기온-이슬점\n",
    "df['ts_dew_diff'] = df['ts'] - df['dew_point']\n",
    "\n",
    "# 50분 이동평균(습도)\n",
    "def calculate_rolling_mean(group):\n",
    "    group['5_hm'] = group['hm'].rolling(window=5).mean()\n",
    "    group['5_hm'] = group['5_hm'].fillna(group['hm'])\n",
    "    return group\n",
    "df = df.groupby('stn_id', group_keys=False).apply(calculate_rolling_mean)"
   ]
  },
  {
   "cell_type": "code",
   "execution_count": null,
   "metadata": {},
   "outputs": [
    {
     "name": "stdout",
     "output_type": "stream",
     "text": [
      "결측치 개수:\n",
      "year                  0\n",
      "month                 0\n",
      "day                   0\n",
      "time                  0\n",
      "minute                0\n",
      "stn_id                0\n",
      "ws10_deg              0\n",
      "ws10_ms               0\n",
      "ta                    0\n",
      "re                    0\n",
      "hm                    0\n",
      "sun10                 0\n",
      "ts                    0\n",
      "class            166935\n",
      "region                0\n",
      "season                0\n",
      "dew_point             0\n",
      "ws10_deg_16           0\n",
      "diurnal_range         0\n",
      "ts_dew_diff           0\n",
      "5_hm                  0\n",
      "dtype: int64\n"
     ]
    }
   ],
   "source": [
    "# 각 열의 결측치 개수 확인\n",
    "missing_values = df.isna().sum()\n",
    "print(\"결측치 개수:\")\n",
    "print(missing_values)"
   ]
  },
  {
   "cell_type": "markdown",
   "metadata": {},
   "source": [
    "**LSTM 적용부분**"
   ]
  },
  {
   "cell_type": "code",
   "execution_count": null,
   "metadata": {},
   "outputs": [],
   "source": [
    "# 필요한 열만 사용\n",
    "numeric_features = ['ws10_deg', 'ws10_ms', 'ta', 'hm', 'sun10', 'ts',\n",
    "                    'dew_point', 'diurnal_range', '5_hm']\n",
    "categorical_features = ['region', 'season', 're','ws10_deg_16',]\n",
    "\n",
    "# 데이터프레임에서 필요한 열만 선택\n",
    "data = df[numeric_features + categorical_features]\n",
    "\n",
    "# 라벨 인코딩 및 스케일러 로드\n",
    "label_encoders = joblib.load('label_encoders_1.pkl')\n",
    "scaler = joblib.load('scaler_1.pkl')\n",
    "\n",
    "# 카테고리형 변수에 대해 라벨 인코딩을 적용\n",
    "encoded_categorical_data = data[categorical_features].apply(lambda x: label_encoders[x.name].transform(x))\n",
    "processed_data = pd.concat([data[numeric_features], encoded_categorical_data], axis=1)\n",
    "\n",
    "\n",
    "# 계절을 반영한 Min-Max 스케일링\n",
    "scaled_numeric_data = processed_data.copy()\n",
    "for season_value in range(4):\n",
    "    mask = scaled_numeric_data['season'] == season_value\n",
    "    if mask.sum() > 0:\n",
    "        scaled_numeric_data.loc[mask, numeric_features] = scaler.transform(scaled_numeric_data.loc[mask, numeric_features])\n",
    "\n",
    "processed_data = pd.concat([scaled_numeric_data[numeric_features], encoded_categorical_data], axis=1)\n"
   ]
  },
  {
   "cell_type": "code",
   "execution_count": null,
   "metadata": {},
   "outputs": [
    {
     "data": {
      "text/plain": [
       "1    156909\n",
       "2      8079\n",
       "0      3980\n",
       "Name: re, dtype: int64"
      ]
     },
     "execution_count": 207,
     "metadata": {},
     "output_type": "execute_result"
    }
   ],
   "source": [
    "processed_data['re'].value_counts()"
   ]
  },
  {
   "cell_type": "code",
   "execution_count": null,
   "metadata": {},
   "outputs": [],
   "source": [
    "# 시계열 데이터 생성\n",
    "sequence_length = 6\n",
    "\n",
    "def create_sequences(data, sequence_length):\n",
    "    sequences = []\n",
    "    for i in range(len(data) - sequence_length):\n",
    "        seq = data.iloc[i:i + sequence_length]\n",
    "        sequences.append(seq.values)\n",
    "    return np.array(sequences)\n",
    "\n",
    "sequences_test = create_sequences(processed_data, sequence_length)"
   ]
  },
  {
   "cell_type": "code",
   "execution_count": null,
   "metadata": {},
   "outputs": [
    {
     "data": {
      "text/plain": [
       "array([[[9.15277778e-01, 2.62673864e-01, 5.19705225e-01, ...,\n",
       "         3.00000000e+00, 1.00000000e+00, 1.50000000e+01],\n",
       "        [8.93888889e-01, 2.67213278e-01, 5.19705225e-01, ...,\n",
       "         3.00000000e+00, 1.00000000e+00, 1.40000000e+01],\n",
       "        [1.11111111e-03, 2.61160726e-01, 5.19705225e-01, ...,\n",
       "         3.00000000e+00, 1.00000000e+00, 0.00000000e+00],\n",
       "        [8.98888889e-01, 2.63430433e-01, 5.17952325e-01, ...,\n",
       "         3.00000000e+00, 1.00000000e+00, 1.40000000e+01],\n",
       "        [5.78888889e-01, 2.59647588e-01, 5.17952325e-01, ...,\n",
       "         3.00000000e+00, 1.00000000e+00, 9.00000000e+00],\n",
       "        [2.81944444e-01, 2.58891019e-01, 5.16199424e-01, ...,\n",
       "         3.00000000e+00, 1.00000000e+00, 5.00000000e+00]],\n",
       "\n",
       "       [[8.93888889e-01, 2.67213278e-01, 5.19705225e-01, ...,\n",
       "         3.00000000e+00, 1.00000000e+00, 1.40000000e+01],\n",
       "        [1.11111111e-03, 2.61160726e-01, 5.19705225e-01, ...,\n",
       "         3.00000000e+00, 1.00000000e+00, 0.00000000e+00],\n",
       "        [8.98888889e-01, 2.63430433e-01, 5.17952325e-01, ...,\n",
       "         3.00000000e+00, 1.00000000e+00, 1.40000000e+01],\n",
       "        [5.78888889e-01, 2.59647588e-01, 5.17952325e-01, ...,\n",
       "         3.00000000e+00, 1.00000000e+00, 9.00000000e+00],\n",
       "        [2.81944444e-01, 2.58891019e-01, 5.16199424e-01, ...,\n",
       "         3.00000000e+00, 1.00000000e+00, 5.00000000e+00],\n",
       "        [2.91666667e-02, 2.61917295e-01, 5.14446523e-01, ...,\n",
       "         3.00000000e+00, 1.00000000e+00, 0.00000000e+00]],\n",
       "\n",
       "       [[1.11111111e-03, 2.61160726e-01, 5.19705225e-01, ...,\n",
       "         3.00000000e+00, 1.00000000e+00, 0.00000000e+00],\n",
       "        [8.98888889e-01, 2.63430433e-01, 5.17952325e-01, ...,\n",
       "         3.00000000e+00, 1.00000000e+00, 1.40000000e+01],\n",
       "        [5.78888889e-01, 2.59647588e-01, 5.17952325e-01, ...,\n",
       "         3.00000000e+00, 1.00000000e+00, 9.00000000e+00],\n",
       "        [2.81944444e-01, 2.58891019e-01, 5.16199424e-01, ...,\n",
       "         3.00000000e+00, 1.00000000e+00, 5.00000000e+00],\n",
       "        [2.91666667e-02, 2.61917295e-01, 5.14446523e-01, ...,\n",
       "         3.00000000e+00, 1.00000000e+00, 0.00000000e+00],\n",
       "        [1.72500000e-01, 2.58134450e-01, 5.12693623e-01, ...,\n",
       "         3.00000000e+00, 1.00000000e+00, 3.00000000e+00]],\n",
       "\n",
       "       ...,\n",
       "\n",
       "       [[4.16666667e-03, 2.59647588e-01, 5.98585754e-01, ...,\n",
       "         0.00000000e+00, 1.00000000e+00, 0.00000000e+00],\n",
       "        [8.51666667e-01, 2.62673864e-01, 6.00338655e-01, ...,\n",
       "         0.00000000e+00, 1.00000000e+00, 1.40000000e+01],\n",
       "        [3.30555556e-02, 2.71752691e-01, 6.05597356e-01, ...,\n",
       "         0.00000000e+00, 1.00000000e+00, 1.00000000e+00],\n",
       "        [1.04722222e-01, 2.62673864e-01, 6.07350257e-01, ...,\n",
       "         0.00000000e+00, 1.00000000e+00, 2.00000000e+00],\n",
       "        [4.61666667e-01, 2.62673864e-01, 6.14361860e-01, ...,\n",
       "         0.00000000e+00, 1.00000000e+00, 7.00000000e+00],\n",
       "        [1.43611111e-01, 2.64187002e-01, 6.26632164e-01, ...,\n",
       "         0.00000000e+00, 1.00000000e+00, 2.00000000e+00]],\n",
       "\n",
       "       [[8.51666667e-01, 2.62673864e-01, 6.00338655e-01, ...,\n",
       "         0.00000000e+00, 1.00000000e+00, 1.40000000e+01],\n",
       "        [3.30555556e-02, 2.71752691e-01, 6.05597356e-01, ...,\n",
       "         0.00000000e+00, 1.00000000e+00, 1.00000000e+00],\n",
       "        [1.04722222e-01, 2.62673864e-01, 6.07350257e-01, ...,\n",
       "         0.00000000e+00, 1.00000000e+00, 2.00000000e+00],\n",
       "        [4.61666667e-01, 2.62673864e-01, 6.14361860e-01, ...,\n",
       "         0.00000000e+00, 1.00000000e+00, 7.00000000e+00],\n",
       "        [1.43611111e-01, 2.64187002e-01, 6.26632164e-01, ...,\n",
       "         0.00000000e+00, 1.00000000e+00, 2.00000000e+00],\n",
       "        [8.38333333e-01, 2.64943571e-01, 6.24879263e-01, ...,\n",
       "         0.00000000e+00, 1.00000000e+00, 1.30000000e+01]],\n",
       "\n",
       "       [[3.30555556e-02, 2.71752691e-01, 6.05597356e-01, ...,\n",
       "         0.00000000e+00, 1.00000000e+00, 1.00000000e+00],\n",
       "        [1.04722222e-01, 2.62673864e-01, 6.07350257e-01, ...,\n",
       "         0.00000000e+00, 1.00000000e+00, 2.00000000e+00],\n",
       "        [4.61666667e-01, 2.62673864e-01, 6.14361860e-01, ...,\n",
       "         0.00000000e+00, 1.00000000e+00, 7.00000000e+00],\n",
       "        [1.43611111e-01, 2.64187002e-01, 6.26632164e-01, ...,\n",
       "         0.00000000e+00, 1.00000000e+00, 2.00000000e+00],\n",
       "        [8.38333333e-01, 2.64943571e-01, 6.24879263e-01, ...,\n",
       "         0.00000000e+00, 1.00000000e+00, 1.30000000e+01],\n",
       "        [8.07500000e-01, 2.60404157e-01, 6.30137965e-01, ...,\n",
       "         0.00000000e+00, 1.00000000e+00, 1.30000000e+01]]])"
      ]
     },
     "execution_count": 205,
     "metadata": {},
     "output_type": "execute_result"
    }
   ],
   "source": [
    "sequences_test"
   ]
  },
  {
   "cell_type": "code",
   "execution_count": null,
   "metadata": {},
   "outputs": [
    {
     "name": "stdout",
     "output_type": "stream",
     "text": [
      "5281/5281 [==============================] - 33s 6ms/step\n"
     ]
    }
   ],
   "source": [
    "# 모델 적용\n",
    "model = load_model('model_1.h5')\n",
    "y_pred = model.predict(sequences_test)\n",
    "\n",
    "def classify_vis1(vis1):\n",
    "    if vis1 < 200:\n",
    "        return 1\n",
    "    elif vis1 < 500:\n",
    "        return 2\n",
    "    elif vis1 < 1000:\n",
    "        return 3\n",
    "    else:\n",
    "        return 4\n",
    "\n",
    "y_pred_class = np.array([classify_vis1(vis) for vis in y_pred.flatten()])"
   ]
  },
  {
   "cell_type": "code",
   "execution_count": null,
   "metadata": {},
   "outputs": [],
   "source": [
    "# 필요한 열만 사용\n",
    "numeric_features = ['ws10_deg', 'ws10_ms', 'ta', 'hm', 'sun10', 'ts',\n",
    "                    'dew_point', 'diurnal_range', '5_hm']\n",
    "categorical_features = ['region', 'season', 're','ws10_deg_16',]\n",
    "target = 'vis1'\n",
    "\n",
    "# 데이터프레임에서 필요한 열만 선택\n",
    "data = df[numeric_features + categorical_features + [target]]"
   ]
  },
  {
   "cell_type": "code",
   "execution_count": null,
   "metadata": {},
   "outputs": [
    {
     "data": {
      "text/plain": [
       "array([[16015.454],\n",
       "       [16015.454],\n",
       "       [16015.454],\n",
       "       ...,\n",
       "       [16015.454],\n",
       "       [16015.454],\n",
       "       [16015.454]], dtype=float32)"
      ]
     },
     "execution_count": 204,
     "metadata": {},
     "output_type": "execute_result"
    }
   ],
   "source": [
    "y_pred"
   ]
  },
  {
   "cell_type": "code",
   "execution_count": null,
   "metadata": {},
   "outputs": [
    {
     "name": "stderr",
     "output_type": "stream",
     "text": [
      "C:\\Users\\User\\AppData\\Local\\Temp\\ipykernel_16168\\24892146.py:2: SettingWithCopyWarning: \n",
      "A value is trying to be set on a copy of a slice from a DataFrame\n",
      "\n",
      "See the caveats in the documentation: https://pandas.pydata.org/pandas-docs/stable/user_guide/indexing.html#returning-a-view-versus-a-copy\n",
      "  df_original['fog_test.class'].iloc[sequence_length:] = y_pred_class\n"
     ]
    }
   ],
   "source": [
    "# 예측 결과를 DataFrame에 추가\n",
    "df_original['fog_test.class'].iloc[sequence_length:] = y_pred_class\n",
    "df_original.loc[:, df_original.columns != 'class'] = df_original.loc[:, df_original.columns != 'class'].fillna(method='bfill')\n",
    "\n",
    "# 예측 결과 출력 또는 저장\n",
    "# print(df_original[['year', 'month', 'day', 'time', 'fog_test.class']])\n",
    "\n",
    "# CSV로 저장\n",
    "df_original.to_csv('predicted_results.csv', index=False)"
   ]
  },
  {
   "cell_type": "code",
   "execution_count": null,
   "metadata": {},
   "outputs": [
    {
     "data": {
      "text/plain": [
       "4.0    168968\n",
       "Name: fog_test.class, dtype: int64"
      ]
     },
     "execution_count": 202,
     "metadata": {},
     "output_type": "execute_result"
    }
   ],
   "source": [
    "df_original['fog_test.class'].value_counts()"
   ]
  },
  {
   "cell_type": "code",
   "execution_count": null,
   "metadata": {},
   "outputs": [],
   "source": [
    "# 노트북\n",
    "df_original.to_csv('C:\\\\Users\\\\User\\\\Desktop\\\\기상청 날씨 빅데이터 공모전\\\\과제2\\\\predicted_results.csv', index=False)\n",
    "\n",
    "# 데스크탑\n",
    "# df_original.to_csv('C:\\\\Users\\\\Hong_PC\\\\Desktop\\\\기상청 날씨 빅데이터 공모전\\\\과제2\\\\predicted_results.csv', index=False)"
   ]
  },
  {
   "cell_type": "code",
   "execution_count": null,
   "metadata": {},
   "outputs": [],
   "source": []
  },
  {
   "cell_type": "code",
   "execution_count": null,
   "metadata": {},
   "outputs": [],
   "source": []
  },
  {
   "cell_type": "code",
   "execution_count": null,
   "metadata": {},
   "outputs": [],
   "source": []
  }
 ],
 "metadata": {
  "kernelspec": {
   "display_name": "mjh",
   "language": "python",
   "name": "python3"
  },
  "language_info": {
   "codemirror_mode": {
    "name": "ipython",
    "version": 3
   },
   "file_extension": ".py",
   "mimetype": "text/x-python",
   "name": "python",
   "nbconvert_exporter": "python",
   "pygments_lexer": "ipython3",
   "version": "3.9.12"
  }
 },
 "nbformat": 4,
 "nbformat_minor": 2
}
