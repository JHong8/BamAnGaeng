{
 "cells": [
  {
   "cell_type": "code",
   "execution_count": 1,
   "id": "5aaac5fc",
   "metadata": {},
   "outputs": [],
   "source": [
    "import pandas as pd\n",
    "import numpy as np\n",
    "import joblib\n",
    "import math\n",
    "from keras.models import load_model\n",
    "import random\n",
    "import tensorflow as tf\n",
    "\n",
    "import xgboost as xgb\n",
    "from sklearn.preprocessing import MinMaxScaler, LabelEncoder\n",
    "from sklearn.model_selection import train_test_split\n",
    "from tensorflow.keras.models import Sequential\n",
    "from tensorflow.keras.layers import LSTM, Dense, Bidirectional, Dropout\n",
    "from tensorflow.keras.callbacks import EarlyStopping\n",
    "from tensorflow.keras.layers import Bidirectional\n",
    "from sklearn.utils.class_weight import compute_class_weight\n",
    "from tensorflow.keras.utils import to_categorical\n",
    "from sklearn.metrics import confusion_matrix\n",
    "\n",
    "import matplotlib.pyplot as plt\n",
    "import seaborn as sns"
   ]
  },
  {
   "cell_type": "code",
   "execution_count": 2,
   "id": "9decef04",
   "metadata": {},
   "outputs": [],
   "source": [
    "# 전처리 끝낸 데이터\n",
    "df_train = joblib.load('df_train.pkl')\n",
    "df_test = joblib.load('df_test.pkl')\n"
   ]
  },
  {
   "cell_type": "code",
   "execution_count": 3,
   "id": "f6783fd2",
   "metadata": {},
   "outputs": [],
   "source": [
    "df2 = df_train.copy()"
   ]
  },
  {
   "cell_type": "markdown",
   "id": "dd16b43e",
   "metadata": {},
   "source": [
    "# Bi-directional LSTM 모델링(분류)"
   ]
  },
  {
   "cell_type": "code",
   "execution_count": null,
   "id": "1621c787",
   "metadata": {},
   "outputs": [],
   "source": []
  },
  {
   "cell_type": "markdown",
   "id": "e3d68519",
   "metadata": {},
   "source": [
    "# Bi-directional LSTM 모델링(회귀)"
   ]
  },
  {
   "cell_type": "code",
   "execution_count": 4,
   "id": "454641ed",
   "metadata": {},
   "outputs": [],
   "source": [
    "# 시드 설정\n",
    "seed = 123\n",
    "random.seed(seed)\n",
    "np.random.seed(seed)\n",
    "tf.random.set_seed(seed)\n",
    "\n",
    "# 시퀀스 생성 함수 정의\n",
    "def create_sequences(data, sequence_length, target_column):\n",
    "    sequences = []\n",
    "    targets = []\n",
    "    for i in range(len(data) - sequence_length):\n",
    "        sequences.append(data[i:i + sequence_length, :-1])\n",
    "        targets.append(data[i + sequence_length, target_column])\n",
    "    return np.array(sequences), np.array(targets)\n",
    "\n",
    "# 시정 구간 분류 함수 정의\n",
    "def classify_visibility(vis1):\n",
    "    if vis1 < 200:\n",
    "        return 1\n",
    "    elif vis1 < 500:\n",
    "        return 2\n",
    "    elif vis1 < 1000:\n",
    "        return 3\n",
    "    else:\n",
    "        return 4"
   ]
  },
  {
   "cell_type": "code",
   "execution_count": 5,
   "id": "1811ba6f",
   "metadata": {},
   "outputs": [],
   "source": [
    "# 필요한 열만 선택\n",
    "columns = ['year', 'month', 'day', 'time', 'minute', 'stn_id', 'ws10_deg', 'ws10_ms', 'ta', 're', 'hm', 'sun10', 'ts', 'dew_point']\n",
    "train_data = df_train[columns + ['vis1']].values\n",
    "\n",
    "# 시퀀스 생성\n",
    "sequence_length = 6\n",
    "X, y = create_sequences(train_data, sequence_length, -1)\n",
    "\n",
    "# y 값을 클래스(범주)로 변환\n",
    "y_classes = np.array([classify_visibility(vis) for vis in y])\n",
    "\n",
    "# 학습, 검증, 테스트 데이터 분리 (클래스 비율 유지)\n",
    "X_train_val, X_test, y_train_val, y_test = train_test_split(X, y, test_size=0.2, random_state=seed, stratify=y_classes)\n",
    "y_train_val_classes = np.array([classify_visibility(vis) for vis in y_train_val])\n",
    "X_train, X_val, y_train, y_val = train_test_split(X_train_val, y_train_val, test_size=0.2, random_state=seed, stratify=y_train_val_classes)\n"
   ]
  },
  {
   "cell_type": "code",
   "execution_count": null,
   "id": "fba5c564",
   "metadata": {},
   "outputs": [],
   "source": [
    "'''\n",
    "# 일정 간격으로 데이터 분리\n",
    "def split_data(X, y, test_size=0.2, val_size=0.2, random_seed=seed):\n",
    "    np.random.seed(random_seed)\n",
    "    data_size = len(X)\n",
    "    indices = np.arange(data_size)\n",
    "    np.random.shuffle(indices)\n",
    "\n",
    "    test_split = int(data_size * test_size)\n",
    "    val_split = int(data_size * (test_size + val_size))\n",
    "\n",
    "    test_indices = indices[:test_split]\n",
    "    val_indices = indices[test_split:val_split]\n",
    "    train_indices = indices[val_split:]\n",
    "\n",
    "    X_train, y_train = X[train_indices], y[train_indices]\n",
    "    X_val, y_val = X[val_indices], y[val_indices]\n",
    "    X_test, y_test = X[test_indices], y[test_indices]\n",
    "\n",
    "    return X_train, X_val, X_test, y_train, y_val, y_test\n",
    "\n",
    "X_train, X_val, X_test, y_train, y_val, y_test = split_data(X, y)\n",
    "'''"
   ]
  },
  {
   "cell_type": "code",
   "execution_count": 6,
   "metadata": {},
   "outputs": [
    {
     "name": "stdout",
     "output_type": "stream",
     "text": [
      "Epoch 1/2\n",
      "4735/4735 [==============================] - 65s 12ms/step - loss: 679436096.0000 - mae: 22321.2930 - val_loss: 671984832.0000 - val_mae: 22177.6914\n",
      "Epoch 2/2\n",
      "4735/4735 [==============================] - 55s 12ms/step - loss: 672523392.0000 - mae: 22166.2656 - val_loss: 665127680.0000 - val_mae: 22023.2266\n"
     ]
    }
   ],
   "source": [
    "# 양방향 LSTM 모델 구성\n",
    "model = Sequential()\n",
    "model.add(Bidirectional(LSTM(32, activation='tanh', return_sequences=True), input_shape=(sequence_length, X_train.shape[-1]))) # X_train.shape[-1]대신 len(columns)\n",
    "model.add(Dropout(0.2))  # Dropout 추가\n",
    "model.add(Bidirectional(LSTM(16, activation='tanh')))\n",
    "model.add(Dropout(0.2))  # Dropout 추가\n",
    "model.add(Dense(1))\n",
    "\n",
    "model.compile(optimizer='adam', loss='mse', metrics=['mae'])\n",
    "\n",
    "# Early Stopping 콜백 설정\n",
    "early_stopping = EarlyStopping(monitor='val_loss', \n",
    "                               patience=3, \n",
    "                               verbose=1, # 로그출력\n",
    "                               restore_best_weights=True)\n",
    "\n",
    "# 모델 학습\n",
    "history = model.fit(X_train, y_train, validation_data=(X_val, y_val), epochs=2, batch_size=64, callbacks=[early_stopping]) # epochs=100\n"
   ]
  },
  {
   "cell_type": "code",
   "execution_count": 7,
   "metadata": {},
   "outputs": [
    {
     "data": {
      "image/png": "[encoded data removed]",
      "text/plain": [
       "<Figure size 1200x600 with 1 Axes>"
      ]
     },
     "metadata": {},
     "output_type": "display_data"
    }
   ],
   "source": [
    "# history 그래프로 시각화\n",
    "plt.figure(figsize=(12, 6))\n",
    "plt.plot(history.history['loss'], label='train_loss')\n",
    "plt.plot(history.history['val_loss'], label='val_loss')\n",
    "plt.title('Model Loss')\n",
    "plt.xlabel('Epochs')\n",
    "plt.ylabel('Loss')\n",
    "plt.legend()\n",
    "plt.grid(True)\n",
    "plt.show()"
   ]
  },
  {
   "cell_type": "code",
   "execution_count": 18,
   "id": "07eb7bad",
   "metadata": {},
   "outputs": [],
   "source": [
    "# 테스트 데이터에 대해 예측 수행\n",
    "y_test_pred = model.predict(X_test)\n",
    "\n",
    "# 예측된 visibility 값을 클래스(범주)로 변환\n",
    "predicted_test_classes = np.array([classify_visibility(vis) for vis in y_test_pred.flatten()])\n",
    "\n",
    "# 실제 값을 클래스(범주)로 변환\n",
    "true_test_classes = np.array([classify_visibility(vis) for vis in y_test])"
   ]
  },
  {
   "cell_type": "code",
   "execution_count": 19,
   "id": "ea373af2",
   "metadata": {},
   "outputs": [
    {
     "data": {
      "text/plain": [
       "array([2, 2, 2, ..., 2, 2, 2])"
      ]
     },
     "execution_count": 19,
     "metadata": {},
     "output_type": "execute_result"
    }
   ],
   "source": [
    "# val 몇 개 씩 들어갔는지\n",
    "predicted_test_classes"
   ]
  },
  {
   "cell_type": "code",
   "execution_count": 22,
   "id": "60a9cea4",
   "metadata": {},
   "outputs": [
    {
     "name": "stdout",
     "output_type": "stream",
     "text": [
      "전체 테스트 데이터에 대한 CSI: 0.001\n"
     ]
    }
   ],
   "source": [
    "# 전체 CSI 계산 함수 정의\n",
    "def calculate_csi(y_true, y_pred):\n",
    "    cm = confusion_matrix(y_true, y_pred)\n",
    "    TP = np.diag(cm).sum()\n",
    "    FN = cm.sum(axis=1) - np.diag(cm)\n",
    "    FP = cm.sum(axis=0) - np.diag(cm)\n",
    "    CSI = TP / (TP + FN.sum() + FP.sum())\n",
    "    return CSI\n",
    "\n",
    "# 전체 CSI 계산\n",
    "csi = calculate_csi(true_test_classes, predicted_test_classes)\n",
    "\n",
    "# CSI 출력\n",
    "print(f\"전체 테스트 데이터에 대한 CSI: {csi:.3f}\")"
   ]
  },
  {
   "cell_type": "code",
   "execution_count": null,
   "metadata": {},
   "outputs": [],
   "source": []
  },
  {
   "cell_type": "code",
   "execution_count": null,
   "id": "1bbc99e5",
   "metadata": {},
   "outputs": [],
   "source": []
  },
  {
   "cell_type": "code",
   "execution_count": null,
   "metadata": {},
   "outputs": [],
   "source": []
  },
  {
   "cell_type": "code",
   "execution_count": null,
   "metadata": {},
   "outputs": [],
   "source": []
  },
  {
   "cell_type": "code",
   "execution_count": null,
   "id": "46887b70",
   "metadata": {},
   "outputs": [],
   "source": []
  },
  {
   "cell_type": "code",
   "execution_count": null,
   "id": "4222966e",
   "metadata": {},
   "outputs": [],
   "source": []
  },
  {
   "cell_type": "code",
   "execution_count": null,
   "id": "3ab4a760",
   "metadata": {},
   "outputs": [],
   "source": []
  },
  {
   "cell_type": "code",
   "execution_count": null,
   "id": "064f5540",
   "metadata": {},
   "outputs": [],
   "source": []
  },
  {
   "cell_type": "code",
   "execution_count": null,
   "id": "4903f2db",
   "metadata": {},
   "outputs": [],
   "source": []
  },
  {
   "cell_type": "code",
   "execution_count": null,
   "id": "289c8f3c",
   "metadata": {},
   "outputs": [],
   "source": []
  },
  {
   "cell_type": "code",
   "execution_count": null,
   "metadata": {},
   "outputs": [],
   "source": []
  },
  {
   "cell_type": "code",
   "execution_count": null,
   "metadata": {},
   "outputs": [],
   "source": []
  },
  {
   "cell_type": "code",
   "execution_count": null,
   "id": "c7c7eebf",
   "metadata": {},
   "outputs": [],
   "source": []
  },
  {
   "cell_type": "code",
   "execution_count": null,
   "metadata": {},
   "outputs": [],
   "source": []
  },
  {
   "cell_type": "code",
   "execution_count": null,
   "id": "33bc59bf",
   "metadata": {},
   "outputs": [],
   "source": []
  },
  {
   "cell_type": "code",
   "execution_count": null,
   "metadata": {},
   "outputs": [],
   "source": []
  },
  {
   "cell_type": "code",
   "execution_count": null,
   "metadata": {},
   "outputs": [],
   "source": []
  },
  {
   "cell_type": "code",
   "execution_count": null,
   "id": "ed1fe601",
   "metadata": {},
   "outputs": [],
   "source": []
  },
  {
   "cell_type": "markdown",
   "id": "9bb75c3b",
   "metadata": {},
   "source": [
    "# 모델 합치기"
   ]
  },
  {
   "cell_type": "code",
   "execution_count": null,
   "id": "70fa6c83",
   "metadata": {},
   "outputs": [],
   "source": [
    "#### 여기까지하고 지희한테 보내기"
   ]
  },
  {
   "cell_type": "code",
   "execution_count": 107,
   "id": "fbb4880e",
   "metadata": {},
   "outputs": [],
   "source": [
    "# fog_test.csv부르기\n",
    "df_original = pd.read_csv(\"fog_test.csv\", index_col=1)\n",
    "df_original['fog_test.class'].replace(-99, float('nan'), inplace=True)"
   ]
  },
  {
   "cell_type": "code",
   "execution_count": 108,
   "id": "412875e6",
   "metadata": {},
   "outputs": [],
   "source": [
    "# pred_A = pd.read_csv('C:\\\\Users\\\\Hong_PC\\\\Documents\\\\카카오톡 받은 파일\\\\240371.csv', index_col=0)\n",
    "pred_C = pd.read_csv('C:\\\\Users\\\\Hong_PC\\\\Documents\\\\카카오톡 받은 파일\\\\240371_2번지역.csv', index_col=0)"
   ]
  },
  {
   "cell_type": "code",
   "execution_count": 109,
   "id": "7c74296c",
   "metadata": {},
   "outputs": [],
   "source": [
    "# 지역 주의, 예측된 class 값만 df_original에 반영\n",
    "# df_original.loc[df_original['fog_test.stn_id'].str[0] == 'A', 'fog_test.class'] = pred_A['fog_test.class'].values\n",
    "# df_original.loc[df_original['fog_test.stn_id'].str[0] == 'B', 'fog_test.class'] = pred_B['class'].values\n",
    "df_original.loc[df_original['fog_test.stn_id'].str[0] == 'C', 'fog_test.class'] = pred_C['class'].values\n",
    "# df_original.loc[df_original['fog_test.stn_id'].str[0] == 'D', 'fog_test.class'] = pred_D['class'].values\n",
    "df_original.loc[df_original['fog_test.stn_id'].str[0] == 'E', 'fog_test.class'] = pred_E['class'].values\n"
   ]
  },
  {
   "cell_type": "code",
   "execution_count": 110,
   "id": "163eaf8e",
   "metadata": {},
   "outputs": [
    {
     "data": {
      "text/html": [
       "<div>\n",
       "<style scoped>\n",
       "    .dataframe tbody tr th:only-of-type {\n",
       "        vertical-align: middle;\n",
       "    }\n",
       "\n",
       "    .dataframe tbody tr th {\n",
       "        vertical-align: top;\n",
       "    }\n",
       "\n",
       "    .dataframe thead th {\n",
       "        text-align: right;\n",
       "    }\n",
       "</style>\n",
       "<table border=\"1\" class=\"dataframe\">\n",
       "  <thead>\n",
       "    <tr style=\"text-align: right;\">\n",
       "      <th></th>\n",
       "      <th>Unnamed: 0</th>\n",
       "      <th>fog_test.month</th>\n",
       "      <th>fog_test.day</th>\n",
       "      <th>fog_test.time</th>\n",
       "      <th>fog_test.minute</th>\n",
       "      <th>fog_test.stn_id</th>\n",
       "      <th>fog_test.ws10_deg</th>\n",
       "      <th>fog_test.ws10_ms</th>\n",
       "      <th>fog_test.ta</th>\n",
       "      <th>fog_test.re</th>\n",
       "      <th>fog_test.hm</th>\n",
       "      <th>fog_test.sun10</th>\n",
       "      <th>fog_test.ts</th>\n",
       "      <th>fog_test.class</th>\n",
       "    </tr>\n",
       "    <tr>\n",
       "      <th>fog_test.year</th>\n",
       "      <th></th>\n",
       "      <th></th>\n",
       "      <th></th>\n",
       "      <th></th>\n",
       "      <th></th>\n",
       "      <th></th>\n",
       "      <th></th>\n",
       "      <th></th>\n",
       "      <th></th>\n",
       "      <th></th>\n",
       "      <th></th>\n",
       "      <th></th>\n",
       "      <th></th>\n",
       "      <th></th>\n",
       "    </tr>\n",
       "  </thead>\n",
       "  <tbody>\n",
       "    <tr>\n",
       "      <th>L</th>\n",
       "      <td>1</td>\n",
       "      <td>1</td>\n",
       "      <td>1</td>\n",
       "      <td>0</td>\n",
       "      <td>0</td>\n",
       "      <td>AI</td>\n",
       "      <td>329.5</td>\n",
       "      <td>0.6</td>\n",
       "      <td>-2.5</td>\n",
       "      <td>0.0</td>\n",
       "      <td>87.5</td>\n",
       "      <td>0.0</td>\n",
       "      <td>-1.6</td>\n",
       "      <td>NaN</td>\n",
       "    </tr>\n",
       "    <tr>\n",
       "      <th>L</th>\n",
       "      <td>2</td>\n",
       "      <td>1</td>\n",
       "      <td>1</td>\n",
       "      <td>0</td>\n",
       "      <td>10</td>\n",
       "      <td>AI</td>\n",
       "      <td>321.8</td>\n",
       "      <td>1.2</td>\n",
       "      <td>-2.5</td>\n",
       "      <td>0.0</td>\n",
       "      <td>88.2</td>\n",
       "      <td>0.0</td>\n",
       "      <td>-1.6</td>\n",
       "      <td>NaN</td>\n",
       "    </tr>\n",
       "    <tr>\n",
       "      <th>L</th>\n",
       "      <td>3</td>\n",
       "      <td>1</td>\n",
       "      <td>1</td>\n",
       "      <td>0</td>\n",
       "      <td>20</td>\n",
       "      <td>AI</td>\n",
       "      <td>0.4</td>\n",
       "      <td>0.4</td>\n",
       "      <td>-2.5</td>\n",
       "      <td>0.0</td>\n",
       "      <td>88.6</td>\n",
       "      <td>0.0</td>\n",
       "      <td>-1.7</td>\n",
       "      <td>NaN</td>\n",
       "    </tr>\n",
       "    <tr>\n",
       "      <th>L</th>\n",
       "      <td>4</td>\n",
       "      <td>1</td>\n",
       "      <td>1</td>\n",
       "      <td>0</td>\n",
       "      <td>30</td>\n",
       "      <td>AI</td>\n",
       "      <td>323.6</td>\n",
       "      <td>0.7</td>\n",
       "      <td>-2.6</td>\n",
       "      <td>0.0</td>\n",
       "      <td>88.7</td>\n",
       "      <td>0.0</td>\n",
       "      <td>-1.6</td>\n",
       "      <td>NaN</td>\n",
       "    </tr>\n",
       "    <tr>\n",
       "      <th>L</th>\n",
       "      <td>5</td>\n",
       "      <td>1</td>\n",
       "      <td>1</td>\n",
       "      <td>0</td>\n",
       "      <td>40</td>\n",
       "      <td>AI</td>\n",
       "      <td>208.4</td>\n",
       "      <td>0.2</td>\n",
       "      <td>-2.6</td>\n",
       "      <td>0.0</td>\n",
       "      <td>89.0</td>\n",
       "      <td>0.0</td>\n",
       "      <td>-1.6</td>\n",
       "      <td>NaN</td>\n",
       "    </tr>\n",
       "    <tr>\n",
       "      <th>...</th>\n",
       "      <td>...</td>\n",
       "      <td>...</td>\n",
       "      <td>...</td>\n",
       "      <td>...</td>\n",
       "      <td>...</td>\n",
       "      <td>...</td>\n",
       "      <td>...</td>\n",
       "      <td>...</td>\n",
       "      <td>...</td>\n",
       "      <td>...</td>\n",
       "      <td>...</td>\n",
       "      <td>...</td>\n",
       "      <td>...</td>\n",
       "      <td>...</td>\n",
       "    </tr>\n",
       "    <tr>\n",
       "      <th>L</th>\n",
       "      <td>262796</td>\n",
       "      <td>12</td>\n",
       "      <td>31</td>\n",
       "      <td>23</td>\n",
       "      <td>10</td>\n",
       "      <td>ED</td>\n",
       "      <td>338.8</td>\n",
       "      <td>6.1</td>\n",
       "      <td>4.5</td>\n",
       "      <td>0.0</td>\n",
       "      <td>71.3</td>\n",
       "      <td>0.0</td>\n",
       "      <td>1.9</td>\n",
       "      <td>4.0</td>\n",
       "    </tr>\n",
       "    <tr>\n",
       "      <th>L</th>\n",
       "      <td>262797</td>\n",
       "      <td>12</td>\n",
       "      <td>31</td>\n",
       "      <td>23</td>\n",
       "      <td>20</td>\n",
       "      <td>ED</td>\n",
       "      <td>335.2</td>\n",
       "      <td>5.8</td>\n",
       "      <td>4.6</td>\n",
       "      <td>0.0</td>\n",
       "      <td>71.4</td>\n",
       "      <td>0.0</td>\n",
       "      <td>1.9</td>\n",
       "      <td>4.0</td>\n",
       "    </tr>\n",
       "    <tr>\n",
       "      <th>L</th>\n",
       "      <td>262798</td>\n",
       "      <td>12</td>\n",
       "      <td>31</td>\n",
       "      <td>23</td>\n",
       "      <td>30</td>\n",
       "      <td>ED</td>\n",
       "      <td>337.1</td>\n",
       "      <td>5.3</td>\n",
       "      <td>4.5</td>\n",
       "      <td>0.0</td>\n",
       "      <td>72.1</td>\n",
       "      <td>0.0</td>\n",
       "      <td>1.8</td>\n",
       "      <td>4.0</td>\n",
       "    </tr>\n",
       "    <tr>\n",
       "      <th>L</th>\n",
       "      <td>262799</td>\n",
       "      <td>12</td>\n",
       "      <td>31</td>\n",
       "      <td>23</td>\n",
       "      <td>40</td>\n",
       "      <td>ED</td>\n",
       "      <td>322.0</td>\n",
       "      <td>3.7</td>\n",
       "      <td>4.3</td>\n",
       "      <td>0.0</td>\n",
       "      <td>72.5</td>\n",
       "      <td>0.0</td>\n",
       "      <td>1.4</td>\n",
       "      <td>4.0</td>\n",
       "    </tr>\n",
       "    <tr>\n",
       "      <th>L</th>\n",
       "      <td>262800</td>\n",
       "      <td>12</td>\n",
       "      <td>31</td>\n",
       "      <td>23</td>\n",
       "      <td>50</td>\n",
       "      <td>ED</td>\n",
       "      <td>33.6</td>\n",
       "      <td>2.8</td>\n",
       "      <td>4.3</td>\n",
       "      <td>0.0</td>\n",
       "      <td>73.7</td>\n",
       "      <td>0.0</td>\n",
       "      <td>1.3</td>\n",
       "      <td>4.0</td>\n",
       "    </tr>\n",
       "  </tbody>\n",
       "</table>\n",
       "<p>262800 rows × 14 columns</p>\n",
       "</div>"
      ],
      "text/plain": [
       "               Unnamed: 0  fog_test.month  fog_test.day  fog_test.time  \\\n",
       "fog_test.year                                                            \n",
       "L                       1               1             1              0   \n",
       "L                       2               1             1              0   \n",
       "L                       3               1             1              0   \n",
       "L                       4               1             1              0   \n",
       "L                       5               1             1              0   \n",
       "...                   ...             ...           ...            ...   \n",
       "L                  262796              12            31             23   \n",
       "L                  262797              12            31             23   \n",
       "L                  262798              12            31             23   \n",
       "L                  262799              12            31             23   \n",
       "L                  262800              12            31             23   \n",
       "\n",
       "               fog_test.minute fog_test.stn_id  fog_test.ws10_deg  \\\n",
       "fog_test.year                                                       \n",
       "L                            0              AI              329.5   \n",
       "L                           10              AI              321.8   \n",
       "L                           20              AI                0.4   \n",
       "L                           30              AI              323.6   \n",
       "L                           40              AI              208.4   \n",
       "...                        ...             ...                ...   \n",
       "L                           10              ED              338.8   \n",
       "L                           20              ED              335.2   \n",
       "L                           30              ED              337.1   \n",
       "L                           40              ED              322.0   \n",
       "L                           50              ED               33.6   \n",
       "\n",
       "               fog_test.ws10_ms  fog_test.ta  fog_test.re  fog_test.hm  \\\n",
       "fog_test.year                                                            \n",
       "L                           0.6         -2.5          0.0         87.5   \n",
       "L                           1.2         -2.5          0.0         88.2   \n",
       "L                           0.4         -2.5          0.0         88.6   \n",
       "L                           0.7         -2.6          0.0         88.7   \n",
       "L                           0.2         -2.6          0.0         89.0   \n",
       "...                         ...          ...          ...          ...   \n",
       "L                           6.1          4.5          0.0         71.3   \n",
       "L                           5.8          4.6          0.0         71.4   \n",
       "L                           5.3          4.5          0.0         72.1   \n",
       "L                           3.7          4.3          0.0         72.5   \n",
       "L                           2.8          4.3          0.0         73.7   \n",
       "\n",
       "               fog_test.sun10  fog_test.ts  fog_test.class  \n",
       "fog_test.year                                               \n",
       "L                         0.0         -1.6             NaN  \n",
       "L                         0.0         -1.6             NaN  \n",
       "L                         0.0         -1.7             NaN  \n",
       "L                         0.0         -1.6             NaN  \n",
       "L                         0.0         -1.6             NaN  \n",
       "...                       ...          ...             ...  \n",
       "L                         0.0          1.9             4.0  \n",
       "L                         0.0          1.9             4.0  \n",
       "L                         0.0          1.8             4.0  \n",
       "L                         0.0          1.4             4.0  \n",
       "L                         0.0          1.3             4.0  \n",
       "\n",
       "[262800 rows x 14 columns]"
      ]
     },
     "execution_count": 110,
     "metadata": {},
     "output_type": "execute_result"
    }
   ],
   "source": [
    "df_original"
   ]
  },
  {
   "cell_type": "code",
   "execution_count": 111,
   "id": "dbafb1ac",
   "metadata": {},
   "outputs": [],
   "source": [
    "# 혹시 결측값 있으면 4로 채움 \n",
    "df_original['fog_test.class'].fillna(4, inplace=True)"
   ]
  },
  {
   "cell_type": "code",
   "execution_count": 112,
   "id": "77482bc3",
   "metadata": {},
   "outputs": [
    {
     "data": {
      "text/plain": [
       "4.0    262519\n",
       "1.0       205\n",
       "3.0        50\n",
       "2.0        26\n",
       "Name: fog_test.class, dtype: int64"
      ]
     },
     "execution_count": 112,
     "metadata": {},
     "output_type": "execute_result"
    }
   ],
   "source": [
    "df_original['fog_test.class'].value_counts()"
   ]
  },
  {
   "cell_type": "code",
   "execution_count": 102,
   "id": "24597197",
   "metadata": {},
   "outputs": [],
   "source": [
    "df_original.to_csv('240371.csv', index=True)"
   ]
  },
  {
   "cell_type": "code",
   "execution_count": null,
   "id": "c7c5f772",
   "metadata": {},
   "outputs": [],
   "source": []
  },
  {
   "cell_type": "code",
   "execution_count": null,
   "metadata": {},
   "outputs": [],
   "source": []
  },
  {
   "cell_type": "code",
   "execution_count": null,
   "metadata": {},
   "outputs": [],
   "source": []
  },
  {
   "cell_type": "code",
   "execution_count": null,
   "metadata": {},
   "outputs": [],
   "source": []
  },
  {
   "cell_type": "code",
   "execution_count": null,
   "id": "ff533110",
   "metadata": {},
   "outputs": [],
   "source": []
  },
  {
   "cell_type": "code",
   "execution_count": null,
   "id": "ba0006e0",
   "metadata": {
    "scrolled": true
   },
   "outputs": [],
   "source": []
  },
  {
   "cell_type": "code",
   "execution_count": null,
   "id": "0d6ce8b6",
   "metadata": {},
   "outputs": [],
   "source": []
  },
  {
   "cell_type": "code",
   "execution_count": null,
   "id": "5a2fc06f",
   "metadata": {},
   "outputs": [],
   "source": []
  }
 ],
 "metadata": {
  "kernelspec": {
   "display_name": "mjh",
   "language": "python",
   "name": "python3"
  },
  "language_info": {
   "codemirror_mode": {
    "name": "ipython",
    "version": 3
   },
   "file_extension": ".py",
   "mimetype": "text/x-python",
   "name": "python",
   "nbconvert_exporter": "python",
   "pygments_lexer": "ipython3",
   "version": "3.7.1"
  }
 },
 "nbformat": 4,
 "nbformat_minor": 5
}
