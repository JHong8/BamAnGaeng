{
 "cells": [
  {
   "cell_type": "markdown",
   "metadata": {},
   "source": [
    "# 대회\n",
    ">https://bd.kma.go.kr/contest/info_01.do\n",
    "\n",
    ">240371\n",
    "\n",
    ">0704"
   ]
  },
  {
   "cell_type": "markdown",
   "metadata": {},
   "source": [
    "* 개선을 위한 방법\n",
    "1. 마지막엔 test을 나누지말고 그냥 전부 train 시켜버린다\n",
    "2. 쓸데 없는 열을 버려본다?\n",
    "3. 앙상블 모델을 써볼까?"
   ]
  },
  {
   "cell_type": "markdown",
   "metadata": {},
   "source": [
    "* 코드 순서\n",
    "1. df에서 지역별로 5개 나눠서 각자 자기꺼(e, 남해)만 출력 후 아래의 전처리 동일하게 진행\n",
    "2. 문자형식은 수치화하기\n",
    "3. 선형보간법으로 독립변수 결측값 대체\n",
    "4. re(0, 1) 결측값 대체 방법 선정 -> 직전값\n",
    "5. 선형보간법으로 독립변수 이상치 대체\n",
    "6. 정규화 방법 선정 -> 월별 계절성을 반영한 min-max scaler\n",
    "7. target(vis1, class) 결측값 대체 방법 선정 -> random forest (seed: 123)\n",
    "8. 파생변수 생성\n",
    "9. lstm 적용 (sequence = 6) # 1시간 단위로 설정\n",
    "10. 가중치 조절"
   ]
  },
  {
   "cell_type": "code",
   "execution_count": 1,
   "metadata": {},
   "outputs": [],
   "source": [
    "# 샘플링\n",
    "# 시퀀스 30에서 늘리기\n",
    "# class 결측치 채워보기"
   ]
  },
  {
   "cell_type": "markdown",
   "metadata": {},
   "source": [
    "# 1. 데이터 불러오기 및 파악"
   ]
  },
  {
   "cell_type": "code",
   "execution_count": 2,
   "metadata": {},
   "outputs": [],
   "source": [
    "import pandas as pd\n",
    "import numpy as np\n",
    "import joblib\n",
    "\n",
    "# 데스크탑\n",
    "df = pd.read_csv(\"C:\\\\Users\\\\Hong_PC\\\\Desktop\\\\기상청 날씨 빅데이터 공모전\\\\과제2\\\\fog_train.csv\", index_col=0)\n",
    "\n",
    "# 노트북\n",
    "# df = pd.read_csv(\"C:\\\\Users\\\\User\\\\Desktop\\\\기상청 날씨 빅데이터 공모전\\\\과제2\\\\fog_train.csv\", index_col=0)"
   ]
  },
  {
   "cell_type": "code",
   "execution_count": 3,
   "metadata": {},
   "outputs": [],
   "source": [
    "# 열 이름의 . 앞에 단어 제거\n",
    "df.columns = [col.split('.')[-1] if '.' in col else col for col in df.columns]"
   ]
  },
  {
   "cell_type": "code",
   "execution_count": 4,
   "metadata": {},
   "outputs": [
    {
     "data": {
      "text/html": [
       "<div>\n",
       "<style scoped>\n",
       "    .dataframe tbody tr th:only-of-type {\n",
       "        vertical-align: middle;\n",
       "    }\n",
       "\n",
       "    .dataframe tbody tr th {\n",
       "        vertical-align: top;\n",
       "    }\n",
       "\n",
       "    .dataframe thead th {\n",
       "        text-align: right;\n",
       "    }\n",
       "</style>\n",
       "<table border=\"1\" class=\"dataframe\">\n",
       "  <thead>\n",
       "    <tr style=\"text-align: right;\">\n",
       "      <th></th>\n",
       "      <th>year</th>\n",
       "      <th>month</th>\n",
       "      <th>day</th>\n",
       "      <th>time</th>\n",
       "      <th>minute</th>\n",
       "      <th>stn_id</th>\n",
       "      <th>ws10_deg</th>\n",
       "      <th>ws10_ms</th>\n",
       "      <th>ta</th>\n",
       "      <th>re</th>\n",
       "      <th>hm</th>\n",
       "      <th>sun10</th>\n",
       "      <th>ts</th>\n",
       "      <th>vis1</th>\n",
       "      <th>class</th>\n",
       "    </tr>\n",
       "  </thead>\n",
       "  <tbody>\n",
       "    <tr>\n",
       "      <th>1</th>\n",
       "      <td>I</td>\n",
       "      <td>1</td>\n",
       "      <td>1</td>\n",
       "      <td>0</td>\n",
       "      <td>10</td>\n",
       "      <td>AA</td>\n",
       "      <td>0.0</td>\n",
       "      <td>0.0</td>\n",
       "      <td>-6.4</td>\n",
       "      <td>0.0</td>\n",
       "      <td>38.9</td>\n",
       "      <td>0.0</td>\n",
       "      <td>-2.8</td>\n",
       "      <td>20000</td>\n",
       "      <td>4</td>\n",
       "    </tr>\n",
       "    <tr>\n",
       "      <th>2</th>\n",
       "      <td>I</td>\n",
       "      <td>1</td>\n",
       "      <td>1</td>\n",
       "      <td>0</td>\n",
       "      <td>20</td>\n",
       "      <td>AA</td>\n",
       "      <td>0.0</td>\n",
       "      <td>0.0</td>\n",
       "      <td>-6.3</td>\n",
       "      <td>0.0</td>\n",
       "      <td>37.9</td>\n",
       "      <td>0.0</td>\n",
       "      <td>-2.7</td>\n",
       "      <td>20000</td>\n",
       "      <td>4</td>\n",
       "    </tr>\n",
       "    <tr>\n",
       "      <th>3</th>\n",
       "      <td>I</td>\n",
       "      <td>1</td>\n",
       "      <td>1</td>\n",
       "      <td>0</td>\n",
       "      <td>30</td>\n",
       "      <td>AA</td>\n",
       "      <td>0.0</td>\n",
       "      <td>0.0</td>\n",
       "      <td>-6.3</td>\n",
       "      <td>0.0</td>\n",
       "      <td>40.0</td>\n",
       "      <td>0.0</td>\n",
       "      <td>-2.6</td>\n",
       "      <td>20000</td>\n",
       "      <td>4</td>\n",
       "    </tr>\n",
       "    <tr>\n",
       "      <th>4</th>\n",
       "      <td>I</td>\n",
       "      <td>1</td>\n",
       "      <td>1</td>\n",
       "      <td>0</td>\n",
       "      <td>40</td>\n",
       "      <td>AA</td>\n",
       "      <td>27.8</td>\n",
       "      <td>0.4</td>\n",
       "      <td>-6.2</td>\n",
       "      <td>0.0</td>\n",
       "      <td>39.5</td>\n",
       "      <td>0.0</td>\n",
       "      <td>-2.6</td>\n",
       "      <td>20000</td>\n",
       "      <td>4</td>\n",
       "    </tr>\n",
       "    <tr>\n",
       "      <th>5</th>\n",
       "      <td>I</td>\n",
       "      <td>1</td>\n",
       "      <td>1</td>\n",
       "      <td>0</td>\n",
       "      <td>50</td>\n",
       "      <td>AA</td>\n",
       "      <td>59.7</td>\n",
       "      <td>0.5</td>\n",
       "      <td>-6.1</td>\n",
       "      <td>0.0</td>\n",
       "      <td>39.8</td>\n",
       "      <td>0.0</td>\n",
       "      <td>-2.5</td>\n",
       "      <td>20000</td>\n",
       "      <td>4</td>\n",
       "    </tr>\n",
       "  </tbody>\n",
       "</table>\n",
       "</div>"
      ],
      "text/plain": [
       "  year  month  day  time  minute stn_id  ws10_deg  ws10_ms   ta   re    hm  \\\n",
       "1    I      1    1     0      10     AA       0.0      0.0 -6.4  0.0  38.9   \n",
       "2    I      1    1     0      20     AA       0.0      0.0 -6.3  0.0  37.9   \n",
       "3    I      1    1     0      30     AA       0.0      0.0 -6.3  0.0  40.0   \n",
       "4    I      1    1     0      40     AA      27.8      0.4 -6.2  0.0  39.5   \n",
       "5    I      1    1     0      50     AA      59.7      0.5 -6.1  0.0  39.8   \n",
       "\n",
       "   sun10   ts   vis1  class  \n",
       "1    0.0 -2.8  20000      4  \n",
       "2    0.0 -2.7  20000      4  \n",
       "3    0.0 -2.6  20000      4  \n",
       "4    0.0 -2.6  20000      4  \n",
       "5    0.0 -2.5  20000      4  "
      ]
     },
     "execution_count": 4,
     "metadata": {},
     "output_type": "execute_result"
    }
   ],
   "source": [
    "df.head()"
   ]
  },
  {
   "cell_type": "code",
   "execution_count": 5,
   "metadata": {},
   "outputs": [
    {
     "name": "stdout",
     "output_type": "stream",
     "text": [
      "<class 'pandas.core.frame.DataFrame'>\n",
      "Int64Index: 3156459 entries, 1 to 3156459\n",
      "Data columns (total 15 columns):\n",
      " #   Column    Dtype  \n",
      "---  ------    -----  \n",
      " 0   year      object \n",
      " 1   month     int64  \n",
      " 2   day       int64  \n",
      " 3   time      int64  \n",
      " 4   minute    int64  \n",
      " 5   stn_id    object \n",
      " 6   ws10_deg  float64\n",
      " 7   ws10_ms   float64\n",
      " 8   ta        float64\n",
      " 9   re        float64\n",
      " 10  hm        float64\n",
      " 11  sun10     float64\n",
      " 12  ts        float64\n",
      " 13  vis1      int64  \n",
      " 14  class     int64  \n",
      "dtypes: float64(7), int64(6), object(2)\n",
      "memory usage: 385.3+ MB\n"
     ]
    }
   ],
   "source": [
    "df.info()"
   ]
  },
  {
   "cell_type": "code",
   "execution_count": 6,
   "metadata": {},
   "outputs": [
    {
     "data": {
      "text/html": [
       "<div>\n",
       "<style scoped>\n",
       "    .dataframe tbody tr th:only-of-type {\n",
       "        vertical-align: middle;\n",
       "    }\n",
       "\n",
       "    .dataframe tbody tr th {\n",
       "        vertical-align: top;\n",
       "    }\n",
       "\n",
       "    .dataframe thead th {\n",
       "        text-align: right;\n",
       "    }\n",
       "</style>\n",
       "<table border=\"1\" class=\"dataframe\">\n",
       "  <thead>\n",
       "    <tr style=\"text-align: right;\">\n",
       "      <th></th>\n",
       "      <th>month</th>\n",
       "      <th>day</th>\n",
       "      <th>time</th>\n",
       "      <th>minute</th>\n",
       "      <th>ws10_deg</th>\n",
       "      <th>ws10_ms</th>\n",
       "      <th>ta</th>\n",
       "      <th>re</th>\n",
       "      <th>hm</th>\n",
       "      <th>sun10</th>\n",
       "      <th>ts</th>\n",
       "      <th>vis1</th>\n",
       "      <th>class</th>\n",
       "    </tr>\n",
       "  </thead>\n",
       "  <tbody>\n",
       "    <tr>\n",
       "      <th>count</th>\n",
       "      <td>3.156459e+06</td>\n",
       "      <td>3.156459e+06</td>\n",
       "      <td>3.156459e+06</td>\n",
       "      <td>3.156459e+06</td>\n",
       "      <td>3.156459e+06</td>\n",
       "      <td>3.156459e+06</td>\n",
       "      <td>3.156459e+06</td>\n",
       "      <td>3.156459e+06</td>\n",
       "      <td>3.156459e+06</td>\n",
       "      <td>3.156459e+06</td>\n",
       "      <td>3.156459e+06</td>\n",
       "      <td>3.156459e+06</td>\n",
       "      <td>3.156459e+06</td>\n",
       "    </tr>\n",
       "    <tr>\n",
       "      <th>mean</th>\n",
       "      <td>6.521931e+00</td>\n",
       "      <td>1.573276e+01</td>\n",
       "      <td>1.150007e+01</td>\n",
       "      <td>2.500016e+01</td>\n",
       "      <td>1.852152e+02</td>\n",
       "      <td>1.999417e+00</td>\n",
       "      <td>1.328812e+01</td>\n",
       "      <td>-4.298995e-01</td>\n",
       "      <td>6.667729e+01</td>\n",
       "      <td>-1.288869e+00</td>\n",
       "      <td>1.282955e+01</td>\n",
       "      <td>1.963548e+04</td>\n",
       "      <td>3.246275e+00</td>\n",
       "    </tr>\n",
       "    <tr>\n",
       "      <th>std</th>\n",
       "      <td>3.448969e+00</td>\n",
       "      <td>8.801320e+00</td>\n",
       "      <td>6.922149e+00</td>\n",
       "      <td>1.707819e+01</td>\n",
       "      <td>1.072184e+02</td>\n",
       "      <td>4.721616e+00</td>\n",
       "      <td>1.100537e+01</td>\n",
       "      <td>6.929268e+00</td>\n",
       "      <td>2.173623e+01</td>\n",
       "      <td>1.171355e+01</td>\n",
       "      <td>2.257327e+01</td>\n",
       "      <td>1.206407e+04</td>\n",
       "      <td>8.668957e+00</td>\n",
       "    </tr>\n",
       "    <tr>\n",
       "      <th>min</th>\n",
       "      <td>1.000000e+00</td>\n",
       "      <td>1.000000e+00</td>\n",
       "      <td>0.000000e+00</td>\n",
       "      <td>0.000000e+00</td>\n",
       "      <td>-9.990000e+01</td>\n",
       "      <td>-9.990000e+01</td>\n",
       "      <td>-9.990000e+01</td>\n",
       "      <td>-9.990000e+01</td>\n",
       "      <td>-9.990000e+01</td>\n",
       "      <td>-9.990000e+01</td>\n",
       "      <td>-9.990000e+01</td>\n",
       "      <td>-9.900000e+01</td>\n",
       "      <td>-9.900000e+01</td>\n",
       "    </tr>\n",
       "    <tr>\n",
       "      <th>25%</th>\n",
       "      <td>4.000000e+00</td>\n",
       "      <td>8.000000e+00</td>\n",
       "      <td>6.000000e+00</td>\n",
       "      <td>1.000000e+01</td>\n",
       "      <td>8.470000e+01</td>\n",
       "      <td>9.000000e-01</td>\n",
       "      <td>5.500000e+00</td>\n",
       "      <td>0.000000e+00</td>\n",
       "      <td>5.130000e+01</td>\n",
       "      <td>0.000000e+00</td>\n",
       "      <td>5.100000e+00</td>\n",
       "      <td>1.229700e+04</td>\n",
       "      <td>4.000000e+00</td>\n",
       "    </tr>\n",
       "    <tr>\n",
       "      <th>50%</th>\n",
       "      <td>7.000000e+00</td>\n",
       "      <td>1.600000e+01</td>\n",
       "      <td>1.200000e+01</td>\n",
       "      <td>3.000000e+01</td>\n",
       "      <td>2.094000e+02</td>\n",
       "      <td>1.800000e+00</td>\n",
       "      <td>1.430000e+01</td>\n",
       "      <td>0.000000e+00</td>\n",
       "      <td>6.870000e+01</td>\n",
       "      <td>0.000000e+00</td>\n",
       "      <td>1.570000e+01</td>\n",
       "      <td>2.000000e+04</td>\n",
       "      <td>4.000000e+00</td>\n",
       "    </tr>\n",
       "    <tr>\n",
       "      <th>75%</th>\n",
       "      <td>1.000000e+01</td>\n",
       "      <td>2.300000e+01</td>\n",
       "      <td>1.800000e+01</td>\n",
       "      <td>4.000000e+01</td>\n",
       "      <td>2.769000e+02</td>\n",
       "      <td>3.000000e+00</td>\n",
       "      <td>2.200000e+01</td>\n",
       "      <td>0.000000e+00</td>\n",
       "      <td>8.470000e+01</td>\n",
       "      <td>1.600000e-01</td>\n",
       "      <td>2.430000e+01</td>\n",
       "      <td>2.000000e+04</td>\n",
       "      <td>4.000000e+00</td>\n",
       "    </tr>\n",
       "    <tr>\n",
       "      <th>max</th>\n",
       "      <td>1.200000e+01</td>\n",
       "      <td>3.100000e+01</td>\n",
       "      <td>2.300000e+01</td>\n",
       "      <td>5.000000e+01</td>\n",
       "      <td>3.600000e+02</td>\n",
       "      <td>2.250000e+01</td>\n",
       "      <td>3.780000e+01</td>\n",
       "      <td>1.000000e+00</td>\n",
       "      <td>1.000000e+02</td>\n",
       "      <td>2.687000e+01</td>\n",
       "      <td>7.010000e+01</td>\n",
       "      <td>6.052500e+04</td>\n",
       "      <td>4.000000e+00</td>\n",
       "    </tr>\n",
       "  </tbody>\n",
       "</table>\n",
       "</div>"
      ],
      "text/plain": [
       "              month           day          time        minute      ws10_deg  \\\n",
       "count  3.156459e+06  3.156459e+06  3.156459e+06  3.156459e+06  3.156459e+06   \n",
       "mean   6.521931e+00  1.573276e+01  1.150007e+01  2.500016e+01  1.852152e+02   \n",
       "std    3.448969e+00  8.801320e+00  6.922149e+00  1.707819e+01  1.072184e+02   \n",
       "min    1.000000e+00  1.000000e+00  0.000000e+00  0.000000e+00 -9.990000e+01   \n",
       "25%    4.000000e+00  8.000000e+00  6.000000e+00  1.000000e+01  8.470000e+01   \n",
       "50%    7.000000e+00  1.600000e+01  1.200000e+01  3.000000e+01  2.094000e+02   \n",
       "75%    1.000000e+01  2.300000e+01  1.800000e+01  4.000000e+01  2.769000e+02   \n",
       "max    1.200000e+01  3.100000e+01  2.300000e+01  5.000000e+01  3.600000e+02   \n",
       "\n",
       "            ws10_ms            ta            re            hm         sun10  \\\n",
       "count  3.156459e+06  3.156459e+06  3.156459e+06  3.156459e+06  3.156459e+06   \n",
       "mean   1.999417e+00  1.328812e+01 -4.298995e-01  6.667729e+01 -1.288869e+00   \n",
       "std    4.721616e+00  1.100537e+01  6.929268e+00  2.173623e+01  1.171355e+01   \n",
       "min   -9.990000e+01 -9.990000e+01 -9.990000e+01 -9.990000e+01 -9.990000e+01   \n",
       "25%    9.000000e-01  5.500000e+00  0.000000e+00  5.130000e+01  0.000000e+00   \n",
       "50%    1.800000e+00  1.430000e+01  0.000000e+00  6.870000e+01  0.000000e+00   \n",
       "75%    3.000000e+00  2.200000e+01  0.000000e+00  8.470000e+01  1.600000e-01   \n",
       "max    2.250000e+01  3.780000e+01  1.000000e+00  1.000000e+02  2.687000e+01   \n",
       "\n",
       "                 ts          vis1         class  \n",
       "count  3.156459e+06  3.156459e+06  3.156459e+06  \n",
       "mean   1.282955e+01  1.963548e+04  3.246275e+00  \n",
       "std    2.257327e+01  1.206407e+04  8.668957e+00  \n",
       "min   -9.990000e+01 -9.900000e+01 -9.900000e+01  \n",
       "25%    5.100000e+00  1.229700e+04  4.000000e+00  \n",
       "50%    1.570000e+01  2.000000e+04  4.000000e+00  \n",
       "75%    2.430000e+01  2.000000e+04  4.000000e+00  \n",
       "max    7.010000e+01  6.052500e+04  4.000000e+00  "
      ]
     },
     "execution_count": 6,
     "metadata": {},
     "output_type": "execute_result"
    }
   ],
   "source": [
    "df.describe()"
   ]
  },
  {
   "cell_type": "code",
   "execution_count": 7,
   "metadata": {},
   "outputs": [
    {
     "data": {
      "text/plain": [
       "Index(['year', 'month', 'day', 'time', 'minute', 'stn_id', 'ws10_deg',\n",
       "       'ws10_ms', 'ta', 're', 'hm', 'sun10', 'ts', 'vis1', 'class'],\n",
       "      dtype='object')"
      ]
     },
     "execution_count": 7,
     "metadata": {},
     "output_type": "execute_result"
    }
   ],
   "source": [
    "df.columns"
   ]
  },
  {
   "cell_type": "code",
   "execution_count": 8,
   "metadata": {},
   "outputs": [],
   "source": [
    "# # 시간\n",
    "# df['year'].value_counts() # 년도\n",
    "# df['month'].value_counts() # 월\n",
    "# df['day'].value_counts() # 일\n",
    "# df['time'].value_counts() # 시간(0~23)\n",
    "# df['minute'].value_counts() # 분(10분 단위)\n",
    "# df['stn_id'].value_counts() # 지점 번호\n",
    "\n",
    "# -99 있음\n",
    "# df['ws10_deg'].value_counts() # 10분 평균 풍향, 단위 : deg\n",
    "# df['ws10_ms'].value_counts() # 10분 평균 풍속, 단위 : m/s\n",
    "# df['ta'].value_counts() # 1분 평균 기온 10분 주기, 단위 : C\n",
    "# df['re'].value_counts() # 강수 유무(0:무강수, 1:강수)\n",
    "# df['hm'].value_counts() # 1분 평균 상대 습도 10분 주기, 단위 : %\n",
    "# df['sun10'].value_counts() # 1분 일사량 10분 단위 합계, 단위 : MJ\n",
    "# df['ts'].value_counts() # 1분 평균 지면온도 10분 주기, 단위 : C\n",
    "# df['vis1'].value_counts() # 1분 평균 시정 10분 주기, 단위 : C(test데이터 셋엔 없음)\n",
    "# df['class'].value_counts() # 시정 구간"
   ]
  },
  {
   "cell_type": "markdown",
   "metadata": {},
   "source": [
    "# 2. 문자열 데이터 정리"
   ]
  },
  {
   "cell_type": "markdown",
   "metadata": {},
   "source": [
    "## 2-1. year열 I,J,K 순으로 0,1,2로 맵핑"
   ]
  },
  {
   "cell_type": "code",
   "execution_count": 9,
   "metadata": {},
   "outputs": [],
   "source": [
    "# year열 I,J,K 순으로 0,1,2로 맵핑\n",
    "df['year'].value_counts()\n",
    "df['year'] = df['year'].map({'I': 0, 'J': 1, 'K': 2})"
   ]
  },
  {
   "cell_type": "markdown",
   "metadata": {},
   "source": [
    "## 2-2. 20개 지점을 5개의 지역으로 수치화"
   ]
  },
  {
   "cell_type": "code",
   "execution_count": 10,
   "metadata": {},
   "outputs": [],
   "source": [
    "df['region'] = df['stn_id'].str[0]\n",
    "\n",
    "# 알파벳 순서에 따라 번호를 부여\n",
    "alphabet_order = {char: idx for idx, char in enumerate(sorted(df['region'].unique()))}\n",
    "df['region'] = df['region'].map(alphabet_order)\n",
    "\n",
    "# region을 데이터 분석에 활용할 수 있도록 원-핫 인코딩\n",
    "df = pd.get_dummies(df, columns=['region'], prefix='region')\n",
    "df = pd.get_dummies(df, columns=['stn_id'], prefix='region')"
   ]
  },
  {
   "cell_type": "code",
   "execution_count": 11,
   "metadata": {},
   "outputs": [
    {
     "data": {
      "text/html": [
       "<div>\n",
       "<style scoped>\n",
       "    .dataframe tbody tr th:only-of-type {\n",
       "        vertical-align: middle;\n",
       "    }\n",
       "\n",
       "    .dataframe tbody tr th {\n",
       "        vertical-align: top;\n",
       "    }\n",
       "\n",
       "    .dataframe thead th {\n",
       "        text-align: right;\n",
       "    }\n",
       "</style>\n",
       "<table border=\"1\" class=\"dataframe\">\n",
       "  <thead>\n",
       "    <tr style=\"text-align: right;\">\n",
       "      <th></th>\n",
       "      <th>year</th>\n",
       "      <th>month</th>\n",
       "      <th>day</th>\n",
       "      <th>time</th>\n",
       "      <th>minute</th>\n",
       "      <th>stn_id</th>\n",
       "      <th>ws10_deg</th>\n",
       "      <th>ws10_ms</th>\n",
       "      <th>ta</th>\n",
       "      <th>re</th>\n",
       "      <th>hm</th>\n",
       "      <th>sun10</th>\n",
       "      <th>ts</th>\n",
       "      <th>vis1</th>\n",
       "      <th>class</th>\n",
       "      <th>region_0</th>\n",
       "      <th>region_1</th>\n",
       "      <th>region_2</th>\n",
       "      <th>region_3</th>\n",
       "      <th>region_4</th>\n",
       "    </tr>\n",
       "  </thead>\n",
       "  <tbody>\n",
       "    <tr>\n",
       "      <th>1</th>\n",
       "      <td>0</td>\n",
       "      <td>1</td>\n",
       "      <td>1</td>\n",
       "      <td>0</td>\n",
       "      <td>10</td>\n",
       "      <td>AA</td>\n",
       "      <td>0.0</td>\n",
       "      <td>0.0</td>\n",
       "      <td>-6.4</td>\n",
       "      <td>0.0</td>\n",
       "      <td>38.9</td>\n",
       "      <td>0.0</td>\n",
       "      <td>-2.8</td>\n",
       "      <td>20000</td>\n",
       "      <td>4</td>\n",
       "      <td>1</td>\n",
       "      <td>0</td>\n",
       "      <td>0</td>\n",
       "      <td>0</td>\n",
       "      <td>0</td>\n",
       "    </tr>\n",
       "    <tr>\n",
       "      <th>2</th>\n",
       "      <td>0</td>\n",
       "      <td>1</td>\n",
       "      <td>1</td>\n",
       "      <td>0</td>\n",
       "      <td>20</td>\n",
       "      <td>AA</td>\n",
       "      <td>0.0</td>\n",
       "      <td>0.0</td>\n",
       "      <td>-6.3</td>\n",
       "      <td>0.0</td>\n",
       "      <td>37.9</td>\n",
       "      <td>0.0</td>\n",
       "      <td>-2.7</td>\n",
       "      <td>20000</td>\n",
       "      <td>4</td>\n",
       "      <td>1</td>\n",
       "      <td>0</td>\n",
       "      <td>0</td>\n",
       "      <td>0</td>\n",
       "      <td>0</td>\n",
       "    </tr>\n",
       "    <tr>\n",
       "      <th>3</th>\n",
       "      <td>0</td>\n",
       "      <td>1</td>\n",
       "      <td>1</td>\n",
       "      <td>0</td>\n",
       "      <td>30</td>\n",
       "      <td>AA</td>\n",
       "      <td>0.0</td>\n",
       "      <td>0.0</td>\n",
       "      <td>-6.3</td>\n",
       "      <td>0.0</td>\n",
       "      <td>40.0</td>\n",
       "      <td>0.0</td>\n",
       "      <td>-2.6</td>\n",
       "      <td>20000</td>\n",
       "      <td>4</td>\n",
       "      <td>1</td>\n",
       "      <td>0</td>\n",
       "      <td>0</td>\n",
       "      <td>0</td>\n",
       "      <td>0</td>\n",
       "    </tr>\n",
       "    <tr>\n",
       "      <th>4</th>\n",
       "      <td>0</td>\n",
       "      <td>1</td>\n",
       "      <td>1</td>\n",
       "      <td>0</td>\n",
       "      <td>40</td>\n",
       "      <td>AA</td>\n",
       "      <td>27.8</td>\n",
       "      <td>0.4</td>\n",
       "      <td>-6.2</td>\n",
       "      <td>0.0</td>\n",
       "      <td>39.5</td>\n",
       "      <td>0.0</td>\n",
       "      <td>-2.6</td>\n",
       "      <td>20000</td>\n",
       "      <td>4</td>\n",
       "      <td>1</td>\n",
       "      <td>0</td>\n",
       "      <td>0</td>\n",
       "      <td>0</td>\n",
       "      <td>0</td>\n",
       "    </tr>\n",
       "    <tr>\n",
       "      <th>5</th>\n",
       "      <td>0</td>\n",
       "      <td>1</td>\n",
       "      <td>1</td>\n",
       "      <td>0</td>\n",
       "      <td>50</td>\n",
       "      <td>AA</td>\n",
       "      <td>59.7</td>\n",
       "      <td>0.5</td>\n",
       "      <td>-6.1</td>\n",
       "      <td>0.0</td>\n",
       "      <td>39.8</td>\n",
       "      <td>0.0</td>\n",
       "      <td>-2.5</td>\n",
       "      <td>20000</td>\n",
       "      <td>4</td>\n",
       "      <td>1</td>\n",
       "      <td>0</td>\n",
       "      <td>0</td>\n",
       "      <td>0</td>\n",
       "      <td>0</td>\n",
       "    </tr>\n",
       "    <tr>\n",
       "      <th>...</th>\n",
       "      <td>...</td>\n",
       "      <td>...</td>\n",
       "      <td>...</td>\n",
       "      <td>...</td>\n",
       "      <td>...</td>\n",
       "      <td>...</td>\n",
       "      <td>...</td>\n",
       "      <td>...</td>\n",
       "      <td>...</td>\n",
       "      <td>...</td>\n",
       "      <td>...</td>\n",
       "      <td>...</td>\n",
       "      <td>...</td>\n",
       "      <td>...</td>\n",
       "      <td>...</td>\n",
       "      <td>...</td>\n",
       "      <td>...</td>\n",
       "      <td>...</td>\n",
       "      <td>...</td>\n",
       "      <td>...</td>\n",
       "    </tr>\n",
       "    <tr>\n",
       "      <th>3156455</th>\n",
       "      <td>2</td>\n",
       "      <td>12</td>\n",
       "      <td>31</td>\n",
       "      <td>23</td>\n",
       "      <td>10</td>\n",
       "      <td>EC</td>\n",
       "      <td>305.3</td>\n",
       "      <td>7.7</td>\n",
       "      <td>2.5</td>\n",
       "      <td>0.0</td>\n",
       "      <td>50.2</td>\n",
       "      <td>0.0</td>\n",
       "      <td>-0.9</td>\n",
       "      <td>20000</td>\n",
       "      <td>4</td>\n",
       "      <td>0</td>\n",
       "      <td>0</td>\n",
       "      <td>0</td>\n",
       "      <td>0</td>\n",
       "      <td>1</td>\n",
       "    </tr>\n",
       "    <tr>\n",
       "      <th>3156456</th>\n",
       "      <td>2</td>\n",
       "      <td>12</td>\n",
       "      <td>31</td>\n",
       "      <td>23</td>\n",
       "      <td>20</td>\n",
       "      <td>EC</td>\n",
       "      <td>293.8</td>\n",
       "      <td>5.7</td>\n",
       "      <td>2.3</td>\n",
       "      <td>0.0</td>\n",
       "      <td>50.1</td>\n",
       "      <td>0.0</td>\n",
       "      <td>-1.3</td>\n",
       "      <td>20000</td>\n",
       "      <td>4</td>\n",
       "      <td>0</td>\n",
       "      <td>0</td>\n",
       "      <td>0</td>\n",
       "      <td>0</td>\n",
       "      <td>1</td>\n",
       "    </tr>\n",
       "    <tr>\n",
       "      <th>3156457</th>\n",
       "      <td>2</td>\n",
       "      <td>12</td>\n",
       "      <td>31</td>\n",
       "      <td>23</td>\n",
       "      <td>30</td>\n",
       "      <td>EC</td>\n",
       "      <td>274.2</td>\n",
       "      <td>4.9</td>\n",
       "      <td>2.2</td>\n",
       "      <td>0.0</td>\n",
       "      <td>51.0</td>\n",
       "      <td>0.0</td>\n",
       "      <td>-1.4</td>\n",
       "      <td>20000</td>\n",
       "      <td>4</td>\n",
       "      <td>0</td>\n",
       "      <td>0</td>\n",
       "      <td>0</td>\n",
       "      <td>0</td>\n",
       "      <td>1</td>\n",
       "    </tr>\n",
       "    <tr>\n",
       "      <th>3156458</th>\n",
       "      <td>2</td>\n",
       "      <td>12</td>\n",
       "      <td>31</td>\n",
       "      <td>23</td>\n",
       "      <td>40</td>\n",
       "      <td>EC</td>\n",
       "      <td>270.3</td>\n",
       "      <td>4.6</td>\n",
       "      <td>2.1</td>\n",
       "      <td>0.0</td>\n",
       "      <td>51.7</td>\n",
       "      <td>0.0</td>\n",
       "      <td>-1.6</td>\n",
       "      <td>20000</td>\n",
       "      <td>4</td>\n",
       "      <td>0</td>\n",
       "      <td>0</td>\n",
       "      <td>0</td>\n",
       "      <td>0</td>\n",
       "      <td>1</td>\n",
       "    </tr>\n",
       "    <tr>\n",
       "      <th>3156459</th>\n",
       "      <td>2</td>\n",
       "      <td>12</td>\n",
       "      <td>31</td>\n",
       "      <td>23</td>\n",
       "      <td>50</td>\n",
       "      <td>EC</td>\n",
       "      <td>254.8</td>\n",
       "      <td>4.1</td>\n",
       "      <td>2.1</td>\n",
       "      <td>0.0</td>\n",
       "      <td>53.3</td>\n",
       "      <td>0.0</td>\n",
       "      <td>-1.7</td>\n",
       "      <td>20000</td>\n",
       "      <td>4</td>\n",
       "      <td>0</td>\n",
       "      <td>0</td>\n",
       "      <td>0</td>\n",
       "      <td>0</td>\n",
       "      <td>1</td>\n",
       "    </tr>\n",
       "  </tbody>\n",
       "</table>\n",
       "<p>3156459 rows × 20 columns</p>\n",
       "</div>"
      ],
      "text/plain": [
       "         year  month  day  time  minute stn_id  ws10_deg  ws10_ms   ta   re  \\\n",
       "1           0      1    1     0      10     AA       0.0      0.0 -6.4  0.0   \n",
       "2           0      1    1     0      20     AA       0.0      0.0 -6.3  0.0   \n",
       "3           0      1    1     0      30     AA       0.0      0.0 -6.3  0.0   \n",
       "4           0      1    1     0      40     AA      27.8      0.4 -6.2  0.0   \n",
       "5           0      1    1     0      50     AA      59.7      0.5 -6.1  0.0   \n",
       "...       ...    ...  ...   ...     ...    ...       ...      ...  ...  ...   \n",
       "3156455     2     12   31    23      10     EC     305.3      7.7  2.5  0.0   \n",
       "3156456     2     12   31    23      20     EC     293.8      5.7  2.3  0.0   \n",
       "3156457     2     12   31    23      30     EC     274.2      4.9  2.2  0.0   \n",
       "3156458     2     12   31    23      40     EC     270.3      4.6  2.1  0.0   \n",
       "3156459     2     12   31    23      50     EC     254.8      4.1  2.1  0.0   \n",
       "\n",
       "           hm  sun10   ts   vis1  class  region_0  region_1  region_2  \\\n",
       "1        38.9    0.0 -2.8  20000      4         1         0         0   \n",
       "2        37.9    0.0 -2.7  20000      4         1         0         0   \n",
       "3        40.0    0.0 -2.6  20000      4         1         0         0   \n",
       "4        39.5    0.0 -2.6  20000      4         1         0         0   \n",
       "5        39.8    0.0 -2.5  20000      4         1         0         0   \n",
       "...       ...    ...  ...    ...    ...       ...       ...       ...   \n",
       "3156455  50.2    0.0 -0.9  20000      4         0         0         0   \n",
       "3156456  50.1    0.0 -1.3  20000      4         0         0         0   \n",
       "3156457  51.0    0.0 -1.4  20000      4         0         0         0   \n",
       "3156458  51.7    0.0 -1.6  20000      4         0         0         0   \n",
       "3156459  53.3    0.0 -1.7  20000      4         0         0         0   \n",
       "\n",
       "         region_3  region_4  \n",
       "1               0         0  \n",
       "2               0         0  \n",
       "3               0         0  \n",
       "4               0         0  \n",
       "5               0         0  \n",
       "...           ...       ...  \n",
       "3156455         0         1  \n",
       "3156456         0         1  \n",
       "3156457         0         1  \n",
       "3156458         0         1  \n",
       "3156459         0         1  \n",
       "\n",
       "[3156459 rows x 20 columns]"
      ]
     },
     "execution_count": 11,
     "metadata": {},
     "output_type": "execute_result"
    }
   ],
   "source": [
    "df"
   ]
  },
  {
   "cell_type": "markdown",
   "metadata": {},
   "source": [
    "# 3. 결측치 처리"
   ]
  },
  {
   "cell_type": "markdown",
   "metadata": {},
   "source": [
    "## 3-1.독립변수 결측치 처리"
   ]
  },
  {
   "cell_type": "code",
   "execution_count": 12,
   "metadata": {},
   "outputs": [],
   "source": [
    "# # 방법1 : -99.9를 전부 제거\n",
    "# # -99.9를 다 날렸을 때 (315만개중에 15만개로 손실)\n",
    "# df1 = df1[(df1['ws10_deg'] != -99.9) & (df1['ws10_ms'] != -99.9) & (df1['ta'] != -99.9) & (df1['re'] != -99.9) & (df1['hm'] != -99.9) & (df1['sun10'] != -99.9) & (df1['ts'] != -99.9)]\n",
    "# print(df1.shape)\n",
    "# # (2994850, 15)\n",
    "\n",
    "# # 확인용\n",
    "# # # -99.9를 다 날렸을 때 (13만개 손실, 그중 413개만이 class가 4가 아님, 0.0002%라 그냥 버려도 될듯)\n",
    "# # df10 = df1.copy()\n",
    "# # df12 = df10[(df10['ws10_deg'] == -99.9) | (df10['ws10_ms'] == -99.9) | (df10['ta'] == -99.9) | (df10['re'] == -99.9) | (df10['hm'] == -99.9) | (df10['sun10'] == -99.9) | (df10['ts'] == -99.9)]\n",
    "# # print(df12.shape)\n",
    "# # print(df12[(df12['class']!=4)].shape)"
   ]
  },
  {
   "cell_type": "code",
   "execution_count": 13,
   "metadata": {},
   "outputs": [
    {
     "name": "stdout",
     "output_type": "stream",
     "text": [
      "year        0\n",
      "month       0\n",
      "day         0\n",
      "time        0\n",
      "minute      0\n",
      "stn_id      0\n",
      "ws10_deg    0\n",
      "ws10_ms     0\n",
      "ta          0\n",
      "re          0\n",
      "hm          0\n",
      "sun10       0\n",
      "ts          0\n",
      "vis1        0\n",
      "class       0\n",
      "region_0    0\n",
      "region_1    0\n",
      "region_2    0\n",
      "region_3    0\n",
      "region_4    0\n",
      "dtype: int64\n"
     ]
    }
   ],
   "source": [
    "# 방법2 : -99.9를 NA 처리후 선형보간법\n",
    "# df에서 변수들 -99 NA처리\n",
    "# 변환할 열 리스트\n",
    "numeric_cols = ['stn_id', 'ws10_deg', 'ws10_ms', 'ta', 'hm', 'sun10', 'ts']\n",
    "\n",
    "# -99.9 값을 NaN으로 변환\n",
    "df[numeric_cols] = df[numeric_cols].replace(-99.9, np.nan)\n",
    "\n",
    "# 선형보간법을 이용하여 NA값 처리\n",
    "df[numeric_cols] = df[numeric_cols].interpolate(method='linear')\n",
    "# 강수 유무에 대해선 전의 값으로 채움\n",
    "df['re'] = df['re'].interpolate(method='ffill')\n",
    "\n",
    "print(df.isnull().sum())"
   ]
  },
  {
   "cell_type": "code",
   "execution_count": 14,
   "metadata": {},
   "outputs": [
    {
     "name": "stdout",
     "output_type": "stream",
     "text": [
      "(3156459, 20)\n",
      "(3133943, 20)\n"
     ]
    }
   ],
   "source": [
    "# 'fog_train.vis1'이나 'fog_train.class' 열의 값이 -99.9인 행을 제거합니다.(315만개중에 2만개 손실)\n",
    "# df1은 class -99를 제거했을 떄의 임시 데이터\n",
    "df1 = df[(df['vis1'] != -99) & (df['class'] != -99)]\n",
    "print(df.shape)\n",
    "print(df1.shape)"
   ]
  },
  {
   "cell_type": "code",
   "execution_count": 15,
   "metadata": {},
   "outputs": [
    {
     "name": "stdout",
     "output_type": "stream",
     "text": [
      "(3133943, 20)\n",
      "(3133943, 20)\n",
      "(3133943, 20)\n"
     ]
    }
   ],
   "source": [
    "df1 = df[(df['vis1'] != -99) & (df['class'] != -99)]\n",
    "df2 = df[(df['vis1'] != -99)]\n",
    "df3 = df[(df['vis1'] != -99)]\n",
    "print(df1.shape)\n",
    "print(df2.shape)\n",
    "print(df3.shape)"
   ]
  },
  {
   "cell_type": "code",
   "execution_count": 16,
   "metadata": {},
   "outputs": [
    {
     "name": "stdout",
     "output_type": "stream",
     "text": [
      "(32134, 20)\n",
      "(3101809, 20)\n"
     ]
    }
   ],
   "source": [
    "# 데이터 비율 (0.01%, 1:99)\n",
    "print(df1[(df1['class']!=4)].shape)\n",
    "print(df1[(df1['class']==4)].shape)"
   ]
  },
  {
   "cell_type": "code",
   "execution_count": 17,
   "metadata": {},
   "outputs": [
    {
     "data": {
      "text/plain": [
       "AA    157823\n",
       "AB    157823\n",
       "EB    157823\n",
       "EA    157823\n",
       "DC    157823\n",
       "DB    157823\n",
       "DA    157823\n",
       "CB    157823\n",
       "CA    157823\n",
       "BD    157823\n",
       "BC    157823\n",
       "BB    157823\n",
       "BA    157823\n",
       "AH    157823\n",
       "AG    157823\n",
       "AF    157823\n",
       "AE    157823\n",
       "AD    157823\n",
       "AC    157823\n",
       "EC    157822\n",
       "Name: stn_id, dtype: int64"
      ]
     },
     "execution_count": 17,
     "metadata": {},
     "output_type": "execute_result"
    }
   ],
   "source": [
    "df\n",
    "df['class'].value_counts()\n",
    "df['stn_id'].value_counts()"
   ]
  },
  {
   "cell_type": "code",
   "execution_count": null,
   "metadata": {},
   "outputs": [],
   "source": []
  },
  {
   "cell_type": "markdown",
   "metadata": {},
   "source": [
    "# 4. 이상치 처리"
   ]
  },
  {
   "cell_type": "markdown",
   "metadata": {},
   "source": [
    "## 4-1. 시간과 re열, target를 제외한 나머지의 이상치 탐지 + 대체\n",
    "- Boxplot 사용(시각화)  \n",
    "- 수정된 Z-score 사용(이상치 탐지)  \n",
    "- 직전값을 대체"
   ]
  },
  {
   "cell_type": "markdown",
   "metadata": {},
   "source": [
    "### 4-1-1. 이상치 대체 전 시각화(Boxplot)"
   ]
  },
  {
   "cell_type": "code",
   "execution_count": 18,
   "metadata": {},
   "outputs": [
    {
     "data": {
      "image/png": "[encoded data removed]",
      "text/plain": [
       "<Figure size 1000x400 with 1 Axes>"
      ]
     },
     "metadata": {},
     "output_type": "display_data"
    },
    {
     "data": {
      "image/png": "[encoded data removed]",
      "text/plain": [
       "<Figure size 1000x400 with 1 Axes>"
      ]
     },
     "metadata": {},
     "output_type": "display_data"
    },
    {
     "data": {
      "image/png": "[encoded data removed]",
      "text/plain": [
       "<Figure size 1000x400 with 1 Axes>"
      ]
     },
     "metadata": {},
     "output_type": "display_data"
    },
    {
     "data": {
      "image/png": "[encoded data removed]",
      "text/plain": [
       "<Figure size 1000x400 with 1 Axes>"
      ]
     },
     "metadata": {},
     "output_type": "display_data"
    },
    {
     "data": {
      "image/png": "[encoded data removed]",
      "text/plain": [
       "<Figure size 1000x400 with 1 Axes>"
      ]
     },
     "metadata": {},
     "output_type": "display_data"
    },
    {
     "data": {
      "image/png": "[encoded data removed]",
      "text/plain": [
       "<Figure size 1000x400 with 1 Axes>"
      ]
     },
     "metadata": {},
     "output_type": "display_data"
    },
    {
     "data": {
      "image/png": "[encoded data removed]",
      "text/plain": [
       "<Figure size 1000x400 with 1 Axes>"
      ]
     },
     "metadata": {},
     "output_type": "display_data"
    },
    {
     "data": {
      "image/png": "[encoded data removed]",
      "text/plain": [
       "<Figure size 1000x400 with 1 Axes>"
      ]
     },
     "metadata": {},
     "output_type": "display_data"
    },
    {
     "data": {
      "image/png": "[encoded data removed]",
      "text/plain": [
       "<Figure size 1000x400 with 1 Axes>"
      ]
     },
     "metadata": {},
     "output_type": "display_data"
    },
    {
     "data": {
      "image/png": "[encoded data removed]",
      "text/plain": [
       "<Figure size 1000x400 with 1 Axes>"
      ]
     },
     "metadata": {},
     "output_type": "display_data"
    },
    {
     "data": {
      "image/png": "[encoded data removed]",
      "text/plain": [
       "<Figure size 1000x400 with 1 Axes>"
      ]
     },
     "metadata": {},
     "output_type": "display_data"
    }
   ],
   "source": [
    "# 시각화\n",
    "import matplotlib.pyplot as plt\n",
    "import seaborn as sns\n",
    "\n",
    "# 이상치 처리가 필요한 열들 features\n",
    "features = df.columns.difference(['year', 'month', 'day', 'time', 're', 'stn_id', 'minute', 'vis1', 'class'])\n",
    "\n",
    "# 이상치 시각화\n",
    "for feature in features:\n",
    "    plt.figure(figsize=(10, 4))\n",
    "    sns.boxplot(x=df[feature])\n",
    "    plt.title(f'Boxplot of {feature}')\n",
    "    plt.show()"
   ]
  },
  {
   "cell_type": "code",
   "execution_count": 19,
   "metadata": {},
   "outputs": [
    {
     "data": {
      "text/plain": [
       "'\\n# 추가 \\n# 정규분포 sun10열\\nplt.figure(figsize=(10, 6))\\nsns.histplot(df[\\'sun10\\'], kde=True, stat=\"density\", linewidth=0)\\nplt.title(\\'Distribution of sun10\\')\\nplt.xlabel(\\'sun10\\')\\nplt.ylabel(\\'Density\\')\\n\\n# 정규분포 곡선 추가\\nmean = df[\\'sun10\\'].mean()\\nstd = df[\\'sun10\\'].std()\\nxmin, xmax = plt.xlim()\\nx = np.linspace(xmin, xmax, 100)\\np = np.exp(-0.5 * ((x - mean) / std) ** 2) / (std * np.sqrt(2 * np.pi))\\nplt.plot(x, p, \\'k\\', linewidth=2)\\n\\nplt.show()\\n'"
      ]
     },
     "execution_count": 19,
     "metadata": {},
     "output_type": "execute_result"
    }
   ],
   "source": [
    "# 오래 걸림 pass\n",
    "'''\n",
    "# 추가 \n",
    "# 정규분포 sun10열\n",
    "plt.figure(figsize=(10, 6))\n",
    "sns.histplot(df['sun10'], kde=True, stat=\"density\", linewidth=0)\n",
    "plt.title('Distribution of sun10')\n",
    "plt.xlabel('sun10')\n",
    "plt.ylabel('Density')\n",
    "\n",
    "# 정규분포 곡선 추가\n",
    "mean = df['sun10'].mean()\n",
    "std = df['sun10'].std()\n",
    "xmin, xmax = plt.xlim()\n",
    "x = np.linspace(xmin, xmax, 100)\n",
    "p = np.exp(-0.5 * ((x - mean) / std) ** 2) / (std * np.sqrt(2 * np.pi))\n",
    "plt.plot(x, p, 'k', linewidth=2)\n",
    "\n",
    "plt.show()\n",
    "'''"
   ]
  },
  {
   "cell_type": "markdown",
   "metadata": {},
   "source": [
    "### 4-1-2. 이상치 탐지(수정된 Z-score)"
   ]
  },
  {
   "cell_type": "markdown",
   "metadata": {},
   "source": [
    "**수정된 Z-score**\n",
    "\n",
    "**장점**\n",
    "1. 비정규성 대응: 기존의 z-score가 정규 분포를 가정하는 반면, 수정된 z-score는 비정규성에 대응하여 더욱 강건하게 이상치를 탐지합니다.\n",
    "2. 중위수와 MAD 사용: 평균과 표준 편차 대신 중위수와 MAD를 사용하므로 이상치에 민감하지 않고 강력한 방법입니다.\n",
    "3. 유연성: 데이터의 특성에 따라 기준값을 조정하여 적용할 수 있습니다.  \n",
    "\n",
    "**단점**\n",
    "1. 데이터 분포 의존성: 여전히 데이터의 분포에 영향을 받을 수 있습니다. 특히 극단적으로 비대칭적인 분포에서는 적합하지 않을 수 있습니다.\n",
    "2. 상대적으로 복잡한 계산: 기존의 z-score에 비해 계산이 복잡하며, 대량의 데이터에 대한 계산이 상대적으로 느릴 수 있습니다."
   ]
  },
  {
   "cell_type": "code",
   "execution_count": 20,
   "metadata": {},
   "outputs": [
    {
     "data": {
      "text/plain": [
       "'modified Z-score 사용시 sun10열의 이상치가 100만개 넘게 나와서 포기!'"
      ]
     },
     "execution_count": 20,
     "metadata": {},
     "output_type": "execute_result"
    }
   ],
   "source": [
    "'''modified Z-score 사용시 sun10열의 이상치가 100만개 넘게 나와서 포기!'''\n",
    "# # modified Z-score 사용시\n",
    "# def detect_outliers(df, features):\n",
    "#     outliers_indices = {}\n",
    "#     threshold = 3.0\n",
    "    \n",
    "#     for feature in features:\n",
    "#         ys = df[feature].values\n",
    "#         median_y = np.median(ys)\n",
    "#         median_absolute_deviation_y = np.median(np.abs(ys - median_y))\n",
    "        \n",
    "#         if median_absolute_deviation_y == 0:\n",
    "#             modified_z_scores = np.zeros_like(ys)\n",
    "#         else:\n",
    "#             modified_z_scores = 0.6745 * (ys - median_y) / median_absolute_deviation_y\n",
    "        \n",
    "#         outliers_indices[feature] = np.where(np.abs(modified_z_scores) > threshold)[0]\n",
    "    \n",
    "#     return outliers_indices"
   ]
  },
  {
   "cell_type": "code",
   "execution_count": 21,
   "metadata": {},
   "outputs": [],
   "source": [
    "# Z-score를 통한 이상치 탐지\n",
    "def detect_outliers(df, features):\n",
    "    outliers_indices = {}\n",
    "    for feature in features:\n",
    "        mean = df[feature].mean()\n",
    "        std = df[feature].std()\n",
    "        z_scores = (df[feature] - mean) / std\n",
    "        outliers_indices[feature] = np.where(np.abs(z_scores) > 3)[0]\n",
    "    return outliers_indices\n",
    "\n",
    "\n",
    "# 이상치 탐지\n",
    "outliers_indices = detect_outliers(df, features)"
   ]
  },
  {
   "cell_type": "code",
   "execution_count": 22,
   "metadata": {},
   "outputs": [
    {
     "name": "stdout",
     "output_type": "stream",
     "text": [
      "hm 컬럼은 8 개의 이상치가 확인됨\n",
      "region_0 컬럼은 0 개의 이상치가 확인됨\n",
      "region_1 컬럼은 0 개의 이상치가 확인됨\n",
      "region_2 컬럼은 0 개의 이상치가 확인됨\n",
      "region_3 컬럼은 0 개의 이상치가 확인됨\n",
      "region_4 컬럼은 0 개의 이상치가 확인됨\n",
      "sun10 컬럼은 26300 개의 이상치가 확인됨\n",
      "ta 컬럼은 1234 개의 이상치가 확인됨\n",
      "ts 컬럼은 8757 개의 이상치가 확인됨\n",
      "ws10_deg 컬럼은 0 개의 이상치가 확인됨\n",
      "ws10_ms 컬럼은 49013 개의 이상치가 확인됨\n"
     ]
    }
   ],
   "source": [
    "# 이상치 개수 확인\n",
    "for feature, indices in outliers_indices.items():\n",
    "    print(f'{feature} 컬럼은 {len(indices)} 개의 이상치가 확인됨')"
   ]
  },
  {
   "cell_type": "markdown",
   "metadata": {},
   "source": [
    "### 4-1-3. 이상치 대체"
   ]
  },
  {
   "cell_type": "code",
   "execution_count": 23,
   "metadata": {},
   "outputs": [
    {
     "data": {
      "text/html": [
       "<div>\n",
       "<style scoped>\n",
       "    .dataframe tbody tr th:only-of-type {\n",
       "        vertical-align: middle;\n",
       "    }\n",
       "\n",
       "    .dataframe tbody tr th {\n",
       "        vertical-align: top;\n",
       "    }\n",
       "\n",
       "    .dataframe thead th {\n",
       "        text-align: right;\n",
       "    }\n",
       "</style>\n",
       "<table border=\"1\" class=\"dataframe\">\n",
       "  <thead>\n",
       "    <tr style=\"text-align: right;\">\n",
       "      <th></th>\n",
       "      <th>year</th>\n",
       "      <th>month</th>\n",
       "      <th>day</th>\n",
       "      <th>time</th>\n",
       "      <th>minute</th>\n",
       "      <th>stn_id</th>\n",
       "      <th>ws10_deg</th>\n",
       "      <th>ws10_ms</th>\n",
       "      <th>ta</th>\n",
       "      <th>re</th>\n",
       "      <th>hm</th>\n",
       "      <th>sun10</th>\n",
       "      <th>ts</th>\n",
       "      <th>vis1</th>\n",
       "      <th>class</th>\n",
       "      <th>region_0</th>\n",
       "      <th>region_1</th>\n",
       "      <th>region_2</th>\n",
       "      <th>region_3</th>\n",
       "      <th>region_4</th>\n",
       "    </tr>\n",
       "  </thead>\n",
       "  <tbody>\n",
       "    <tr>\n",
       "      <th>1</th>\n",
       "      <td>0</td>\n",
       "      <td>1</td>\n",
       "      <td>1</td>\n",
       "      <td>0</td>\n",
       "      <td>10</td>\n",
       "      <td>AA</td>\n",
       "      <td>0.0</td>\n",
       "      <td>0.0</td>\n",
       "      <td>-6.4</td>\n",
       "      <td>0.0</td>\n",
       "      <td>38.9</td>\n",
       "      <td>0.0</td>\n",
       "      <td>-2.8</td>\n",
       "      <td>20000</td>\n",
       "      <td>4</td>\n",
       "      <td>1.0</td>\n",
       "      <td>0.0</td>\n",
       "      <td>0.0</td>\n",
       "      <td>0.0</td>\n",
       "      <td>0.0</td>\n",
       "    </tr>\n",
       "    <tr>\n",
       "      <th>2</th>\n",
       "      <td>0</td>\n",
       "      <td>1</td>\n",
       "      <td>1</td>\n",
       "      <td>0</td>\n",
       "      <td>20</td>\n",
       "      <td>AA</td>\n",
       "      <td>0.0</td>\n",
       "      <td>0.0</td>\n",
       "      <td>-6.3</td>\n",
       "      <td>0.0</td>\n",
       "      <td>37.9</td>\n",
       "      <td>0.0</td>\n",
       "      <td>-2.7</td>\n",
       "      <td>20000</td>\n",
       "      <td>4</td>\n",
       "      <td>1.0</td>\n",
       "      <td>0.0</td>\n",
       "      <td>0.0</td>\n",
       "      <td>0.0</td>\n",
       "      <td>0.0</td>\n",
       "    </tr>\n",
       "    <tr>\n",
       "      <th>3</th>\n",
       "      <td>0</td>\n",
       "      <td>1</td>\n",
       "      <td>1</td>\n",
       "      <td>0</td>\n",
       "      <td>30</td>\n",
       "      <td>AA</td>\n",
       "      <td>0.0</td>\n",
       "      <td>0.0</td>\n",
       "      <td>-6.3</td>\n",
       "      <td>0.0</td>\n",
       "      <td>40.0</td>\n",
       "      <td>0.0</td>\n",
       "      <td>-2.6</td>\n",
       "      <td>20000</td>\n",
       "      <td>4</td>\n",
       "      <td>1.0</td>\n",
       "      <td>0.0</td>\n",
       "      <td>0.0</td>\n",
       "      <td>0.0</td>\n",
       "      <td>0.0</td>\n",
       "    </tr>\n",
       "    <tr>\n",
       "      <th>4</th>\n",
       "      <td>0</td>\n",
       "      <td>1</td>\n",
       "      <td>1</td>\n",
       "      <td>0</td>\n",
       "      <td>40</td>\n",
       "      <td>AA</td>\n",
       "      <td>27.8</td>\n",
       "      <td>0.4</td>\n",
       "      <td>-6.2</td>\n",
       "      <td>0.0</td>\n",
       "      <td>39.5</td>\n",
       "      <td>0.0</td>\n",
       "      <td>-2.6</td>\n",
       "      <td>20000</td>\n",
       "      <td>4</td>\n",
       "      <td>1.0</td>\n",
       "      <td>0.0</td>\n",
       "      <td>0.0</td>\n",
       "      <td>0.0</td>\n",
       "      <td>0.0</td>\n",
       "    </tr>\n",
       "    <tr>\n",
       "      <th>5</th>\n",
       "      <td>0</td>\n",
       "      <td>1</td>\n",
       "      <td>1</td>\n",
       "      <td>0</td>\n",
       "      <td>50</td>\n",
       "      <td>AA</td>\n",
       "      <td>59.7</td>\n",
       "      <td>0.5</td>\n",
       "      <td>-6.1</td>\n",
       "      <td>0.0</td>\n",
       "      <td>39.8</td>\n",
       "      <td>0.0</td>\n",
       "      <td>-2.5</td>\n",
       "      <td>20000</td>\n",
       "      <td>4</td>\n",
       "      <td>1.0</td>\n",
       "      <td>0.0</td>\n",
       "      <td>0.0</td>\n",
       "      <td>0.0</td>\n",
       "      <td>0.0</td>\n",
       "    </tr>\n",
       "    <tr>\n",
       "      <th>...</th>\n",
       "      <td>...</td>\n",
       "      <td>...</td>\n",
       "      <td>...</td>\n",
       "      <td>...</td>\n",
       "      <td>...</td>\n",
       "      <td>...</td>\n",
       "      <td>...</td>\n",
       "      <td>...</td>\n",
       "      <td>...</td>\n",
       "      <td>...</td>\n",
       "      <td>...</td>\n",
       "      <td>...</td>\n",
       "      <td>...</td>\n",
       "      <td>...</td>\n",
       "      <td>...</td>\n",
       "      <td>...</td>\n",
       "      <td>...</td>\n",
       "      <td>...</td>\n",
       "      <td>...</td>\n",
       "      <td>...</td>\n",
       "    </tr>\n",
       "    <tr>\n",
       "      <th>3156455</th>\n",
       "      <td>2</td>\n",
       "      <td>12</td>\n",
       "      <td>31</td>\n",
       "      <td>23</td>\n",
       "      <td>10</td>\n",
       "      <td>EC</td>\n",
       "      <td>305.3</td>\n",
       "      <td>7.7</td>\n",
       "      <td>2.5</td>\n",
       "      <td>0.0</td>\n",
       "      <td>50.2</td>\n",
       "      <td>0.0</td>\n",
       "      <td>-0.9</td>\n",
       "      <td>20000</td>\n",
       "      <td>4</td>\n",
       "      <td>0.0</td>\n",
       "      <td>0.0</td>\n",
       "      <td>0.0</td>\n",
       "      <td>0.0</td>\n",
       "      <td>1.0</td>\n",
       "    </tr>\n",
       "    <tr>\n",
       "      <th>3156456</th>\n",
       "      <td>2</td>\n",
       "      <td>12</td>\n",
       "      <td>31</td>\n",
       "      <td>23</td>\n",
       "      <td>20</td>\n",
       "      <td>EC</td>\n",
       "      <td>293.8</td>\n",
       "      <td>5.7</td>\n",
       "      <td>2.3</td>\n",
       "      <td>0.0</td>\n",
       "      <td>50.1</td>\n",
       "      <td>0.0</td>\n",
       "      <td>-1.3</td>\n",
       "      <td>20000</td>\n",
       "      <td>4</td>\n",
       "      <td>0.0</td>\n",
       "      <td>0.0</td>\n",
       "      <td>0.0</td>\n",
       "      <td>0.0</td>\n",
       "      <td>1.0</td>\n",
       "    </tr>\n",
       "    <tr>\n",
       "      <th>3156457</th>\n",
       "      <td>2</td>\n",
       "      <td>12</td>\n",
       "      <td>31</td>\n",
       "      <td>23</td>\n",
       "      <td>30</td>\n",
       "      <td>EC</td>\n",
       "      <td>274.2</td>\n",
       "      <td>4.9</td>\n",
       "      <td>2.2</td>\n",
       "      <td>0.0</td>\n",
       "      <td>51.0</td>\n",
       "      <td>0.0</td>\n",
       "      <td>-1.4</td>\n",
       "      <td>20000</td>\n",
       "      <td>4</td>\n",
       "      <td>0.0</td>\n",
       "      <td>0.0</td>\n",
       "      <td>0.0</td>\n",
       "      <td>0.0</td>\n",
       "      <td>1.0</td>\n",
       "    </tr>\n",
       "    <tr>\n",
       "      <th>3156458</th>\n",
       "      <td>2</td>\n",
       "      <td>12</td>\n",
       "      <td>31</td>\n",
       "      <td>23</td>\n",
       "      <td>40</td>\n",
       "      <td>EC</td>\n",
       "      <td>270.3</td>\n",
       "      <td>4.6</td>\n",
       "      <td>2.1</td>\n",
       "      <td>0.0</td>\n",
       "      <td>51.7</td>\n",
       "      <td>0.0</td>\n",
       "      <td>-1.6</td>\n",
       "      <td>20000</td>\n",
       "      <td>4</td>\n",
       "      <td>0.0</td>\n",
       "      <td>0.0</td>\n",
       "      <td>0.0</td>\n",
       "      <td>0.0</td>\n",
       "      <td>1.0</td>\n",
       "    </tr>\n",
       "    <tr>\n",
       "      <th>3156459</th>\n",
       "      <td>2</td>\n",
       "      <td>12</td>\n",
       "      <td>31</td>\n",
       "      <td>23</td>\n",
       "      <td>50</td>\n",
       "      <td>EC</td>\n",
       "      <td>254.8</td>\n",
       "      <td>4.1</td>\n",
       "      <td>2.1</td>\n",
       "      <td>0.0</td>\n",
       "      <td>53.3</td>\n",
       "      <td>0.0</td>\n",
       "      <td>-1.7</td>\n",
       "      <td>20000</td>\n",
       "      <td>4</td>\n",
       "      <td>0.0</td>\n",
       "      <td>0.0</td>\n",
       "      <td>0.0</td>\n",
       "      <td>0.0</td>\n",
       "      <td>1.0</td>\n",
       "    </tr>\n",
       "  </tbody>\n",
       "</table>\n",
       "<p>3156459 rows × 20 columns</p>\n",
       "</div>"
      ],
      "text/plain": [
       "         year  month  day  time  minute stn_id  ws10_deg  ws10_ms   ta   re  \\\n",
       "1           0      1    1     0      10     AA       0.0      0.0 -6.4  0.0   \n",
       "2           0      1    1     0      20     AA       0.0      0.0 -6.3  0.0   \n",
       "3           0      1    1     0      30     AA       0.0      0.0 -6.3  0.0   \n",
       "4           0      1    1     0      40     AA      27.8      0.4 -6.2  0.0   \n",
       "5           0      1    1     0      50     AA      59.7      0.5 -6.1  0.0   \n",
       "...       ...    ...  ...   ...     ...    ...       ...      ...  ...  ...   \n",
       "3156455     2     12   31    23      10     EC     305.3      7.7  2.5  0.0   \n",
       "3156456     2     12   31    23      20     EC     293.8      5.7  2.3  0.0   \n",
       "3156457     2     12   31    23      30     EC     274.2      4.9  2.2  0.0   \n",
       "3156458     2     12   31    23      40     EC     270.3      4.6  2.1  0.0   \n",
       "3156459     2     12   31    23      50     EC     254.8      4.1  2.1  0.0   \n",
       "\n",
       "           hm  sun10   ts   vis1  class  region_0  region_1  region_2  \\\n",
       "1        38.9    0.0 -2.8  20000      4       1.0       0.0       0.0   \n",
       "2        37.9    0.0 -2.7  20000      4       1.0       0.0       0.0   \n",
       "3        40.0    0.0 -2.6  20000      4       1.0       0.0       0.0   \n",
       "4        39.5    0.0 -2.6  20000      4       1.0       0.0       0.0   \n",
       "5        39.8    0.0 -2.5  20000      4       1.0       0.0       0.0   \n",
       "...       ...    ...  ...    ...    ...       ...       ...       ...   \n",
       "3156455  50.2    0.0 -0.9  20000      4       0.0       0.0       0.0   \n",
       "3156456  50.1    0.0 -1.3  20000      4       0.0       0.0       0.0   \n",
       "3156457  51.0    0.0 -1.4  20000      4       0.0       0.0       0.0   \n",
       "3156458  51.7    0.0 -1.6  20000      4       0.0       0.0       0.0   \n",
       "3156459  53.3    0.0 -1.7  20000      4       0.0       0.0       0.0   \n",
       "\n",
       "         region_3  region_4  \n",
       "1             0.0       0.0  \n",
       "2             0.0       0.0  \n",
       "3             0.0       0.0  \n",
       "4             0.0       0.0  \n",
       "5             0.0       0.0  \n",
       "...           ...       ...  \n",
       "3156455       0.0       1.0  \n",
       "3156456       0.0       1.0  \n",
       "3156457       0.0       1.0  \n",
       "3156458       0.0       1.0  \n",
       "3156459       0.0       1.0  \n",
       "\n",
       "[3156459 rows x 20 columns]"
      ]
     },
     "execution_count": 23,
     "metadata": {},
     "output_type": "execute_result"
    }
   ],
   "source": [
    "# 이상치 대체 함수 정의\n",
    "\n",
    "def replace_outliers(df, outliers_indices):\n",
    "    for feature, indices in outliers_indices.items():\n",
    "        df.loc[indices, feature] = np.nan\n",
    "        df[feature] = df[feature].interpolate(method='polynomial', order=2) # 선형보간법\n",
    "        # method='ffill', 'bfill'쓰면 직전 값, 직후 값으로 대체 가능\n",
    "        # .interpolate(method='polynomial', order=2) # 2차 다항식 보간법\n",
    "        # .interpolate(method='linear') # 선형보간법\n",
    "    return df\n",
    "\n",
    "# 이상치 대체 수행\n",
    "replace_outliers(df, outliers_indices)"
   ]
  },
  {
   "cell_type": "code",
   "execution_count": 24,
   "metadata": {},
   "outputs": [
    {
     "name": "stdout",
     "output_type": "stream",
     "text": [
      "hm 컬럼은 이상치 대체 후 7 개의 이상치가 확인됨\n",
      "region_0 컬럼은 이상치 대체 후 0 개의 이상치가 확인됨\n",
      "region_1 컬럼은 이상치 대체 후 0 개의 이상치가 확인됨\n",
      "region_2 컬럼은 이상치 대체 후 0 개의 이상치가 확인됨\n",
      "region_3 컬럼은 이상치 대체 후 0 개의 이상치가 확인됨\n",
      "region_4 컬럼은 이상치 대체 후 0 개의 이상치가 확인됨\n",
      "sun10 컬럼은 이상치 대체 후 21801 개의 이상치가 확인됨\n",
      "ta 컬럼은 이상치 대체 후 1152 개의 이상치가 확인됨\n",
      "ts 컬럼은 이상치 대체 후 8197 개의 이상치가 확인됨\n",
      "ws10_deg 컬럼은 이상치 대체 후 0 개의 이상치가 확인됨\n",
      "ws10_ms 컬럼은 이상치 대체 후 20935 개의 이상치가 확인됨\n"
     ]
    }
   ],
   "source": [
    "# 대체 후 이상치 탐지\n",
    "outliers_indices_after = detect_outliers(df, features)\n",
    "\n",
    "# 대체 후 이상치 개수 확인\n",
    "for feature, indices in outliers_indices_after.items():\n",
    "    print(f'{feature} 컬럼은 이상치 대체 후 {len(indices)} 개의 이상치가 확인됨')\n",
    "\n",
    "\n",
    "# 원래 이상치\n",
    "# hm 컬럼은 8 개의 이상치가 확인됨\n",
    "# sun10 컬럼은 26300 개의 이상치가 확인됨\n",
    "# ta 컬럼은 1234 개의 이상치가 확인됨\n",
    "# ts 컬럼은 8757 개의 이상치가 확인됨\n",
    "# ws10_deg 컬럼은 0 개의 이상치가 확인됨\n",
    "# ws10_ms 컬럼은 49013 개의 이상치가 확인됨"
   ]
  },
  {
   "cell_type": "markdown",
   "metadata": {},
   "source": [
    "### 4-1-4. 이상치 대체 후 시각화(Boxplot)"
   ]
  },
  {
   "cell_type": "code",
   "execution_count": 25,
   "metadata": {},
   "outputs": [
    {
     "data": {
      "image/png": "[encoded data removed]",
      "text/plain": [
       "<Figure size 1000x400 with 1 Axes>"
      ]
     },
     "metadata": {},
     "output_type": "display_data"
    },
    {
     "data": {
      "image/png": "[encoded data removed]",
      "text/plain": [
       "<Figure size 1000x400 with 1 Axes>"
      ]
     },
     "metadata": {},
     "output_type": "display_data"
    },
    {
     "data": {
      "image/png": "[encoded data removed]",
      "text/plain": [
       "<Figure size 1000x400 with 1 Axes>"
      ]
     },
     "metadata": {},
     "output_type": "display_data"
    },
    {
     "data": {
      "image/png": "[encoded data removed]",
      "text/plain": [
       "<Figure size 1000x400 with 1 Axes>"
      ]
     },
     "metadata": {},
     "output_type": "display_data"
    },
    {
     "data": {
      "image/png": "[encoded data removed]",
      "text/plain": [
       "<Figure size 1000x400 with 1 Axes>"
      ]
     },
     "metadata": {},
     "output_type": "display_data"
    },
    {
     "data": {
      "image/png": "[encoded data removed]",
      "text/plain": [
       "<Figure size 1000x400 with 1 Axes>"
      ]
     },
     "metadata": {},
     "output_type": "display_data"
    },
    {
     "data": {
      "image/png": "[encoded data removed]",
      "text/plain": [
       "<Figure size 1000x400 with 1 Axes>"
      ]
     },
     "metadata": {},
     "output_type": "display_data"
    },
    {
     "data": {
      "image/png": "[encoded data removed]",
      "text/plain": [
       "<Figure size 1000x400 with 1 Axes>"
      ]
     },
     "metadata": {},
     "output_type": "display_data"
    },
    {
     "data": {
      "image/png": "[encoded data removed]",
      "text/plain": [
       "<Figure size 1000x400 with 1 Axes>"
      ]
     },
     "metadata": {},
     "output_type": "display_data"
    },
    {
     "data": {
      "image/png": "[encoded data removed]",
      "text/plain": [
       "<Figure size 1000x400 with 1 Axes>"
      ]
     },
     "metadata": {},
     "output_type": "display_data"
    },
    {
     "data": {
      "image/png": "[encoded data removed]",
      "text/plain": [
       "<Figure size 1000x400 with 1 Axes>"
      ]
     },
     "metadata": {},
     "output_type": "display_data"
    }
   ],
   "source": [
    "# 이상치 대체 후 시각화\n",
    "for feature in features:\n",
    "    plt.figure(figsize=(10, 4))\n",
    "    sns.boxplot(x=df[feature])\n",
    "    plt.title(f'Boxplot of {feature} after replacing outliers')\n",
    "    plt.show()"
   ]
  },
  {
   "cell_type": "markdown",
   "metadata": {},
   "source": [
    "# 5.정규화"
   ]
  },
  {
   "cell_type": "markdown",
   "metadata": {},
   "source": [
    "## 5-1. 시간과 re열, target를 제외한 나머지의 데이터 정규화\n",
    "> Min-Max, Standard, Robust 적용 후 비교"
   ]
  },
  {
   "cell_type": "markdown",
   "metadata": {},
   "source": [
    "**1. Min-Max Scaler**\n",
    "\n",
    "특징: 데이터 값을 0과 1 사이로 스케일링\n",
    "\n",
    "적용 대상: 데이터가 정규 분포에 가깝고, 이상치가 적은 경우\n",
    "\n",
    "장점: 모든 데이터가 동일한 범위로 스케일링되어 학습이 빠름\n",
    "\n",
    "단점: 이상치에 매우 민감하며, 극단적인 값이 있을 경우 대부분의 데이터가 매우 좁은 범위로 압축될 수 있음\n",
    "\n",
    "**2. Standard Scaler**\n",
    "\n",
    "특징: 데이터의 평균을 0, 표준 편차를 1로 변환\n",
    "\n",
    "적용 대상: 데이터가 정규 분포를 따르지 않고, 이상치가 적당히 존재하는 경우\n",
    "\n",
    "장점: 평균과 분산이 고정된 데이터로 학습할 때 효과적\n",
    "\n",
    "단점: 이상치가 있으면 평균과 표준 편차에 큰 영향을 줄 수 있음\n",
    "\n",
    "**3. Robust Scaler**\n",
    "\n",
    "특징: 중앙값을 0, IQR(Interquartile Range)를 사용하여 스케일링\n",
    "\n",
    "적용 대상: 이상치가 많은 데이터에 적합\n",
    "\n",
    "장점: 이상치의 영향을 크게 받지 않음\n",
    "\n",
    "단점: 데이터의 중심이 중앙값으로 이동하므로, 데이터 분포의 비대칭성을 고려해야 함"
   ]
  },
  {
   "cell_type": "markdown",
   "metadata": {},
   "source": [
    "## 5-2. Min-Max Scaler"
   ]
  },
  {
   "cell_type": "code",
   "execution_count": 26,
   "metadata": {},
   "outputs": [],
   "source": [
    "# from sklearn.preprocessing import MinMaxScaler\n",
    "\n",
    "# scaler = MinMaxScaler()\n",
    "# features = df.columns.difference(['year', 'month', 'day', 'time', 'minute', 're', 'stn_id', 'vis1', 'class'])\n",
    "\n",
    "# df[features] = scaler.fit_transform(df[features])\n",
    "# df"
   ]
  },
  {
   "cell_type": "markdown",
   "metadata": {},
   "source": [
    "## 5-2. Standard Scaler"
   ]
  },
  {
   "cell_type": "code",
   "execution_count": 27,
   "metadata": {},
   "outputs": [],
   "source": [
    "# from sklearn.preprocessing import StandardScaler\n",
    "\n",
    "# scaler = StandardScaler()\n",
    "# features = df.columns.difference(['year', 'month', 'day', 'time', 'minute', 're', 'stn_id', 'vis1', 'class'])\n",
    "\n",
    "# df[features] = scaler.fit_transform(df[features])\n",
    "# df"
   ]
  },
  {
   "cell_type": "markdown",
   "metadata": {},
   "source": [
    "## 5-3. Robust Scaler"
   ]
  },
  {
   "cell_type": "code",
   "execution_count": 28,
   "metadata": {},
   "outputs": [],
   "source": [
    "# from sklearn.preprocessing import RobustScaler\n",
    "\n",
    "# scaler = RobustScaler()\n",
    "# features = df.columns.difference(['year', 'month', 'day', 'time', 'minute', 're', 'stn_id', 'vis1', 'class'])\n",
    "\n",
    "# df[features] = scaler.fit_transform(df[features])\n",
    "# df"
   ]
  },
  {
   "cell_type": "markdown",
   "metadata": {},
   "source": [
    "# 6. class 결측치 채우기"
   ]
  },
  {
   "cell_type": "markdown",
   "metadata": {},
   "source": [
    "## 6-1. XGR를 활용하여 vis1 결측값 예측한 후, 해당 예측값을 결측값을 대체"
   ]
  },
  {
   "cell_type": "code",
   "execution_count": 31,
   "metadata": {},
   "outputs": [],
   "source": [
    "from sklearn.ensemble import RandomForestRegressor\n",
    "from sklearn.preprocessing import RobustScaler\n",
    "import matplotlib.pyplot as plt\n",
    "import seaborn as sns"
   ]
  },
  {
   "cell_type": "code",
   "execution_count": 37,
   "metadata": {},
   "outputs": [],
   "source": [
    "# 데이터 복사\n",
    "df_rfr = df.copy()"
   ]
  },
  {
   "cell_type": "code",
   "execution_count": 38,
   "metadata": {},
   "outputs": [],
   "source": [
    "# class 분포 확인 함수\n",
    "def count_classes(df):\n",
    "    return df['class'].value_counts()\n",
    "\n",
    "# 초기 class 분포\n",
    "initial_class_counts = count_classes(df_rfr)"
   ]
  },
  {
   "cell_type": "code",
   "execution_count": 39,
   "metadata": {},
   "outputs": [],
   "source": [
    "# 결측치가 아닌 행과 결측치인 행을 구분\n",
    "train_data = df_rfr[df_rfr['vis1'] != -99]\n",
    "test_data = df_rfr[df_rfr['vis1'] == -99]\n",
    "\n",
    "# 제외할 열을 지정하여 feature 선택\n",
    "features = df_rfr.columns.difference(['vis1', 'class'])\n",
    "\n",
    "# 학습을 위한 feature와 target 분리\n",
    "X_train = train_data[features]\n",
    "y_train = train_data['vis1']\n",
    "X_test = test_data[features]\n",
    "\n",
    "# 데이터 스케일링\n",
    "scaler = RobustScaler()\n",
    "# 스케일링할 열을 선택합니다\n",
    "features_to_scale = df_rfr.columns.difference(['year', 'month', 'day', 'time', 'minute', 're', 'stn_id', 'vis1', 'class'])\n",
    "# 선택된 열에 대해 RobustScaler를 적용합니다\n",
    "X_train_scaled = X_train.copy()\n",
    "X_test_scaled = X_test.copy()\n",
    "X_train_scaled[features_to_scale] = scaler.fit_transform(X_train_scaled[features_to_scale])\n",
    "X_test_scaled[features_to_scale] = scaler.transform(X_test_scaled[features_to_scale])"
   ]
  },
  {
   "cell_type": "code",
   "execution_count": 40,
   "metadata": {},
   "outputs": [],
   "source": [
    "# 랜덤 포레스트 회귀 모델 학습 및 예측\n",
    "rf_model = RandomForestRegressor(random_state=123)\n",
    "rf_model.fit(X_train_scaled, y_train)\n",
    "y_pred = rf_model.predict(X_test_scaled)\n",
    "\n",
    "# 예측된 값으로 vis1 결측치 대체\n",
    "df_rfr.loc[df_rfr['vis1'] == -99, 'vis1'] = y_pred"
   ]
  },
  {
   "cell_type": "code",
   "execution_count": null,
   "metadata": {},
   "outputs": [],
   "source": [
    "# 확인용\n",
    "# print(y_pred.shape)\n",
    "# print(df_xgr.loc[df_xgr['vis1'] == -99, 'vis1'].shape)\n",
    "# print(test_data.shape)"
   ]
  },
  {
   "cell_type": "code",
   "execution_count": null,
   "metadata": {},
   "outputs": [],
   "source": [
    "# class 분류 함수\n",
    "def classify_visibility(vis1):\n",
    "    if vis1 < 200:\n",
    "        return 1\n",
    "    elif vis1 < 500:\n",
    "        return 2\n",
    "    elif vis1 < 1000:\n",
    "        return 3\n",
    "    else:\n",
    "        return 4\n",
    "\n",
    "# class가 -99인 행에 대해 vis1을 기반으로 class 값 분류\n",
    "df_rfr.loc[df_rfr['class'] == -99, 'class'] = df_rfr.loc[df_rfr['class'] == -99, 'vis1'].apply(classify_visibility)"
   ]
  },
  {
   "cell_type": "code",
   "execution_count": null,
   "metadata": {},
   "outputs": [],
   "source": [
    "# 예측된 vis1 값을 기반으로 한 class 분포\n",
    "predicted_class_counts = df_rfr.loc[df_rfr['class'] != -99, 'class'].value_counts()\n",
    "# 최종 class 분포\n",
    "final_class_counts = count_classes(df_rfr)\n",
    "\n",
    "# 각 class별 증가 수 계산\n",
    "class_increase_counts = final_class_counts - initial_class_counts\n",
    "\n",
    "# 결과 출력\n",
    "print(\"Class increase counts:\\n\", class_increase_counts)\n",
    "\n",
    "# 시각화\n",
    "# y_pred 기반 class 분포 시각화\n",
    "df_pred_class = pd.DataFrame({'y_pred': y_pred})\n",
    "df_pred_class['pred_class'] = df_pred_class['y_pred'].apply(classify_visibility)\n",
    "\n",
    "# 분포를 숫자로 표시한 막대 그래프\n",
    "plt.figure(figsize=(12, 6))\n",
    "sns.barplot(x=df_pred_class['pred_class'].value_counts().index, y=df_pred_class['pred_class'].value_counts().values)\n",
    "plt.title('Distribution of Predicted Classes')\n",
    "plt.xlabel('Predicted Class')\n",
    "plt.ylabel('Count')\n",
    "# 막대 위에 숫자 표시\n",
    "for index, value in enumerate(df_pred_class['pred_class'].value_counts().values):\n",
    "    plt.text(index, value + 0.05, str(value), ha='center')\n",
    "\n",
    "plt.show()"
   ]
  },
  {
   "cell_type": "code",
   "execution_count": null,
   "metadata": {},
   "outputs": [],
   "source": []
  },
  {
   "cell_type": "code",
   "execution_count": null,
   "metadata": {},
   "outputs": [],
   "source": []
  },
  {
   "cell_type": "markdown",
   "metadata": {},
   "source": [
    "## 6-2. svm를 활용하여 vis1 결측값 예측한 후, 해당 예측값을 결측값을 대체"
   ]
  },
  {
   "cell_type": "code",
   "execution_count": 27,
   "metadata": {},
   "outputs": [],
   "source": [
    "import pandas as pd\n",
    "import numpy as np\n",
    "from sklearn.svm import SVR\n",
    "from sklearn.preprocessing import StandardScaler"
   ]
  },
  {
   "cell_type": "code",
   "execution_count": null,
   "metadata": {},
   "outputs": [],
   "source": [
    "# df_SVM는 class를 svm으로 채운 데이터 셋\n",
    "df_SVM = df.copy()"
   ]
  },
  {
   "cell_type": "code",
   "execution_count": null,
   "metadata": {},
   "outputs": [],
   "source": [
    "# 나중에 비교를 위한\n",
    "# class 분포 확인 함수\n",
    "def count_classes(df_SVM):\n",
    "    return df_SVM['class'].value_counts()\n",
    "\n",
    "# 초기 class 분포\n",
    "initial_class_counts = count_classes(df_SVM)"
   ]
  },
  {
   "cell_type": "code",
   "execution_count": null,
   "metadata": {},
   "outputs": [],
   "source": [
    "# SVM 회귀를 사용하여 vis1의 결측치 예측\n",
    "# 결측치가 아닌 행과 결측치인 행을 구분\n",
    "train_data = df_SVM[df_SVM['vis1'] != -99]\n",
    "test_data = df_SVM[df_SVM['vis1'] == -99]\n",
    "\n",
    "# 제외할 열을 지정하여 feature 선택\n",
    "features = df_SVM.columns.difference(['vis1', 'class'])\n",
    "\n",
    "# 학습을 위한 feature와 target 분리\n",
    "X_train = train_data[features]\n",
    "y_train = train_data['vis1']\n",
    "X_test = test_data[features]\n",
    "\n",
    "# SVM 회귀 모델 학습 및 예측\n",
    "svr = SVR()\n",
    "svr.fit(X_train, y_train)\n",
    "y_pred = svr.predict(X_test)\n",
    "\n",
    "# 예측된 값으로 vis1 결측치 대체\n",
    "df_SVM.loc[df_SVM['vis1'] == -99, 'vis1'] = y_pred  "
   ]
  },
  {
   "cell_type": "code",
   "execution_count": null,
   "metadata": {},
   "outputs": [],
   "source": [
    "# class 분류 함수\n",
    "def classify_visibility(vis1):\n",
    "    if vis1 < 200:\n",
    "        return 1\n",
    "    elif vis1 < 500:\n",
    "        return 2\n",
    "    elif vis1 < 1000:\n",
    "        return 3\n",
    "    else:\n",
    "        return 4\n",
    "\n",
    "# class가 -99인 행에 대해 vis1을 기반으로 class 값 분류\n",
    "df_SVM.loc[df_SVM['class'] == -99, 'class'] = df_SVM.loc[df_SVM['class'] == -99, 'vis1'].apply(classify_visibility)"
   ]
  },
  {
   "cell_type": "code",
   "execution_count": null,
   "metadata": {},
   "outputs": [],
   "source": [
    "# 최종 class 분포\n",
    "final_class_counts = count_classes(df_SVM)\n",
    "\n",
    "# 결과 출력\n",
    "print(\"Initial class counts:\\n\", initial_class_counts)\n",
    "print(\"Final class counts:\\n\", final_class_counts)"
   ]
  },
  {
   "cell_type": "code",
   "execution_count": null,
   "metadata": {},
   "outputs": [],
   "source": [
    "# y_pred 살피면 몇 개씩 예측했는지 나올 듯 "
   ]
  },
  {
   "cell_type": "markdown",
   "metadata": {},
   "source": [
    "## 6-3. 완성된 데이터 셋 저장"
   ]
  },
  {
   "cell_type": "code",
   "execution_count": null,
   "metadata": {},
   "outputs": [],
   "source": [
    "import joblib"
   ]
  },
  {
   "cell_type": "code",
   "execution_count": null,
   "metadata": {},
   "outputs": [
    {
     "data": {
      "text/plain": [
       "['C:\\\\Users\\\\Hong_PC\\\\Desktop\\\\기상청 날씨 빅데이터 공모전\\\\과제2\\\\df_xgr.pkl']"
      ]
     },
     "execution_count": 37,
     "metadata": {},
     "output_type": "execute_result"
    }
   ],
   "source": [
    "# xgr\n",
    "\n",
    "# 노트북\n",
    "# joblib.dump(df_rfr, 'C:\\\\Users\\\\User\\\\Desktop\\\\기상청 날씨 빅데이터 공모전\\\\과제2\\\\df_rfr.pkl')\n",
    "\n",
    "# 데스크탑\n",
    "joblib.dump(df_rfr, \"C:\\\\Users\\\\Hong_PC\\\\Desktop\\\\기상청 날씨 빅데이터 공모전\\\\과제2\\\\df_rfr.pkl\")"
   ]
  },
  {
   "cell_type": "code",
   "execution_count": null,
   "metadata": {},
   "outputs": [],
   "source": [
    "# svm\n",
    "\n",
    "# 노트북\n",
    "# joblib.dump(df_SVM, 'C:\\\\Users\\\\User\\\\Desktop\\\\기상청 날씨 빅데이터 공모전\\\\과제2\\\\df_SVM.pkl')\n",
    "\n",
    "# 데스크탑\n",
    "# joblib.dump(df_SVM, \"C:\\\\Users\\\\Hong_PC\\\\Desktop\\\\기상청 날씨 빅데이터 공모전\\\\과제2\\\\df_SVM.pkl\")\n"
   ]
  },
  {
   "cell_type": "code",
   "execution_count": null,
   "metadata": {},
   "outputs": [],
   "source": [
    "# 이후는 모델 예측"
   ]
  },
  {
   "cell_type": "markdown",
   "metadata": {},
   "source": [
    "# 7. CLASS 예측(분류)"
   ]
  },
  {
   "cell_type": "markdown",
   "metadata": {},
   "source": [
    "## 7-1. RNN"
   ]
  },
  {
   "cell_type": "code",
   "execution_count": null,
   "metadata": {},
   "outputs": [
    {
     "data": {
      "text/html": [
       "<div>\n",
       "<style scoped>\n",
       "    .dataframe tbody tr th:only-of-type {\n",
       "        vertical-align: middle;\n",
       "    }\n",
       "\n",
       "    .dataframe tbody tr th {\n",
       "        vertical-align: top;\n",
       "    }\n",
       "\n",
       "    .dataframe thead th {\n",
       "        text-align: right;\n",
       "    }\n",
       "</style>\n",
       "<table border=\"1\" class=\"dataframe\">\n",
       "  <thead>\n",
       "    <tr style=\"text-align: right;\">\n",
       "      <th></th>\n",
       "      <th>year</th>\n",
       "      <th>month</th>\n",
       "      <th>day</th>\n",
       "      <th>time</th>\n",
       "      <th>minute</th>\n",
       "      <th>ws10_deg</th>\n",
       "      <th>ws10_ms</th>\n",
       "      <th>ta</th>\n",
       "      <th>re</th>\n",
       "      <th>hm</th>\n",
       "      <th>sun10</th>\n",
       "      <th>ts</th>\n",
       "      <th>class</th>\n",
       "      <th>stn_id_5</th>\n",
       "    </tr>\n",
       "  </thead>\n",
       "  <tbody>\n",
       "    <tr>\n",
       "      <th>0</th>\n",
       "      <td>0</td>\n",
       "      <td>1</td>\n",
       "      <td>1</td>\n",
       "      <td>0</td>\n",
       "      <td>10</td>\n",
       "      <td>0.0</td>\n",
       "      <td>0.0</td>\n",
       "      <td>-6.4</td>\n",
       "      <td>0.0</td>\n",
       "      <td>38.9</td>\n",
       "      <td>0.0</td>\n",
       "      <td>-2.8</td>\n",
       "      <td>4</td>\n",
       "      <td>0</td>\n",
       "    </tr>\n",
       "    <tr>\n",
       "      <th>1</th>\n",
       "      <td>0</td>\n",
       "      <td>1</td>\n",
       "      <td>1</td>\n",
       "      <td>0</td>\n",
       "      <td>20</td>\n",
       "      <td>0.0</td>\n",
       "      <td>0.0</td>\n",
       "      <td>-6.3</td>\n",
       "      <td>0.0</td>\n",
       "      <td>37.9</td>\n",
       "      <td>0.0</td>\n",
       "      <td>-2.7</td>\n",
       "      <td>4</td>\n",
       "      <td>0</td>\n",
       "    </tr>\n",
       "    <tr>\n",
       "      <th>2</th>\n",
       "      <td>0</td>\n",
       "      <td>1</td>\n",
       "      <td>1</td>\n",
       "      <td>0</td>\n",
       "      <td>30</td>\n",
       "      <td>0.0</td>\n",
       "      <td>0.0</td>\n",
       "      <td>-6.3</td>\n",
       "      <td>0.0</td>\n",
       "      <td>40.0</td>\n",
       "      <td>0.0</td>\n",
       "      <td>-2.6</td>\n",
       "      <td>4</td>\n",
       "      <td>0</td>\n",
       "    </tr>\n",
       "    <tr>\n",
       "      <th>3</th>\n",
       "      <td>0</td>\n",
       "      <td>1</td>\n",
       "      <td>1</td>\n",
       "      <td>0</td>\n",
       "      <td>40</td>\n",
       "      <td>27.8</td>\n",
       "      <td>0.4</td>\n",
       "      <td>-6.2</td>\n",
       "      <td>0.0</td>\n",
       "      <td>39.5</td>\n",
       "      <td>0.0</td>\n",
       "      <td>-2.6</td>\n",
       "      <td>4</td>\n",
       "      <td>0</td>\n",
       "    </tr>\n",
       "    <tr>\n",
       "      <th>4</th>\n",
       "      <td>0</td>\n",
       "      <td>1</td>\n",
       "      <td>1</td>\n",
       "      <td>0</td>\n",
       "      <td>50</td>\n",
       "      <td>59.7</td>\n",
       "      <td>0.5</td>\n",
       "      <td>-6.1</td>\n",
       "      <td>0.0</td>\n",
       "      <td>39.8</td>\n",
       "      <td>0.0</td>\n",
       "      <td>-2.5</td>\n",
       "      <td>4</td>\n",
       "      <td>0</td>\n",
       "    </tr>\n",
       "    <tr>\n",
       "      <th>...</th>\n",
       "      <td>...</td>\n",
       "      <td>...</td>\n",
       "      <td>...</td>\n",
       "      <td>...</td>\n",
       "      <td>...</td>\n",
       "      <td>...</td>\n",
       "      <td>...</td>\n",
       "      <td>...</td>\n",
       "      <td>...</td>\n",
       "      <td>...</td>\n",
       "      <td>...</td>\n",
       "      <td>...</td>\n",
       "      <td>...</td>\n",
       "      <td>...</td>\n",
       "    </tr>\n",
       "    <tr>\n",
       "      <th>3156454</th>\n",
       "      <td>2</td>\n",
       "      <td>12</td>\n",
       "      <td>31</td>\n",
       "      <td>23</td>\n",
       "      <td>10</td>\n",
       "      <td>305.3</td>\n",
       "      <td>7.7</td>\n",
       "      <td>2.5</td>\n",
       "      <td>0.0</td>\n",
       "      <td>50.2</td>\n",
       "      <td>0.0</td>\n",
       "      <td>-0.9</td>\n",
       "      <td>4</td>\n",
       "      <td>4</td>\n",
       "    </tr>\n",
       "    <tr>\n",
       "      <th>3156455</th>\n",
       "      <td>2</td>\n",
       "      <td>12</td>\n",
       "      <td>31</td>\n",
       "      <td>23</td>\n",
       "      <td>20</td>\n",
       "      <td>293.8</td>\n",
       "      <td>5.7</td>\n",
       "      <td>2.3</td>\n",
       "      <td>0.0</td>\n",
       "      <td>50.1</td>\n",
       "      <td>0.0</td>\n",
       "      <td>-1.3</td>\n",
       "      <td>4</td>\n",
       "      <td>4</td>\n",
       "    </tr>\n",
       "    <tr>\n",
       "      <th>3156456</th>\n",
       "      <td>2</td>\n",
       "      <td>12</td>\n",
       "      <td>31</td>\n",
       "      <td>23</td>\n",
       "      <td>30</td>\n",
       "      <td>274.2</td>\n",
       "      <td>4.9</td>\n",
       "      <td>2.2</td>\n",
       "      <td>0.0</td>\n",
       "      <td>51.0</td>\n",
       "      <td>0.0</td>\n",
       "      <td>-1.4</td>\n",
       "      <td>4</td>\n",
       "      <td>4</td>\n",
       "    </tr>\n",
       "    <tr>\n",
       "      <th>3156457</th>\n",
       "      <td>2</td>\n",
       "      <td>12</td>\n",
       "      <td>31</td>\n",
       "      <td>23</td>\n",
       "      <td>40</td>\n",
       "      <td>270.3</td>\n",
       "      <td>4.6</td>\n",
       "      <td>2.1</td>\n",
       "      <td>0.0</td>\n",
       "      <td>51.7</td>\n",
       "      <td>0.0</td>\n",
       "      <td>-1.6</td>\n",
       "      <td>4</td>\n",
       "      <td>4</td>\n",
       "    </tr>\n",
       "    <tr>\n",
       "      <th>3156458</th>\n",
       "      <td>2</td>\n",
       "      <td>12</td>\n",
       "      <td>31</td>\n",
       "      <td>23</td>\n",
       "      <td>50</td>\n",
       "      <td>254.8</td>\n",
       "      <td>4.1</td>\n",
       "      <td>2.1</td>\n",
       "      <td>0.0</td>\n",
       "      <td>53.3</td>\n",
       "      <td>0.0</td>\n",
       "      <td>-1.7</td>\n",
       "      <td>4</td>\n",
       "      <td>4</td>\n",
       "    </tr>\n",
       "  </tbody>\n",
       "</table>\n",
       "<p>2994850 rows × 14 columns</p>\n",
       "</div>"
      ],
      "text/plain": [
       "         year  month  day  time  minute  ws10_deg  ws10_ms   ta   re    hm  \\\n",
       "0           0      1    1     0      10       0.0      0.0 -6.4  0.0  38.9   \n",
       "1           0      1    1     0      20       0.0      0.0 -6.3  0.0  37.9   \n",
       "2           0      1    1     0      30       0.0      0.0 -6.3  0.0  40.0   \n",
       "3           0      1    1     0      40      27.8      0.4 -6.2  0.0  39.5   \n",
       "4           0      1    1     0      50      59.7      0.5 -6.1  0.0  39.8   \n",
       "...       ...    ...  ...   ...     ...       ...      ...  ...  ...   ...   \n",
       "3156454     2     12   31    23      10     305.3      7.7  2.5  0.0  50.2   \n",
       "3156455     2     12   31    23      20     293.8      5.7  2.3  0.0  50.1   \n",
       "3156456     2     12   31    23      30     274.2      4.9  2.2  0.0  51.0   \n",
       "3156457     2     12   31    23      40     270.3      4.6  2.1  0.0  51.7   \n",
       "3156458     2     12   31    23      50     254.8      4.1  2.1  0.0  53.3   \n",
       "\n",
       "         sun10   ts  class  stn_id_5  \n",
       "0          0.0 -2.8      4         0  \n",
       "1          0.0 -2.7      4         0  \n",
       "2          0.0 -2.6      4         0  \n",
       "3          0.0 -2.6      4         0  \n",
       "4          0.0 -2.5      4         0  \n",
       "...        ...  ...    ...       ...  \n",
       "3156454    0.0 -0.9      4         4  \n",
       "3156455    0.0 -1.3      4         4  \n",
       "3156456    0.0 -1.4      4         4  \n",
       "3156457    0.0 -1.6      4         4  \n",
       "3156458    0.0 -1.7      4         4  \n",
       "\n",
       "[2994850 rows x 14 columns]"
      ]
     },
     "execution_count": 17,
     "metadata": {},
     "output_type": "execute_result"
    }
   ],
   "source": [
    "df2"
   ]
  },
  {
   "cell_type": "code",
   "execution_count": null,
   "metadata": {},
   "outputs": [],
   "source": [
    "import numpy as np\n",
    "import pandas as pd\n",
    "import matplotlib.pyplot as plt\n",
    "from sklearn.preprocessing import MinMaxScaler\n",
    "from sklearn.metrics import classification_report, balanced_accuracy_score, confusion_matrix, accuracy_score\n",
    "from keras.models import Sequential\n",
    "from keras.layers import LSTM, Dense\n",
    "from keras.callbacks import EarlyStopping\n",
    "from keras.utils import to_categorical\n",
    "import seaborn as sns"
   ]
  },
  {
   "cell_type": "code",
   "execution_count": null,
   "metadata": {},
   "outputs": [],
   "source": [
    "# 특성과 타겟 정의\n",
    "features = df2.drop(['class'], axis=1).values.astype('float32')\n",
    "target = df2['class'].values\n",
    "\n",
    "# 타겟 원-핫 인코딩\n",
    "target_encoded = to_categorical(target - 1)  # assuming class labels are 1 to 4\n",
    "\n",
    "# 데이터 정규화\n",
    "scaler = MinMaxScaler()\n",
    "features_scaled = scaler.fit_transform(features)"
   ]
  },
  {
   "cell_type": "code",
   "execution_count": null,
   "metadata": {},
   "outputs": [],
   "source": [
    "# 시퀀스 데이터 생성 함수\n",
    "def create_sequences(data, target, sequence_length):\n",
    "    sequences = []\n",
    "    labels = []\n",
    "    for i in range(len(data) - sequence_length):\n",
    "        sequences.append(data[i:i + sequence_length])\n",
    "        labels.append(target[i + sequence_length])\n",
    "    return np.array(sequences, dtype=np.float32), np.array(labels, dtype=np.float32)\n",
    "\n",
    "# 시퀀스 길이 정의\n",
    "sequence_length = 4320  # 1달을 기준으로 30개 타임스텝을 사용"
   ]
  },
  {
   "cell_type": "code",
   "execution_count": null,
   "metadata": {},
   "outputs": [
    {
     "ename": "MemoryError",
     "evalue": "Unable to allocate 626. GiB for an array with shape (2990530, 4320, 13) and data type float32",
     "output_type": "error",
     "traceback": [
      "\u001b[1;31m---------------------------------------------------------------------------\u001b[0m",
      "\u001b[1;31mMemoryError\u001b[0m                               Traceback (most recent call last)",
      "Cell \u001b[1;32mIn[25], line 2\u001b[0m\n\u001b[0;32m      1\u001b[0m \u001b[38;5;66;03m# 시퀀스 데이터 생성\u001b[39;00m\n\u001b[1;32m----> 2\u001b[0m X, y \u001b[38;5;241m=\u001b[39m \u001b[43mcreate_sequences\u001b[49m\u001b[43m(\u001b[49m\u001b[43mfeatures_scaled\u001b[49m\u001b[43m,\u001b[49m\u001b[43m \u001b[49m\u001b[43mtarget_encoded\u001b[49m\u001b[43m,\u001b[49m\u001b[43m \u001b[49m\u001b[43msequence_length\u001b[49m\u001b[43m)\u001b[49m\n\u001b[0;32m      4\u001b[0m \u001b[38;5;66;03m# 학습 데이터와 테스트 데이터 분리\u001b[39;00m\n\u001b[0;32m      5\u001b[0m split \u001b[38;5;241m=\u001b[39m \u001b[38;5;28mint\u001b[39m(\u001b[38;5;241m0.8\u001b[39m \u001b[38;5;241m*\u001b[39m \u001b[38;5;28mlen\u001b[39m(X))\n",
      "Cell \u001b[1;32mIn[23], line 8\u001b[0m, in \u001b[0;36mcreate_sequences\u001b[1;34m(data, target, sequence_length)\u001b[0m\n\u001b[0;32m      6\u001b[0m     sequences\u001b[38;5;241m.\u001b[39mappend(data[i:i \u001b[38;5;241m+\u001b[39m sequence_length])\n\u001b[0;32m      7\u001b[0m     labels\u001b[38;5;241m.\u001b[39mappend(target[i \u001b[38;5;241m+\u001b[39m sequence_length])\n\u001b[1;32m----> 8\u001b[0m \u001b[38;5;28;01mreturn\u001b[39;00m \u001b[43mnp\u001b[49m\u001b[38;5;241;43m.\u001b[39;49m\u001b[43marray\u001b[49m\u001b[43m(\u001b[49m\u001b[43msequences\u001b[49m\u001b[43m,\u001b[49m\u001b[43m \u001b[49m\u001b[43mdtype\u001b[49m\u001b[38;5;241;43m=\u001b[39;49m\u001b[43mnp\u001b[49m\u001b[38;5;241;43m.\u001b[39;49m\u001b[43mfloat32\u001b[49m\u001b[43m)\u001b[49m, np\u001b[38;5;241m.\u001b[39marray(labels, dtype\u001b[38;5;241m=\u001b[39mnp\u001b[38;5;241m.\u001b[39mfloat32)\n",
      "\u001b[1;31mMemoryError\u001b[0m: Unable to allocate 626. GiB for an array with shape (2990530, 4320, 13) and data type float32"
     ]
    }
   ],
   "source": [
    "# 시퀀스 데이터 생성\n",
    "X, y = create_sequences(features_scaled, target_encoded, sequence_length)\n",
    "\n",
    "# 학습 데이터와 테스트 데이터 분리\n",
    "split = int(0.8 * len(X))\n",
    "X_train, X_test = X[:split], X[split:]\n",
    "y_train, y_test = y[:split], y[split:]"
   ]
  },
  {
   "cell_type": "code",
   "execution_count": 50,
   "metadata": {},
   "outputs": [
    {
     "ename": "NameError",
     "evalue": "name 'Sequential' is not defined",
     "output_type": "error",
     "traceback": [
      "\u001b[1;31m---------------------------------------------------------------------------\u001b[0m",
      "\u001b[1;31mNameError\u001b[0m                                 Traceback (most recent call last)",
      "Input \u001b[1;32mIn [50]\u001b[0m, in \u001b[0;36m<cell line: 2>\u001b[1;34m()\u001b[0m\n\u001b[0;32m      1\u001b[0m \u001b[38;5;66;03m# LSTM 모델 정의\u001b[39;00m\n\u001b[1;32m----> 2\u001b[0m model \u001b[38;5;241m=\u001b[39m \u001b[43mSequential\u001b[49m()\n\u001b[0;32m      3\u001b[0m model\u001b[38;5;241m.\u001b[39madd(LSTM(\u001b[38;5;241m50\u001b[39m, input_shape\u001b[38;5;241m=\u001b[39m(sequence_length, X\u001b[38;5;241m.\u001b[39mshape[\u001b[38;5;241m2\u001b[39m]), return_sequences\u001b[38;5;241m=\u001b[39m\u001b[38;5;28;01mFalse\u001b[39;00m))\n\u001b[0;32m      4\u001b[0m model\u001b[38;5;241m.\u001b[39madd(Dense(\u001b[38;5;241m4\u001b[39m, activation\u001b[38;5;241m=\u001b[39m\u001b[38;5;124m'\u001b[39m\u001b[38;5;124msoftmax\u001b[39m\u001b[38;5;124m'\u001b[39m))  \u001b[38;5;66;03m# 다중 분류를 위한 softmax 활성화 함수\u001b[39;00m\n",
      "\u001b[1;31mNameError\u001b[0m: name 'Sequential' is not defined"
     ]
    }
   ],
   "source": [
    "from tensorflow.keras.metrics import Precision, Recall\n",
    "\n",
    "# LSTM 모델 정의\n",
    "model = Sequential()\n",
    "model.add(LSTM(50, input_shape=(sequence_length, X.shape[2]), return_sequences=False))\n",
    "model.add(Dense(4, activation='softmax'))  # 다중 분류를 위한 softmax 활성화 함수\n",
    "\n",
    "# 모델 컴파일\n",
    "model.compile(optimizer='adam', loss='categorical_crossentropy', metrics=['accuracy', Precision(), Recall()])\n",
    "\n",
    "# 얼리스타핑 콜백 정의\n",
    "early_stopping = EarlyStopping(monitor='val_loss', \n",
    "                               patience=3, \n",
    "                               verbose=1, # 로그출력\n",
    "                               restore_best_weights=True)\n",
    "\n",
    "# 모델 학습\n",
    "history = model.fit(X_train, y_train, epochs=50, batch_size=64, validation_split=0.2, callbacks=[early_stopping])\n",
    "\n",
    "# 모델 평가\n",
    "test_loss, test_accuracy = model.evaluate(X_test, y_test)\n",
    "print(f'Test Loss: {test_loss}, Test Accuracy: {test_accuracy}')"
   ]
  },
  {
   "cell_type": "code",
   "execution_count": null,
   "metadata": {},
   "outputs": [
    {
     "name": "stdout",
     "output_type": "stream",
     "text": [
      "18718/18718 [==============================] - 86s 5ms/step\n",
      "Balanced Accuracy: 0.24999957803058434\n"
     ]
    },
    {
     "name": "stderr",
     "output_type": "stream",
     "text": [
      "c:\\Users\\Hong_PC\\anaconda3\\lib\\site-packages\\sklearn\\metrics\\_classification.py:1469: UndefinedMetricWarning: Precision and F-score are ill-defined and being set to 0.0 in labels with no predicted samples. Use `zero_division` parameter to control this behavior.\n",
      "  _warn_prf(average, modifier, msg_start, len(result))\n",
      "c:\\Users\\Hong_PC\\anaconda3\\lib\\site-packages\\sklearn\\metrics\\_classification.py:1469: UndefinedMetricWarning: Precision and F-score are ill-defined and being set to 0.0 in labels with no predicted samples. Use `zero_division` parameter to control this behavior.\n",
      "  _warn_prf(average, modifier, msg_start, len(result))\n",
      "c:\\Users\\Hong_PC\\anaconda3\\lib\\site-packages\\sklearn\\metrics\\_classification.py:1469: UndefinedMetricWarning: Precision and F-score are ill-defined and being set to 0.0 in labels with no predicted samples. Use `zero_division` parameter to control this behavior.\n",
      "  _warn_prf(average, modifier, msg_start, len(result))\n"
     ]
    },
    {
     "name": "stdout",
     "output_type": "stream",
     "text": [
      "              precision    recall  f1-score   support\n",
      "\n",
      "           0       0.00      0.00      0.00      1663\n",
      "           1       0.00      0.00      0.00      2689\n",
      "           2       0.00      0.00      0.00      2152\n",
      "           3       0.99      1.00      0.99    592460\n",
      "\n",
      "    accuracy                           0.99    598964\n",
      "   macro avg       0.25      0.25      0.25    598964\n",
      "weighted avg       0.98      0.99      0.98    598964\n",
      "\n"
     ]
    },
    {
     "data": {
      "image/png": "[encoded data removed]",
      "text/plain": [
       "<Figure size 1200x600 with 2 Axes>"
      ]
     },
     "metadata": {},
     "output_type": "display_data"
    }
   ],
   "source": [
    "# 예측\n",
    "y_pred = model.predict(X_test)\n",
    "y_pred_classes = np.argmax(y_pred, axis=1)\n",
    "y_true_classes = np.argmax(y_test, axis=1)\n",
    "\n",
    "# balanced accuracy 계산\n",
    "balanced_acc = balanced_accuracy_score(y_true_classes, y_pred_classes)\n",
    "print(f'Balanced Accuracy: {balanced_acc}')\n",
    "\n",
    "# 분류 보고서 출력\n",
    "print(classification_report(y_true_classes, y_pred_classes))\n",
    "\n",
    "# CSI 반영\n",
    "y_true = y_true_classes\n",
    "\n",
    "# 혼동 행렬 생성\n",
    "conf_matrix = confusion_matrix(y_true, y_pred_classes)\n",
    "\n",
    "# ACC 및 Balanced ACC 계산\n",
    "acc = accuracy_score(y_true, y_pred_classes)\n",
    "balanced_acc = balanced_accuracy_score(y_true, y_pred_classes)\n",
    "\n",
    "# CSI 계산\n",
    "H = np.diag(conf_matrix)\n",
    "F = np.sum(conf_matrix, axis=0) - H\n",
    "M = np.sum(conf_matrix, axis=1) - H\n",
    "CSI = np.where((H + F + M) != 0, H / (H + F + M), 0)  # 분모가 0이 되는 것을 방지\n",
    "mean_CSI = np.mean(CSI)\n",
    "\n",
    "# 결과 출력\n",
    "print(f'Accuracy: {acc}')\n",
    "print(f'Balanced Accuracy: {balanced_acc}')\n",
    "print(f'CSI per class: {CSI}')\n",
    "print(f'Mean CSI: {mean_CSI}')"
   ]
  },
  {
   "cell_type": "code",
   "execution_count": null,
   "metadata": {},
   "outputs": [
    {
     "ename": "ValueError",
     "evalue": "Classification metrics can't handle a mix of multiclass and continuous-multioutput targets",
     "output_type": "error",
     "traceback": [
      "\u001b[1;31m---------------------------------------------------------------------------\u001b[0m",
      "\u001b[1;31mValueError\u001b[0m                                Traceback (most recent call last)",
      "Cell \u001b[1;32mIn[27], line 7\u001b[0m\n\u001b[0;32m      4\u001b[0m y_true \u001b[38;5;241m=\u001b[39m y_true_classes\n\u001b[0;32m      6\u001b[0m \u001b[38;5;66;03m# 혼동 행렬 생성\u001b[39;00m\n\u001b[1;32m----> 7\u001b[0m conf_matrix \u001b[38;5;241m=\u001b[39m \u001b[43mconfusion_matrix\u001b[49m\u001b[43m(\u001b[49m\u001b[43my_true\u001b[49m\u001b[43m,\u001b[49m\u001b[43m \u001b[49m\u001b[43my_pred\u001b[49m\u001b[43m)\u001b[49m\n\u001b[0;32m      9\u001b[0m \u001b[38;5;66;03m# ACC 및 Balanced ACC 계산\u001b[39;00m\n\u001b[0;32m     10\u001b[0m acc \u001b[38;5;241m=\u001b[39m accuracy_score(y_true, y_pred)\n",
      "File \u001b[1;32mc:\\Users\\Hong_PC\\anaconda3\\lib\\site-packages\\sklearn\\utils\\_param_validation.py:211\u001b[0m, in \u001b[0;36mvalidate_params.<locals>.decorator.<locals>.wrapper\u001b[1;34m(*args, **kwargs)\u001b[0m\n\u001b[0;32m    205\u001b[0m \u001b[38;5;28;01mtry\u001b[39;00m:\n\u001b[0;32m    206\u001b[0m     \u001b[38;5;28;01mwith\u001b[39;00m config_context(\n\u001b[0;32m    207\u001b[0m         skip_parameter_validation\u001b[38;5;241m=\u001b[39m(\n\u001b[0;32m    208\u001b[0m             prefer_skip_nested_validation \u001b[38;5;129;01mor\u001b[39;00m global_skip_validation\n\u001b[0;32m    209\u001b[0m         )\n\u001b[0;32m    210\u001b[0m     ):\n\u001b[1;32m--> 211\u001b[0m         \u001b[38;5;28;01mreturn\u001b[39;00m func(\u001b[38;5;241m*\u001b[39margs, \u001b[38;5;241m*\u001b[39m\u001b[38;5;241m*\u001b[39mkwargs)\n\u001b[0;32m    212\u001b[0m \u001b[38;5;28;01mexcept\u001b[39;00m InvalidParameterError \u001b[38;5;28;01mas\u001b[39;00m e:\n\u001b[0;32m    213\u001b[0m     \u001b[38;5;66;03m# When the function is just a wrapper around an estimator, we allow\u001b[39;00m\n\u001b[0;32m    214\u001b[0m     \u001b[38;5;66;03m# the function to delegate validation to the estimator, but we replace\u001b[39;00m\n\u001b[0;32m    215\u001b[0m     \u001b[38;5;66;03m# the name of the estimator by the name of the function in the error\u001b[39;00m\n\u001b[0;32m    216\u001b[0m     \u001b[38;5;66;03m# message to avoid confusion.\u001b[39;00m\n\u001b[0;32m    217\u001b[0m     msg \u001b[38;5;241m=\u001b[39m re\u001b[38;5;241m.\u001b[39msub(\n\u001b[0;32m    218\u001b[0m         \u001b[38;5;124mr\u001b[39m\u001b[38;5;124m\"\u001b[39m\u001b[38;5;124mparameter of \u001b[39m\u001b[38;5;124m\\\u001b[39m\u001b[38;5;124mw+ must be\u001b[39m\u001b[38;5;124m\"\u001b[39m,\n\u001b[0;32m    219\u001b[0m         \u001b[38;5;124mf\u001b[39m\u001b[38;5;124m\"\u001b[39m\u001b[38;5;124mparameter of \u001b[39m\u001b[38;5;132;01m{\u001b[39;00mfunc\u001b[38;5;241m.\u001b[39m\u001b[38;5;18m__qualname__\u001b[39m\u001b[38;5;132;01m}\u001b[39;00m\u001b[38;5;124m must be\u001b[39m\u001b[38;5;124m\"\u001b[39m,\n\u001b[0;32m    220\u001b[0m         \u001b[38;5;28mstr\u001b[39m(e),\n\u001b[0;32m    221\u001b[0m     )\n",
      "File \u001b[1;32mc:\\Users\\Hong_PC\\anaconda3\\lib\\site-packages\\sklearn\\metrics\\_classification.py:326\u001b[0m, in \u001b[0;36mconfusion_matrix\u001b[1;34m(y_true, y_pred, labels, sample_weight, normalize)\u001b[0m\n\u001b[0;32m    231\u001b[0m \u001b[38;5;129m@validate_params\u001b[39m(\n\u001b[0;32m    232\u001b[0m     {\n\u001b[0;32m    233\u001b[0m         \u001b[38;5;124m\"\u001b[39m\u001b[38;5;124my_true\u001b[39m\u001b[38;5;124m\"\u001b[39m: [\u001b[38;5;124m\"\u001b[39m\u001b[38;5;124marray-like\u001b[39m\u001b[38;5;124m\"\u001b[39m],\n\u001b[1;32m   (...)\u001b[0m\n\u001b[0;32m    242\u001b[0m     y_true, y_pred, \u001b[38;5;241m*\u001b[39m, labels\u001b[38;5;241m=\u001b[39m\u001b[38;5;28;01mNone\u001b[39;00m, sample_weight\u001b[38;5;241m=\u001b[39m\u001b[38;5;28;01mNone\u001b[39;00m, normalize\u001b[38;5;241m=\u001b[39m\u001b[38;5;28;01mNone\u001b[39;00m\n\u001b[0;32m    243\u001b[0m ):\n\u001b[0;32m    244\u001b[0m \u001b[38;5;250m    \u001b[39m\u001b[38;5;124;03m\"\"\"Compute confusion matrix to evaluate the accuracy of a classification.\u001b[39;00m\n\u001b[0;32m    245\u001b[0m \n\u001b[0;32m    246\u001b[0m \u001b[38;5;124;03m    By definition a confusion matrix :math:`C` is such that :math:`C_{i, j}`\u001b[39;00m\n\u001b[1;32m   (...)\u001b[0m\n\u001b[0;32m    324\u001b[0m \u001b[38;5;124;03m    (0, 2, 1, 1)\u001b[39;00m\n\u001b[0;32m    325\u001b[0m \u001b[38;5;124;03m    \"\"\"\u001b[39;00m\n\u001b[1;32m--> 326\u001b[0m     y_type, y_true, y_pred \u001b[38;5;241m=\u001b[39m \u001b[43m_check_targets\u001b[49m\u001b[43m(\u001b[49m\u001b[43my_true\u001b[49m\u001b[43m,\u001b[49m\u001b[43m \u001b[49m\u001b[43my_pred\u001b[49m\u001b[43m)\u001b[49m\n\u001b[0;32m    327\u001b[0m     \u001b[38;5;28;01mif\u001b[39;00m y_type \u001b[38;5;129;01mnot\u001b[39;00m \u001b[38;5;129;01min\u001b[39;00m (\u001b[38;5;124m\"\u001b[39m\u001b[38;5;124mbinary\u001b[39m\u001b[38;5;124m\"\u001b[39m, \u001b[38;5;124m\"\u001b[39m\u001b[38;5;124mmulticlass\u001b[39m\u001b[38;5;124m\"\u001b[39m):\n\u001b[0;32m    328\u001b[0m         \u001b[38;5;28;01mraise\u001b[39;00m \u001b[38;5;167;01mValueError\u001b[39;00m(\u001b[38;5;124m\"\u001b[39m\u001b[38;5;132;01m%s\u001b[39;00m\u001b[38;5;124m is not supported\u001b[39m\u001b[38;5;124m\"\u001b[39m \u001b[38;5;241m%\u001b[39m y_type)\n",
      "File \u001b[1;32mc:\\Users\\Hong_PC\\anaconda3\\lib\\site-packages\\sklearn\\metrics\\_classification.py:93\u001b[0m, in \u001b[0;36m_check_targets\u001b[1;34m(y_true, y_pred)\u001b[0m\n\u001b[0;32m     90\u001b[0m     y_type \u001b[38;5;241m=\u001b[39m {\u001b[38;5;124m\"\u001b[39m\u001b[38;5;124mmulticlass\u001b[39m\u001b[38;5;124m\"\u001b[39m}\n\u001b[0;32m     92\u001b[0m \u001b[38;5;28;01mif\u001b[39;00m \u001b[38;5;28mlen\u001b[39m(y_type) \u001b[38;5;241m>\u001b[39m \u001b[38;5;241m1\u001b[39m:\n\u001b[1;32m---> 93\u001b[0m     \u001b[38;5;28;01mraise\u001b[39;00m \u001b[38;5;167;01mValueError\u001b[39;00m(\n\u001b[0;32m     94\u001b[0m         \u001b[38;5;124m\"\u001b[39m\u001b[38;5;124mClassification metrics can\u001b[39m\u001b[38;5;124m'\u001b[39m\u001b[38;5;124mt handle a mix of \u001b[39m\u001b[38;5;132;01m{0}\u001b[39;00m\u001b[38;5;124m and \u001b[39m\u001b[38;5;132;01m{1}\u001b[39;00m\u001b[38;5;124m targets\u001b[39m\u001b[38;5;124m\"\u001b[39m\u001b[38;5;241m.\u001b[39mformat(\n\u001b[0;32m     95\u001b[0m             type_true, type_pred\n\u001b[0;32m     96\u001b[0m         )\n\u001b[0;32m     97\u001b[0m     )\n\u001b[0;32m     99\u001b[0m \u001b[38;5;66;03m# We can't have more than one value on y_type => The set is no more needed\u001b[39;00m\n\u001b[0;32m    100\u001b[0m y_type \u001b[38;5;241m=\u001b[39m y_type\u001b[38;5;241m.\u001b[39mpop()\n",
      "\u001b[1;31mValueError\u001b[0m: Classification metrics can't handle a mix of multiclass and continuous-multioutput targets"
     ]
    }
   ],
   "source": [
    "# 학습 및 검증 손실 그래프\n",
    "plt.figure(figsize=(12, 6))\n",
    "\n",
    "# Loss 그래프\n",
    "plt.subplot(1, 2, 1)\n",
    "plt.plot(history.history['loss'], label='Training Loss')\n",
    "plt.plot(history.history['val_loss'], label='Validation Loss')\n",
    "plt.title('Training and Validation Loss')\n",
    "plt.xlabel('Epochs')\n",
    "plt.ylabel('Loss')\n",
    "plt.legend()\n",
    "\n",
    "# Accuracy 그래프\n",
    "plt.subplot(1, 2, 2)\n",
    "plt.plot(history.history['accuracy'], label='Training Accuracy')\n",
    "plt.plot(history.history['val_accuracy'], label='Validation Accuracy')\n",
    "plt.title('Training and Validation Accuracy')\n",
    "plt.xlabel('Epochs')\n",
    "plt.ylabel('Accuracy')\n",
    "plt.legend()\n",
    "\n",
    "plt.tight_layout()\n",
    "plt.show()\n",
    "\n",
    "# 혼동 행렬 그래프\n",
    "plt.figure(figsize=(8, 6))\n",
    "sns.heatmap(conf_matrix, annot=True, fmt='d', cmap='Blues', xticklabels=[1, 2, 3, 4], yticklabels=[1, 2, 3, 4])\n",
    "plt.title('Confusion Matrix')\n",
    "plt.xlabel('Predicted Class')\n",
    "plt.ylabel('True Class')\n",
    "plt.show()"
   ]
  },
  {
   "cell_type": "markdown",
   "metadata": {},
   "source": [
    "## 7-2. RF"
   ]
  },
  {
   "cell_type": "code",
   "execution_count": null,
   "metadata": {},
   "outputs": [],
   "source": []
  },
  {
   "cell_type": "code",
   "execution_count": null,
   "metadata": {},
   "outputs": [],
   "source": []
  },
  {
   "cell_type": "code",
   "execution_count": null,
   "metadata": {},
   "outputs": [],
   "source": []
  },
  {
   "cell_type": "code",
   "execution_count": null,
   "metadata": {},
   "outputs": [],
   "source": []
  },
  {
   "cell_type": "code",
   "execution_count": null,
   "metadata": {},
   "outputs": [],
   "source": []
  },
  {
   "cell_type": "code",
   "execution_count": null,
   "metadata": {},
   "outputs": [],
   "source": []
  },
  {
   "cell_type": "markdown",
   "metadata": {},
   "source": [
    "# 8. VIS1 예측(회귀)"
   ]
  },
  {
   "cell_type": "code",
   "execution_count": 33,
   "metadata": {},
   "outputs": [],
   "source": [
    "df = df_rfr.copy()"
   ]
  },
  {
   "cell_type": "code",
   "execution_count": 39,
   "metadata": {},
   "outputs": [
    {
     "name": "stdout",
     "output_type": "stream",
     "text": [
      "(3156459, 15)\n",
      "(0, 15)\n"
     ]
    }
   ],
   "source": [
    "print(df[(df['vis1']!='2000')].shape)\n",
    "print(df[(df['vis1']=='2000')].shape)"
   ]
  },
  {
   "cell_type": "markdown",
   "metadata": {},
   "source": [
    "**파생변수** "
   ]
  },
  {
   "cell_type": "code",
   "execution_count": 52,
   "metadata": {},
   "outputs": [
    {
     "data": {
      "text/html": [
       "<div>\n",
       "<style scoped>\n",
       "    .dataframe tbody tr th:only-of-type {\n",
       "        vertical-align: middle;\n",
       "    }\n",
       "\n",
       "    .dataframe tbody tr th {\n",
       "        vertical-align: top;\n",
       "    }\n",
       "\n",
       "    .dataframe thead th {\n",
       "        text-align: right;\n",
       "    }\n",
       "</style>\n",
       "<table border=\"1\" class=\"dataframe\">\n",
       "  <thead>\n",
       "    <tr style=\"text-align: right;\">\n",
       "      <th></th>\n",
       "      <th>year</th>\n",
       "      <th>month</th>\n",
       "      <th>day</th>\n",
       "      <th>time</th>\n",
       "      <th>minute</th>\n",
       "      <th>stn_id</th>\n",
       "      <th>ws10_deg</th>\n",
       "      <th>ws10_ms</th>\n",
       "      <th>ta</th>\n",
       "      <th>re</th>\n",
       "      <th>hm</th>\n",
       "      <th>sun10</th>\n",
       "      <th>ts</th>\n",
       "      <th>vis1</th>\n",
       "      <th>class</th>\n",
       "      <th>dew_point</th>\n",
       "      <th>season</th>\n",
       "    </tr>\n",
       "  </thead>\n",
       "  <tbody>\n",
       "    <tr>\n",
       "      <th>1</th>\n",
       "      <td>0</td>\n",
       "      <td>1</td>\n",
       "      <td>1</td>\n",
       "      <td>0</td>\n",
       "      <td>10</td>\n",
       "      <td>0</td>\n",
       "      <td>0.0</td>\n",
       "      <td>0.0</td>\n",
       "      <td>-6.4</td>\n",
       "      <td>0.0</td>\n",
       "      <td>38.9</td>\n",
       "      <td>0.0</td>\n",
       "      <td>-2.8</td>\n",
       "      <td>20000.0</td>\n",
       "      <td>4</td>\n",
       "      <td>-18.083476</td>\n",
       "      <td>3</td>\n",
       "    </tr>\n",
       "    <tr>\n",
       "      <th>2</th>\n",
       "      <td>0</td>\n",
       "      <td>1</td>\n",
       "      <td>1</td>\n",
       "      <td>0</td>\n",
       "      <td>20</td>\n",
       "      <td>0</td>\n",
       "      <td>0.0</td>\n",
       "      <td>0.0</td>\n",
       "      <td>-6.3</td>\n",
       "      <td>0.0</td>\n",
       "      <td>37.9</td>\n",
       "      <td>0.0</td>\n",
       "      <td>-2.7</td>\n",
       "      <td>20000.0</td>\n",
       "      <td>4</td>\n",
       "      <td>-18.299136</td>\n",
       "      <td>3</td>\n",
       "    </tr>\n",
       "    <tr>\n",
       "      <th>3</th>\n",
       "      <td>0</td>\n",
       "      <td>1</td>\n",
       "      <td>1</td>\n",
       "      <td>0</td>\n",
       "      <td>30</td>\n",
       "      <td>0</td>\n",
       "      <td>0.0</td>\n",
       "      <td>0.0</td>\n",
       "      <td>-6.3</td>\n",
       "      <td>0.0</td>\n",
       "      <td>40.0</td>\n",
       "      <td>0.0</td>\n",
       "      <td>-2.6</td>\n",
       "      <td>20000.0</td>\n",
       "      <td>4</td>\n",
       "      <td>-17.664937</td>\n",
       "      <td>3</td>\n",
       "    </tr>\n",
       "    <tr>\n",
       "      <th>4</th>\n",
       "      <td>0</td>\n",
       "      <td>1</td>\n",
       "      <td>1</td>\n",
       "      <td>0</td>\n",
       "      <td>40</td>\n",
       "      <td>0</td>\n",
       "      <td>27.8</td>\n",
       "      <td>0.4</td>\n",
       "      <td>-6.2</td>\n",
       "      <td>0.0</td>\n",
       "      <td>39.5</td>\n",
       "      <td>0.0</td>\n",
       "      <td>-2.6</td>\n",
       "      <td>20000.0</td>\n",
       "      <td>4</td>\n",
       "      <td>-17.722897</td>\n",
       "      <td>3</td>\n",
       "    </tr>\n",
       "    <tr>\n",
       "      <th>5</th>\n",
       "      <td>0</td>\n",
       "      <td>1</td>\n",
       "      <td>1</td>\n",
       "      <td>0</td>\n",
       "      <td>50</td>\n",
       "      <td>0</td>\n",
       "      <td>59.7</td>\n",
       "      <td>0.5</td>\n",
       "      <td>-6.1</td>\n",
       "      <td>0.0</td>\n",
       "      <td>39.8</td>\n",
       "      <td>0.0</td>\n",
       "      <td>-2.5</td>\n",
       "      <td>20000.0</td>\n",
       "      <td>4</td>\n",
       "      <td>-17.543307</td>\n",
       "      <td>3</td>\n",
       "    </tr>\n",
       "    <tr>\n",
       "      <th>...</th>\n",
       "      <td>...</td>\n",
       "      <td>...</td>\n",
       "      <td>...</td>\n",
       "      <td>...</td>\n",
       "      <td>...</td>\n",
       "      <td>...</td>\n",
       "      <td>...</td>\n",
       "      <td>...</td>\n",
       "      <td>...</td>\n",
       "      <td>...</td>\n",
       "      <td>...</td>\n",
       "      <td>...</td>\n",
       "      <td>...</td>\n",
       "      <td>...</td>\n",
       "      <td>...</td>\n",
       "      <td>...</td>\n",
       "      <td>...</td>\n",
       "    </tr>\n",
       "    <tr>\n",
       "      <th>3156455</th>\n",
       "      <td>2</td>\n",
       "      <td>12</td>\n",
       "      <td>31</td>\n",
       "      <td>23</td>\n",
       "      <td>10</td>\n",
       "      <td>4</td>\n",
       "      <td>305.3</td>\n",
       "      <td>7.7</td>\n",
       "      <td>2.5</td>\n",
       "      <td>0.0</td>\n",
       "      <td>50.2</td>\n",
       "      <td>0.0</td>\n",
       "      <td>-0.9</td>\n",
       "      <td>20000.0</td>\n",
       "      <td>4</td>\n",
       "      <td>-6.810493</td>\n",
       "      <td>3</td>\n",
       "    </tr>\n",
       "    <tr>\n",
       "      <th>3156456</th>\n",
       "      <td>2</td>\n",
       "      <td>12</td>\n",
       "      <td>31</td>\n",
       "      <td>23</td>\n",
       "      <td>20</td>\n",
       "      <td>4</td>\n",
       "      <td>293.8</td>\n",
       "      <td>5.7</td>\n",
       "      <td>2.3</td>\n",
       "      <td>0.0</td>\n",
       "      <td>50.1</td>\n",
       "      <td>0.0</td>\n",
       "      <td>-1.3</td>\n",
       "      <td>20000.0</td>\n",
       "      <td>4</td>\n",
       "      <td>-7.021146</td>\n",
       "      <td>3</td>\n",
       "    </tr>\n",
       "    <tr>\n",
       "      <th>3156457</th>\n",
       "      <td>2</td>\n",
       "      <td>12</td>\n",
       "      <td>31</td>\n",
       "      <td>23</td>\n",
       "      <td>30</td>\n",
       "      <td>4</td>\n",
       "      <td>274.2</td>\n",
       "      <td>4.9</td>\n",
       "      <td>2.2</td>\n",
       "      <td>0.0</td>\n",
       "      <td>51.0</td>\n",
       "      <td>0.0</td>\n",
       "      <td>-1.4</td>\n",
       "      <td>20000.0</td>\n",
       "      <td>4</td>\n",
       "      <td>-6.882689</td>\n",
       "      <td>3</td>\n",
       "    </tr>\n",
       "    <tr>\n",
       "      <th>3156458</th>\n",
       "      <td>2</td>\n",
       "      <td>12</td>\n",
       "      <td>31</td>\n",
       "      <td>23</td>\n",
       "      <td>40</td>\n",
       "      <td>4</td>\n",
       "      <td>270.3</td>\n",
       "      <td>4.6</td>\n",
       "      <td>2.1</td>\n",
       "      <td>0.0</td>\n",
       "      <td>51.7</td>\n",
       "      <td>0.0</td>\n",
       "      <td>-1.6</td>\n",
       "      <td>20000.0</td>\n",
       "      <td>4</td>\n",
       "      <td>-6.798347</td>\n",
       "      <td>3</td>\n",
       "    </tr>\n",
       "    <tr>\n",
       "      <th>3156459</th>\n",
       "      <td>2</td>\n",
       "      <td>12</td>\n",
       "      <td>31</td>\n",
       "      <td>23</td>\n",
       "      <td>50</td>\n",
       "      <td>4</td>\n",
       "      <td>254.8</td>\n",
       "      <td>4.1</td>\n",
       "      <td>2.1</td>\n",
       "      <td>0.0</td>\n",
       "      <td>53.3</td>\n",
       "      <td>0.0</td>\n",
       "      <td>-1.7</td>\n",
       "      <td>20000.0</td>\n",
       "      <td>4</td>\n",
       "      <td>-6.401821</td>\n",
       "      <td>3</td>\n",
       "    </tr>\n",
       "  </tbody>\n",
       "</table>\n",
       "<p>3156459 rows × 17 columns</p>\n",
       "</div>"
      ],
      "text/plain": [
       "         year  month  day  time  minute  stn_id  ws10_deg  ws10_ms   ta   re  \\\n",
       "1           0      1    1     0      10       0       0.0      0.0 -6.4  0.0   \n",
       "2           0      1    1     0      20       0       0.0      0.0 -6.3  0.0   \n",
       "3           0      1    1     0      30       0       0.0      0.0 -6.3  0.0   \n",
       "4           0      1    1     0      40       0      27.8      0.4 -6.2  0.0   \n",
       "5           0      1    1     0      50       0      59.7      0.5 -6.1  0.0   \n",
       "...       ...    ...  ...   ...     ...     ...       ...      ...  ...  ...   \n",
       "3156455     2     12   31    23      10       4     305.3      7.7  2.5  0.0   \n",
       "3156456     2     12   31    23      20       4     293.8      5.7  2.3  0.0   \n",
       "3156457     2     12   31    23      30       4     274.2      4.9  2.2  0.0   \n",
       "3156458     2     12   31    23      40       4     270.3      4.6  2.1  0.0   \n",
       "3156459     2     12   31    23      50       4     254.8      4.1  2.1  0.0   \n",
       "\n",
       "           hm  sun10   ts     vis1  class  dew_point  season  \n",
       "1        38.9    0.0 -2.8  20000.0      4 -18.083476       3  \n",
       "2        37.9    0.0 -2.7  20000.0      4 -18.299136       3  \n",
       "3        40.0    0.0 -2.6  20000.0      4 -17.664937       3  \n",
       "4        39.5    0.0 -2.6  20000.0      4 -17.722897       3  \n",
       "5        39.8    0.0 -2.5  20000.0      4 -17.543307       3  \n",
       "...       ...    ...  ...      ...    ...        ...     ...  \n",
       "3156455  50.2    0.0 -0.9  20000.0      4  -6.810493       3  \n",
       "3156456  50.1    0.0 -1.3  20000.0      4  -7.021146       3  \n",
       "3156457  51.0    0.0 -1.4  20000.0      4  -6.882689       3  \n",
       "3156458  51.7    0.0 -1.6  20000.0      4  -6.798347       3  \n",
       "3156459  53.3    0.0 -1.7  20000.0      4  -6.401821       3  \n",
       "\n",
       "[3156459 rows x 17 columns]"
      ]
     },
     "execution_count": 52,
     "metadata": {},
     "output_type": "execute_result"
    }
   ],
   "source": [
    "df"
   ]
  },
  {
   "cell_type": "code",
   "execution_count": 51,
   "metadata": {},
   "outputs": [],
   "source": [
    "# 계절(봄 : 0, 여름 : 1, 가을 : 2, 겨울 : 3)\n",
    "# 계절을 매핑하는 함수\n",
    "def map_season(month):\n",
    "    if month in [3, 4, 5]:\n",
    "        return 0  # 봄\n",
    "    elif month in [6, 7, 8]:\n",
    "        return 1  # 여름\n",
    "    elif month in [9, 10, 11]:\n",
    "        return 2  # 가을\n",
    "    else:\n",
    "        return 3  # 겨울\n",
    "\n",
    "df['season'] = df['month'].apply(map_season)"
   ]
  },
  {
   "cell_type": "code",
   "execution_count": null,
   "metadata": {},
   "outputs": [],
   "source": [
    "# 이슬점(dew_point)\n",
    "\n",
    "import math\n",
    "\n",
    "# 이슬점 계산 함수\n",
    "def calculate_dew_point(temp_celsius, relative_humidity):\n",
    "    a = 17.27\n",
    "    b = 237.7\n",
    "    # 상대 습도가 0이면 매우 낮은 값을 설정하여 log(0)가 발생하지 않도록 한다.\n",
    "    rh = max(relative_humidity / 100.0, 1e-6)\n",
    "    alpha = ((a * temp_celsius) / (b + temp_celsius)) + math.log(rh)\n",
    "    dew_point = (b * alpha) / (a - alpha)\n",
    "    return dew_point\n",
    "\n",
    "# 이슬점 계산하여 새로운 열 추가\n",
    "df['dew_point'] = df.apply(lambda row: calculate_dew_point(row['ta'], row['hm']), axis=1)"
   ]
  },
  {
   "cell_type": "code",
   "execution_count": null,
   "metadata": {},
   "outputs": [],
   "source": [
    "# 될지 모르겠다.\n",
    "# 새벽 4-8시의 평균 이슬점\n",
    "'''\n",
    "# minute이 4, 5, 6, 7, 8인 데이터를 필터링하여 평균 dew_point 계산\n",
    "avg_dew_point = df[df['minute'].isin([4, 5, 6, 7, 8])].groupby(['year', 'month', 'day', 'stn_id'])['dew_point'].mean()\n",
    "avg_dew_point = avg_dew_point.reset_index()\n",
    "\n",
    "# 기존 데이터프레임에 평균 dew_point 열을 병합\n",
    "df = pd.merge(df, avg_dew_point, on=['year', 'month', 'day', 'stn_id'], how='left', suffixes=('', '_avg'))\n",
    "'''"
   ]
  },
  {
   "cell_type": "code",
   "execution_count": null,
   "metadata": {},
   "outputs": [],
   "source": [
    "# 풍향\n",
    "# 풍향을 16방위로 변환하는 함수\n",
    "def convert_wind_direction(wind_dir):\n",
    "    # 22.5도 간격으로 16방위로 매핑\n",
    "    direction = int((wind_dir + 11.25) % 360 / 22.5)\n",
    "    return direction\n",
    "\n"
   ]
  },
  {
   "cell_type": "code",
   "execution_count": null,
   "metadata": {},
   "outputs": [],
   "source": [
    "# 일교차(diurnal_range)\n",
    "# 날짜(year, month, day), 관측 장소(stn_id)로 그룹화하여 일교차 계산\n",
    "df['diurnal_range'] = df.groupby(['year', 'month', 'day', 'stn_id'])['ts'].transform(lambda x: x.max() - x.min())\n",
    "\n",
    "# 풍향을 16방위로 변환하여 새로운 열에 추가\n",
    "df['wind_direction_16'] = df['wind_direction'].apply(convert_wind_direction)\n",
    "\n",
    "# 원-핫 인코딩을 위해 더미 변수 생성\n",
    "df = pd.get_dummies(df, columns=['wind_direction_16'], prefix='wind_dir')"
   ]
  },
  {
   "cell_type": "code",
   "execution_count": null,
   "metadata": {},
   "outputs": [],
   "source": [
    "# 이동평균"
   ]
  },
  {
   "cell_type": "code",
   "execution_count": null,
   "metadata": {},
   "outputs": [],
   "source": [
    "# 필요 없는 열 제거(시간 디테일 지역이라던가)"
   ]
  },
  {
   "cell_type": "markdown",
   "metadata": {},
   "source": [
    "## 8-1. LSTM-1(양방향)"
   ]
  },
  {
   "cell_type": "code",
   "execution_count": null,
   "metadata": {},
   "outputs": [],
   "source": [
    "import numpy as np\n",
    "import pandas as pd\n",
    "from sklearn.preprocessing import MinMaxScaler\n",
    "from sklearn.model_selection import train_test_split\n",
    "from tensorflow.keras.models import Sequential\n",
    "from tensorflow.keras.layers import LSTM, Dense\n",
    "from tensorflow.keras.callbacks import EarlyStopping"
   ]
  },
  {
   "cell_type": "code",
   "execution_count": null,
   "metadata": {},
   "outputs": [],
   "source": [
    "# 필요한 열만 사용\n",
    "features = ['ws10_deg', 'ws10_ms', 'ta', 're', 'hm', 'sun10', 'ts'] # 수정 필요\n",
    "target = 'vis1'\n",
    "data = df[features + [target]]\n",
    "\n",
    "# 데이터 정규화 # 수정 필요\n",
    "scaler = MinMaxScaler()\n",
    "data[features] = scaler.fit_transform(data[features])"
   ]
  },
  {
   "cell_type": "code",
   "execution_count": null,
   "metadata": {},
   "outputs": [],
   "source": [
    "# 시계열 데이터 생성\n",
    "sequence_length = 6\n",
    "\n",
    "def create_sequences(data, sequence_length):\n",
    "    sequences = []\n",
    "    labels = []\n",
    "    for i in range(len(data) - sequence_length):\n",
    "        seq = data[i:i + sequence_length]\n",
    "        label = data[i + sequence_length][target]\n",
    "        sequences.append(seq)\n",
    "        labels.append(label)\n",
    "    return np.array(sequences), np.array(labels)\n",
    "\n",
    "sequences, labels = create_sequences(data.values, sequence_length)\n",
    "\n",
    "# 학습 데이터와 테스트 데이터 분리\n",
    "X_train, X_test, y_train, y_test = train_test_split(sequences, labels, test_size=0.2, random_state=123)"
   ]
  },
  {
   "cell_type": "code",
   "execution_count": null,
   "metadata": {},
   "outputs": [],
   "source": [
    "# 양방향 LSTM 모델 구성\n",
    "model = Sequential()\n",
    "model.add(Bidirectional(LSTM(50, return_sequences=True), input_shape=(sequence_length, len(features))))\n",
    "model.add(Dropout(0.2))  # Dropout 추가\n",
    "model.add(Bidirectional(LSTM(50)))\n",
    "model.add(Dropout(0.2))  # Dropout 추가\n",
    "model.add(Dense(1, activation='linear'))\n",
    "\n",
    "model.compile(optimizer='adam', loss='mse')\n",
    "\n",
    "# Early Stopping 콜백 설정\n",
    "early_stopping = EarlyStopping(monitor='val_loss', patience=10, restore_best_weights=True)\n",
    "\n",
    "# 모델 학습\n",
    "history = model.fit(X_train, y_train, validation_split=0.2, epochs=100, batch_size=64, callbacks=[early_stopping])"
   ]
  },
  {
   "cell_type": "code",
   "execution_count": null,
   "metadata": {},
   "outputs": [],
   "source": [
    "# history 그래프로 시각화\n",
    "plt.figure(figsize=(12, 6))\n",
    "plt.plot(history.history['loss'], label='train_loss')\n",
    "plt.plot(history.history['val_loss'], label='val_loss')\n",
    "plt.title('Model Loss')\n",
    "plt.xlabel('Epochs')\n",
    "plt.ylabel('Loss')\n",
    "plt.legend()\n",
    "plt.grid(True)\n",
    "plt.show()"
   ]
  },
  {
   "cell_type": "code",
   "execution_count": null,
   "metadata": {},
   "outputs": [],
   "source": [
    "# 모델 평가\n",
    "y_pred = model.predict(X_test)\n",
    "\n",
    "# 예측된 vis1을 바탕으로 class를 계산\n",
    "def classify_vis1(vis1):\n",
    "    if vis1 < 200:\n",
    "        return 1\n",
    "    elif vis1 < 500:\n",
    "        return 2\n",
    "    elif vis1 < 1000:\n",
    "        return 3\n",
    "    else:\n",
    "        return 4\n",
    "\n",
    "y_pred_class = np.array([classify_vis1(vis) for vis in y_pred])\n",
    "y_test_class = np.array([classify_vis1(vis) for vis in y_test])"
   ]
  },
  {
   "cell_type": "code",
   "execution_count": null,
   "metadata": {},
   "outputs": [],
   "source": [
    "# CSI 계산 예시 (필요에 따라 추가적으로 수행)\n",
    "from sklearn.metrics import confusion_matrix\n",
    "\n",
    "def calculate_csi(y_true, y_pred):\n",
    "    confusion = confusion_matrix(y_true, y_pred)\n",
    "    csi = confusion[1, 1] / (confusion[1, 1] + confusion[0, 1] + confusion[1, 0])\n",
    "    return csi\n",
    "\n",
    "csi = calculate_csi(y_test_class, y_pred_class)\n",
    "print(f'CSI: {csi}')"
   ]
  },
  {
   "cell_type": "markdown",
   "metadata": {},
   "source": [
    "### fog_test.csv을 예측 "
   ]
  },
  {
   "cell_type": "code",
   "execution_count": null,
   "metadata": {},
   "outputs": [],
   "source": [
    "# 데스크탑\n",
    "df_test = pd.read_csv(\"C:\\\\Users\\\\Hong_PC\\\\Desktop\\\\기상청 날씨 빅데이터 공모전\\\\과제2\\\\fog_test.csv\", index_col=0)\n",
    "\n",
    "# 노트북\n",
    "# df_test = pd.read_csv(\"C:\\\\Users\\\\User\\\\Desktop\\\\기상청 날씨 빅데이터 공모전\\\\과제2\\\\fog_test.csv\", index_col=0)"
   ]
  },
  {
   "cell_type": "code",
   "execution_count": null,
   "metadata": {},
   "outputs": [],
   "source": [
    "# 필요한 열만 사용\n",
    "features = ['ws10_deg', 'ws10_ms', 'ta', 're', 'hm', 'sun10', 'ts'] # 수정필요\n",
    "target = 'vis1'\n",
    "data_test = df_test[features]\n",
    "\n",
    "# 데이터 정규화 # 수정필요\n",
    "scaler = MinMaxScaler()\n",
    "data_test[features] = scaler.fit_transform(data_test[features])\n"
   ]
  },
  {
   "cell_type": "code",
   "execution_count": null,
   "metadata": {},
   "outputs": [],
   "source": [
    "# # 시계열 데이터 생성 (필요 시)\n",
    "# sequence_length = 6\n",
    "\n",
    "# def create_sequences(data, sequence_length):\n",
    "#     sequences = []\n",
    "#     for i in range(len(data) - sequence_length + 1):\n",
    "#         seq = data[i:i + sequence_length]\n",
    "#         sequences.append(seq)\n",
    "#     return np.array(sequences)\n",
    "\n",
    "# sequences_test = create_sequences(data_test.values, sequence_length)"
   ]
  },
  {
   "cell_type": "code",
   "execution_count": null,
   "metadata": {},
   "outputs": [],
   "source": [
    "# 모델 예측\n",
    "y_pred = model.predict(sequences_test)\n",
    "\n",
    "# 예측된 vis1을 바탕으로 class를 계산\n",
    "def classify_vis1(vis1):\n",
    "    if vis1 < 200:\n",
    "        return 1\n",
    "    elif vis1 < 500:\n",
    "        return 2\n",
    "    elif vis1 < 1000:\n",
    "        return 3\n",
    "    else:\n",
    "        return 4\n",
    "\n",
    "y_pred_class = np.array([classify_vis1(vis) for vis in y_pred])\n",
    "\n",
    "# 예측 결과를 DataFrame에 추가\n",
    "df_test['predicted_class'] = y_pred_class\n",
    "\n",
    "# 예측 결과 출력 또는 저장 (필요에 따라)\n",
    "print(df_test[['year', 'month', 'day', 'time', 'predicted_class']])"
   ]
  },
  {
   "cell_type": "code",
   "execution_count": null,
   "metadata": {},
   "outputs": [],
   "source": []
  },
  {
   "cell_type": "code",
   "execution_count": null,
   "metadata": {},
   "outputs": [],
   "source": []
  },
  {
   "cell_type": "code",
   "execution_count": null,
   "metadata": {},
   "outputs": [],
   "source": []
  },
  {
   "cell_type": "markdown",
   "metadata": {},
   "source": [
    "## 8-2. LSTM-2(옛날)"
   ]
  },
  {
   "cell_type": "code",
   "execution_count": null,
   "metadata": {},
   "outputs": [],
   "source": [
    "import numpy as np\n",
    "import pandas as pd\n",
    "import matplotlib.pyplot as plt\n",
    "from sklearn.preprocessing import MinMaxScaler\n",
    "from sklearn.metrics import classification_report, balanced_accuracy_score\n",
    "from keras.models import Sequential\n",
    "from keras.layers import LSTM, Dense\n",
    "from keras.callbacks import EarlyStopping"
   ]
  },
  {
   "cell_type": "code",
   "execution_count": null,
   "metadata": {},
   "outputs": [],
   "source": [
    "# 특성과 타겟 정의\n",
    "features = df.drop(['class', 'vis1'], axis=1).values.astype('float32')\n",
    "target = df['vis1'].values.astype('float32')\n",
    "\n",
    "# 데이터 정규화\n",
    "scaler = MinMaxScaler()\n",
    "features_scaled = scaler.fit_transform(features)\n",
    "target_scaled = scaler.fit_transform(target.reshape(-1, 1)).flatten()"
   ]
  },
  {
   "cell_type": "code",
   "execution_count": null,
   "metadata": {},
   "outputs": [],
   "source": [
    "# 시퀀스 데이터 생성 함수\n",
    "def create_sequences(data, target, sequence_length):\n",
    "    sequences = []\n",
    "    labels = []\n",
    "    for i in range(len(data) - sequence_length):\n",
    "        sequences.append(data[i:i + sequence_length])\n",
    "        labels.append(target[i + sequence_length])\n",
    "    return np.array(sequences, dtype=np.float32), np.array(labels, dtype=np.float32)\n",
    "\n",
    "# 시퀀스 길이 정의\n",
    "sequence_length = 30  # 1달을 기준으로 30개 타임스텝을 사용"
   ]
  },
  {
   "cell_type": "code",
   "execution_count": null,
   "metadata": {},
   "outputs": [],
   "source": [
    "# 시퀀스 데이터 생성\n",
    "X, y = create_sequences(features_scaled, target_scaled, sequence_length)\n",
    "\n",
    "# 학습 데이터와 테스트 데이터 분리\n",
    "split = int(0.8 * len(X))\n",
    "X_train, X_test = X[:split], X[split:]\n",
    "y_train, y_test = y[:split], y[split:]"
   ]
  },
  {
   "cell_type": "code",
   "execution_count": null,
   "metadata": {},
   "outputs": [
    {
     "name": "stdout",
     "output_type": "stream",
     "text": [
      "Epoch 1/50\n",
      "29949/29949 [==============================] - 755s 25ms/step - loss: 0.0216 - val_loss: 0.0398\n",
      "Epoch 2/50\n",
      "29949/29949 [==============================] - 864s 29ms/step - loss: 0.0193 - val_loss: 0.0469\n",
      "Epoch 3/50\n",
      "29949/29949 [==============================] - 824s 28ms/step - loss: 0.0181 - val_loss: 0.0462\n",
      "Epoch 4/50\n",
      " 7549/29949 [======>.......................] - ETA: 8:05 - loss: 0.0176"
     ]
    }
   ],
   "source": [
    "# LSTM 회귀 모델 정의\n",
    "model = Sequential()\n",
    "model.add(LSTM(50, input_shape=(sequence_length, X.shape[2]), return_sequences=False))\n",
    "model.add(Dense(1))  # 회귀를 위한 단일 출력 뉴런\n",
    "\n",
    "# 모델 컴파일\n",
    "model.compile(optimizer='adam', loss='mean_squared_error')\n",
    "\n",
    "# 얼리스타핑 콜백 정의\n",
    "early_stopping = EarlyStopping(monitor='val_loss', \n",
    "                               patience=3, \n",
    "                               verbose=1, \n",
    "                               restore_best_weights=True)\n",
    "\n",
    "# 모델 학습\n",
    "history = model.fit(X_train, y_train, epochs=50, batch_size=64, validation_split=0.2, callbacks=[early_stopping])\n",
    "\n",
    "# 학습 결과 시각화\n",
    "plt.figure(figsize=(12, 6))\n",
    "\n",
    "plt.subplot(1, 2, 1)\n",
    "plt.plot(history.history['loss'], label='Train Loss')\n",
    "plt.plot(history.history['val_loss'], label='Validation Loss')\n",
    "plt.title('Loss over Epochs')\n",
    "plt.xlabel('Epochs')\n",
    "plt.ylabel('Loss')\n",
    "plt.legend()"
   ]
  },
  {
   "cell_type": "code",
   "execution_count": null,
   "metadata": {},
   "outputs": [],
   "source": [
    "# 예측\n",
    "y_pred = model.predict(X_test)\n",
    "y_pred_rescaled = scaler.inverse_transform(y_pred.reshape(-1, 1)).flatten()\n",
    "y_test_rescaled = scaler.inverse_transform(y_test.reshape(-1, 1)).flatten()\n",
    "\n",
    "# 예측된 vis1 값을 기반으로 클래스 분류\n",
    "def classify_vis1(vis1):\n",
    "    if vis1 < 200:\n",
    "        return 1\n",
    "    elif vis1 < 500:\n",
    "        return 2\n",
    "    elif vis1 < 1000:\n",
    "        return 3\n",
    "    else:\n",
    "        return 4\n",
    "\n",
    "y_pred_classes = np.array([classify_vis1(vis) for vis in y_pred_rescaled])\n",
    "y_true_classes = np.array([classify_vis1(vis) for vis in y_test_rescaled])"
   ]
  },
  {
   "cell_type": "code",
   "execution_count": null,
   "metadata": {},
   "outputs": [],
   "source": [
    "# balanced accuracy 계산\n",
    "balanced_acc = balanced_accuracy_score(y_true_classes, y_pred_classes)\n",
    "print(f'Balanced Accuracy: {balanced_acc}')\n",
    "\n",
    "# 분류 보고서 출력\n",
    "print(classification_report(y_true_classes, y_pred_classes))\n",
    "\n",
    "# 학습 결과 시각화\n",
    "plt.figure(figsize=(12, 6))\n",
    "\n",
    "plt.subplot(1, 2, 1)\n",
    "plt.plot(history.history['loss'], label='Train Loss')\n",
    "plt.plot(history.history['val_loss'], label='Validation Loss')\n",
    "plt.title('Loss over Epochs')\n",
    "plt.xlabel('Epochs')\n",
    "plt.ylabel('Loss')\n",
    "plt.legend()\n",
    "\n",
    "plt.subplot(1, 2, 2)\n",
    "plt.scatter(range(len(y_test_rescaled)), y_test_rescaled, label='True vis1')\n",
    "plt.scatter(range(len(y_pred_rescaled)), y_pred_rescaled, label='Predicted vis1')\n",
    "plt.title('True vs Predicted vis1')\n",
    "plt.xlabel('Sample Index')\n",
    "plt.ylabel('vis1')\n",
    "plt.legend()\n",
    "\n",
    "plt.show()"
   ]
  },
  {
   "cell_type": "code",
   "execution_count": null,
   "metadata": {},
   "outputs": [],
   "source": []
  },
  {
   "cell_type": "code",
   "execution_count": null,
   "metadata": {},
   "outputs": [],
   "source": []
  },
  {
   "cell_type": "code",
   "execution_count": null,
   "metadata": {},
   "outputs": [],
   "source": []
  },
  {
   "cell_type": "code",
   "execution_count": null,
   "metadata": {},
   "outputs": [],
   "source": []
  },
  {
   "cell_type": "code",
   "execution_count": null,
   "metadata": {},
   "outputs": [],
   "source": []
  },
  {
   "cell_type": "markdown",
   "metadata": {},
   "source": [
    "#### RF"
   ]
  },
  {
   "cell_type": "code",
   "execution_count": null,
   "metadata": {},
   "outputs": [],
   "source": []
  },
  {
   "cell_type": "code",
   "execution_count": null,
   "metadata": {},
   "outputs": [],
   "source": []
  }
 ],
 "metadata": {
  "kernelspec": {
   "display_name": "mjh",
   "language": "python",
   "name": "python3"
  },
  "language_info": {
   "codemirror_mode": {
    "name": "ipython",
    "version": 3
   },
   "file_extension": ".py",
   "mimetype": "text/x-python",
   "name": "python",
   "nbconvert_exporter": "python",
   "pygments_lexer": "ipython3",
   "version": "3.9.12"
  }
 },
 "nbformat": 4,
 "nbformat_minor": 2
}
