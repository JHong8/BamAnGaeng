{
 "cells": [
  {
   "cell_type": "markdown",
   "metadata": {},
   "source": [
    "# 1. 데이터 불러오기(전처리 완료된)"
   ]
  },
  {
   "cell_type": "code",
   "execution_count": 1,
   "metadata": {},
   "outputs": [],
   "source": [
    "import joblib\n",
    "\n",
    "# 데스크탑\n",
    "# df = joblib.load('C:\\\\Users\\\\Hong_PC\\\\Desktop\\\\기상청 날씨 빅데이터 공모전\\\\과제2\\\\df_xgr.pkl')\n",
    "\n",
    "# 노트북\n",
    "df = joblib.load('C:\\\\Users\\\\User\\\\Desktop\\\\기상청 날씨 빅데이터 공모전\\\\과제2\\\\df_xgr.pkl')"
   ]
  },
  {
   "cell_type": "code",
   "execution_count": 2,
   "metadata": {},
   "outputs": [
    {
     "data": {
      "text/plain": [
       "Index(['year', 'month', 'day', 'time', 'minute', 'stn_id', 'ws10_deg',\n",
       "       'ws10_ms', 'ta', 're', 'hm', 'sun10', 'ts', 'vis1', 'class'],\n",
       "      dtype='object')"
      ]
     },
     "execution_count": 2,
     "metadata": {},
     "output_type": "execute_result"
    }
   ],
   "source": [
    "df.columns"
   ]
  },
  {
   "cell_type": "code",
   "execution_count": 3,
   "metadata": {},
   "outputs": [],
   "source": [
    "# 시간에 해당하는 열 제거\n",
    "df = df.drop(['year', 'month','day','time','minute'],axis=1)"
   ]
  },
  {
   "cell_type": "markdown",
   "metadata": {},
   "source": [
    "# SMOTE(Class)"
   ]
  },
  {
   "cell_type": "code",
   "execution_count": 4,
   "metadata": {},
   "outputs": [],
   "source": [
    "# ! pip install imbalanced-learn\n",
    "import pandas as pd\n",
    "from imblearn.combine import SMOTEENN"
   ]
  },
  {
   "cell_type": "code",
   "execution_count": 5,
   "metadata": {},
   "outputs": [],
   "source": [
    "features = df.columns.difference(['vis1', 'class'])\n",
    "\n",
    "# feature와 target 분리\n",
    "X = df[features]\n",
    "y = df['class']\n",
    "\n",
    "# SMOTEENN을 사용하여 오버샘플링과 언더샘플링 수행\n",
    "smote_enn = SMOTEENN(random_state=42)\n",
    "X_resampled, y_resampled = smote_enn.fit_resample(X, y)\n",
    "\n",
    "# 오버샘플링 및 다운샘플링 후 class 분포\n",
    "resampled_class_counts = pd.Series(y_resampled).value_counts()\n",
    "\n",
    "# 샘플링이 적용된 데이터로 새로운 데이터프레임 생성\n",
    "df_resampled = pd.DataFrame(X_resampled, columns=features)\n",
    "df_resampled['class'] = y_resampled"
   ]
  },
  {
   "cell_type": "code",
   "execution_count": null,
   "metadata": {},
   "outputs": [],
   "source": []
  },
  {
   "cell_type": "code",
   "execution_count": null,
   "metadata": {},
   "outputs": [],
   "source": []
  },
  {
   "cell_type": "code",
   "execution_count": null,
   "metadata": {},
   "outputs": [],
   "source": []
  },
  {
   "cell_type": "code",
   "execution_count": null,
   "metadata": {},
   "outputs": [],
   "source": []
  },
  {
   "cell_type": "code",
   "execution_count": null,
   "metadata": {},
   "outputs": [],
   "source": []
  },
  {
   "cell_type": "code",
   "execution_count": null,
   "metadata": {},
   "outputs": [],
   "source": []
  }
 ],
 "metadata": {
  "kernelspec": {
   "display_name": "base",
   "language": "python",
   "name": "python3"
  },
  "language_info": {
   "codemirror_mode": {
    "name": "ipython",
    "version": 3
   },
   "file_extension": ".py",
   "mimetype": "text/x-python",
   "name": "python",
   "nbconvert_exporter": "python",
   "pygments_lexer": "ipython3",
   "version": "3.9.12"
  }
 },
 "nbformat": 4,
 "nbformat_minor": 2
}
