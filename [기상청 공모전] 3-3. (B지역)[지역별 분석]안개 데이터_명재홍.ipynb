{
 "cells": [
  {
   "cell_type": "markdown",
   "metadata": {},
   "source": [
    "# 대회\n",
    ">https://bd.kma.go.kr/contest/info_01.do\n",
    "\n",
    ">240371\n",
    "\n",
    ">0704"
   ]
  },
  {
   "cell_type": "markdown",
   "metadata": {},
   "source": [
    "* 개선을 위한 방법\n",
    "1. 마지막엔 test을 나누지말고 그냥 전부 train 시켜버린다\n",
    "2. 쓸데 없는 열을 버려본다?\n",
    "3. 앙상블 모델을 써볼까?"
   ]
  },
  {
   "cell_type": "markdown",
   "metadata": {},
   "source": [
    "* 코드 순서\n",
    "1. df에서 지역별로 5개 나눠서 각자 자기꺼(e, 남해)만 출력 후 아래의 전처리 동일하게 진행\n",
    "2. 문자형식은 수치화하기\n",
    "3. 선형보간법으로 독립변수 결측값 대체\n",
    "4. re(0, 1) 결측값 대체 방법 선정 -> 직전값\n",
    "5. 선형보간법으로 독립변수 이상치 대체\n",
    "6. 정규화 방법 선정 -> 월별 계절성을 반영한 min-max scaler\n",
    "7. target(vis1, class) 결측값 대체 방법 선정 -> random forest (seed: 123)\n",
    "8. 파생변수 생성\n",
    "9. lstm 적용 (sequence = 6) # 1시간 단위로 설정\n",
    "10. 가중치 조절"
   ]
  },
  {
   "cell_type": "code",
   "execution_count": null,
   "metadata": {},
   "outputs": [],
   "source": [
    "# 샘플링\n",
    "# 시퀀스 30에서 늘리기\n",
    "# class 결측치 채워보기"
   ]
  },
  {
   "cell_type": "code",
   "execution_count": 31,
   "metadata": {},
   "outputs": [],
   "source": [
    "import pandas as pd\n",
    "import numpy as np\n",
    "import joblib\n",
    "\n",
    "import xgboost as xgb\n",
    "from sklearn.preprocessing import MinMaxScaler, LabelEncoder\n",
    "from sklearn.model_selection import train_test_split\n",
    "from tensorflow.keras.models import Sequential\n",
    "from tensorflow.keras.layers import LSTM, Dense, Bidirectional, Dropout\n",
    "from tensorflow.keras.callbacks import EarlyStopping\n",
    "from sklearn.metrics import confusion_matrix\n",
    "\n",
    "import matplotlib.pyplot as plt\n",
    "import seaborn as sns"
   ]
  },
  {
   "cell_type": "code",
   "execution_count": null,
   "metadata": {},
   "outputs": [],
   "source": [
    "# # 시간\n",
    "# df['year'].value_counts() # 년도\n",
    "# df['month'].value_counts() # 월\n",
    "# df['day'].value_counts() # 일\n",
    "# df['time'].value_counts() # 시간(0~23)\n",
    "# df['minute'].value_counts() # 분(10분 단위)\n",
    "# df['stn_id'].value_counts() # 지점 번호\n",
    "\n",
    "# -99 있음\n",
    "# df['ws10_deg'].value_counts() # 10분 평균 풍향, 단위 : deg\n",
    "# df['ws10_ms'].value_counts() # 10분 평균 풍속, 단위 : m/s\n",
    "# df['ta'].value_counts() # 1분 평균 기온 10분 주기, 단위 : C\n",
    "# df['re'].value_counts() # 강수 유무(0:무강수, 1:강수)\n",
    "# df['hm'].value_counts() # 1분 평균 상대 습도 10분 주기, 단위 : %\n",
    "# df['sun10'].value_counts() # 1분 일사량 10분 단위 합계, 단위 : MJ\n",
    "# df['ts'].value_counts() # 1분 평균 지면온도 10분 주기, 단위 : C\n",
    "# df['vis1'].value_counts() # 1분 평균 시정 10분 주기, 단위 : C(test데이터 셋엔 없음)\n",
    "# df['class'].value_counts() # 시정 구간\n",
    "\n",
    "# 파생변수\n",
    "# df['season'].value_counts() # 계절(봄부터 0)\n",
    "# df['dew_point'].value_counts() # 이슬점\n",
    "# df['ws10_deg_16'].value_counts() # 16방위 풍향\n",
    "# df['diurnal_range'].value_counts() # 일교차\n",
    "# df['ts_dew_diff'].value_counts() # 기온-이슬점\n",
    "# df['5_hm'].value_counts()# 50분 이동평균(습도)"
   ]
  },
  {
   "cell_type": "markdown",
   "metadata": {},
   "source": [
    "# 7. 파생변수"
   ]
  },
  {
   "cell_type": "code",
   "execution_count": 21,
   "metadata": {},
   "outputs": [],
   "source": [
    "df = df_xgr.copy()"
   ]
  },
  {
   "cell_type": "markdown",
   "metadata": {},
   "source": [
    "**파생변수** "
   ]
  },
  {
   "cell_type": "code",
   "execution_count": 24,
   "metadata": {},
   "outputs": [],
   "source": [
    "# 계절(봄 : 0, 여름 : 1, 가을 : 2, 겨울 : 3)\n",
    "# 계절을 매핑하는 함수\n",
    "def map_season(month):\n",
    "    if month in [3, 4, 5]:\n",
    "        return 0  # 봄\n",
    "    elif month in [6, 7, 8]:\n",
    "        return 1  # 여름\n",
    "    elif month in [9, 10, 11]:\n",
    "        return 2  # 가을\n",
    "    else:\n",
    "        return 3  # 겨울\n",
    "\n",
    "df['season'] = df['month'].apply(map_season)"
   ]
  },
  {
   "cell_type": "code",
   "execution_count": 25,
   "metadata": {},
   "outputs": [],
   "source": [
    "# 이슬점(dew_point)\n",
    "\n",
    "import math\n",
    "\n",
    "# 이슬점 계산 함수\n",
    "def calculate_dew_point(temp_celsius, relative_humidity):\n",
    "    a = 17.27\n",
    "    b = 237.7\n",
    "    # 상대 습도가 0이면 매우 낮은 값을 설정하여 log(0)가 발생하지 않도록 한다.\n",
    "    rh = max(relative_humidity / 100.0, 1e-6)\n",
    "    alpha = ((a * temp_celsius) / (b + temp_celsius)) + math.log(rh)\n",
    "    dew_point = (b * alpha) / (a - alpha)\n",
    "    return dew_point\n",
    "\n",
    "# 이슬점 계산하여 새로운 열 추가\n",
    "df['dew_point'] = df.apply(lambda row: calculate_dew_point(row['ta'], row['hm']), axis=1)"
   ]
  },
  {
   "cell_type": "code",
   "execution_count": 86,
   "metadata": {},
   "outputs": [
    {
     "data": {
      "text/plain": [
       "\"\\n# minute이 4, 5, 6, 7, 8인 데이터를 필터링하여 평균 dew_point 계산\\navg_dew_point = df[df['minute'].isin([4, 5, 6, 7, 8])].groupby(['year', 'month', 'day', 'stn_id'])['dew_point'].mean()\\navg_dew_point = avg_dew_point.reset_index()\\n\\n# 기존 데이터프레임에 평균 dew_point 열을 병합\\ndf = pd.merge(df, avg_dew_point, on=['year', 'month', 'day', 'stn_id'], how='left', suffixes=('', '_avg'))\\n\""
      ]
     },
     "execution_count": 86,
     "metadata": {},
     "output_type": "execute_result"
    }
   ],
   "source": [
    "# 될지 모르겠다.\n",
    "# 새벽 4-8시의 평균 이슬점\n",
    "'''\n",
    "# minute이 4, 5, 6, 7, 8인 데이터를 필터링하여 평균 dew_point 계산\n",
    "avg_dew_point = df[df['minute'].isin([4, 5, 6, 7, 8])].groupby(['year', 'month', 'day', 'stn_id'])['dew_point'].mean()\n",
    "avg_dew_point = avg_dew_point.reset_index()\n",
    "\n",
    "# 기존 데이터프레임에 평균 dew_point 열을 병합\n",
    "df = pd.merge(df, avg_dew_point, on=['year', 'month', 'day', 'stn_id'], how='left', suffixes=('', '_avg'))\n",
    "'''"
   ]
  },
  {
   "cell_type": "code",
   "execution_count": 26,
   "metadata": {},
   "outputs": [],
   "source": [
    "# 풍향\n",
    "# 풍향을 16방위로 변환하는 함수\n",
    "def convert_wind_direction(wind_dir):\n",
    "    # 22.5도 간격으로 16방위로 매핑\n",
    "    direction = int((wind_dir + 11.25) % 360 / 22.5)\n",
    "    return direction\n",
    "\n",
    "# 풍향을 16방위로 변환하여 새로운 열에 추가\n",
    "df['ws10_deg_16'] = df['ws10_deg'].apply(convert_wind_direction)\n",
    "\n",
    "# # 원-핫 인코딩을 위해 더미 변수 생성\n",
    "# df = pd.get_dummies(df, columns=['wind_direction_16'], prefix='wind_dir')"
   ]
  },
  {
   "cell_type": "code",
   "execution_count": 27,
   "metadata": {},
   "outputs": [],
   "source": [
    "# 일교차(diurnal_range)\n",
    "# 날짜(year, month, day), 관측 장소(stn_id)로 그룹화하여 일교차 계산\n",
    "df['diurnal_range'] = df.groupby(['year', 'month', 'day', 'stn_id'])['ts'].transform(lambda x: x.max() - x.min())"
   ]
  },
  {
   "cell_type": "code",
   "execution_count": 28,
   "metadata": {},
   "outputs": [],
   "source": [
    "# 기온-이슬점(안개형성조건, 기온이 이슬점 이하일 때 잘 발생)\n",
    "df['ts_dew_diff'] = df['ts'] - df['dew_point']"
   ]
  },
  {
   "cell_type": "code",
   "execution_count": 29,
   "metadata": {},
   "outputs": [],
   "source": [
    "# 50분 이동평균(습도)\n",
    "def calculate_rolling_mean(group):\n",
    "    group['5_hm'] = group['hm'].rolling(window=5).mean()\n",
    "    group['5_hm'] = group['5_hm'].fillna(group['hm'])\n",
    "    return group\n",
    "\n",
    "# 각 stn_id별로 그룹화하여 함수 적용\n",
    "df = df.groupby('stn_id', group_keys=False).apply(calculate_rolling_mean)"
   ]
  },
  {
   "cell_type": "code",
   "execution_count": 30,
   "metadata": {},
   "outputs": [],
   "source": [
    "df_pluscol = df.copy()"
   ]
  },
  {
   "cell_type": "markdown",
   "metadata": {},
   "source": [
    "## 8-1. LSTM-1(양방향)"
   ]
  },
  {
   "cell_type": "code",
   "execution_count": 32,
   "metadata": {},
   "outputs": [],
   "source": [
    "df = df_pluscol.copy()"
   ]
  },
  {
   "cell_type": "code",
   "execution_count": 33,
   "metadata": {},
   "outputs": [],
   "source": [
    "# 필요한 열만 사용\n",
    "numeric_features = ['ws10_deg', 'ws10_ms', 'ta', 'hm', 'sun10', 'ts',\n",
    "                    'dew_point', 'diurnal_range', '5_hm']\n",
    "categorical_features = ['region', 'season', 're','ws10_deg_16',]\n",
    "target = 'vis1'\n",
    "\n",
    "# 데이터프레임에서 필요한 열만 선택\n",
    "data = df[numeric_features + categorical_features + [target]]"
   ]
  },
  {
   "cell_type": "code",
   "execution_count": 34,
   "metadata": {},
   "outputs": [],
   "source": [
    "# 인덱스를 확인하기 위해 원본 데이터프레임의 인덱스를 저장합니다.\n",
    "original_indices = data.index\n",
    "# 라벨 인코딩을 위한 LabelEncoder 객체 생성\n",
    "label_encoders = {feature: LabelEncoder() for feature in categorical_features}\n",
    "# 카테고리형 변수에 대해 라벨 인코딩을 적용\n",
    "encoded_categorical_data = data[categorical_features].apply(lambda x: label_encoders[x.name].fit_transform(x))\n",
    "# 인코딩된 카테고리형 변수와 원본 데이터프레임을 합침\n",
    "processed_data = pd.concat([data[numeric_features], encoded_categorical_data, data[target]], axis=1)"
   ]
  },
  {
   "cell_type": "code",
   "execution_count": 35,
   "metadata": {},
   "outputs": [],
   "source": [
    "# 계절을 반영한 Min-Max 스케일링\n",
    "scaler = MinMaxScaler()\n",
    "scaled_numeric_data = data.copy()\n",
    "\n",
    "# 'season' 열을 기반으로 각 계절에 따라 스케일링을 적용\n",
    "for season_value in range(4):  # 계절은 0부터 3까지의 값이 있습니다.\n",
    "    mask = scaled_numeric_data['season'] == season_value\n",
    "    if mask.sum() > 0:\n",
    "        scaled_numeric_data.loc[mask, numeric_features] = scaler.fit_transform(scaled_numeric_data.loc[mask, numeric_features])\n",
    "\n",
    "# 숫자형 변수와 라벨 인코딩된 카테고리형 변수를 합침\n",
    "processed_data = pd.concat([scaled_numeric_data[numeric_features], encoded_categorical_data, data[target]], axis=1)"
   ]
  },
  {
   "cell_type": "code",
   "execution_count": 36,
   "metadata": {},
   "outputs": [],
   "source": [
    "# 시계열 데이터 생성\n",
    "sequence_length = 6\n",
    "\n",
    "def create_sequences(data, sequence_length):\n",
    "    sequences = []\n",
    "    labels = []\n",
    "    for i in range(len(data) - sequence_length):\n",
    "        seq = data.iloc[i:i + sequence_length].drop(columns=[target])\n",
    "        label = data.iloc[i + sequence_length][target]\n",
    "        sequences.append(seq.values)\n",
    "        labels.append(label)\n",
    "    return np.array(sequences), np.array(labels)\n",
    "\n",
    "sequences, labels = create_sequences(processed_data, sequence_length)\n",
    "\n",
    "# 학습 데이터와 테스트 데이터 분리\n",
    "X_train, X_test, y_train, y_test = train_test_split(sequences, labels, test_size=0.2, random_state=123)\n"
   ]
  },
  {
   "cell_type": "code",
   "execution_count": null,
   "metadata": {},
   "outputs": [
    {
     "name": "stdout",
     "output_type": "stream",
     "text": [
      "Epoch 1/100\n",
      "31565/31565 [==============================] - 734s 23ms/step - loss: 242362864.0000 - val_loss: 198228736.0000\n",
      "Epoch 2/100\n",
      "31565/31565 [==============================] - 624s 20ms/step - loss: 161225792.0000 - val_loss: 127130288.0000\n",
      "Epoch 3/100\n",
      "31565/31565 [==============================] - 597s 19ms/step - loss: 100222392.0000 - val_loss: 76076120.0000\n",
      "Epoch 4/100\n",
      "31565/31565 [==============================] - 538s 17ms/step - loss: 59236236.0000 - val_loss: 44927848.0000\n",
      "Epoch 5/100\n",
      "31565/31565 [==============================] - 529s 17ms/step - loss: 38011996.0000 - val_loss: 33134252.0000\n",
      "Epoch 6/100\n",
      "31565/31565 [==============================] - 22858s 724ms/step - loss: 33263500.0000 - val_loss: 32545590.0000\n",
      "Epoch 7/100\n",
      "31565/31565 [==============================] - 528s 17ms/step - loss: 33178680.0000 - val_loss: 32543940.0000\n",
      "Epoch 8/100\n",
      "31565/31565 [==============================] - 541s 17ms/step - loss: 33179792.0000 - val_loss: 32544360.0000\n",
      "Epoch 9/100\n",
      "31565/31565 [==============================] - 493s 16ms/step - loss: 33186340.0000 - val_loss: 32543738.0000\n",
      "Epoch 10/100\n",
      "31565/31565 [==============================] - 480s 15ms/step - loss: 33182742.0000 - val_loss: 32544158.0000\n",
      "Epoch 11/100\n",
      "31565/31565 [==============================] - 502s 16ms/step - loss: 33178594.0000 - val_loss: 32544100.0000\n",
      "Epoch 12/100\n",
      "31564/31565 [============================>.] - ETA: 0s - loss: 33181458.0000Restoring model weights from the end of the best epoch: 9.\n",
      "31565/31565 [==============================] - 527s 17ms/step - loss: 33181390.0000 - val_loss: 32543860.0000\n",
      "Epoch 12: early stopping\n"
     ]
    }
   ],
   "source": [
    "# 양방향 LSTM 모델 구성\n",
    "model = Sequential()\n",
    "model.add(Bidirectional(LSTM(50, return_sequences=True), input_shape=(sequence_length, X_train.shape[-1])))\n",
    "model.add(Dropout(0.2))  # Dropout 추가\n",
    "model.add(Bidirectional(LSTM(50)))\n",
    "model.add(Dropout(0.2))  # Dropout 추가\n",
    "model.add(Dense(1, activation='linear'))\n",
    "\n",
    "model.compile(optimizer='adam', loss='mse')\n",
    "\n",
    "# Early Stopping 콜백 설정\n",
    "early_stopping = EarlyStopping(monitor='val_loss', \n",
    "                               patience=3, \n",
    "                               verbose=1, # 로그출력\n",
    "                               restore_best_weights=True)\n",
    "\n",
    "# 모델 학습\n",
    "history = model.fit(X_train, y_train, validation_split=0.2, epochs=100, batch_size=64, callbacks=[early_stopping])"
   ]
  },
  {
   "cell_type": "code",
   "execution_count": null,
   "metadata": {},
   "outputs": [
    {
     "data": {
      "image/png": "[encoded data removed]",
      "text/plain": [
       "<Figure size 864x432 with 1 Axes>"
      ]
     },
     "metadata": {
      "needs_background": "light"
     },
     "output_type": "display_data"
    }
   ],
   "source": [
    "# history 그래프로 시각화\n",
    "plt.figure(figsize=(12, 6))\n",
    "plt.plot(history.history['loss'], label='train_loss')\n",
    "plt.plot(history.history['val_loss'], label='val_loss')\n",
    "plt.title('Model Loss')\n",
    "plt.xlabel('Epochs')\n",
    "plt.ylabel('Loss')\n",
    "plt.legend()\n",
    "plt.grid(True)\n",
    "plt.show()"
   ]
  },
  {
   "cell_type": "code",
   "execution_count": null,
   "metadata": {},
   "outputs": [
    {
     "name": "stdout",
     "output_type": "stream",
     "text": [
      "19728/19728 [==============================] - 78s 4ms/step\n"
     ]
    }
   ],
   "source": [
    "# 모델 평가\n",
    "y_pred = model.predict(X_test)"
   ]
  },
  {
   "cell_type": "code",
   "execution_count": null,
   "metadata": {},
   "outputs": [],
   "source": [
    "# 예측된 vis1을 바탕으로 class를 계산\n",
    "def classify_vis1(vis1):\n",
    "    if vis1 < 200:\n",
    "        return 1\n",
    "    elif vis1 < 500:\n",
    "        return 2\n",
    "    elif vis1 < 1000:\n",
    "        return 3\n",
    "    else:\n",
    "        return 4\n",
    "\n",
    "y_pred_class = np.array([classify_vis1(vis) for vis in y_pred.flatten()])\n",
    "y_test_class = np.array([classify_vis1(vis) for vis in y_test])"
   ]
  },
  {
   "cell_type": "code",
   "execution_count": null,
   "metadata": {},
   "outputs": [
    {
     "name": "stdout",
     "output_type": "stream",
     "text": [
      "CSI: 0.2474868959006227\n"
     ]
    }
   ],
   "source": [
    "# CSI 계산 예시 (필요에 따라 추가적으로 수행)\n",
    "def calculate_csi(y_true, y_pred):\n",
    "    confusion = confusion_matrix(y_true, y_pred)\n",
    "    csi_values = []\n",
    "    for i in range(1, 5):  # class 1 to 4\n",
    "        tp = np.sum((y_true == i) & (y_pred == i))\n",
    "        fp = np.sum((y_true != i) & (y_pred == i))\n",
    "        fn = np.sum((y_true == i) & (y_pred != i))\n",
    "        csi = tp / (tp + fp + fn) if (tp + fp + fn) > 0 else 0\n",
    "        csi_values.append(csi)\n",
    "    return np.mean(csi_values)\n",
    "\n",
    "csi = calculate_csi(y_test_class, y_pred_class)\n",
    "print(f'CSI: {csi}')"
   ]
  },
  {
   "cell_type": "code",
   "execution_count": null,
   "metadata": {},
   "outputs": [
    {
     "name": "stderr",
     "output_type": "stream",
     "text": [
      "c:\\Users\\User\\anaconda3\\lib\\site-packages\\keras\\src\\engine\\training.py:3000: UserWarning: You are saving your model as an HDF5 file via `model.save()`. This file format is considered legacy. We recommend using instead the native Keras format, e.g. `model.save('my_model.keras')`.\n",
      "  saving_api.save_model(\n"
     ]
    }
   ],
   "source": [
    "from keras.models import load_model\n",
    "\n",
    "#모델 저장\n",
    "model.save('model_1.h5')\n",
    "\n",
    "# 노트북\n",
    "model.save('C:\\\\Users\\\\User\\\\Desktop\\\\기상청 날씨 빅데이터 공모전\\\\과제2\\\\model_1.h5')\n",
    "\n",
    "# 데스크탑\n",
    "# model.save('C:\\\\Users\\\\Hong_PC\\\\Desktop\\\\기상청 날씨 빅데이터 공모전\\\\과제2\\\\model_1.h5')"
   ]
  },
  {
   "cell_type": "code",
   "execution_count": null,
   "metadata": {},
   "outputs": [
    {
     "data": {
      "text/plain": [
       "['C:\\\\Users\\\\User\\\\Desktop\\\\기상청 날씨 빅데이터 공모전\\\\과제2\\\\label_encoders_1.pkl']"
      ]
     },
     "execution_count": 121,
     "metadata": {},
     "output_type": "execute_result"
    }
   ],
   "source": [
    "# 전처리기 저장\n",
    "joblib.dump(scaler, 'scaler_1.pkl')\n",
    "joblib.dump(label_encoders, 'label_encoders_1.pkl')\n",
    "\n",
    "# 노트북\n",
    "joblib.dump(scaler, 'C:\\\\Users\\\\User\\\\Desktop\\\\기상청 날씨 빅데이터 공모전\\\\과제2\\\\scaler_1.pkl')\n",
    "joblib.dump(label_encoders, 'C:\\\\Users\\\\User\\\\Desktop\\\\기상청 날씨 빅데이터 공모전\\\\과제2\\\\label_encoders_1.pkl')\n",
    "\n",
    "# # 데스크탑\n",
    "# joblib.dump(scaler, 'C:\\\\Users\\\\Hong_PC\\\\Desktop\\\\기상청 날씨 빅데이터 공모전\\\\과제2\\\\scaler.pkl')\n",
    "# joblib.dump(label_encoders, 'C:\\\\Users\\\\Hong_PC\\\\Desktop\\\\기상청 날씨 빅데이터 공모전\\\\과제2\\\\label_encoders.pkl')"
   ]
  },
  {
   "cell_type": "markdown",
   "metadata": {},
   "source": [
    "### fog_test.csv을 예측 "
   ]
  },
  {
   "cell_type": "code",
   "execution_count": null,
   "metadata": {},
   "outputs": [],
   "source": [
    "# 데스크탑\n",
    "# df_test = pd.read_csv(\"C:\\\\Users\\\\Hong_PC\\\\Desktop\\\\기상청 날씨 빅데이터 공모전\\\\과제2\\\\fog_test.csv\", index_col=0)\n",
    "\n",
    "# 노트북\n",
    "df_test = pd.read_csv(\"C:\\\\Users\\\\User\\\\Desktop\\\\기상청 날씨 빅데이터 공모전\\\\과제2\\\\fog_test.csv\", index_col=0)"
   ]
  },
  {
   "cell_type": "code",
   "execution_count": null,
   "metadata": {},
   "outputs": [],
   "source": [
    "df_original = df_test.copy()\n",
    "df = df_test.copy()"
   ]
  },
  {
   "cell_type": "markdown",
   "metadata": {},
   "source": [
    "**기본 전처리**"
   ]
  },
  {
   "cell_type": "code",
   "execution_count": null,
   "metadata": {},
   "outputs": [],
   "source": [
    "# 열 이름의 . 앞에 단어 제거\n",
    "df.columns = [col.split('.')[-1] if '.' in col else col for col in df.columns]\n",
    "\n",
    "# year열 I, J, K 순으로 0, 1, 2로 맵핑 (현재 L만 있어서 0으로 맵핑)\n",
    "df['year'] = df['year'].map({'L': 0})\n",
    "\n",
    "# region는 stn_id에서 앞글자만 가져오고 숫자화\n",
    "df['region'] = df['stn_id'].str[0]\n",
    "alphabet_order = {char: idx for idx, char in enumerate(sorted(df['region'].unique()))}\n",
    "df['region'] = df['region'].map(alphabet_order)\n",
    "\n",
    "# stn_id를 숫자화\n",
    "stn_id_mapping = {v: k for k, v in enumerate(['AI', 'BE', 'CC', 'DD'])}\n",
    "df['stn_id'] = df['stn_id'].map(stn_id_mapping)"
   ]
  },
  {
   "cell_type": "code",
   "execution_count": null,
   "metadata": {},
   "outputs": [],
   "source": [
    "# 마지막 행이 결측열이길래 제거\n",
    "df.loc[:, df.columns != 'class'] = df.loc[:, df.columns != 'class'].fillna(method='ffill')"
   ]
  },
  {
   "cell_type": "markdown",
   "metadata": {},
   "source": [
    "**결측치 제거**"
   ]
  },
  {
   "cell_type": "code",
   "execution_count": null,
   "metadata": {},
   "outputs": [
    {
     "name": "stdout",
     "output_type": "stream",
     "text": [
      "year             0\n",
      "month            0\n",
      "day              0\n",
      "time             0\n",
      "minute           0\n",
      "stn_id           0\n",
      "ws10_deg         0\n",
      "ws10_ms          0\n",
      "ta               0\n",
      "re               0\n",
      "hm               0\n",
      "sun10            0\n",
      "ts               0\n",
      "class       168968\n",
      "region           0\n",
      "dtype: int64\n"
     ]
    }
   ],
   "source": [
    "# nan_cols : na로변환할 열 리스트\n",
    "nan_cols = ['stn_id', 'ws10_deg', 'ws10_ms', 'ta','re', 'hm', 'sun10', 'ts']\n",
    "# -99.9 값을 NaN으로 변환\n",
    "df[nan_cols] = df[nan_cols].replace(-99.9, np.nan)\n",
    "# -99값을 NaN으로 변환\n",
    "df['class'] = df['class'].replace(-99, np.nan)\n",
    "\n",
    "# numeric_cols : 선형보간법으로 처리할 리스트\n",
    "numeric_cols = ['stn_id', 'ws10_deg', 'ws10_ms', 'ta', 'hm', 'sun10', 'ts']\n",
    "# 선형보간법을 이용하여 NA값 처리\n",
    "df[numeric_cols] = df[numeric_cols].interpolate(method='linear')\n",
    "# 강수 유무에 대해선 전의 값으로 채움\n",
    "df['re'] = df['re'].interpolate(method='ffill')\n",
    "print(df.isnull().sum())"
   ]
  },
  {
   "cell_type": "markdown",
   "metadata": {},
   "source": [
    "**이상치 탐지&제거**"
   ]
  },
  {
   "cell_type": "code",
   "execution_count": null,
   "metadata": {},
   "outputs": [
    {
     "data": {
      "text/html": [
       "<div>\n",
       "<style scoped>\n",
       "    .dataframe tbody tr th:only-of-type {\n",
       "        vertical-align: middle;\n",
       "    }\n",
       "\n",
       "    .dataframe tbody tr th {\n",
       "        vertical-align: top;\n",
       "    }\n",
       "\n",
       "    .dataframe thead th {\n",
       "        text-align: right;\n",
       "    }\n",
       "</style>\n",
       "<table border=\"1\" class=\"dataframe\">\n",
       "  <thead>\n",
       "    <tr style=\"text-align: right;\">\n",
       "      <th></th>\n",
       "      <th>year</th>\n",
       "      <th>month</th>\n",
       "      <th>day</th>\n",
       "      <th>time</th>\n",
       "      <th>minute</th>\n",
       "      <th>stn_id</th>\n",
       "      <th>ws10_deg</th>\n",
       "      <th>ws10_ms</th>\n",
       "      <th>ta</th>\n",
       "      <th>re</th>\n",
       "      <th>hm</th>\n",
       "      <th>sun10</th>\n",
       "      <th>ts</th>\n",
       "      <th>class</th>\n",
       "      <th>region</th>\n",
       "    </tr>\n",
       "  </thead>\n",
       "  <tbody>\n",
       "    <tr>\n",
       "      <th>1</th>\n",
       "      <td>0</td>\n",
       "      <td>1</td>\n",
       "      <td>1</td>\n",
       "      <td>0</td>\n",
       "      <td>0</td>\n",
       "      <td>0</td>\n",
       "      <td>329.5</td>\n",
       "      <td>0.6</td>\n",
       "      <td>-2.5</td>\n",
       "      <td>0.0</td>\n",
       "      <td>87.5</td>\n",
       "      <td>0.00</td>\n",
       "      <td>-1.6</td>\n",
       "      <td>NaN</td>\n",
       "      <td>0</td>\n",
       "    </tr>\n",
       "    <tr>\n",
       "      <th>2</th>\n",
       "      <td>0</td>\n",
       "      <td>1</td>\n",
       "      <td>1</td>\n",
       "      <td>0</td>\n",
       "      <td>10</td>\n",
       "      <td>0</td>\n",
       "      <td>321.8</td>\n",
       "      <td>1.2</td>\n",
       "      <td>-2.5</td>\n",
       "      <td>0.0</td>\n",
       "      <td>88.2</td>\n",
       "      <td>0.00</td>\n",
       "      <td>-1.6</td>\n",
       "      <td>NaN</td>\n",
       "      <td>0</td>\n",
       "    </tr>\n",
       "    <tr>\n",
       "      <th>3</th>\n",
       "      <td>0</td>\n",
       "      <td>1</td>\n",
       "      <td>1</td>\n",
       "      <td>0</td>\n",
       "      <td>20</td>\n",
       "      <td>0</td>\n",
       "      <td>0.4</td>\n",
       "      <td>0.4</td>\n",
       "      <td>-2.5</td>\n",
       "      <td>0.0</td>\n",
       "      <td>88.6</td>\n",
       "      <td>0.00</td>\n",
       "      <td>-1.7</td>\n",
       "      <td>NaN</td>\n",
       "      <td>0</td>\n",
       "    </tr>\n",
       "    <tr>\n",
       "      <th>4</th>\n",
       "      <td>0</td>\n",
       "      <td>1</td>\n",
       "      <td>1</td>\n",
       "      <td>0</td>\n",
       "      <td>30</td>\n",
       "      <td>0</td>\n",
       "      <td>323.6</td>\n",
       "      <td>0.7</td>\n",
       "      <td>-2.6</td>\n",
       "      <td>0.0</td>\n",
       "      <td>88.7</td>\n",
       "      <td>0.00</td>\n",
       "      <td>-1.6</td>\n",
       "      <td>NaN</td>\n",
       "      <td>0</td>\n",
       "    </tr>\n",
       "    <tr>\n",
       "      <th>5</th>\n",
       "      <td>0</td>\n",
       "      <td>1</td>\n",
       "      <td>1</td>\n",
       "      <td>0</td>\n",
       "      <td>40</td>\n",
       "      <td>0</td>\n",
       "      <td>208.4</td>\n",
       "      <td>0.2</td>\n",
       "      <td>-2.6</td>\n",
       "      <td>0.0</td>\n",
       "      <td>89.0</td>\n",
       "      <td>0.00</td>\n",
       "      <td>-1.6</td>\n",
       "      <td>NaN</td>\n",
       "      <td>0</td>\n",
       "    </tr>\n",
       "    <tr>\n",
       "      <th>...</th>\n",
       "      <td>...</td>\n",
       "      <td>...</td>\n",
       "      <td>...</td>\n",
       "      <td>...</td>\n",
       "      <td>...</td>\n",
       "      <td>...</td>\n",
       "      <td>...</td>\n",
       "      <td>...</td>\n",
       "      <td>...</td>\n",
       "      <td>...</td>\n",
       "      <td>...</td>\n",
       "      <td>...</td>\n",
       "      <td>...</td>\n",
       "      <td>...</td>\n",
       "      <td>...</td>\n",
       "    </tr>\n",
       "    <tr>\n",
       "      <th>168964</th>\n",
       "      <td>0</td>\n",
       "      <td>3</td>\n",
       "      <td>20</td>\n",
       "      <td>8</td>\n",
       "      <td>30</td>\n",
       "      <td>3</td>\n",
       "      <td>166.2</td>\n",
       "      <td>0.6</td>\n",
       "      <td>2.9</td>\n",
       "      <td>0.0</td>\n",
       "      <td>93.7</td>\n",
       "      <td>0.15</td>\n",
       "      <td>6.8</td>\n",
       "      <td>NaN</td>\n",
       "      <td>3</td>\n",
       "    </tr>\n",
       "    <tr>\n",
       "      <th>168965</th>\n",
       "      <td>0</td>\n",
       "      <td>3</td>\n",
       "      <td>20</td>\n",
       "      <td>8</td>\n",
       "      <td>40</td>\n",
       "      <td>3</td>\n",
       "      <td>51.7</td>\n",
       "      <td>0.8</td>\n",
       "      <td>3.6</td>\n",
       "      <td>0.0</td>\n",
       "      <td>92.4</td>\n",
       "      <td>0.18</td>\n",
       "      <td>7.1</td>\n",
       "      <td>NaN</td>\n",
       "      <td>3</td>\n",
       "    </tr>\n",
       "    <tr>\n",
       "      <th>168966</th>\n",
       "      <td>0</td>\n",
       "      <td>3</td>\n",
       "      <td>20</td>\n",
       "      <td>8</td>\n",
       "      <td>50</td>\n",
       "      <td>3</td>\n",
       "      <td>301.8</td>\n",
       "      <td>0.9</td>\n",
       "      <td>3.5</td>\n",
       "      <td>0.0</td>\n",
       "      <td>91.2</td>\n",
       "      <td>0.19</td>\n",
       "      <td>7.4</td>\n",
       "      <td>NaN</td>\n",
       "      <td>3</td>\n",
       "    </tr>\n",
       "    <tr>\n",
       "      <th>168967</th>\n",
       "      <td>0</td>\n",
       "      <td>3</td>\n",
       "      <td>20</td>\n",
       "      <td>9</td>\n",
       "      <td>0</td>\n",
       "      <td>3</td>\n",
       "      <td>290.7</td>\n",
       "      <td>0.3</td>\n",
       "      <td>3.8</td>\n",
       "      <td>0.0</td>\n",
       "      <td>91.5</td>\n",
       "      <td>0.22</td>\n",
       "      <td>8.2</td>\n",
       "      <td>NaN</td>\n",
       "      <td>3</td>\n",
       "    </tr>\n",
       "    <tr>\n",
       "      <th>168968</th>\n",
       "      <td>0</td>\n",
       "      <td>3</td>\n",
       "      <td>20</td>\n",
       "      <td>9</td>\n",
       "      <td>10</td>\n",
       "      <td>3</td>\n",
       "      <td>261.2</td>\n",
       "      <td>0.5</td>\n",
       "      <td>4.2</td>\n",
       "      <td>0.0</td>\n",
       "      <td>91.5</td>\n",
       "      <td>0.22</td>\n",
       "      <td>8.2</td>\n",
       "      <td>NaN</td>\n",
       "      <td>3</td>\n",
       "    </tr>\n",
       "  </tbody>\n",
       "</table>\n",
       "<p>168968 rows × 15 columns</p>\n",
       "</div>"
      ],
      "text/plain": [
       "        year  month  day  time  minute  stn_id  ws10_deg  ws10_ms   ta   re  \\\n",
       "1          0      1    1     0       0       0     329.5      0.6 -2.5  0.0   \n",
       "2          0      1    1     0      10       0     321.8      1.2 -2.5  0.0   \n",
       "3          0      1    1     0      20       0       0.4      0.4 -2.5  0.0   \n",
       "4          0      1    1     0      30       0     323.6      0.7 -2.6  0.0   \n",
       "5          0      1    1     0      40       0     208.4      0.2 -2.6  0.0   \n",
       "...      ...    ...  ...   ...     ...     ...       ...      ...  ...  ...   \n",
       "168964     0      3   20     8      30       3     166.2      0.6  2.9  0.0   \n",
       "168965     0      3   20     8      40       3      51.7      0.8  3.6  0.0   \n",
       "168966     0      3   20     8      50       3     301.8      0.9  3.5  0.0   \n",
       "168967     0      3   20     9       0       3     290.7      0.3  3.8  0.0   \n",
       "168968     0      3   20     9      10       3     261.2      0.5  4.2  0.0   \n",
       "\n",
       "          hm  sun10   ts  class  region  \n",
       "1       87.5   0.00 -1.6    NaN       0  \n",
       "2       88.2   0.00 -1.6    NaN       0  \n",
       "3       88.6   0.00 -1.7    NaN       0  \n",
       "4       88.7   0.00 -1.6    NaN       0  \n",
       "5       89.0   0.00 -1.6    NaN       0  \n",
       "...      ...    ...  ...    ...     ...  \n",
       "168964  93.7   0.15  6.8    NaN       3  \n",
       "168965  92.4   0.18  7.1    NaN       3  \n",
       "168966  91.2   0.19  7.4    NaN       3  \n",
       "168967  91.5   0.22  8.2    NaN       3  \n",
       "168968  91.5   0.22  8.2    NaN       3  \n",
       "\n",
       "[168968 rows x 15 columns]"
      ]
     },
     "execution_count": 55,
     "metadata": {},
     "output_type": "execute_result"
    }
   ],
   "source": [
    "features = df.columns.difference(['year', 'month', 'day', 'time', 're', 'stn_id', 'minute', 'class','region'])\n",
    "\n",
    "# 이상치 탐지 함수\n",
    "def detect_outliers(df, features):\n",
    "    outliers_indices = {}\n",
    "    for feature in features:\n",
    "        data = df[feature]\n",
    "        mean = data.mean()\n",
    "        std = data.std()\n",
    "        ucl = mean + 3 * std\n",
    "        lcl = mean - 3 * std\n",
    "        outliers = np.where((data > ucl) | (data < lcl))[0]\n",
    "        outliers_indices[feature] = outliers\n",
    "    return outliers_indices\n",
    "# 이상치 탐지\n",
    "outliers_indices = detect_outliers(df, features)\n",
    "\n",
    "# 이상치 대체 함수 정의\n",
    "def replace_outliers(df, outliers_indices):\n",
    "    for feature, indices in outliers_indices.items():\n",
    "        df.loc[indices, feature] = np.nan\n",
    "        df[feature] = df[feature].interpolate(method='polynomial', order=2) # 선형보간법\n",
    "        # method='ffill', 'bfill'쓰면 직전 값, 직후 값으로 대체 가능\n",
    "        # .interpolate(method='polynomial', order=2) # 2차 다항식 보간법\n",
    "        # .interpolate(method='linear') # 선형보간법\n",
    "    return df\n",
    "# 이상치 대체 수행\n",
    "replace_outliers(df, outliers_indices)"
   ]
  },
  {
   "cell_type": "markdown",
   "metadata": {},
   "source": [
    "**파생 변수**"
   ]
  },
  {
   "cell_type": "code",
   "execution_count": null,
   "metadata": {},
   "outputs": [],
   "source": [
    "# 계절 매핑\n",
    "def map_season(month):\n",
    "    if month in [3, 4, 5]:\n",
    "        return 0  # 봄\n",
    "    elif month in [6, 7, 8]:\n",
    "        return 1  # 여름\n",
    "    elif month in [9, 10, 11]:\n",
    "        return 2  # 가을\n",
    "    else:\n",
    "        return 3  # 겨울\n",
    "df['season'] = df['month'].apply(map_season)\n",
    "\n",
    "# 이슬점 계산 함수\n",
    "def calculate_dew_point(temp_celsius, relative_humidity):\n",
    "    a = 17.27\n",
    "    b = 237.7\n",
    "    rh = max(relative_humidity / 100.0, 1e-6)\n",
    "    alpha = ((a * temp_celsius) / (b + temp_celsius)) + np.log(rh)\n",
    "    dew_point = (b * alpha) / (a - alpha)\n",
    "    return dew_point\n",
    "df['dew_point'] = df.apply(lambda row: calculate_dew_point(row['ta'], row['hm']), axis=1)\n",
    "\n",
    "# 풍향을 16방위로 변환\n",
    "def convert_wind_direction(wind_dir):\n",
    "    direction = int((wind_dir + 11.25) % 360 / 22.5)\n",
    "    return direction\n",
    "df['ws10_deg_16'] = df['ws10_deg'].apply(convert_wind_direction)\n",
    "\n",
    "# 날짜(year, month, day), 관측 장소(stn_id)로 그룹화하여 일교차 계산\n",
    "df['diurnal_range'] = df.groupby(['year', 'month', 'day', 'stn_id'])['ts'].transform(lambda x: x.max() - x.min())\n",
    "\n",
    "# 기온-이슬점\n",
    "df['ts_dew_diff'] = df['ts'] - df['dew_point']\n",
    "\n",
    "# 50분 이동평균(습도)\n",
    "def calculate_rolling_mean(group):\n",
    "    group['5_hm'] = group['hm'].rolling(window=5).mean()\n",
    "    group['5_hm'] = group['5_hm'].fillna(group['hm'])\n",
    "    return group\n",
    "df = df.groupby('stn_id', group_keys=False).apply(calculate_rolling_mean)"
   ]
  },
  {
   "cell_type": "markdown",
   "metadata": {},
   "source": [
    "**LSTM 적용부분**"
   ]
  },
  {
   "cell_type": "code",
   "execution_count": null,
   "metadata": {},
   "outputs": [],
   "source": [
    "# 필요한 열만 사용\n",
    "numeric_features = ['ws10_deg', 'ws10_ms', 'ta', 'hm', 'sun10', 'ts',\n",
    "                    'dew_point', 'diurnal_range', '5_hm']\n",
    "categorical_features = ['region', 'season', 're','ws10_deg_16',]\n",
    "\n",
    "# 데이터프레임에서 필요한 열만 선택\n",
    "data = df[numeric_features + categorical_features]\n",
    "\n",
    "# 라벨 인코딩 및 스케일러 로드\n",
    "label_encoders = joblib.load('label_encoders_1.pkl')\n",
    "scaler = joblib.load('scaler_1.pkl')\n",
    "\n",
    "# 카테고리형 변수에 대해 라벨 인코딩을 적용\n",
    "encoded_categorical_data = data[categorical_features].apply(lambda x: label_encoders[x.name].transform(x))\n",
    "processed_data = pd.concat([data[numeric_features], encoded_categorical_data], axis=1)\n",
    "\n",
    "\n",
    "# 계절을 반영한 Min-Max 스케일링\n",
    "scaled_numeric_data = processed_data.copy()\n",
    "for season_value in range(4):\n",
    "    mask = scaled_numeric_data['season'] == season_value\n",
    "    if mask.sum() > 0:\n",
    "        scaled_numeric_data.loc[mask, numeric_features] = scaler.transform(scaled_numeric_data.loc[mask, numeric_features])\n",
    "\n",
    "processed_data = pd.concat([scaled_numeric_data[numeric_features], encoded_categorical_data], axis=1)\n"
   ]
  },
  {
   "cell_type": "code",
   "execution_count": null,
   "metadata": {},
   "outputs": [],
   "source": [
    "# 시계열 데이터 생성\n",
    "sequence_length = 6\n",
    "\n",
    "def create_sequences(data, sequence_length):\n",
    "    sequences = []\n",
    "    for i in range(len(data) - sequence_length):\n",
    "        seq = data.iloc[i:i + sequence_length]\n",
    "        sequences.append(seq.values)\n",
    "    return np.array(sequences)\n",
    "\n",
    "sequences_test = create_sequences(processed_data, sequence_length)"
   ]
  },
  {
   "cell_type": "code",
   "execution_count": null,
   "metadata": {},
   "outputs": [
    {
     "name": "stdout",
     "output_type": "stream",
     "text": [
      "5281/5281 [==============================] - 26s 5ms/step\n"
     ]
    }
   ],
   "source": [
    "# 모델 적용\n",
    "from keras.models import load_model\n",
    "\n",
    "model = load_model('model_1.h5')\n",
    "y_pred = model.predict(sequences_test)\n",
    "\n",
    "def classify_vis1(vis1):\n",
    "    if vis1 < 200:\n",
    "        return 1\n",
    "    elif vis1 < 500:\n",
    "        return 2\n",
    "    elif vis1 < 1000:\n",
    "        return 3\n",
    "    else:\n",
    "        return 4\n",
    "\n",
    "y_pred_class = np.array([classify_vis1(vis) for vis in y_pred.flatten()])"
   ]
  },
  {
   "cell_type": "code",
   "execution_count": null,
   "metadata": {},
   "outputs": [
    {
     "data": {
      "text/plain": [
       "array([[16015.454],\n",
       "       [16015.454],\n",
       "       [16015.454],\n",
       "       ...,\n",
       "       [16015.454],\n",
       "       [16015.454],\n",
       "       [16015.454]], dtype=float32)"
      ]
     },
     "execution_count": 67,
     "metadata": {},
     "output_type": "execute_result"
    }
   ],
   "source": [
    "y_pred"
   ]
  },
  {
   "cell_type": "code",
   "execution_count": null,
   "metadata": {},
   "outputs": [
    {
     "name": "stderr",
     "output_type": "stream",
     "text": [
      "C:\\Users\\User\\AppData\\Local\\Temp\\ipykernel_19128\\24892146.py:2: SettingWithCopyWarning: \n",
      "A value is trying to be set on a copy of a slice from a DataFrame\n",
      "\n",
      "See the caveats in the documentation: https://pandas.pydata.org/pandas-docs/stable/user_guide/indexing.html#returning-a-view-versus-a-copy\n",
      "  df_original['fog_test.class'].iloc[sequence_length:] = y_pred_class\n"
     ]
    }
   ],
   "source": [
    "# 예측 결과를 DataFrame에 추가\n",
    "df_original['fog_test.class'].iloc[sequence_length:] = y_pred_class\n",
    "df_original.loc[:, df_original.columns != 'class'] = df_original.loc[:, df_original.columns != 'class'].fillna(method='bfill')\n",
    "\n",
    "# 예측 결과 출력 또는 저장\n",
    "# print(df_original[['year', 'month', 'day', 'time', 'fog_test.class']])\n",
    "\n",
    "# CSV로 저장\n",
    "df_original.to_csv('predicted_results.csv', index=False)"
   ]
  },
  {
   "cell_type": "code",
   "execution_count": null,
   "metadata": {},
   "outputs": [
    {
     "data": {
      "text/plain": [
       "4.0    168968\n",
       "Name: fog_test.class, dtype: int64"
      ]
     },
     "execution_count": 69,
     "metadata": {},
     "output_type": "execute_result"
    }
   ],
   "source": [
    "df_original['fog_test.class'].value_counts()"
   ]
  },
  {
   "cell_type": "code",
   "execution_count": null,
   "metadata": {},
   "outputs": [],
   "source": [
    "# 노트북\n",
    "df_original.to_csv('C:\\\\Users\\\\User\\\\Desktop\\\\기상청 날씨 빅데이터 공모전\\\\과제2\\\\predicted_results.csv', index=False)\n",
    "\n",
    "# 데스크탑\n",
    "# df_original.to_csv('C:\\\\Users\\\\Hong_PC\\\\Desktop\\\\기상청 날씨 빅데이터 공모전\\\\과제2\\\\predicted_results.csv', index=False)"
   ]
  },
  {
   "cell_type": "code",
   "execution_count": null,
   "metadata": {},
   "outputs": [],
   "source": []
  },
  {
   "cell_type": "code",
   "execution_count": null,
   "metadata": {},
   "outputs": [],
   "source": []
  },
  {
   "cell_type": "code",
   "execution_count": null,
   "metadata": {},
   "outputs": [],
   "source": []
  },
  {
   "cell_type": "code",
   "execution_count": null,
   "metadata": {},
   "outputs": [],
   "source": []
  },
  {
   "cell_type": "code",
   "execution_count": null,
   "metadata": {},
   "outputs": [],
   "source": []
  },
  {
   "cell_type": "code",
   "execution_count": null,
   "metadata": {},
   "outputs": [],
   "source": []
  }
 ],
 "metadata": {
  "kernelspec": {
   "display_name": "mjh",
   "language": "python",
   "name": "python3"
  },
  "language_info": {
   "codemirror_mode": {
    "name": "ipython",
    "version": 3
   },
   "file_extension": ".py",
   "mimetype": "text/x-python",
   "name": "python",
   "nbconvert_exporter": "python",
   "pygments_lexer": "ipython3",
   "version": "3.9.12"
  }
 },
 "nbformat": 4,
 "nbformat_minor": 2
}
