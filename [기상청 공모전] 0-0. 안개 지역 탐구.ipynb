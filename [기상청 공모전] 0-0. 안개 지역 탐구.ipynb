{
 "cells": [
  {
   "cell_type": "markdown",
   "metadata": {},
   "source": [
    "# 1. 데이터 불러오기 및 파악"
   ]
  },
  {
   "cell_type": "code",
   "execution_count": 7,
   "metadata": {},
   "outputs": [],
   "source": [
    "import pandas as pd\n",
    "import numpy as np\n",
    "import joblib\n",
    "\n",
    "# 데스크탑\n",
    "df = pd.read_csv(\"C:\\\\Users\\\\Hong_PC\\\\Desktop\\\\기상청 날씨 빅데이터 공모전\\\\과제2\\\\fog_train.csv\", index_col=0)\n",
    "\n",
    "# 노트북\n",
    "# df = pd.read_csv(\"C:\\\\Users\\\\User\\\\Desktop\\\\기상청 날씨 빅데이터 공모전\\\\과제2\\\\fog_train.csv\", index_col=0)"
   ]
  },
  {
   "cell_type": "code",
   "execution_count": 8,
   "metadata": {},
   "outputs": [],
   "source": [
    "# 열 이름의 . 앞에 단어 제거\n",
    "df.columns = [col.split('.')[-1] if '.' in col else col for col in df.columns]"
   ]
  },
  {
   "cell_type": "markdown",
   "metadata": {},
   "source": [
    "# 2. 문자열 데이터 정리"
   ]
  },
  {
   "cell_type": "markdown",
   "metadata": {},
   "source": [
    "## 2-1. year열 I,J,K 순으로 0,1,2로 맵핑"
   ]
  },
  {
   "cell_type": "code",
   "execution_count": 9,
   "metadata": {},
   "outputs": [],
   "source": [
    "# year열 I,J,K 순으로 0,1,2로 맵핑\n",
    "df['year'].value_counts()\n",
    "df['year'] = df['year'].map({'I': 0, 'J': 1, 'K': 2})"
   ]
  },
  {
   "cell_type": "markdown",
   "metadata": {},
   "source": [
    "## 2-2. 20개 지점을 5개의 지역으로 수치화"
   ]
  },
  {
   "cell_type": "code",
   "execution_count": 10,
   "metadata": {},
   "outputs": [
    {
     "data": {
      "text/plain": [
       "0    1262584\n",
       "1     631292\n",
       "3     473469\n",
       "4     473468\n",
       "2     315646\n",
       "Name: stn_id, dtype: int64"
      ]
     },
     "execution_count": 10,
     "metadata": {},
     "output_type": "execute_result"
    }
   ],
   "source": [
    "# 첫 글자를 추출하여 새로운 열 생성\n",
    "df['first_letter'] = df['stn_id'].str[0]\n",
    "\n",
    "# 알파벳 순서에 따라 번호를 부여\n",
    "alphabet_order = {char: idx for idx, char in enumerate(sorted(df['first_letter'].unique()))}\n",
    "df['stn_id'] = df['first_letter'].map(alphabet_order)\n",
    "df.drop(columns=['first_letter'], inplace=True)\n",
    "\n",
    "df['stn_id'].value_counts()"
   ]
  },
  {
   "cell_type": "markdown",
   "metadata": {},
   "source": [
    "# 3. 결측치 처리"
   ]
  },
  {
   "cell_type": "markdown",
   "metadata": {},
   "source": [
    "## 3-1.독립변수 결측치 처리"
   ]
  },
  {
   "cell_type": "code",
   "execution_count": 11,
   "metadata": {},
   "outputs": [],
   "source": [
    "numeric_cols = ['stn_id', 'ws10_deg', 'ws10_ms', 're', 'ta', 'hm', 'sun10', 'ts'] # 일단 re 포함\n",
    "\n",
    "# -99.9 값을 NaN으로 변환\n",
    "df[numeric_cols] = df[numeric_cols].replace(-99.9, np.nan)\n"
   ]
  },
  {
   "cell_type": "code",
   "execution_count": null,
   "metadata": {},
   "outputs": [],
   "source": []
  },
  {
   "cell_type": "code",
   "execution_count": null,
   "metadata": {},
   "outputs": [],
   "source": []
  },
  {
   "cell_type": "code",
   "execution_count": null,
   "metadata": {},
   "outputs": [],
   "source": []
  }
 ],
 "metadata": {
  "kernelspec": {
   "display_name": "base",
   "language": "python",
   "name": "python3"
  },
  "language_info": {
   "codemirror_mode": {
    "name": "ipython",
    "version": 3
   },
   "file_extension": ".py",
   "mimetype": "text/x-python",
   "name": "python",
   "nbconvert_exporter": "python",
   "pygments_lexer": "ipython3",
   "version": "3.9.12"
  }
 },
 "nbformat": 4,
 "nbformat_minor": 2
}
